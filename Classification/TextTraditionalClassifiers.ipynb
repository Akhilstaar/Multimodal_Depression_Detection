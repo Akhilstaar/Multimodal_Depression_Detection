{
  "cells": [
    {
      "cell_type": "code",
      "execution_count": null,
      "metadata": {
        "id": "OVFIoOUv9awv"
      },
      "outputs": [],
      "source": []
    },
    {
      "cell_type": "code",
      "execution_count": 1,
      "metadata": {
        "id": "XzeXkHnO9azI"
      },
      "outputs": [],
      "source": [
        "from sklearn.model_selection import KFold\n",
        "import numpy as np\n",
        "import pandas as pd\n",
        "import os\n",
        "import pickle\n",
        "import random\n",
        "import itertools\n",
        "from sklearn.metrics import confusion_matrix\n",
        "from sklearn.model_selection import train_test_split"
      ]
    },
    {
      "cell_type": "code",
      "execution_count": 2,
      "metadata": {
        "id": "QE0jQ0uK9a1u"
      },
      "outputs": [],
      "source": [
        "prefix = os.path.abspath(os.path.join(os.getcwd(), \"..\"))\n",
        "text_features = np.load(os.path.join(prefix, 'Features/TextWhole/whole_samples_clf_avg.npz'))['arr_0']\n",
        "text_targets = np.load(os.path.join(prefix, 'Features/TextWhole/whole_labels_clf_avg.npz'))['arr_0']\n",
        "text_dep_idxs_tmp = np.where(text_targets == 1)[0]\n",
        "text_non_idxs = np.where(text_targets == 0)[0]"
      ]
    },
    {
      "cell_type": "code",
      "execution_count": 3,
      "metadata": {
        "id": "Re40TFUD9a37"
      },
      "outputs": [],
      "source": [
        "def model_performance(y_test, y_test_pred_proba):\n",
        "    \"\"\"\n",
        "    Evaluation metrics for network performance.\n",
        "    \"\"\"\n",
        "#     y_test_pred = y_test_pred_proba.data.max(1, keepdim=True)[1]\n",
        "    y_test_pred = y_test_pred_proba\n",
        "\n",
        "    # Computing confusion matrix for test dataset\n",
        "    conf_matrix = standard_confusion_matrix(y_test, y_test_pred)\n",
        "    print(\"Confusion Matrix:\")\n",
        "    print(conf_matrix)\n",
        "\n",
        "    return y_test_pred, conf_matrix\n",
        "\n",
        "def standard_confusion_matrix(y_test, y_test_pred):\n",
        "    [[tn, fp], [fn, tp]] = confusion_matrix(y_test, y_test_pred)\n",
        "    return np.array([[tp, fp], [fn, tn]])"
      ]
    },
    {
      "cell_type": "code",
      "execution_count": 3,
      "metadata": {
        "id": "YdlRpApe-IKh"
      },
      "outputs": [],
      "source": [
        "# kf = KFold(n_splits=3, shuffle=True)\n",
        "# fold = 1\n",
        "# for train_idxs_tmp, test_idxs_tmp in kf.split(text_features):\n",
        "#     ## Code to save the .npy files.\n",
        "#     np.save(os.path.join(prefix, 'Features/TextWhole/train_idxs_{}.npy'.format(fold)), train_idxs_tmp)\n",
        "#     np.save(os.path.join(prefix, 'Features/TextWhole/test_idxs_{}.npy'.format(fold)), test_idxs_tmp)\n",
        "#     fold += 1"
      ]
    },
    {
      "cell_type": "code",
      "execution_count": 5,
      "metadata": {
        "id": "MINYARoW9a6r"
      },
      "outputs": [],
      "source": [
        "train_idxs_tmps = [np.load(os.path.join(prefix, 'Features/TextWhole/train_idxs_1.npy'), allow_pickle=True),\n",
        "np.load(os.path.join(prefix, 'Features/TextWhole/train_idxs_2.npy'), allow_pickle=True),\n",
        "np.load(os.path.join(prefix, 'Features/TextWhole/train_idxs_3.npy'), allow_pickle=True)]\n",
        "# train_idxs_tmps = [np.load(os.path.join(prefix, 'Features/TextWhole/train_idxs_0.63_1.npy'), allow_pickle=True),\n",
        "# np.load(os.path.join(prefix, 'Features/TextWhole/train_idxs_0.65_2.npy'), allow_pickle=True),\n",
        "# np.load(os.path.join(prefix, 'Features/TextWhole/train_idxs_0.60_3.npy'), allow_pickle=True)]\n",
        "precs, recs, f1s = [], [], []"
      ]
    },
    {
      "cell_type": "code",
      "execution_count": 6,
      "metadata": {
        "colab": {
          "base_uri": "https://localhost:8080/"
        },
        "id": "2SBJZe-99VS4",
        "outputId": "6480ef91-6df2-40d4-db5e-ab3b97a46476"
      },
      "outputs": [
        {
          "name": "stdout",
          "output_type": "stream",
          "text": [
            "Confusion Matrix:\n",
            "[[20 24]\n",
            " [24 19]]\n",
            "Calculating additional test metrics...\n",
            "Accuracy: 0.4482758620689655\n",
            "Precision: 0.45454545454545453\n",
            "Recall: 0.45454545454545453\n",
            "F1-Score: 0.45454545454545453\n",
            "\n",
            "=========================================================================================\n",
            "Confusion Matrix:\n",
            "[[30 14]\n",
            " [14 29]]\n",
            "Calculating additional test metrics...\n",
            "Accuracy: 0.6781609195402298\n",
            "Precision: 0.6818181818181818\n",
            "Recall: 0.6818181818181818\n",
            "F1-Score: 0.6818181818181818\n",
            "\n",
            "=========================================================================================\n",
            "Confusion Matrix:\n",
            "[[22 18]\n",
            " [10 28]]\n",
            "Calculating additional test metrics...\n",
            "Accuracy: 0.6410256410256411\n",
            "Precision: 0.55\n",
            "Recall: 0.6875\n",
            "F1-Score: 0.6111111111111112\n",
            "\n",
            "=========================================================================================\n",
            "0.5621212121212121 0.6079545454545454 0.5824915824915825\n"
          ]
        }
      ],
      "source": [
        "for idx_idx, train_idxs_tmp in enumerate(train_idxs_tmps):\n",
        "    test_idxs_tmp = list(set(list(text_dep_idxs_tmp)+list(text_non_idxs)) - set(train_idxs_tmp))\n",
        "    train_idxs, test_idxs = [], []\n",
        "\n",
        "    # depression data augmentation\n",
        "    for idx in train_idxs_tmp:\n",
        "        if idx in text_dep_idxs_tmp:\n",
        "            feat = text_features[idx]\n",
        "            count = 0\n",
        "            resample_idxs = [0,1,2,3,4,5]\n",
        "            for i in itertools.permutations(feat, feat.shape[0]):\n",
        "                if count in resample_idxs:\n",
        "                    text_features = np.vstack((text_features, np.expand_dims(list(i), 0)))\n",
        "                    text_targets = np.hstack((text_targets, 1))\n",
        "                    train_idxs.append(len(text_features)-1)\n",
        "                count += 1\n",
        "        else:\n",
        "            train_idxs.append(idx)\n",
        "\n",
        "    for idx in test_idxs_tmp:\n",
        "        if idx in text_dep_idxs_tmp:\n",
        "            feat = text_features[idx]\n",
        "            count = 0\n",
        "            # resample_idxs = random.sample(range(6), 4)\n",
        "            resample_idxs = [0,1,4,5]\n",
        "            for i in itertools.permutations(feat, feat.shape[0]):\n",
        "                if count in resample_idxs:\n",
        "                    text_features = np.vstack((text_features, np.expand_dims(list(i), 0)))\n",
        "                    text_targets = np.hstack((text_targets, 1))\n",
        "                    test_idxs.append(len(text_features)-1)\n",
        "                count += 1\n",
        "        else:\n",
        "            test_idxs.append(idx)\n",
        "    # train_idxs = train_idxs_tmp\n",
        "    # test_idxs = test_idxs_tmp\n",
        "\n",
        "    X_train = text_features[train_idxs]\n",
        "    Y_train = text_targets[train_idxs]\n",
        "    X_test = text_features[test_idxs]\n",
        "    Y_test = text_targets[test_idxs]\n",
        "\n",
        "    # Decision Tree\n",
        "    from sklearn import tree\n",
        "    clf = tree.DecisionTreeClassifier(max_depth=20)\n",
        "\n",
        "    # svm\n",
        "    # from sklearn.svm import SVC\n",
        "    # clf = SVC(kernel='rbf', gamma='auto')\n",
        "\n",
        "    # rf\n",
        "    # from sklearn.ensemble import RandomForestClassifier\n",
        "    # clf = RandomForestClassifier(n_estimators=10, max_depth=20)\n",
        "\n",
        "    # lr\n",
        "    # from sklearn.linear_model import LogisticRegression\n",
        "    # clf = LogisticRegression()\n",
        "\n",
        "    clf.fit([f.flatten() for f in X_train], Y_train)\n",
        "    pred = clf.predict([f.flatten() for f in X_test])\n",
        "    # clf.fit([f.sum(axis=0) for f in X_train], Y_train)\n",
        "    # pred = clf.predict([f.sum(axis=0) for f in X_test])\n",
        "\n",
        "    y_test_pred, conf_matrix = model_performance(Y_test, pred)\n",
        "\n",
        "    # custom evaluation metrics\n",
        "    print('Calculating additional test metrics...')\n",
        "    accuracy = float(conf_matrix[0][0] + conf_matrix[1][1]) / np.sum(conf_matrix)\n",
        "    precision = float(conf_matrix[0][0]) / (conf_matrix[0][0] + conf_matrix[0][1])\n",
        "    recall = float(conf_matrix[0][0]) / (conf_matrix[0][0] + conf_matrix[1][0])\n",
        "    f1_score = 2 * (precision * recall) / (precision + recall)\n",
        "    print(\"Accuracy: {}\".format(accuracy))\n",
        "    print(\"Precision: {}\".format(precision))\n",
        "    print(\"Recall: {}\".format(recall))\n",
        "    print(\"F1-Score: {}\\n\".format(f1_score))\n",
        "    print('='*89)\n",
        "    # precs.append(0 if np.isnan(precision) else precision)\n",
        "    # recs.append(0 if np.isnan(recall) else recall)\n",
        "    # f1s.append(0 if np.isnan(f1_score) else f1_score)\n",
        "    precs.append(precision)\n",
        "    recs.append(recall)\n",
        "    f1s.append(f1_score)\n",
        "print(np.mean(precs), np.mean(recs), np.mean(f1s))"
      ]
    },
    {
      "cell_type": "code",
      "execution_count": null,
      "metadata": {
        "id": "BeZfP4mn9a9b"
      },
      "outputs": [],
      "source": []
    },
    {
      "cell_type": "code",
      "execution_count": null,
      "metadata": {
        "id": "PpbmzFf99a_v"
      },
      "outputs": [],
      "source": []
    },
    {
      "cell_type": "code",
      "execution_count": null,
      "metadata": {
        "id": "V_t-Q6lr9bDL"
      },
      "outputs": [],
      "source": []
    }
  ],
  "metadata": {
    "colab": {
      "provenance": []
    },
    "kernelspec": {
      "display_name": "base",
      "language": "python",
      "name": "python3"
    },
    "language_info": {
      "codemirror_mode": {
        "name": "ipython",
        "version": 3
      },
      "file_extension": ".py",
      "mimetype": "text/x-python",
      "name": "python",
      "nbconvert_exporter": "python",
      "pygments_lexer": "ipython3",
      "version": "3.12.4"
    }
  },
  "nbformat": 4,
  "nbformat_minor": 0
}
