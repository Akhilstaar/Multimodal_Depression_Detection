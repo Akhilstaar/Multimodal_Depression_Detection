{
 "cells": [
  {
   "cell_type": "code",
   "execution_count": 12,
   "metadata": {},
   "outputs": [],
   "source": [
    "import torch\n",
    "import torch.nn as nn\n",
    "from torch.autograd import Variable\n",
    "from torch.nn import functional as F\n",
    "import torch.optim as optim\n",
    "from sklearn.metrics import confusion_matrix\n",
    "from sklearn.metrics import mean_absolute_error, mean_squared_error\n",
    "from sklearn.model_selection import train_test_split\n",
    "import numpy as np\n",
    "import os\n",
    "import itertools\n",
    "from sklearn.model_selection import KFold"
   ]
  },
  {
   "cell_type": "code",
   "execution_count": 13,
   "metadata": {},
   "outputs": [],
   "source": [
    "prefix = os.path.abspath(os.path.join(os.getcwd(), \"..\"))\n",
    "text_features = np.load(os.path.join(prefix, 'Features/TextWhole/mod_samples_clf_avg.npz'))['arr_0']\n",
    "text_targets = np.load(os.path.join(prefix, 'Features/TextWhole/mod_labels_clf_avg.npz'))['arr_0']\n",
    "text_dep_idxs_tmp = np.where(text_targets == 1)[0]\n",
    "text_non_idxs = np.where(text_targets == 0)[0]"
   ]
  },
  {
   "cell_type": "code",
   "execution_count": 14,
   "metadata": {},
   "outputs": [
    {
     "name": "stdout",
     "output_type": "stream",
     "text": [
      "(162, 1, 768)\n",
      "(162,)\n",
      "[0 1]\n"
     ]
    }
   ],
   "source": [
    "print(text_features.shape)\n",
    "print(text_targets.shape)\n",
    "print(np.unique(text_targets))"
   ]
  },
  {
   "cell_type": "code",
   "execution_count": 15,
   "metadata": {},
   "outputs": [],
   "source": [
    "## Run this if the random indices do not give trainable model for fusenet.\n",
    "\n",
    "# prefix = os.path.abspath(os.path.join(os.getcwd(), \"..\"))\n",
    "# text_features = np.load(os.path.join(prefix, 'Features/TextWhole/mod_samples_clf_avg.npz'))['arr_0']\n",
    "# text_targets = np.load(os.path.join(prefix, 'Features/TextWhole/mod_labels_clf_avg.npz'))['arr_0']\n",
    "# text_dep_idxs_tmp = np.where(text_targets == 1)[0]\n",
    "# text_non_idxs = np.where(text_targets == 0)[0]\n",
    "\n",
    "# kf = KFold(n_splits=3, shuffle=True)\n",
    "# fold = 1\n",
    "# for train_idxs_tmp, test_idxs_tmp in kf.split(text_features):\n",
    "#     ## Code to save the .npy files.\n",
    "#     np.save(os.path.join(prefix, 'Features/TextWhole/mod_train_idxs_{}.npy'.format(fold)), train_idxs_tmp)\n",
    "#     np.save(os.path.join(prefix, 'Features/TextWhole/mod_test_idxs_{}.npy'.format(fold)), test_idxs_tmp)\n",
    "#     fold += 1\n",
    "\n",
    "config = {\n",
    "    'num_classes': 2,\n",
    "    'dropout': 0.5,\n",
    "    'rnn_layers': 2,\n",
    "    'embedding_size': 768,\n",
    "    'batch_size': 4,\n",
    "    'epochs': 150,\n",
    "    'learning_rate': 1e-5,\n",
    "    'hidden_dims': 128,\n",
    "    'bidirectional': True,\n",
    "    'cuda': False,\n",
    "}"
   ]
  },
  {
   "cell_type": "code",
   "execution_count": 16,
   "metadata": {},
   "outputs": [],
   "source": [
    "class TextBiLSTM(nn.Module):\n",
    "    def __init__(self, config):\n",
    "        super(TextBiLSTM, self).__init__()\n",
    "        self.num_classes = config['num_classes']\n",
    "        self.learning_rate = config['learning_rate']\n",
    "        self.dropout = config['dropout']\n",
    "        self.hidden_dims = config['hidden_dims']\n",
    "        self.rnn_layers = config['rnn_layers']\n",
    "        self.embedding_size = config['embedding_size']\n",
    "        self.bidirectional = config['bidirectional']\n",
    "\n",
    "        self.build_model()\n",
    "        self.init_weight()\n",
    "        \n",
    "    def init_weight(net):\n",
    "        for name, param in net.named_parameters():\n",
    "            if 'ln' not in name:\n",
    "                if 'bias' in name:\n",
    "                    nn.init.constant_(param, 0.0)\n",
    "                elif 'weight' in name:\n",
    "                    nn.init.xavier_uniform_(param)\n",
    "\n",
    "    def build_model(self):\n",
    "        self.attention_layer = nn.Sequential(\n",
    "            nn.Linear(self.hidden_dims, self.hidden_dims),\n",
    "            nn.ReLU(inplace=True)\n",
    "        )\n",
    "        self.lstm_net = nn.LSTM(self.embedding_size, self.hidden_dims,\n",
    "                                num_layers=self.rnn_layers, dropout=self.dropout,\n",
    "                                bidirectional=self.bidirectional)\n",
    "        self.fc_out = nn.Sequential(\n",
    "            nn.Linear(self.hidden_dims, self.hidden_dims),\n",
    "            nn.ReLU(),\n",
    "            nn.Dropout(self.dropout),\n",
    "            nn.Linear(self.hidden_dims, self.num_classes),\n",
    "            nn.Softmax(dim=1),\n",
    "        )\n",
    "        self.ln1 = nn.LayerNorm(self.embedding_size)\n",
    "        self.ln2 = nn.LayerNorm(self.hidden_dims)\n",
    "\n",
    "    def attention_net_with_w(self, lstm_out, lstm_hidden):\n",
    "        '''\n",
    "        :param lstm_out:    [batch_size, len_seq, n_hidden * 2]\n",
    "        :param lstm_hidden: [batch_size, num_layers * num_directions, n_hidden]\n",
    "        :return: [batch_size, n_hidden]\n",
    "        '''\n",
    "        lstm_tmp_out = torch.chunk(lstm_out, 2, -1)\n",
    "        # h [batch_size, time_step, hidden_dims]\n",
    "        h = lstm_tmp_out[0] + lstm_tmp_out[1]\n",
    "        # h = lstm_out\n",
    "        # [batch_size, num_layers * num_directions, n_hidden]\n",
    "        lstm_hidden = torch.sum(lstm_hidden, dim=1)\n",
    "        # [batch_size, 1, n_hidden]\n",
    "        lstm_hidden = lstm_hidden.unsqueeze(1)\n",
    "        # atten_w [batch_size, 1, hidden_dims]\n",
    "        atten_w = self.attention_layer(lstm_hidden)\n",
    "        # m [batch_size, time_step, hidden_dims]\n",
    "        m = nn.Tanh()(h)\n",
    "        # atten_context [batch_size, 1, time_step]\n",
    "        atten_context = torch.bmm(atten_w, m.transpose(1, 2))\n",
    "        # softmax_w [batch_size, 1, time_step]\n",
    "        softmax_w = F.softmax(atten_context, dim=-1)\n",
    "        # context [batch_size, 1, hidden_dims]\n",
    "        context = torch.bmm(softmax_w, h)\n",
    "        result = context.squeeze(1)\n",
    "        return result\n",
    "\n",
    "    def forward(self, x):\n",
    "        # x : [len_seq, batch_size, embedding_dim]\n",
    "        x = x.permute(1, 0, 2)\n",
    "        # x = self.ln1(x)\n",
    "        output, (final_hidden_state, _) = self.lstm_net(x)\n",
    "        # output : [batch_size, len_seq, n_hidden * 2]\n",
    "        output = output.permute(1, 0, 2)\n",
    "        # final_hidden_state : [batch_size, num_layers * num_directions, n_hidden]\n",
    "        final_hidden_state = final_hidden_state.permute(1, 0, 2)\n",
    "        # final_hidden_state = torch.mean(final_hidden_state, dim=0, keepdim=True)\n",
    "        # atten_out = self.attention_net(output, final_hidden_state)\n",
    "        atten_out = self.attention_net_with_w(output, final_hidden_state)\n",
    "        # atten_out = self.ln2(atten_out)\n",
    "        return self.fc_out(atten_out)"
   ]
  },
  {
   "cell_type": "code",
   "execution_count": 17,
   "metadata": {},
   "outputs": [],
   "source": [
    "def save(model, filename):\n",
    "    save_filename = '{}.pt'.format(filename)\n",
    "    torch.save(model, save_filename)\n",
    "    print('Saved as %s' % save_filename)\n",
    "\n",
    "def standard_confusion_matrix(y_test, y_test_pred):\n",
    "    \"\"\"\n",
    "    Make confusion matrix with format:\n",
    "                  -----------\n",
    "                  | TP | FP |\n",
    "                  -----------\n",
    "                  | FN | TN |\n",
    "                  -----------\n",
    "    Parameters\n",
    "    ----------\n",
    "    y_true : ndarray - 1D\n",
    "    y_pred : ndarray - 1D\n",
    "\n",
    "    Returns\n",
    "    -------\n",
    "    ndarray - 2D\n",
    "    \"\"\"\n",
    "    [[tn, fp], [fn, tp]] = confusion_matrix(y_test, y_test_pred)\n",
    "    return np.array([[tp, fp], [fn, tn]])\n",
    "\n",
    "def model_performance(y_test, y_test_pred_proba):\n",
    "    \"\"\"\n",
    "    Evaluation metrics for network performance.\n",
    "    \"\"\"\n",
    "    y_test_pred = y_test_pred_proba.data.max(1, keepdim=True)[1]\n",
    "\n",
    "    # Computing confusion matrix for test dataset\n",
    "    conf_matrix = standard_confusion_matrix(y_test, y_test_pred)\n",
    "    print(\"Confusion Matrix:\")\n",
    "    print(conf_matrix)\n",
    "\n",
    "    return y_test_pred, conf_matrix"
   ]
  },
  {
   "cell_type": "code",
   "execution_count": 18,
   "metadata": {},
   "outputs": [],
   "source": [
    "def train(epoch, train_idxs):\n",
    "    global lr, train_acc\n",
    "    model.train()\n",
    "    batch_idx = 1\n",
    "    total_loss = 0\n",
    "    correct = 0\n",
    "    X_train = text_features[train_idxs]\n",
    "    Y_train = text_targets[train_idxs]\n",
    "    for i in range(0, X_train.shape[0], config['batch_size']):\n",
    "        if i + config['batch_size'] > X_train.shape[0]:\n",
    "            x, y = X_train[i:], Y_train[i:]\n",
    "        else:\n",
    "            x, y = X_train[i:(i + config['batch_size'])], Y_train[i:(\n",
    "                i + config['batch_size'])]\n",
    "       \n",
    "        if config['cuda']:\n",
    "            x, y = Variable(torch.from_numpy(x).type(torch.FloatTensor), requires_grad=True).cuda(), Variable(torch.from_numpy(y)).cuda()\n",
    "        else:\n",
    "            x, y = Variable(torch.from_numpy(x).type(torch.FloatTensor), requires_grad=True), \\\n",
    "                Variable(torch.from_numpy(y))\n",
    "\n",
    "        optimizer.zero_grad()\n",
    "        output = model(x)\n",
    "        pred = output.data.max(1, keepdim=True)[1]\n",
    "        correct += pred.eq(y.data.view_as(pred)).cpu().sum()\n",
    "        loss = criterion(output, y.long())\n",
    "        loss.backward()\n",
    "        optimizer.step()\n",
    "        batch_idx += 1\n",
    "        total_loss += loss.item()\n",
    "\n",
    "    train_acc = correct\n",
    "    print('Train Epoch: {:2d}\\t Learning rate: {:.4f}\\tLoss: {:.6f}\\t Accuracy: {}/{} ({:.0f}%)\\n '.format(epoch + 1, config['learning_rate'], total_loss, correct, X_train.shape[0], 100. * correct / X_train.shape[0]))"
   ]
  },
  {
   "cell_type": "code",
   "execution_count": 19,
   "metadata": {},
   "outputs": [],
   "source": [
    "\n",
    "def evaluate(model, test_idxs, fold, train_idxs):\n",
    "    model.eval()\n",
    "    batch_idx = 1\n",
    "    total_loss = 0\n",
    "    global max_f1, max_acc, min_mae, X_test_lens, max_prec, max_rec\n",
    "    pred = np.array([])\n",
    "    with torch.no_grad():\n",
    "        if config['cuda']:\n",
    "            x, y = Variable(torch.from_numpy(text_features[test_idxs]).type(torch.FloatTensor), requires_grad=True).cuda(),\\\n",
    "                Variable(torch.from_numpy(text_targets[test_idxs])).cuda()\n",
    "        else:\n",
    "            x, y = Variable(torch.from_numpy(text_features[test_idxs]).type(torch.FloatTensor), requires_grad=True), \\\n",
    "                Variable(torch.from_numpy(text_targets[test_idxs])).type(torch.LongTensor)\n",
    "\n",
    "        optimizer.zero_grad()\n",
    "        output = model(x)\n",
    "        loss = criterion(output, y.long())\n",
    "        total_loss += loss.item()\n",
    "        y_test_pred, conf_matrix = model_performance(y, output.cpu())\n",
    "        \n",
    "        accuracy = float(conf_matrix[0][0] + conf_matrix[1][1]) / np.sum(conf_matrix)\n",
    "        if conf_matrix[0][0] + conf_matrix[0][1] != 0:\n",
    "            precision = float(conf_matrix[0][0]) / (conf_matrix[0][0] + conf_matrix[0][1])\n",
    "        else:\n",
    "            precision = 0\n",
    "        recall = float(conf_matrix[0][0]) / (conf_matrix[0][0] + conf_matrix[1][0])\n",
    "        f1_score = 2 * (precision * recall) / (precision + recall)\n",
    "        \n",
    "        print(\"Accuracy: {}\".format(accuracy))\n",
    "        print(\"Precision: {}\".format(precision))\n",
    "        print(\"Recall: {}\".format(recall))\n",
    "        print(\"F1-Score: {}\\n\".format(f1_score))\n",
    "        print('=' * 89)\n",
    "\n",
    "        if max_f1 <= f1_score and train_acc > len(train_idxs)*0.9 and f1_score > 0.5:\n",
    "            max_f1 = f1_score\n",
    "            max_acc = accuracy\n",
    "            max_rec = recall\n",
    "            max_prec = precision\n",
    "            \n",
    "            save(model, os.path.join(prefix, 'Model/ClassificationWhole/Text/BiLSTM_{}_{:.2f}_{}'.format(config['hidden_dims'], max_f1, fold)))\n",
    "            \n",
    "            print('*' * 64)\n",
    "            print('model saved: f1: {}\\tacc: {}'.format(max_f1, max_acc))\n",
    "            print('*' * 64)\n",
    "\n",
    "    return total_loss"
   ]
  },
  {
   "cell_type": "code",
   "execution_count": 20,
   "metadata": {},
   "outputs": [],
   "source": [
    "def get_param_group(model):\n",
    "    nd_list = []\n",
    "    param_list = []\n",
    "    for name, param in model.named_parameters():\n",
    "        if 'ln' in name:\n",
    "            nd_list.append(param)\n",
    "        else:\n",
    "            param_list.append(param)\n",
    "    return [{'params': param_list, 'weight_decay': 1e-5}, {'params': nd_list, 'weight_decay': 0}]"
   ]
  },
  {
   "cell_type": "code",
   "execution_count": 21,
   "metadata": {},
   "outputs": [],
   "source": [
    "train_idxs_tmps = [np.load(os.path.join(prefix, 'Features/TextWhole/mod_train_idxs_1.npy'), allow_pickle=True),\n",
    "                   np.load(os.path.join(prefix, 'Features/TextWhole/mod_train_idxs_2.npy'), allow_pickle=True),\n",
    "                   np.load(os.path.join(prefix, 'Features/TextWhole/mod_train_idxs_3.npy'), allow_pickle=True)]\n",
    "fold = 1"
   ]
  },
  {
   "cell_type": "code",
   "execution_count": 22,
   "metadata": {},
   "outputs": [
    {
     "name": "stdout",
     "output_type": "stream",
     "text": [
      "Train Epoch:  1\t Learning rate: 0.0000\tLoss: 18.680583\t Accuracy: 53/108 (49%)\n",
      " \n",
      "Confusion Matrix:\n",
      "[[ 0  0]\n",
      " [11 43]]\n",
      "Accuracy: 0.7962962962962963\n",
      "Precision: 0\n",
      "Recall: 0.0\n",
      "F1-Score: nan\n",
      "\n",
      "=========================================================================================\n"
     ]
    },
    {
     "name": "stderr",
     "output_type": "stream",
     "text": [
      "C:\\Users\\meena\\AppData\\Local\\Temp\\ipykernel_7124\\1959198720.py:27: RuntimeWarning: invalid value encountered in scalar divide\n",
      "  f1_score = 2 * (precision * recall) / (precision + recall)\n"
     ]
    },
    {
     "name": "stdout",
     "output_type": "stream",
     "text": [
      "Train Epoch:  2\t Learning rate: 0.0000\tLoss: 18.485469\t Accuracy: 68/108 (63%)\n",
      " \n",
      "Confusion Matrix:\n",
      "[[ 0  0]\n",
      " [11 43]]\n",
      "Accuracy: 0.7962962962962963\n",
      "Precision: 0\n",
      "Recall: 0.0\n",
      "F1-Score: nan\n",
      "\n",
      "=========================================================================================\n"
     ]
    },
    {
     "name": "stderr",
     "output_type": "stream",
     "text": [
      "C:\\Users\\meena\\AppData\\Local\\Temp\\ipykernel_7124\\1959198720.py:27: RuntimeWarning: invalid value encountered in scalar divide\n",
      "  f1_score = 2 * (precision * recall) / (precision + recall)\n"
     ]
    },
    {
     "name": "stdout",
     "output_type": "stream",
     "text": [
      "Train Epoch:  3\t Learning rate: 0.0000\tLoss: 18.288588\t Accuracy: 77/108 (71%)\n",
      " \n",
      "Confusion Matrix:\n",
      "[[ 0  0]\n",
      " [11 43]]\n",
      "Accuracy: 0.7962962962962963\n",
      "Precision: 0\n",
      "Recall: 0.0\n",
      "F1-Score: nan\n",
      "\n",
      "=========================================================================================\n"
     ]
    },
    {
     "name": "stderr",
     "output_type": "stream",
     "text": [
      "C:\\Users\\meena\\AppData\\Local\\Temp\\ipykernel_7124\\1959198720.py:27: RuntimeWarning: invalid value encountered in scalar divide\n",
      "  f1_score = 2 * (precision * recall) / (precision + recall)\n"
     ]
    },
    {
     "name": "stdout",
     "output_type": "stream",
     "text": [
      "Train Epoch:  4\t Learning rate: 0.0000\tLoss: 18.037994\t Accuracy: 89/108 (82%)\n",
      " \n",
      "Confusion Matrix:\n",
      "[[ 0  0]\n",
      " [11 43]]\n",
      "Accuracy: 0.7962962962962963\n",
      "Precision: 0\n",
      "Recall: 0.0\n",
      "F1-Score: nan\n",
      "\n",
      "=========================================================================================\n"
     ]
    },
    {
     "name": "stderr",
     "output_type": "stream",
     "text": [
      "C:\\Users\\meena\\AppData\\Local\\Temp\\ipykernel_7124\\1959198720.py:27: RuntimeWarning: invalid value encountered in scalar divide\n",
      "  f1_score = 2 * (precision * recall) / (precision + recall)\n"
     ]
    },
    {
     "name": "stdout",
     "output_type": "stream",
     "text": [
      "Train Epoch:  5\t Learning rate: 0.0000\tLoss: 17.885933\t Accuracy: 86/108 (80%)\n",
      " \n",
      "Confusion Matrix:\n",
      "[[ 0  0]\n",
      " [11 43]]\n",
      "Accuracy: 0.7962962962962963\n",
      "Precision: 0\n",
      "Recall: 0.0\n",
      "F1-Score: nan\n",
      "\n",
      "=========================================================================================\n"
     ]
    },
    {
     "name": "stderr",
     "output_type": "stream",
     "text": [
      "C:\\Users\\meena\\AppData\\Local\\Temp\\ipykernel_7124\\1959198720.py:27: RuntimeWarning: invalid value encountered in scalar divide\n",
      "  f1_score = 2 * (precision * recall) / (precision + recall)\n"
     ]
    },
    {
     "name": "stdout",
     "output_type": "stream",
     "text": [
      "Train Epoch:  6\t Learning rate: 0.0000\tLoss: 17.749747\t Accuracy: 86/108 (80%)\n",
      " \n",
      "Confusion Matrix:\n",
      "[[ 0  0]\n",
      " [11 43]]\n",
      "Accuracy: 0.7962962962962963\n",
      "Precision: 0\n",
      "Recall: 0.0\n",
      "F1-Score: nan\n",
      "\n",
      "=========================================================================================\n"
     ]
    },
    {
     "name": "stderr",
     "output_type": "stream",
     "text": [
      "C:\\Users\\meena\\AppData\\Local\\Temp\\ipykernel_7124\\1959198720.py:27: RuntimeWarning: invalid value encountered in scalar divide\n",
      "  f1_score = 2 * (precision * recall) / (precision + recall)\n"
     ]
    },
    {
     "name": "stdout",
     "output_type": "stream",
     "text": [
      "Train Epoch:  7\t Learning rate: 0.0000\tLoss: 17.453528\t Accuracy: 89/108 (82%)\n",
      " \n",
      "Confusion Matrix:\n",
      "[[ 0  0]\n",
      " [11 43]]\n",
      "Accuracy: 0.7962962962962963\n",
      "Precision: 0\n",
      "Recall: 0.0\n",
      "F1-Score: nan\n",
      "\n",
      "=========================================================================================\n"
     ]
    },
    {
     "name": "stderr",
     "output_type": "stream",
     "text": [
      "C:\\Users\\meena\\AppData\\Local\\Temp\\ipykernel_7124\\1959198720.py:27: RuntimeWarning: invalid value encountered in scalar divide\n",
      "  f1_score = 2 * (precision * recall) / (precision + recall)\n"
     ]
    },
    {
     "name": "stdout",
     "output_type": "stream",
     "text": [
      "Train Epoch:  8\t Learning rate: 0.0000\tLoss: 17.322365\t Accuracy: 89/108 (82%)\n",
      " \n",
      "Confusion Matrix:\n",
      "[[ 0  0]\n",
      " [11 43]]\n",
      "Accuracy: 0.7962962962962963\n",
      "Precision: 0\n",
      "Recall: 0.0\n",
      "F1-Score: nan\n",
      "\n",
      "=========================================================================================\n"
     ]
    },
    {
     "name": "stderr",
     "output_type": "stream",
     "text": [
      "C:\\Users\\meena\\AppData\\Local\\Temp\\ipykernel_7124\\1959198720.py:27: RuntimeWarning: invalid value encountered in scalar divide\n",
      "  f1_score = 2 * (precision * recall) / (precision + recall)\n"
     ]
    },
    {
     "name": "stdout",
     "output_type": "stream",
     "text": [
      "Train Epoch:  9\t Learning rate: 0.0000\tLoss: 17.015047\t Accuracy: 89/108 (82%)\n",
      " \n",
      "Confusion Matrix:\n",
      "[[ 0  0]\n",
      " [11 43]]\n",
      "Accuracy: 0.7962962962962963\n",
      "Precision: 0\n",
      "Recall: 0.0\n",
      "F1-Score: nan\n",
      "\n",
      "=========================================================================================\n"
     ]
    },
    {
     "name": "stderr",
     "output_type": "stream",
     "text": [
      "C:\\Users\\meena\\AppData\\Local\\Temp\\ipykernel_7124\\1959198720.py:27: RuntimeWarning: invalid value encountered in scalar divide\n",
      "  f1_score = 2 * (precision * recall) / (precision + recall)\n"
     ]
    },
    {
     "name": "stdout",
     "output_type": "stream",
     "text": [
      "Train Epoch: 10\t Learning rate: 0.0000\tLoss: 16.749508\t Accuracy: 89/108 (82%)\n",
      " \n",
      "Confusion Matrix:\n",
      "[[ 0  0]\n",
      " [11 43]]\n",
      "Accuracy: 0.7962962962962963\n",
      "Precision: 0\n",
      "Recall: 0.0\n",
      "F1-Score: nan\n",
      "\n",
      "=========================================================================================\n"
     ]
    },
    {
     "name": "stderr",
     "output_type": "stream",
     "text": [
      "C:\\Users\\meena\\AppData\\Local\\Temp\\ipykernel_7124\\1959198720.py:27: RuntimeWarning: invalid value encountered in scalar divide\n",
      "  f1_score = 2 * (precision * recall) / (precision + recall)\n"
     ]
    },
    {
     "name": "stdout",
     "output_type": "stream",
     "text": [
      "Train Epoch: 11\t Learning rate: 0.0000\tLoss: 16.601194\t Accuracy: 89/108 (82%)\n",
      " \n",
      "Confusion Matrix:\n",
      "[[ 0  0]\n",
      " [11 43]]\n",
      "Accuracy: 0.7962962962962963\n",
      "Precision: 0\n",
      "Recall: 0.0\n",
      "F1-Score: nan\n",
      "\n",
      "=========================================================================================\n"
     ]
    },
    {
     "name": "stderr",
     "output_type": "stream",
     "text": [
      "C:\\Users\\meena\\AppData\\Local\\Temp\\ipykernel_7124\\1959198720.py:27: RuntimeWarning: invalid value encountered in scalar divide\n",
      "  f1_score = 2 * (precision * recall) / (precision + recall)\n"
     ]
    },
    {
     "name": "stdout",
     "output_type": "stream",
     "text": [
      "Train Epoch: 12\t Learning rate: 0.0000\tLoss: 16.396964\t Accuracy: 89/108 (82%)\n",
      " \n",
      "Confusion Matrix:\n",
      "[[ 0  0]\n",
      " [11 43]]\n",
      "Accuracy: 0.7962962962962963\n",
      "Precision: 0\n",
      "Recall: 0.0\n",
      "F1-Score: nan\n",
      "\n",
      "=========================================================================================\n"
     ]
    },
    {
     "name": "stderr",
     "output_type": "stream",
     "text": [
      "C:\\Users\\meena\\AppData\\Local\\Temp\\ipykernel_7124\\1959198720.py:27: RuntimeWarning: invalid value encountered in scalar divide\n",
      "  f1_score = 2 * (precision * recall) / (precision + recall)\n"
     ]
    },
    {
     "name": "stdout",
     "output_type": "stream",
     "text": [
      "Train Epoch: 13\t Learning rate: 0.0000\tLoss: 15.841572\t Accuracy: 89/108 (82%)\n",
      " \n",
      "Confusion Matrix:\n",
      "[[ 0  0]\n",
      " [11 43]]\n",
      "Accuracy: 0.7962962962962963\n",
      "Precision: 0\n",
      "Recall: 0.0\n",
      "F1-Score: nan\n",
      "\n",
      "=========================================================================================\n"
     ]
    },
    {
     "name": "stderr",
     "output_type": "stream",
     "text": [
      "C:\\Users\\meena\\AppData\\Local\\Temp\\ipykernel_7124\\1959198720.py:27: RuntimeWarning: invalid value encountered in scalar divide\n",
      "  f1_score = 2 * (precision * recall) / (precision + recall)\n"
     ]
    },
    {
     "name": "stdout",
     "output_type": "stream",
     "text": [
      "Train Epoch: 14\t Learning rate: 0.0000\tLoss: 15.880948\t Accuracy: 89/108 (82%)\n",
      " \n",
      "Confusion Matrix:\n",
      "[[ 0  0]\n",
      " [11 43]]\n",
      "Accuracy: 0.7962962962962963\n",
      "Precision: 0\n",
      "Recall: 0.0\n",
      "F1-Score: nan\n",
      "\n",
      "=========================================================================================\n"
     ]
    },
    {
     "name": "stderr",
     "output_type": "stream",
     "text": [
      "C:\\Users\\meena\\AppData\\Local\\Temp\\ipykernel_7124\\1959198720.py:27: RuntimeWarning: invalid value encountered in scalar divide\n",
      "  f1_score = 2 * (precision * recall) / (precision + recall)\n"
     ]
    },
    {
     "name": "stdout",
     "output_type": "stream",
     "text": [
      "Train Epoch: 15\t Learning rate: 0.0000\tLoss: 15.818336\t Accuracy: 89/108 (82%)\n",
      " \n",
      "Confusion Matrix:\n",
      "[[ 0  0]\n",
      " [11 43]]\n",
      "Accuracy: 0.7962962962962963\n",
      "Precision: 0\n",
      "Recall: 0.0\n",
      "F1-Score: nan\n",
      "\n",
      "=========================================================================================\n"
     ]
    },
    {
     "name": "stderr",
     "output_type": "stream",
     "text": [
      "C:\\Users\\meena\\AppData\\Local\\Temp\\ipykernel_7124\\1959198720.py:27: RuntimeWarning: invalid value encountered in scalar divide\n",
      "  f1_score = 2 * (precision * recall) / (precision + recall)\n"
     ]
    },
    {
     "name": "stdout",
     "output_type": "stream",
     "text": [
      "Train Epoch: 16\t Learning rate: 0.0000\tLoss: 15.168676\t Accuracy: 89/108 (82%)\n",
      " \n",
      "Confusion Matrix:\n",
      "[[ 0  0]\n",
      " [11 43]]\n",
      "Accuracy: 0.7962962962962963\n",
      "Precision: 0\n",
      "Recall: 0.0\n",
      "F1-Score: nan\n",
      "\n",
      "=========================================================================================\n"
     ]
    },
    {
     "name": "stderr",
     "output_type": "stream",
     "text": [
      "C:\\Users\\meena\\AppData\\Local\\Temp\\ipykernel_7124\\1959198720.py:27: RuntimeWarning: invalid value encountered in scalar divide\n",
      "  f1_score = 2 * (precision * recall) / (precision + recall)\n"
     ]
    },
    {
     "name": "stdout",
     "output_type": "stream",
     "text": [
      "Train Epoch: 17\t Learning rate: 0.0000\tLoss: 15.457643\t Accuracy: 89/108 (82%)\n",
      " \n",
      "Confusion Matrix:\n",
      "[[ 0  0]\n",
      " [11 43]]\n",
      "Accuracy: 0.7962962962962963\n",
      "Precision: 0\n",
      "Recall: 0.0\n",
      "F1-Score: nan\n",
      "\n",
      "=========================================================================================\n"
     ]
    },
    {
     "name": "stderr",
     "output_type": "stream",
     "text": [
      "C:\\Users\\meena\\AppData\\Local\\Temp\\ipykernel_7124\\1959198720.py:27: RuntimeWarning: invalid value encountered in scalar divide\n",
      "  f1_score = 2 * (precision * recall) / (precision + recall)\n"
     ]
    },
    {
     "name": "stdout",
     "output_type": "stream",
     "text": [
      "Train Epoch: 18\t Learning rate: 0.0000\tLoss: 15.113714\t Accuracy: 89/108 (82%)\n",
      " \n",
      "Confusion Matrix:\n",
      "[[ 0  0]\n",
      " [11 43]]\n",
      "Accuracy: 0.7962962962962963\n",
      "Precision: 0\n",
      "Recall: 0.0\n",
      "F1-Score: nan\n",
      "\n",
      "=========================================================================================\n"
     ]
    },
    {
     "name": "stderr",
     "output_type": "stream",
     "text": [
      "C:\\Users\\meena\\AppData\\Local\\Temp\\ipykernel_7124\\1959198720.py:27: RuntimeWarning: invalid value encountered in scalar divide\n",
      "  f1_score = 2 * (precision * recall) / (precision + recall)\n"
     ]
    },
    {
     "name": "stdout",
     "output_type": "stream",
     "text": [
      "Train Epoch: 19\t Learning rate: 0.0000\tLoss: 14.617083\t Accuracy: 89/108 (82%)\n",
      " \n",
      "Confusion Matrix:\n",
      "[[ 0  0]\n",
      " [11 43]]\n",
      "Accuracy: 0.7962962962962963\n",
      "Precision: 0\n",
      "Recall: 0.0\n",
      "F1-Score: nan\n",
      "\n",
      "=========================================================================================\n"
     ]
    },
    {
     "name": "stderr",
     "output_type": "stream",
     "text": [
      "C:\\Users\\meena\\AppData\\Local\\Temp\\ipykernel_7124\\1959198720.py:27: RuntimeWarning: invalid value encountered in scalar divide\n",
      "  f1_score = 2 * (precision * recall) / (precision + recall)\n"
     ]
    },
    {
     "name": "stdout",
     "output_type": "stream",
     "text": [
      "Train Epoch: 20\t Learning rate: 0.0000\tLoss: 14.864641\t Accuracy: 89/108 (82%)\n",
      " \n",
      "Confusion Matrix:\n",
      "[[ 0  0]\n",
      " [11 43]]\n",
      "Accuracy: 0.7962962962962963\n",
      "Precision: 0\n",
      "Recall: 0.0\n",
      "F1-Score: nan\n",
      "\n",
      "=========================================================================================\n"
     ]
    },
    {
     "name": "stderr",
     "output_type": "stream",
     "text": [
      "C:\\Users\\meena\\AppData\\Local\\Temp\\ipykernel_7124\\1959198720.py:27: RuntimeWarning: invalid value encountered in scalar divide\n",
      "  f1_score = 2 * (precision * recall) / (precision + recall)\n"
     ]
    },
    {
     "name": "stdout",
     "output_type": "stream",
     "text": [
      "Train Epoch: 21\t Learning rate: 0.0000\tLoss: 14.666558\t Accuracy: 89/108 (82%)\n",
      " \n",
      "Confusion Matrix:\n",
      "[[ 0  0]\n",
      " [11 43]]\n",
      "Accuracy: 0.7962962962962963\n",
      "Precision: 0\n",
      "Recall: 0.0\n",
      "F1-Score: nan\n",
      "\n",
      "=========================================================================================\n"
     ]
    },
    {
     "name": "stderr",
     "output_type": "stream",
     "text": [
      "C:\\Users\\meena\\AppData\\Local\\Temp\\ipykernel_7124\\1959198720.py:27: RuntimeWarning: invalid value encountered in scalar divide\n",
      "  f1_score = 2 * (precision * recall) / (precision + recall)\n"
     ]
    },
    {
     "name": "stdout",
     "output_type": "stream",
     "text": [
      "Train Epoch: 22\t Learning rate: 0.0000\tLoss: 14.566200\t Accuracy: 89/108 (82%)\n",
      " \n",
      "Confusion Matrix:\n",
      "[[ 0  0]\n",
      " [11 43]]\n",
      "Accuracy: 0.7962962962962963\n",
      "Precision: 0\n",
      "Recall: 0.0\n",
      "F1-Score: nan\n",
      "\n",
      "=========================================================================================\n"
     ]
    },
    {
     "name": "stderr",
     "output_type": "stream",
     "text": [
      "C:\\Users\\meena\\AppData\\Local\\Temp\\ipykernel_7124\\1959198720.py:27: RuntimeWarning: invalid value encountered in scalar divide\n",
      "  f1_score = 2 * (precision * recall) / (precision + recall)\n"
     ]
    },
    {
     "name": "stdout",
     "output_type": "stream",
     "text": [
      "Train Epoch: 23\t Learning rate: 0.0000\tLoss: 14.269976\t Accuracy: 89/108 (82%)\n",
      " \n",
      "Confusion Matrix:\n",
      "[[ 0  0]\n",
      " [11 43]]\n",
      "Accuracy: 0.7962962962962963\n",
      "Precision: 0\n",
      "Recall: 0.0\n",
      "F1-Score: nan\n",
      "\n",
      "=========================================================================================\n"
     ]
    },
    {
     "name": "stderr",
     "output_type": "stream",
     "text": [
      "C:\\Users\\meena\\AppData\\Local\\Temp\\ipykernel_7124\\1959198720.py:27: RuntimeWarning: invalid value encountered in scalar divide\n",
      "  f1_score = 2 * (precision * recall) / (precision + recall)\n"
     ]
    },
    {
     "name": "stdout",
     "output_type": "stream",
     "text": [
      "Train Epoch: 24\t Learning rate: 0.0000\tLoss: 14.339374\t Accuracy: 89/108 (82%)\n",
      " \n",
      "Confusion Matrix:\n",
      "[[ 0  0]\n",
      " [11 43]]\n",
      "Accuracy: 0.7962962962962963\n",
      "Precision: 0\n",
      "Recall: 0.0\n",
      "F1-Score: nan\n",
      "\n",
      "=========================================================================================\n"
     ]
    },
    {
     "name": "stderr",
     "output_type": "stream",
     "text": [
      "C:\\Users\\meena\\AppData\\Local\\Temp\\ipykernel_7124\\1959198720.py:27: RuntimeWarning: invalid value encountered in scalar divide\n",
      "  f1_score = 2 * (precision * recall) / (precision + recall)\n"
     ]
    },
    {
     "name": "stdout",
     "output_type": "stream",
     "text": [
      "Train Epoch: 25\t Learning rate: 0.0000\tLoss: 14.193310\t Accuracy: 89/108 (82%)\n",
      " \n",
      "Confusion Matrix:\n",
      "[[ 0  0]\n",
      " [11 43]]\n",
      "Accuracy: 0.7962962962962963\n",
      "Precision: 0\n",
      "Recall: 0.0\n",
      "F1-Score: nan\n",
      "\n",
      "=========================================================================================\n"
     ]
    },
    {
     "name": "stderr",
     "output_type": "stream",
     "text": [
      "C:\\Users\\meena\\AppData\\Local\\Temp\\ipykernel_7124\\1959198720.py:27: RuntimeWarning: invalid value encountered in scalar divide\n",
      "  f1_score = 2 * (precision * recall) / (precision + recall)\n"
     ]
    },
    {
     "name": "stdout",
     "output_type": "stream",
     "text": [
      "Train Epoch: 26\t Learning rate: 0.0000\tLoss: 14.056584\t Accuracy: 89/108 (82%)\n",
      " \n",
      "Confusion Matrix:\n",
      "[[ 0  0]\n",
      " [11 43]]\n",
      "Accuracy: 0.7962962962962963\n",
      "Precision: 0\n",
      "Recall: 0.0\n",
      "F1-Score: nan\n",
      "\n",
      "=========================================================================================\n"
     ]
    },
    {
     "name": "stderr",
     "output_type": "stream",
     "text": [
      "C:\\Users\\meena\\AppData\\Local\\Temp\\ipykernel_7124\\1959198720.py:27: RuntimeWarning: invalid value encountered in scalar divide\n",
      "  f1_score = 2 * (precision * recall) / (precision + recall)\n"
     ]
    },
    {
     "name": "stdout",
     "output_type": "stream",
     "text": [
      "Train Epoch: 27\t Learning rate: 0.0000\tLoss: 13.907062\t Accuracy: 89/108 (82%)\n",
      " \n",
      "Confusion Matrix:\n",
      "[[ 0  0]\n",
      " [11 43]]\n",
      "Accuracy: 0.7962962962962963\n",
      "Precision: 0\n",
      "Recall: 0.0\n",
      "F1-Score: nan\n",
      "\n",
      "=========================================================================================\n"
     ]
    },
    {
     "name": "stderr",
     "output_type": "stream",
     "text": [
      "C:\\Users\\meena\\AppData\\Local\\Temp\\ipykernel_7124\\1959198720.py:27: RuntimeWarning: invalid value encountered in scalar divide\n",
      "  f1_score = 2 * (precision * recall) / (precision + recall)\n"
     ]
    },
    {
     "name": "stdout",
     "output_type": "stream",
     "text": [
      "Train Epoch: 28\t Learning rate: 0.0000\tLoss: 13.822797\t Accuracy: 89/108 (82%)\n",
      " \n",
      "Confusion Matrix:\n",
      "[[ 0  0]\n",
      " [11 43]]\n",
      "Accuracy: 0.7962962962962963\n",
      "Precision: 0\n",
      "Recall: 0.0\n",
      "F1-Score: nan\n",
      "\n",
      "=========================================================================================\n"
     ]
    },
    {
     "name": "stderr",
     "output_type": "stream",
     "text": [
      "C:\\Users\\meena\\AppData\\Local\\Temp\\ipykernel_7124\\1959198720.py:27: RuntimeWarning: invalid value encountered in scalar divide\n",
      "  f1_score = 2 * (precision * recall) / (precision + recall)\n"
     ]
    },
    {
     "name": "stdout",
     "output_type": "stream",
     "text": [
      "Train Epoch: 29\t Learning rate: 0.0000\tLoss: 13.930311\t Accuracy: 89/108 (82%)\n",
      " \n",
      "Confusion Matrix:\n",
      "[[ 0  0]\n",
      " [11 43]]\n",
      "Accuracy: 0.7962962962962963\n",
      "Precision: 0\n",
      "Recall: 0.0\n",
      "F1-Score: nan\n",
      "\n",
      "=========================================================================================\n"
     ]
    },
    {
     "name": "stderr",
     "output_type": "stream",
     "text": [
      "C:\\Users\\meena\\AppData\\Local\\Temp\\ipykernel_7124\\1959198720.py:27: RuntimeWarning: invalid value encountered in scalar divide\n",
      "  f1_score = 2 * (precision * recall) / (precision + recall)\n"
     ]
    },
    {
     "name": "stdout",
     "output_type": "stream",
     "text": [
      "Train Epoch: 30\t Learning rate: 0.0000\tLoss: 13.777581\t Accuracy: 89/108 (82%)\n",
      " \n",
      "Confusion Matrix:\n",
      "[[ 0  0]\n",
      " [11 43]]\n",
      "Accuracy: 0.7962962962962963\n",
      "Precision: 0\n",
      "Recall: 0.0\n",
      "F1-Score: nan\n",
      "\n",
      "=========================================================================================\n"
     ]
    },
    {
     "name": "stderr",
     "output_type": "stream",
     "text": [
      "C:\\Users\\meena\\AppData\\Local\\Temp\\ipykernel_7124\\1959198720.py:27: RuntimeWarning: invalid value encountered in scalar divide\n",
      "  f1_score = 2 * (precision * recall) / (precision + recall)\n"
     ]
    },
    {
     "name": "stdout",
     "output_type": "stream",
     "text": [
      "Train Epoch: 31\t Learning rate: 0.0000\tLoss: 13.543402\t Accuracy: 89/108 (82%)\n",
      " \n",
      "Confusion Matrix:\n",
      "[[ 0  0]\n",
      " [11 43]]\n",
      "Accuracy: 0.7962962962962963\n",
      "Precision: 0\n",
      "Recall: 0.0\n",
      "F1-Score: nan\n",
      "\n",
      "=========================================================================================\n"
     ]
    },
    {
     "name": "stderr",
     "output_type": "stream",
     "text": [
      "C:\\Users\\meena\\AppData\\Local\\Temp\\ipykernel_7124\\1959198720.py:27: RuntimeWarning: invalid value encountered in scalar divide\n",
      "  f1_score = 2 * (precision * recall) / (precision + recall)\n"
     ]
    },
    {
     "name": "stdout",
     "output_type": "stream",
     "text": [
      "Train Epoch: 32\t Learning rate: 0.0000\tLoss: 13.612226\t Accuracy: 89/108 (82%)\n",
      " \n",
      "Confusion Matrix:\n",
      "[[ 0  0]\n",
      " [11 43]]\n",
      "Accuracy: 0.7962962962962963\n",
      "Precision: 0\n",
      "Recall: 0.0\n",
      "F1-Score: nan\n",
      "\n",
      "=========================================================================================\n"
     ]
    },
    {
     "name": "stderr",
     "output_type": "stream",
     "text": [
      "C:\\Users\\meena\\AppData\\Local\\Temp\\ipykernel_7124\\1959198720.py:27: RuntimeWarning: invalid value encountered in scalar divide\n",
      "  f1_score = 2 * (precision * recall) / (precision + recall)\n"
     ]
    },
    {
     "name": "stdout",
     "output_type": "stream",
     "text": [
      "Train Epoch: 33\t Learning rate: 0.0000\tLoss: 13.751503\t Accuracy: 89/108 (82%)\n",
      " \n",
      "Confusion Matrix:\n",
      "[[ 0  0]\n",
      " [11 43]]\n",
      "Accuracy: 0.7962962962962963\n",
      "Precision: 0\n",
      "Recall: 0.0\n",
      "F1-Score: nan\n",
      "\n",
      "=========================================================================================\n"
     ]
    },
    {
     "name": "stderr",
     "output_type": "stream",
     "text": [
      "C:\\Users\\meena\\AppData\\Local\\Temp\\ipykernel_7124\\1959198720.py:27: RuntimeWarning: invalid value encountered in scalar divide\n",
      "  f1_score = 2 * (precision * recall) / (precision + recall)\n"
     ]
    },
    {
     "name": "stdout",
     "output_type": "stream",
     "text": [
      "Train Epoch: 34\t Learning rate: 0.0000\tLoss: 13.449907\t Accuracy: 89/108 (82%)\n",
      " \n",
      "Confusion Matrix:\n",
      "[[ 0  0]\n",
      " [11 43]]\n",
      "Accuracy: 0.7962962962962963\n",
      "Precision: 0\n",
      "Recall: 0.0\n",
      "F1-Score: nan\n",
      "\n",
      "=========================================================================================\n"
     ]
    },
    {
     "name": "stderr",
     "output_type": "stream",
     "text": [
      "C:\\Users\\meena\\AppData\\Local\\Temp\\ipykernel_7124\\1959198720.py:27: RuntimeWarning: invalid value encountered in scalar divide\n",
      "  f1_score = 2 * (precision * recall) / (precision + recall)\n"
     ]
    },
    {
     "name": "stdout",
     "output_type": "stream",
     "text": [
      "Train Epoch: 35\t Learning rate: 0.0000\tLoss: 13.697596\t Accuracy: 89/108 (82%)\n",
      " \n",
      "Confusion Matrix:\n",
      "[[ 0  0]\n",
      " [11 43]]\n",
      "Accuracy: 0.7962962962962963\n",
      "Precision: 0\n",
      "Recall: 0.0\n",
      "F1-Score: nan\n",
      "\n",
      "=========================================================================================\n"
     ]
    },
    {
     "name": "stderr",
     "output_type": "stream",
     "text": [
      "C:\\Users\\meena\\AppData\\Local\\Temp\\ipykernel_7124\\1959198720.py:27: RuntimeWarning: invalid value encountered in scalar divide\n",
      "  f1_score = 2 * (precision * recall) / (precision + recall)\n"
     ]
    },
    {
     "name": "stdout",
     "output_type": "stream",
     "text": [
      "Train Epoch: 36\t Learning rate: 0.0000\tLoss: 13.374009\t Accuracy: 89/108 (82%)\n",
      " \n",
      "Confusion Matrix:\n",
      "[[ 0  0]\n",
      " [11 43]]\n",
      "Accuracy: 0.7962962962962963\n",
      "Precision: 0\n",
      "Recall: 0.0\n",
      "F1-Score: nan\n",
      "\n",
      "=========================================================================================\n"
     ]
    },
    {
     "name": "stderr",
     "output_type": "stream",
     "text": [
      "C:\\Users\\meena\\AppData\\Local\\Temp\\ipykernel_7124\\1959198720.py:27: RuntimeWarning: invalid value encountered in scalar divide\n",
      "  f1_score = 2 * (precision * recall) / (precision + recall)\n"
     ]
    },
    {
     "name": "stdout",
     "output_type": "stream",
     "text": [
      "Train Epoch: 37\t Learning rate: 0.0000\tLoss: 13.667113\t Accuracy: 89/108 (82%)\n",
      " \n",
      "Confusion Matrix:\n",
      "[[ 0  0]\n",
      " [11 43]]\n",
      "Accuracy: 0.7962962962962963\n",
      "Precision: 0\n",
      "Recall: 0.0\n",
      "F1-Score: nan\n",
      "\n",
      "=========================================================================================\n"
     ]
    },
    {
     "name": "stderr",
     "output_type": "stream",
     "text": [
      "C:\\Users\\meena\\AppData\\Local\\Temp\\ipykernel_7124\\1959198720.py:27: RuntimeWarning: invalid value encountered in scalar divide\n",
      "  f1_score = 2 * (precision * recall) / (precision + recall)\n"
     ]
    },
    {
     "name": "stdout",
     "output_type": "stream",
     "text": [
      "Train Epoch: 38\t Learning rate: 0.0000\tLoss: 13.390657\t Accuracy: 89/108 (82%)\n",
      " \n",
      "Confusion Matrix:\n",
      "[[ 0  0]\n",
      " [11 43]]\n",
      "Accuracy: 0.7962962962962963\n",
      "Precision: 0\n",
      "Recall: 0.0\n",
      "F1-Score: nan\n",
      "\n",
      "=========================================================================================\n"
     ]
    },
    {
     "name": "stderr",
     "output_type": "stream",
     "text": [
      "C:\\Users\\meena\\AppData\\Local\\Temp\\ipykernel_7124\\1959198720.py:27: RuntimeWarning: invalid value encountered in scalar divide\n",
      "  f1_score = 2 * (precision * recall) / (precision + recall)\n"
     ]
    },
    {
     "name": "stdout",
     "output_type": "stream",
     "text": [
      "Train Epoch: 39\t Learning rate: 0.0000\tLoss: 13.461529\t Accuracy: 89/108 (82%)\n",
      " \n",
      "Confusion Matrix:\n",
      "[[ 0  0]\n",
      " [11 43]]\n",
      "Accuracy: 0.7962962962962963\n",
      "Precision: 0\n",
      "Recall: 0.0\n",
      "F1-Score: nan\n",
      "\n",
      "=========================================================================================\n"
     ]
    },
    {
     "name": "stderr",
     "output_type": "stream",
     "text": [
      "C:\\Users\\meena\\AppData\\Local\\Temp\\ipykernel_7124\\1959198720.py:27: RuntimeWarning: invalid value encountered in scalar divide\n",
      "  f1_score = 2 * (precision * recall) / (precision + recall)\n"
     ]
    },
    {
     "name": "stdout",
     "output_type": "stream",
     "text": [
      "Train Epoch: 40\t Learning rate: 0.0000\tLoss: 13.501961\t Accuracy: 89/108 (82%)\n",
      " \n",
      "Confusion Matrix:\n",
      "[[ 0  0]\n",
      " [11 43]]\n",
      "Accuracy: 0.7962962962962963\n",
      "Precision: 0\n",
      "Recall: 0.0\n",
      "F1-Score: nan\n",
      "\n",
      "=========================================================================================\n"
     ]
    },
    {
     "name": "stderr",
     "output_type": "stream",
     "text": [
      "C:\\Users\\meena\\AppData\\Local\\Temp\\ipykernel_7124\\1959198720.py:27: RuntimeWarning: invalid value encountered in scalar divide\n",
      "  f1_score = 2 * (precision * recall) / (precision + recall)\n"
     ]
    },
    {
     "name": "stdout",
     "output_type": "stream",
     "text": [
      "Train Epoch: 41\t Learning rate: 0.0000\tLoss: 13.481624\t Accuracy: 89/108 (82%)\n",
      " \n",
      "Confusion Matrix:\n",
      "[[ 0  0]\n",
      " [11 43]]\n",
      "Accuracy: 0.7962962962962963\n",
      "Precision: 0\n",
      "Recall: 0.0\n",
      "F1-Score: nan\n",
      "\n",
      "=========================================================================================\n"
     ]
    },
    {
     "name": "stderr",
     "output_type": "stream",
     "text": [
      "C:\\Users\\meena\\AppData\\Local\\Temp\\ipykernel_7124\\1959198720.py:27: RuntimeWarning: invalid value encountered in scalar divide\n",
      "  f1_score = 2 * (precision * recall) / (precision + recall)\n"
     ]
    },
    {
     "name": "stdout",
     "output_type": "stream",
     "text": [
      "Train Epoch: 42\t Learning rate: 0.0000\tLoss: 13.418597\t Accuracy: 89/108 (82%)\n",
      " \n",
      "Confusion Matrix:\n",
      "[[ 0  0]\n",
      " [11 43]]\n",
      "Accuracy: 0.7962962962962963\n",
      "Precision: 0\n",
      "Recall: 0.0\n",
      "F1-Score: nan\n",
      "\n",
      "=========================================================================================\n"
     ]
    },
    {
     "name": "stderr",
     "output_type": "stream",
     "text": [
      "C:\\Users\\meena\\AppData\\Local\\Temp\\ipykernel_7124\\1959198720.py:27: RuntimeWarning: invalid value encountered in scalar divide\n",
      "  f1_score = 2 * (precision * recall) / (precision + recall)\n"
     ]
    },
    {
     "name": "stdout",
     "output_type": "stream",
     "text": [
      "Train Epoch: 43\t Learning rate: 0.0000\tLoss: 13.405079\t Accuracy: 89/108 (82%)\n",
      " \n",
      "Confusion Matrix:\n",
      "[[ 0  0]\n",
      " [11 43]]\n",
      "Accuracy: 0.7962962962962963\n",
      "Precision: 0\n",
      "Recall: 0.0\n",
      "F1-Score: nan\n",
      "\n",
      "=========================================================================================\n"
     ]
    },
    {
     "name": "stderr",
     "output_type": "stream",
     "text": [
      "C:\\Users\\meena\\AppData\\Local\\Temp\\ipykernel_7124\\1959198720.py:27: RuntimeWarning: invalid value encountered in scalar divide\n",
      "  f1_score = 2 * (precision * recall) / (precision + recall)\n"
     ]
    },
    {
     "name": "stdout",
     "output_type": "stream",
     "text": [
      "Train Epoch: 44\t Learning rate: 0.0000\tLoss: 13.278340\t Accuracy: 89/108 (82%)\n",
      " \n",
      "Confusion Matrix:\n",
      "[[ 0  0]\n",
      " [11 43]]\n",
      "Accuracy: 0.7962962962962963\n",
      "Precision: 0\n",
      "Recall: 0.0\n",
      "F1-Score: nan\n",
      "\n",
      "=========================================================================================\n"
     ]
    },
    {
     "name": "stderr",
     "output_type": "stream",
     "text": [
      "C:\\Users\\meena\\AppData\\Local\\Temp\\ipykernel_7124\\1959198720.py:27: RuntimeWarning: invalid value encountered in scalar divide\n",
      "  f1_score = 2 * (precision * recall) / (precision + recall)\n"
     ]
    },
    {
     "name": "stdout",
     "output_type": "stream",
     "text": [
      "Train Epoch: 45\t Learning rate: 0.0000\tLoss: 13.318666\t Accuracy: 89/108 (82%)\n",
      " \n",
      "Confusion Matrix:\n",
      "[[ 0  0]\n",
      " [11 43]]\n",
      "Accuracy: 0.7962962962962963\n",
      "Precision: 0\n",
      "Recall: 0.0\n",
      "F1-Score: nan\n",
      "\n",
      "=========================================================================================\n"
     ]
    },
    {
     "name": "stderr",
     "output_type": "stream",
     "text": [
      "C:\\Users\\meena\\AppData\\Local\\Temp\\ipykernel_7124\\1959198720.py:27: RuntimeWarning: invalid value encountered in scalar divide\n",
      "  f1_score = 2 * (precision * recall) / (precision + recall)\n"
     ]
    },
    {
     "name": "stdout",
     "output_type": "stream",
     "text": [
      "Train Epoch: 46\t Learning rate: 0.0000\tLoss: 13.286026\t Accuracy: 89/108 (82%)\n",
      " \n",
      "Confusion Matrix:\n",
      "[[ 0  0]\n",
      " [11 43]]\n",
      "Accuracy: 0.7962962962962963\n",
      "Precision: 0\n",
      "Recall: 0.0\n",
      "F1-Score: nan\n",
      "\n",
      "=========================================================================================\n"
     ]
    },
    {
     "name": "stderr",
     "output_type": "stream",
     "text": [
      "C:\\Users\\meena\\AppData\\Local\\Temp\\ipykernel_7124\\1959198720.py:27: RuntimeWarning: invalid value encountered in scalar divide\n",
      "  f1_score = 2 * (precision * recall) / (precision + recall)\n"
     ]
    },
    {
     "name": "stdout",
     "output_type": "stream",
     "text": [
      "Train Epoch: 47\t Learning rate: 0.0000\tLoss: 13.458145\t Accuracy: 89/108 (82%)\n",
      " \n",
      "Confusion Matrix:\n",
      "[[ 0  0]\n",
      " [11 43]]\n",
      "Accuracy: 0.7962962962962963\n",
      "Precision: 0\n",
      "Recall: 0.0\n",
      "F1-Score: nan\n",
      "\n",
      "=========================================================================================\n"
     ]
    },
    {
     "name": "stderr",
     "output_type": "stream",
     "text": [
      "C:\\Users\\meena\\AppData\\Local\\Temp\\ipykernel_7124\\1959198720.py:27: RuntimeWarning: invalid value encountered in scalar divide\n",
      "  f1_score = 2 * (precision * recall) / (precision + recall)\n"
     ]
    },
    {
     "name": "stdout",
     "output_type": "stream",
     "text": [
      "Train Epoch: 48\t Learning rate: 0.0000\tLoss: 13.448185\t Accuracy: 89/108 (82%)\n",
      " \n",
      "Confusion Matrix:\n",
      "[[ 0  0]\n",
      " [11 43]]\n",
      "Accuracy: 0.7962962962962963\n",
      "Precision: 0\n",
      "Recall: 0.0\n",
      "F1-Score: nan\n",
      "\n",
      "=========================================================================================\n"
     ]
    },
    {
     "name": "stderr",
     "output_type": "stream",
     "text": [
      "C:\\Users\\meena\\AppData\\Local\\Temp\\ipykernel_7124\\1959198720.py:27: RuntimeWarning: invalid value encountered in scalar divide\n",
      "  f1_score = 2 * (precision * recall) / (precision + recall)\n"
     ]
    },
    {
     "name": "stdout",
     "output_type": "stream",
     "text": [
      "Train Epoch: 49\t Learning rate: 0.0000\tLoss: 13.350762\t Accuracy: 89/108 (82%)\n",
      " \n",
      "Confusion Matrix:\n",
      "[[ 0  0]\n",
      " [11 43]]\n",
      "Accuracy: 0.7962962962962963\n",
      "Precision: 0\n",
      "Recall: 0.0\n",
      "F1-Score: nan\n",
      "\n",
      "=========================================================================================\n"
     ]
    },
    {
     "name": "stderr",
     "output_type": "stream",
     "text": [
      "C:\\Users\\meena\\AppData\\Local\\Temp\\ipykernel_7124\\1959198720.py:27: RuntimeWarning: invalid value encountered in scalar divide\n",
      "  f1_score = 2 * (precision * recall) / (precision + recall)\n"
     ]
    },
    {
     "name": "stdout",
     "output_type": "stream",
     "text": [
      "Train Epoch: 50\t Learning rate: 0.0000\tLoss: 13.316378\t Accuracy: 89/108 (82%)\n",
      " \n",
      "Confusion Matrix:\n",
      "[[ 0  0]\n",
      " [11 43]]\n",
      "Accuracy: 0.7962962962962963\n",
      "Precision: 0\n",
      "Recall: 0.0\n",
      "F1-Score: nan\n",
      "\n",
      "=========================================================================================\n"
     ]
    },
    {
     "name": "stderr",
     "output_type": "stream",
     "text": [
      "C:\\Users\\meena\\AppData\\Local\\Temp\\ipykernel_7124\\1959198720.py:27: RuntimeWarning: invalid value encountered in scalar divide\n",
      "  f1_score = 2 * (precision * recall) / (precision + recall)\n"
     ]
    },
    {
     "name": "stdout",
     "output_type": "stream",
     "text": [
      "Train Epoch: 51\t Learning rate: 0.0000\tLoss: 13.348455\t Accuracy: 89/108 (82%)\n",
      " \n",
      "Confusion Matrix:\n",
      "[[ 0  0]\n",
      " [11 43]]\n",
      "Accuracy: 0.7962962962962963\n",
      "Precision: 0\n",
      "Recall: 0.0\n",
      "F1-Score: nan\n",
      "\n",
      "=========================================================================================\n"
     ]
    },
    {
     "name": "stderr",
     "output_type": "stream",
     "text": [
      "C:\\Users\\meena\\AppData\\Local\\Temp\\ipykernel_7124\\1959198720.py:27: RuntimeWarning: invalid value encountered in scalar divide\n",
      "  f1_score = 2 * (precision * recall) / (precision + recall)\n"
     ]
    },
    {
     "name": "stdout",
     "output_type": "stream",
     "text": [
      "Train Epoch: 52\t Learning rate: 0.0000\tLoss: 13.380843\t Accuracy: 89/108 (82%)\n",
      " \n",
      "Confusion Matrix:\n",
      "[[ 0  0]\n",
      " [11 43]]\n",
      "Accuracy: 0.7962962962962963\n",
      "Precision: 0\n",
      "Recall: 0.0\n",
      "F1-Score: nan\n",
      "\n",
      "=========================================================================================\n"
     ]
    },
    {
     "name": "stderr",
     "output_type": "stream",
     "text": [
      "C:\\Users\\meena\\AppData\\Local\\Temp\\ipykernel_7124\\1959198720.py:27: RuntimeWarning: invalid value encountered in scalar divide\n",
      "  f1_score = 2 * (precision * recall) / (precision + recall)\n"
     ]
    },
    {
     "name": "stdout",
     "output_type": "stream",
     "text": [
      "Train Epoch: 53\t Learning rate: 0.0000\tLoss: 13.421103\t Accuracy: 89/108 (82%)\n",
      " \n",
      "Confusion Matrix:\n",
      "[[ 0  0]\n",
      " [11 43]]\n",
      "Accuracy: 0.7962962962962963\n",
      "Precision: 0\n",
      "Recall: 0.0\n",
      "F1-Score: nan\n",
      "\n",
      "=========================================================================================\n"
     ]
    },
    {
     "name": "stderr",
     "output_type": "stream",
     "text": [
      "C:\\Users\\meena\\AppData\\Local\\Temp\\ipykernel_7124\\1959198720.py:27: RuntimeWarning: invalid value encountered in scalar divide\n",
      "  f1_score = 2 * (precision * recall) / (precision + recall)\n"
     ]
    },
    {
     "name": "stdout",
     "output_type": "stream",
     "text": [
      "Train Epoch: 54\t Learning rate: 0.0000\tLoss: 13.283008\t Accuracy: 89/108 (82%)\n",
      " \n",
      "Confusion Matrix:\n",
      "[[ 0  0]\n",
      " [11 43]]\n",
      "Accuracy: 0.7962962962962963\n",
      "Precision: 0\n",
      "Recall: 0.0\n",
      "F1-Score: nan\n",
      "\n",
      "=========================================================================================\n"
     ]
    },
    {
     "name": "stderr",
     "output_type": "stream",
     "text": [
      "C:\\Users\\meena\\AppData\\Local\\Temp\\ipykernel_7124\\1959198720.py:27: RuntimeWarning: invalid value encountered in scalar divide\n",
      "  f1_score = 2 * (precision * recall) / (precision + recall)\n"
     ]
    },
    {
     "name": "stdout",
     "output_type": "stream",
     "text": [
      "Train Epoch: 55\t Learning rate: 0.0000\tLoss: 13.309687\t Accuracy: 89/108 (82%)\n",
      " \n",
      "Confusion Matrix:\n",
      "[[ 0  0]\n",
      " [11 43]]\n",
      "Accuracy: 0.7962962962962963\n",
      "Precision: 0\n",
      "Recall: 0.0\n",
      "F1-Score: nan\n",
      "\n",
      "=========================================================================================\n"
     ]
    },
    {
     "name": "stderr",
     "output_type": "stream",
     "text": [
      "C:\\Users\\meena\\AppData\\Local\\Temp\\ipykernel_7124\\1959198720.py:27: RuntimeWarning: invalid value encountered in scalar divide\n",
      "  f1_score = 2 * (precision * recall) / (precision + recall)\n"
     ]
    },
    {
     "name": "stdout",
     "output_type": "stream",
     "text": [
      "Train Epoch: 56\t Learning rate: 0.0000\tLoss: 13.213575\t Accuracy: 89/108 (82%)\n",
      " \n",
      "Confusion Matrix:\n",
      "[[ 0  0]\n",
      " [11 43]]\n",
      "Accuracy: 0.7962962962962963\n",
      "Precision: 0\n",
      "Recall: 0.0\n",
      "F1-Score: nan\n",
      "\n",
      "=========================================================================================\n"
     ]
    },
    {
     "name": "stderr",
     "output_type": "stream",
     "text": [
      "C:\\Users\\meena\\AppData\\Local\\Temp\\ipykernel_7124\\1959198720.py:27: RuntimeWarning: invalid value encountered in scalar divide\n",
      "  f1_score = 2 * (precision * recall) / (precision + recall)\n"
     ]
    },
    {
     "name": "stdout",
     "output_type": "stream",
     "text": [
      "Train Epoch: 57\t Learning rate: 0.0000\tLoss: 13.246432\t Accuracy: 89/108 (82%)\n",
      " \n",
      "Confusion Matrix:\n",
      "[[ 0  0]\n",
      " [11 43]]\n",
      "Accuracy: 0.7962962962962963\n",
      "Precision: 0\n",
      "Recall: 0.0\n",
      "F1-Score: nan\n",
      "\n",
      "=========================================================================================\n"
     ]
    },
    {
     "name": "stderr",
     "output_type": "stream",
     "text": [
      "C:\\Users\\meena\\AppData\\Local\\Temp\\ipykernel_7124\\1959198720.py:27: RuntimeWarning: invalid value encountered in scalar divide\n",
      "  f1_score = 2 * (precision * recall) / (precision + recall)\n"
     ]
    },
    {
     "name": "stdout",
     "output_type": "stream",
     "text": [
      "Train Epoch: 58\t Learning rate: 0.0000\tLoss: 13.163667\t Accuracy: 89/108 (82%)\n",
      " \n",
      "Confusion Matrix:\n",
      "[[ 0  0]\n",
      " [11 43]]\n",
      "Accuracy: 0.7962962962962963\n",
      "Precision: 0\n",
      "Recall: 0.0\n",
      "F1-Score: nan\n",
      "\n",
      "=========================================================================================\n"
     ]
    },
    {
     "name": "stderr",
     "output_type": "stream",
     "text": [
      "C:\\Users\\meena\\AppData\\Local\\Temp\\ipykernel_7124\\1959198720.py:27: RuntimeWarning: invalid value encountered in scalar divide\n",
      "  f1_score = 2 * (precision * recall) / (precision + recall)\n"
     ]
    },
    {
     "name": "stdout",
     "output_type": "stream",
     "text": [
      "Train Epoch: 59\t Learning rate: 0.0000\tLoss: 13.349842\t Accuracy: 89/108 (82%)\n",
      " \n",
      "Confusion Matrix:\n",
      "[[ 0  0]\n",
      " [11 43]]\n",
      "Accuracy: 0.7962962962962963\n",
      "Precision: 0\n",
      "Recall: 0.0\n",
      "F1-Score: nan\n",
      "\n",
      "=========================================================================================\n"
     ]
    },
    {
     "name": "stderr",
     "output_type": "stream",
     "text": [
      "C:\\Users\\meena\\AppData\\Local\\Temp\\ipykernel_7124\\1959198720.py:27: RuntimeWarning: invalid value encountered in scalar divide\n",
      "  f1_score = 2 * (precision * recall) / (precision + recall)\n"
     ]
    },
    {
     "name": "stdout",
     "output_type": "stream",
     "text": [
      "Train Epoch: 60\t Learning rate: 0.0000\tLoss: 13.283813\t Accuracy: 89/108 (82%)\n",
      " \n",
      "Confusion Matrix:\n",
      "[[ 0  0]\n",
      " [11 43]]\n",
      "Accuracy: 0.7962962962962963\n",
      "Precision: 0\n",
      "Recall: 0.0\n",
      "F1-Score: nan\n",
      "\n",
      "=========================================================================================\n"
     ]
    },
    {
     "name": "stderr",
     "output_type": "stream",
     "text": [
      "C:\\Users\\meena\\AppData\\Local\\Temp\\ipykernel_7124\\1959198720.py:27: RuntimeWarning: invalid value encountered in scalar divide\n",
      "  f1_score = 2 * (precision * recall) / (precision + recall)\n"
     ]
    },
    {
     "name": "stdout",
     "output_type": "stream",
     "text": [
      "Train Epoch: 61\t Learning rate: 0.0000\tLoss: 13.128630\t Accuracy: 89/108 (82%)\n",
      " \n",
      "Confusion Matrix:\n",
      "[[ 0  0]\n",
      " [11 43]]\n",
      "Accuracy: 0.7962962962962963\n",
      "Precision: 0\n",
      "Recall: 0.0\n",
      "F1-Score: nan\n",
      "\n",
      "=========================================================================================\n"
     ]
    },
    {
     "name": "stderr",
     "output_type": "stream",
     "text": [
      "C:\\Users\\meena\\AppData\\Local\\Temp\\ipykernel_7124\\1959198720.py:27: RuntimeWarning: invalid value encountered in scalar divide\n",
      "  f1_score = 2 * (precision * recall) / (precision + recall)\n"
     ]
    },
    {
     "name": "stdout",
     "output_type": "stream",
     "text": [
      "Train Epoch: 62\t Learning rate: 0.0000\tLoss: 13.257586\t Accuracy: 89/108 (82%)\n",
      " \n",
      "Confusion Matrix:\n",
      "[[ 0  0]\n",
      " [11 43]]\n",
      "Accuracy: 0.7962962962962963\n",
      "Precision: 0\n",
      "Recall: 0.0\n",
      "F1-Score: nan\n",
      "\n",
      "=========================================================================================\n"
     ]
    },
    {
     "name": "stderr",
     "output_type": "stream",
     "text": [
      "C:\\Users\\meena\\AppData\\Local\\Temp\\ipykernel_7124\\1959198720.py:27: RuntimeWarning: invalid value encountered in scalar divide\n",
      "  f1_score = 2 * (precision * recall) / (precision + recall)\n"
     ]
    },
    {
     "name": "stdout",
     "output_type": "stream",
     "text": [
      "Train Epoch: 63\t Learning rate: 0.0000\tLoss: 13.231438\t Accuracy: 89/108 (82%)\n",
      " \n",
      "Confusion Matrix:\n",
      "[[ 0  0]\n",
      " [11 43]]\n",
      "Accuracy: 0.7962962962962963\n",
      "Precision: 0\n",
      "Recall: 0.0\n",
      "F1-Score: nan\n",
      "\n",
      "=========================================================================================\n"
     ]
    },
    {
     "name": "stderr",
     "output_type": "stream",
     "text": [
      "C:\\Users\\meena\\AppData\\Local\\Temp\\ipykernel_7124\\1959198720.py:27: RuntimeWarning: invalid value encountered in scalar divide\n",
      "  f1_score = 2 * (precision * recall) / (precision + recall)\n"
     ]
    },
    {
     "name": "stdout",
     "output_type": "stream",
     "text": [
      "Train Epoch: 64\t Learning rate: 0.0000\tLoss: 13.238363\t Accuracy: 89/108 (82%)\n",
      " \n",
      "Confusion Matrix:\n",
      "[[ 0  0]\n",
      " [11 43]]\n",
      "Accuracy: 0.7962962962962963\n",
      "Precision: 0\n",
      "Recall: 0.0\n",
      "F1-Score: nan\n",
      "\n",
      "=========================================================================================\n"
     ]
    },
    {
     "name": "stderr",
     "output_type": "stream",
     "text": [
      "C:\\Users\\meena\\AppData\\Local\\Temp\\ipykernel_7124\\1959198720.py:27: RuntimeWarning: invalid value encountered in scalar divide\n",
      "  f1_score = 2 * (precision * recall) / (precision + recall)\n"
     ]
    },
    {
     "name": "stdout",
     "output_type": "stream",
     "text": [
      "Train Epoch: 65\t Learning rate: 0.0000\tLoss: 13.156168\t Accuracy: 89/108 (82%)\n",
      " \n",
      "Confusion Matrix:\n",
      "[[ 0  0]\n",
      " [11 43]]\n",
      "Accuracy: 0.7962962962962963\n",
      "Precision: 0\n",
      "Recall: 0.0\n",
      "F1-Score: nan\n",
      "\n",
      "=========================================================================================\n"
     ]
    },
    {
     "name": "stderr",
     "output_type": "stream",
     "text": [
      "C:\\Users\\meena\\AppData\\Local\\Temp\\ipykernel_7124\\1959198720.py:27: RuntimeWarning: invalid value encountered in scalar divide\n",
      "  f1_score = 2 * (precision * recall) / (precision + recall)\n"
     ]
    },
    {
     "name": "stdout",
     "output_type": "stream",
     "text": [
      "Train Epoch: 66\t Learning rate: 0.0000\tLoss: 13.138695\t Accuracy: 89/108 (82%)\n",
      " \n",
      "Confusion Matrix:\n",
      "[[ 0  0]\n",
      " [11 43]]\n",
      "Accuracy: 0.7962962962962963\n",
      "Precision: 0\n",
      "Recall: 0.0\n",
      "F1-Score: nan\n",
      "\n",
      "=========================================================================================\n"
     ]
    },
    {
     "name": "stderr",
     "output_type": "stream",
     "text": [
      "C:\\Users\\meena\\AppData\\Local\\Temp\\ipykernel_7124\\1959198720.py:27: RuntimeWarning: invalid value encountered in scalar divide\n",
      "  f1_score = 2 * (precision * recall) / (precision + recall)\n"
     ]
    },
    {
     "name": "stdout",
     "output_type": "stream",
     "text": [
      "Train Epoch: 67\t Learning rate: 0.0000\tLoss: 13.151777\t Accuracy: 89/108 (82%)\n",
      " \n",
      "Confusion Matrix:\n",
      "[[ 0  0]\n",
      " [11 43]]\n",
      "Accuracy: 0.7962962962962963\n",
      "Precision: 0\n",
      "Recall: 0.0\n",
      "F1-Score: nan\n",
      "\n",
      "=========================================================================================\n"
     ]
    },
    {
     "name": "stderr",
     "output_type": "stream",
     "text": [
      "C:\\Users\\meena\\AppData\\Local\\Temp\\ipykernel_7124\\1959198720.py:27: RuntimeWarning: invalid value encountered in scalar divide\n",
      "  f1_score = 2 * (precision * recall) / (precision + recall)\n"
     ]
    },
    {
     "name": "stdout",
     "output_type": "stream",
     "text": [
      "Train Epoch: 68\t Learning rate: 0.0000\tLoss: 13.053990\t Accuracy: 89/108 (82%)\n",
      " \n",
      "Confusion Matrix:\n",
      "[[ 0  0]\n",
      " [11 43]]\n",
      "Accuracy: 0.7962962962962963\n",
      "Precision: 0\n",
      "Recall: 0.0\n",
      "F1-Score: nan\n",
      "\n",
      "=========================================================================================\n"
     ]
    },
    {
     "name": "stderr",
     "output_type": "stream",
     "text": [
      "C:\\Users\\meena\\AppData\\Local\\Temp\\ipykernel_7124\\1959198720.py:27: RuntimeWarning: invalid value encountered in scalar divide\n",
      "  f1_score = 2 * (precision * recall) / (precision + recall)\n"
     ]
    },
    {
     "name": "stdout",
     "output_type": "stream",
     "text": [
      "Train Epoch: 69\t Learning rate: 0.0000\tLoss: 13.227029\t Accuracy: 89/108 (82%)\n",
      " \n",
      "Confusion Matrix:\n",
      "[[ 0  0]\n",
      " [11 43]]\n",
      "Accuracy: 0.7962962962962963\n",
      "Precision: 0\n",
      "Recall: 0.0\n",
      "F1-Score: nan\n",
      "\n",
      "=========================================================================================\n"
     ]
    },
    {
     "name": "stderr",
     "output_type": "stream",
     "text": [
      "C:\\Users\\meena\\AppData\\Local\\Temp\\ipykernel_7124\\1959198720.py:27: RuntimeWarning: invalid value encountered in scalar divide\n",
      "  f1_score = 2 * (precision * recall) / (precision + recall)\n"
     ]
    },
    {
     "name": "stdout",
     "output_type": "stream",
     "text": [
      "Train Epoch: 70\t Learning rate: 0.0000\tLoss: 13.048634\t Accuracy: 89/108 (82%)\n",
      " \n",
      "Confusion Matrix:\n",
      "[[ 0  0]\n",
      " [11 43]]\n",
      "Accuracy: 0.7962962962962963\n",
      "Precision: 0\n",
      "Recall: 0.0\n",
      "F1-Score: nan\n",
      "\n",
      "=========================================================================================\n"
     ]
    },
    {
     "name": "stderr",
     "output_type": "stream",
     "text": [
      "C:\\Users\\meena\\AppData\\Local\\Temp\\ipykernel_7124\\1959198720.py:27: RuntimeWarning: invalid value encountered in scalar divide\n",
      "  f1_score = 2 * (precision * recall) / (precision + recall)\n"
     ]
    },
    {
     "name": "stdout",
     "output_type": "stream",
     "text": [
      "Train Epoch: 71\t Learning rate: 0.0000\tLoss: 13.121308\t Accuracy: 89/108 (82%)\n",
      " \n",
      "Confusion Matrix:\n",
      "[[ 0  0]\n",
      " [11 43]]\n",
      "Accuracy: 0.7962962962962963\n",
      "Precision: 0\n",
      "Recall: 0.0\n",
      "F1-Score: nan\n",
      "\n",
      "=========================================================================================\n"
     ]
    },
    {
     "name": "stderr",
     "output_type": "stream",
     "text": [
      "C:\\Users\\meena\\AppData\\Local\\Temp\\ipykernel_7124\\1959198720.py:27: RuntimeWarning: invalid value encountered in scalar divide\n",
      "  f1_score = 2 * (precision * recall) / (precision + recall)\n"
     ]
    },
    {
     "name": "stdout",
     "output_type": "stream",
     "text": [
      "Train Epoch: 72\t Learning rate: 0.0000\tLoss: 13.118470\t Accuracy: 89/108 (82%)\n",
      " \n",
      "Confusion Matrix:\n",
      "[[ 0  0]\n",
      " [11 43]]\n",
      "Accuracy: 0.7962962962962963\n",
      "Precision: 0\n",
      "Recall: 0.0\n",
      "F1-Score: nan\n",
      "\n",
      "=========================================================================================\n"
     ]
    },
    {
     "name": "stderr",
     "output_type": "stream",
     "text": [
      "C:\\Users\\meena\\AppData\\Local\\Temp\\ipykernel_7124\\1959198720.py:27: RuntimeWarning: invalid value encountered in scalar divide\n",
      "  f1_score = 2 * (precision * recall) / (precision + recall)\n"
     ]
    },
    {
     "name": "stdout",
     "output_type": "stream",
     "text": [
      "Train Epoch: 73\t Learning rate: 0.0000\tLoss: 13.064863\t Accuracy: 89/108 (82%)\n",
      " \n",
      "Confusion Matrix:\n",
      "[[ 0  0]\n",
      " [11 43]]\n",
      "Accuracy: 0.7962962962962963\n",
      "Precision: 0\n",
      "Recall: 0.0\n",
      "F1-Score: nan\n",
      "\n",
      "=========================================================================================\n"
     ]
    },
    {
     "name": "stderr",
     "output_type": "stream",
     "text": [
      "C:\\Users\\meena\\AppData\\Local\\Temp\\ipykernel_7124\\1959198720.py:27: RuntimeWarning: invalid value encountered in scalar divide\n",
      "  f1_score = 2 * (precision * recall) / (precision + recall)\n"
     ]
    },
    {
     "name": "stdout",
     "output_type": "stream",
     "text": [
      "Train Epoch: 74\t Learning rate: 0.0000\tLoss: 13.052604\t Accuracy: 89/108 (82%)\n",
      " \n",
      "Confusion Matrix:\n",
      "[[ 0  0]\n",
      " [11 43]]\n",
      "Accuracy: 0.7962962962962963\n",
      "Precision: 0\n",
      "Recall: 0.0\n",
      "F1-Score: nan\n",
      "\n",
      "=========================================================================================\n"
     ]
    },
    {
     "name": "stderr",
     "output_type": "stream",
     "text": [
      "C:\\Users\\meena\\AppData\\Local\\Temp\\ipykernel_7124\\1959198720.py:27: RuntimeWarning: invalid value encountered in scalar divide\n",
      "  f1_score = 2 * (precision * recall) / (precision + recall)\n"
     ]
    },
    {
     "name": "stdout",
     "output_type": "stream",
     "text": [
      "Train Epoch: 75\t Learning rate: 0.0000\tLoss: 13.081827\t Accuracy: 89/108 (82%)\n",
      " \n",
      "Confusion Matrix:\n",
      "[[ 0  0]\n",
      " [11 43]]\n",
      "Accuracy: 0.7962962962962963\n",
      "Precision: 0\n",
      "Recall: 0.0\n",
      "F1-Score: nan\n",
      "\n",
      "=========================================================================================\n"
     ]
    },
    {
     "name": "stderr",
     "output_type": "stream",
     "text": [
      "C:\\Users\\meena\\AppData\\Local\\Temp\\ipykernel_7124\\1959198720.py:27: RuntimeWarning: invalid value encountered in scalar divide\n",
      "  f1_score = 2 * (precision * recall) / (precision + recall)\n"
     ]
    },
    {
     "name": "stdout",
     "output_type": "stream",
     "text": [
      "Train Epoch: 76\t Learning rate: 0.0000\tLoss: 13.181381\t Accuracy: 89/108 (82%)\n",
      " \n",
      "Confusion Matrix:\n",
      "[[ 0  0]\n",
      " [11 43]]\n",
      "Accuracy: 0.7962962962962963\n",
      "Precision: 0\n",
      "Recall: 0.0\n",
      "F1-Score: nan\n",
      "\n",
      "=========================================================================================\n"
     ]
    },
    {
     "name": "stderr",
     "output_type": "stream",
     "text": [
      "C:\\Users\\meena\\AppData\\Local\\Temp\\ipykernel_7124\\1959198720.py:27: RuntimeWarning: invalid value encountered in scalar divide\n",
      "  f1_score = 2 * (precision * recall) / (precision + recall)\n"
     ]
    },
    {
     "name": "stdout",
     "output_type": "stream",
     "text": [
      "Train Epoch: 77\t Learning rate: 0.0000\tLoss: 13.193594\t Accuracy: 89/108 (82%)\n",
      " \n",
      "Confusion Matrix:\n",
      "[[ 0  0]\n",
      " [11 43]]\n",
      "Accuracy: 0.7962962962962963\n",
      "Precision: 0\n",
      "Recall: 0.0\n",
      "F1-Score: nan\n",
      "\n",
      "=========================================================================================\n"
     ]
    },
    {
     "name": "stderr",
     "output_type": "stream",
     "text": [
      "C:\\Users\\meena\\AppData\\Local\\Temp\\ipykernel_7124\\1959198720.py:27: RuntimeWarning: invalid value encountered in scalar divide\n",
      "  f1_score = 2 * (precision * recall) / (precision + recall)\n"
     ]
    },
    {
     "name": "stdout",
     "output_type": "stream",
     "text": [
      "Train Epoch: 78\t Learning rate: 0.0000\tLoss: 13.128326\t Accuracy: 89/108 (82%)\n",
      " \n",
      "Confusion Matrix:\n",
      "[[ 0  0]\n",
      " [11 43]]\n",
      "Accuracy: 0.7962962962962963\n",
      "Precision: 0\n",
      "Recall: 0.0\n",
      "F1-Score: nan\n",
      "\n",
      "=========================================================================================\n"
     ]
    },
    {
     "name": "stderr",
     "output_type": "stream",
     "text": [
      "C:\\Users\\meena\\AppData\\Local\\Temp\\ipykernel_7124\\1959198720.py:27: RuntimeWarning: invalid value encountered in scalar divide\n",
      "  f1_score = 2 * (precision * recall) / (precision + recall)\n"
     ]
    },
    {
     "name": "stdout",
     "output_type": "stream",
     "text": [
      "Train Epoch: 79\t Learning rate: 0.0000\tLoss: 13.098086\t Accuracy: 89/108 (82%)\n",
      " \n",
      "Confusion Matrix:\n",
      "[[ 0  0]\n",
      " [11 43]]\n",
      "Accuracy: 0.7962962962962963\n",
      "Precision: 0\n",
      "Recall: 0.0\n",
      "F1-Score: nan\n",
      "\n",
      "=========================================================================================\n"
     ]
    },
    {
     "name": "stderr",
     "output_type": "stream",
     "text": [
      "C:\\Users\\meena\\AppData\\Local\\Temp\\ipykernel_7124\\1959198720.py:27: RuntimeWarning: invalid value encountered in scalar divide\n",
      "  f1_score = 2 * (precision * recall) / (precision + recall)\n"
     ]
    },
    {
     "name": "stdout",
     "output_type": "stream",
     "text": [
      "Train Epoch: 80\t Learning rate: 0.0000\tLoss: 12.927619\t Accuracy: 89/108 (82%)\n",
      " \n",
      "Confusion Matrix:\n",
      "[[ 0  0]\n",
      " [11 43]]\n",
      "Accuracy: 0.7962962962962963\n",
      "Precision: 0\n",
      "Recall: 0.0\n",
      "F1-Score: nan\n",
      "\n",
      "=========================================================================================\n"
     ]
    },
    {
     "name": "stderr",
     "output_type": "stream",
     "text": [
      "C:\\Users\\meena\\AppData\\Local\\Temp\\ipykernel_7124\\1959198720.py:27: RuntimeWarning: invalid value encountered in scalar divide\n",
      "  f1_score = 2 * (precision * recall) / (precision + recall)\n"
     ]
    },
    {
     "name": "stdout",
     "output_type": "stream",
     "text": [
      "Train Epoch: 81\t Learning rate: 0.0000\tLoss: 13.181391\t Accuracy: 89/108 (82%)\n",
      " \n",
      "Confusion Matrix:\n",
      "[[ 0  0]\n",
      " [11 43]]\n",
      "Accuracy: 0.7962962962962963\n",
      "Precision: 0\n",
      "Recall: 0.0\n",
      "F1-Score: nan\n",
      "\n",
      "=========================================================================================\n"
     ]
    },
    {
     "name": "stderr",
     "output_type": "stream",
     "text": [
      "C:\\Users\\meena\\AppData\\Local\\Temp\\ipykernel_7124\\1959198720.py:27: RuntimeWarning: invalid value encountered in scalar divide\n",
      "  f1_score = 2 * (precision * recall) / (precision + recall)\n"
     ]
    },
    {
     "name": "stdout",
     "output_type": "stream",
     "text": [
      "Train Epoch: 82\t Learning rate: 0.0000\tLoss: 13.058002\t Accuracy: 89/108 (82%)\n",
      " \n",
      "Confusion Matrix:\n",
      "[[ 0  0]\n",
      " [11 43]]\n",
      "Accuracy: 0.7962962962962963\n",
      "Precision: 0\n",
      "Recall: 0.0\n",
      "F1-Score: nan\n",
      "\n",
      "=========================================================================================\n"
     ]
    },
    {
     "name": "stderr",
     "output_type": "stream",
     "text": [
      "C:\\Users\\meena\\AppData\\Local\\Temp\\ipykernel_7124\\1959198720.py:27: RuntimeWarning: invalid value encountered in scalar divide\n",
      "  f1_score = 2 * (precision * recall) / (precision + recall)\n"
     ]
    },
    {
     "name": "stdout",
     "output_type": "stream",
     "text": [
      "Train Epoch: 83\t Learning rate: 0.0000\tLoss: 12.867594\t Accuracy: 89/108 (82%)\n",
      " \n",
      "Confusion Matrix:\n",
      "[[ 0  0]\n",
      " [11 43]]\n",
      "Accuracy: 0.7962962962962963\n",
      "Precision: 0\n",
      "Recall: 0.0\n",
      "F1-Score: nan\n",
      "\n",
      "=========================================================================================\n"
     ]
    },
    {
     "name": "stderr",
     "output_type": "stream",
     "text": [
      "C:\\Users\\meena\\AppData\\Local\\Temp\\ipykernel_7124\\1959198720.py:27: RuntimeWarning: invalid value encountered in scalar divide\n",
      "  f1_score = 2 * (precision * recall) / (precision + recall)\n"
     ]
    },
    {
     "name": "stdout",
     "output_type": "stream",
     "text": [
      "Train Epoch: 84\t Learning rate: 0.0000\tLoss: 12.993006\t Accuracy: 89/108 (82%)\n",
      " \n",
      "Confusion Matrix:\n",
      "[[ 0  0]\n",
      " [11 43]]\n",
      "Accuracy: 0.7962962962962963\n",
      "Precision: 0\n",
      "Recall: 0.0\n",
      "F1-Score: nan\n",
      "\n",
      "=========================================================================================\n"
     ]
    },
    {
     "name": "stderr",
     "output_type": "stream",
     "text": [
      "C:\\Users\\meena\\AppData\\Local\\Temp\\ipykernel_7124\\1959198720.py:27: RuntimeWarning: invalid value encountered in scalar divide\n",
      "  f1_score = 2 * (precision * recall) / (precision + recall)\n"
     ]
    },
    {
     "name": "stdout",
     "output_type": "stream",
     "text": [
      "Train Epoch: 85\t Learning rate: 0.0000\tLoss: 13.056390\t Accuracy: 89/108 (82%)\n",
      " \n",
      "Confusion Matrix:\n",
      "[[ 0  0]\n",
      " [11 43]]\n",
      "Accuracy: 0.7962962962962963\n",
      "Precision: 0\n",
      "Recall: 0.0\n",
      "F1-Score: nan\n",
      "\n",
      "=========================================================================================\n"
     ]
    },
    {
     "name": "stderr",
     "output_type": "stream",
     "text": [
      "C:\\Users\\meena\\AppData\\Local\\Temp\\ipykernel_7124\\1959198720.py:27: RuntimeWarning: invalid value encountered in scalar divide\n",
      "  f1_score = 2 * (precision * recall) / (precision + recall)\n"
     ]
    },
    {
     "name": "stdout",
     "output_type": "stream",
     "text": [
      "Train Epoch: 86\t Learning rate: 0.0000\tLoss: 12.977429\t Accuracy: 89/108 (82%)\n",
      " \n",
      "Confusion Matrix:\n",
      "[[ 0  0]\n",
      " [11 43]]\n",
      "Accuracy: 0.7962962962962963\n",
      "Precision: 0\n",
      "Recall: 0.0\n",
      "F1-Score: nan\n",
      "\n",
      "=========================================================================================\n"
     ]
    },
    {
     "name": "stderr",
     "output_type": "stream",
     "text": [
      "C:\\Users\\meena\\AppData\\Local\\Temp\\ipykernel_7124\\1959198720.py:27: RuntimeWarning: invalid value encountered in scalar divide\n",
      "  f1_score = 2 * (precision * recall) / (precision + recall)\n"
     ]
    },
    {
     "name": "stdout",
     "output_type": "stream",
     "text": [
      "Train Epoch: 87\t Learning rate: 0.0000\tLoss: 13.021913\t Accuracy: 90/108 (83%)\n",
      " \n",
      "Confusion Matrix:\n",
      "[[ 0  0]\n",
      " [11 43]]\n",
      "Accuracy: 0.7962962962962963\n",
      "Precision: 0\n",
      "Recall: 0.0\n",
      "F1-Score: nan\n",
      "\n",
      "=========================================================================================\n"
     ]
    },
    {
     "name": "stderr",
     "output_type": "stream",
     "text": [
      "C:\\Users\\meena\\AppData\\Local\\Temp\\ipykernel_7124\\1959198720.py:27: RuntimeWarning: invalid value encountered in scalar divide\n",
      "  f1_score = 2 * (precision * recall) / (precision + recall)\n"
     ]
    },
    {
     "name": "stdout",
     "output_type": "stream",
     "text": [
      "Train Epoch: 88\t Learning rate: 0.0000\tLoss: 12.935064\t Accuracy: 89/108 (82%)\n",
      " \n",
      "Confusion Matrix:\n",
      "[[ 0  0]\n",
      " [11 43]]\n",
      "Accuracy: 0.7962962962962963\n",
      "Precision: 0\n",
      "Recall: 0.0\n",
      "F1-Score: nan\n",
      "\n",
      "=========================================================================================\n"
     ]
    },
    {
     "name": "stderr",
     "output_type": "stream",
     "text": [
      "C:\\Users\\meena\\AppData\\Local\\Temp\\ipykernel_7124\\1959198720.py:27: RuntimeWarning: invalid value encountered in scalar divide\n",
      "  f1_score = 2 * (precision * recall) / (precision + recall)\n"
     ]
    },
    {
     "name": "stdout",
     "output_type": "stream",
     "text": [
      "Train Epoch: 89\t Learning rate: 0.0000\tLoss: 12.833656\t Accuracy: 90/108 (83%)\n",
      " \n",
      "Confusion Matrix:\n",
      "[[ 0  0]\n",
      " [11 43]]\n",
      "Accuracy: 0.7962962962962963\n",
      "Precision: 0\n",
      "Recall: 0.0\n",
      "F1-Score: nan\n",
      "\n",
      "=========================================================================================\n"
     ]
    },
    {
     "name": "stderr",
     "output_type": "stream",
     "text": [
      "C:\\Users\\meena\\AppData\\Local\\Temp\\ipykernel_7124\\1959198720.py:27: RuntimeWarning: invalid value encountered in scalar divide\n",
      "  f1_score = 2 * (precision * recall) / (precision + recall)\n"
     ]
    },
    {
     "name": "stdout",
     "output_type": "stream",
     "text": [
      "Train Epoch: 90\t Learning rate: 0.0000\tLoss: 12.894099\t Accuracy: 90/108 (83%)\n",
      " \n",
      "Confusion Matrix:\n",
      "[[ 0  0]\n",
      " [11 43]]\n",
      "Accuracy: 0.7962962962962963\n",
      "Precision: 0\n",
      "Recall: 0.0\n",
      "F1-Score: nan\n",
      "\n",
      "=========================================================================================\n"
     ]
    },
    {
     "name": "stderr",
     "output_type": "stream",
     "text": [
      "C:\\Users\\meena\\AppData\\Local\\Temp\\ipykernel_7124\\1959198720.py:27: RuntimeWarning: invalid value encountered in scalar divide\n",
      "  f1_score = 2 * (precision * recall) / (precision + recall)\n"
     ]
    },
    {
     "name": "stdout",
     "output_type": "stream",
     "text": [
      "Train Epoch: 91\t Learning rate: 0.0000\tLoss: 12.885820\t Accuracy: 91/108 (84%)\n",
      " \n",
      "Confusion Matrix:\n",
      "[[ 0  0]\n",
      " [11 43]]\n",
      "Accuracy: 0.7962962962962963\n",
      "Precision: 0\n",
      "Recall: 0.0\n",
      "F1-Score: nan\n",
      "\n",
      "=========================================================================================\n"
     ]
    },
    {
     "name": "stderr",
     "output_type": "stream",
     "text": [
      "C:\\Users\\meena\\AppData\\Local\\Temp\\ipykernel_7124\\1959198720.py:27: RuntimeWarning: invalid value encountered in scalar divide\n",
      "  f1_score = 2 * (precision * recall) / (precision + recall)\n"
     ]
    },
    {
     "name": "stdout",
     "output_type": "stream",
     "text": [
      "Train Epoch: 92\t Learning rate: 0.0000\tLoss: 12.906769\t Accuracy: 90/108 (83%)\n",
      " \n",
      "Confusion Matrix:\n",
      "[[ 0  0]\n",
      " [11 43]]\n",
      "Accuracy: 0.7962962962962963\n",
      "Precision: 0\n",
      "Recall: 0.0\n",
      "F1-Score: nan\n",
      "\n",
      "=========================================================================================\n"
     ]
    },
    {
     "name": "stderr",
     "output_type": "stream",
     "text": [
      "C:\\Users\\meena\\AppData\\Local\\Temp\\ipykernel_7124\\1959198720.py:27: RuntimeWarning: invalid value encountered in scalar divide\n",
      "  f1_score = 2 * (precision * recall) / (precision + recall)\n"
     ]
    },
    {
     "name": "stdout",
     "output_type": "stream",
     "text": [
      "Train Epoch: 93\t Learning rate: 0.0000\tLoss: 12.971357\t Accuracy: 91/108 (84%)\n",
      " \n",
      "Confusion Matrix:\n",
      "[[ 0  0]\n",
      " [11 43]]\n",
      "Accuracy: 0.7962962962962963\n",
      "Precision: 0\n",
      "Recall: 0.0\n",
      "F1-Score: nan\n",
      "\n",
      "=========================================================================================\n"
     ]
    },
    {
     "name": "stderr",
     "output_type": "stream",
     "text": [
      "C:\\Users\\meena\\AppData\\Local\\Temp\\ipykernel_7124\\1959198720.py:27: RuntimeWarning: invalid value encountered in scalar divide\n",
      "  f1_score = 2 * (precision * recall) / (precision + recall)\n"
     ]
    },
    {
     "name": "stdout",
     "output_type": "stream",
     "text": [
      "Train Epoch: 94\t Learning rate: 0.0000\tLoss: 12.886899\t Accuracy: 91/108 (84%)\n",
      " \n",
      "Confusion Matrix:\n",
      "[[ 0  0]\n",
      " [11 43]]\n",
      "Accuracy: 0.7962962962962963\n",
      "Precision: 0\n",
      "Recall: 0.0\n",
      "F1-Score: nan\n",
      "\n",
      "=========================================================================================\n"
     ]
    },
    {
     "name": "stderr",
     "output_type": "stream",
     "text": [
      "C:\\Users\\meena\\AppData\\Local\\Temp\\ipykernel_7124\\1959198720.py:27: RuntimeWarning: invalid value encountered in scalar divide\n",
      "  f1_score = 2 * (precision * recall) / (precision + recall)\n"
     ]
    },
    {
     "name": "stdout",
     "output_type": "stream",
     "text": [
      "Train Epoch: 95\t Learning rate: 0.0000\tLoss: 12.830847\t Accuracy: 91/108 (84%)\n",
      " \n",
      "Confusion Matrix:\n",
      "[[ 0  0]\n",
      " [11 43]]\n",
      "Accuracy: 0.7962962962962963\n",
      "Precision: 0\n",
      "Recall: 0.0\n",
      "F1-Score: nan\n",
      "\n",
      "=========================================================================================\n"
     ]
    },
    {
     "name": "stderr",
     "output_type": "stream",
     "text": [
      "C:\\Users\\meena\\AppData\\Local\\Temp\\ipykernel_7124\\1959198720.py:27: RuntimeWarning: invalid value encountered in scalar divide\n",
      "  f1_score = 2 * (precision * recall) / (precision + recall)\n"
     ]
    },
    {
     "name": "stdout",
     "output_type": "stream",
     "text": [
      "Train Epoch: 96\t Learning rate: 0.0000\tLoss: 12.906229\t Accuracy: 90/108 (83%)\n",
      " \n",
      "Confusion Matrix:\n",
      "[[ 0  0]\n",
      " [11 43]]\n",
      "Accuracy: 0.7962962962962963\n",
      "Precision: 0\n",
      "Recall: 0.0\n",
      "F1-Score: nan\n",
      "\n",
      "=========================================================================================\n"
     ]
    },
    {
     "name": "stderr",
     "output_type": "stream",
     "text": [
      "C:\\Users\\meena\\AppData\\Local\\Temp\\ipykernel_7124\\1959198720.py:27: RuntimeWarning: invalid value encountered in scalar divide\n",
      "  f1_score = 2 * (precision * recall) / (precision + recall)\n"
     ]
    },
    {
     "name": "stdout",
     "output_type": "stream",
     "text": [
      "Train Epoch: 97\t Learning rate: 0.0000\tLoss: 12.815044\t Accuracy: 89/108 (82%)\n",
      " \n",
      "Confusion Matrix:\n",
      "[[ 0  0]\n",
      " [11 43]]\n",
      "Accuracy: 0.7962962962962963\n",
      "Precision: 0\n",
      "Recall: 0.0\n",
      "F1-Score: nan\n",
      "\n",
      "=========================================================================================\n"
     ]
    },
    {
     "name": "stderr",
     "output_type": "stream",
     "text": [
      "C:\\Users\\meena\\AppData\\Local\\Temp\\ipykernel_7124\\1959198720.py:27: RuntimeWarning: invalid value encountered in scalar divide\n",
      "  f1_score = 2 * (precision * recall) / (precision + recall)\n"
     ]
    },
    {
     "name": "stdout",
     "output_type": "stream",
     "text": [
      "Train Epoch: 98\t Learning rate: 0.0000\tLoss: 12.834690\t Accuracy: 91/108 (84%)\n",
      " \n",
      "Confusion Matrix:\n",
      "[[ 0  0]\n",
      " [11 43]]\n",
      "Accuracy: 0.7962962962962963\n",
      "Precision: 0\n",
      "Recall: 0.0\n",
      "F1-Score: nan\n",
      "\n",
      "=========================================================================================\n"
     ]
    },
    {
     "name": "stderr",
     "output_type": "stream",
     "text": [
      "C:\\Users\\meena\\AppData\\Local\\Temp\\ipykernel_7124\\1959198720.py:27: RuntimeWarning: invalid value encountered in scalar divide\n",
      "  f1_score = 2 * (precision * recall) / (precision + recall)\n"
     ]
    },
    {
     "name": "stdout",
     "output_type": "stream",
     "text": [
      "Train Epoch: 99\t Learning rate: 0.0000\tLoss: 12.857922\t Accuracy: 91/108 (84%)\n",
      " \n",
      "Confusion Matrix:\n",
      "[[ 0  0]\n",
      " [11 43]]\n",
      "Accuracy: 0.7962962962962963\n",
      "Precision: 0\n",
      "Recall: 0.0\n",
      "F1-Score: nan\n",
      "\n",
      "=========================================================================================\n"
     ]
    },
    {
     "name": "stderr",
     "output_type": "stream",
     "text": [
      "C:\\Users\\meena\\AppData\\Local\\Temp\\ipykernel_7124\\1959198720.py:27: RuntimeWarning: invalid value encountered in scalar divide\n",
      "  f1_score = 2 * (precision * recall) / (precision + recall)\n"
     ]
    },
    {
     "name": "stdout",
     "output_type": "stream",
     "text": [
      "Train Epoch: 100\t Learning rate: 0.0000\tLoss: 12.892227\t Accuracy: 91/108 (84%)\n",
      " \n",
      "Confusion Matrix:\n",
      "[[ 0  0]\n",
      " [11 43]]\n",
      "Accuracy: 0.7962962962962963\n",
      "Precision: 0\n",
      "Recall: 0.0\n",
      "F1-Score: nan\n",
      "\n",
      "=========================================================================================\n"
     ]
    },
    {
     "name": "stderr",
     "output_type": "stream",
     "text": [
      "C:\\Users\\meena\\AppData\\Local\\Temp\\ipykernel_7124\\1959198720.py:27: RuntimeWarning: invalid value encountered in scalar divide\n",
      "  f1_score = 2 * (precision * recall) / (precision + recall)\n"
     ]
    },
    {
     "name": "stdout",
     "output_type": "stream",
     "text": [
      "Train Epoch: 101\t Learning rate: 0.0000\tLoss: 12.909062\t Accuracy: 91/108 (84%)\n",
      " \n",
      "Confusion Matrix:\n",
      "[[ 0  0]\n",
      " [11 43]]\n",
      "Accuracy: 0.7962962962962963\n",
      "Precision: 0\n",
      "Recall: 0.0\n",
      "F1-Score: nan\n",
      "\n",
      "=========================================================================================\n"
     ]
    },
    {
     "name": "stderr",
     "output_type": "stream",
     "text": [
      "C:\\Users\\meena\\AppData\\Local\\Temp\\ipykernel_7124\\1959198720.py:27: RuntimeWarning: invalid value encountered in scalar divide\n",
      "  f1_score = 2 * (precision * recall) / (precision + recall)\n"
     ]
    },
    {
     "name": "stdout",
     "output_type": "stream",
     "text": [
      "Train Epoch: 102\t Learning rate: 0.0000\tLoss: 12.923493\t Accuracy: 91/108 (84%)\n",
      " \n",
      "Confusion Matrix:\n",
      "[[ 0  0]\n",
      " [11 43]]\n",
      "Accuracy: 0.7962962962962963\n",
      "Precision: 0\n",
      "Recall: 0.0\n",
      "F1-Score: nan\n",
      "\n",
      "=========================================================================================\n"
     ]
    },
    {
     "name": "stderr",
     "output_type": "stream",
     "text": [
      "C:\\Users\\meena\\AppData\\Local\\Temp\\ipykernel_7124\\1959198720.py:27: RuntimeWarning: invalid value encountered in scalar divide\n",
      "  f1_score = 2 * (precision * recall) / (precision + recall)\n"
     ]
    },
    {
     "name": "stdout",
     "output_type": "stream",
     "text": [
      "Train Epoch: 103\t Learning rate: 0.0000\tLoss: 12.861508\t Accuracy: 91/108 (84%)\n",
      " \n",
      "Confusion Matrix:\n",
      "[[ 0  0]\n",
      " [11 43]]\n",
      "Accuracy: 0.7962962962962963\n",
      "Precision: 0\n",
      "Recall: 0.0\n",
      "F1-Score: nan\n",
      "\n",
      "=========================================================================================\n"
     ]
    },
    {
     "name": "stderr",
     "output_type": "stream",
     "text": [
      "C:\\Users\\meena\\AppData\\Local\\Temp\\ipykernel_7124\\1959198720.py:27: RuntimeWarning: invalid value encountered in scalar divide\n",
      "  f1_score = 2 * (precision * recall) / (precision + recall)\n"
     ]
    },
    {
     "name": "stdout",
     "output_type": "stream",
     "text": [
      "Train Epoch: 104\t Learning rate: 0.0000\tLoss: 12.798128\t Accuracy: 91/108 (84%)\n",
      " \n",
      "Confusion Matrix:\n",
      "[[ 0  0]\n",
      " [11 43]]\n",
      "Accuracy: 0.7962962962962963\n",
      "Precision: 0\n",
      "Recall: 0.0\n",
      "F1-Score: nan\n",
      "\n",
      "=========================================================================================\n"
     ]
    },
    {
     "name": "stderr",
     "output_type": "stream",
     "text": [
      "C:\\Users\\meena\\AppData\\Local\\Temp\\ipykernel_7124\\1959198720.py:27: RuntimeWarning: invalid value encountered in scalar divide\n",
      "  f1_score = 2 * (precision * recall) / (precision + recall)\n"
     ]
    },
    {
     "name": "stdout",
     "output_type": "stream",
     "text": [
      "Train Epoch: 105\t Learning rate: 0.0000\tLoss: 12.878190\t Accuracy: 91/108 (84%)\n",
      " \n",
      "Confusion Matrix:\n",
      "[[ 0  0]\n",
      " [11 43]]\n",
      "Accuracy: 0.7962962962962963\n",
      "Precision: 0\n",
      "Recall: 0.0\n",
      "F1-Score: nan\n",
      "\n",
      "=========================================================================================\n"
     ]
    },
    {
     "name": "stderr",
     "output_type": "stream",
     "text": [
      "C:\\Users\\meena\\AppData\\Local\\Temp\\ipykernel_7124\\1959198720.py:27: RuntimeWarning: invalid value encountered in scalar divide\n",
      "  f1_score = 2 * (precision * recall) / (precision + recall)\n"
     ]
    },
    {
     "name": "stdout",
     "output_type": "stream",
     "text": [
      "Train Epoch: 106\t Learning rate: 0.0000\tLoss: 12.782450\t Accuracy: 91/108 (84%)\n",
      " \n",
      "Confusion Matrix:\n",
      "[[ 0  0]\n",
      " [11 43]]\n",
      "Accuracy: 0.7962962962962963\n",
      "Precision: 0\n",
      "Recall: 0.0\n",
      "F1-Score: nan\n",
      "\n",
      "=========================================================================================\n"
     ]
    },
    {
     "name": "stderr",
     "output_type": "stream",
     "text": [
      "C:\\Users\\meena\\AppData\\Local\\Temp\\ipykernel_7124\\1959198720.py:27: RuntimeWarning: invalid value encountered in scalar divide\n",
      "  f1_score = 2 * (precision * recall) / (precision + recall)\n"
     ]
    },
    {
     "name": "stdout",
     "output_type": "stream",
     "text": [
      "Train Epoch: 107\t Learning rate: 0.0000\tLoss: 12.820408\t Accuracy: 91/108 (84%)\n",
      " \n",
      "Confusion Matrix:\n",
      "[[ 0  0]\n",
      " [11 43]]\n",
      "Accuracy: 0.7962962962962963\n",
      "Precision: 0\n",
      "Recall: 0.0\n",
      "F1-Score: nan\n",
      "\n",
      "=========================================================================================\n"
     ]
    },
    {
     "name": "stderr",
     "output_type": "stream",
     "text": [
      "C:\\Users\\meena\\AppData\\Local\\Temp\\ipykernel_7124\\1959198720.py:27: RuntimeWarning: invalid value encountered in scalar divide\n",
      "  f1_score = 2 * (precision * recall) / (precision + recall)\n"
     ]
    },
    {
     "name": "stdout",
     "output_type": "stream",
     "text": [
      "Train Epoch: 108\t Learning rate: 0.0000\tLoss: 12.780162\t Accuracy: 91/108 (84%)\n",
      " \n",
      "Confusion Matrix:\n",
      "[[ 0  0]\n",
      " [11 43]]\n",
      "Accuracy: 0.7962962962962963\n",
      "Precision: 0\n",
      "Recall: 0.0\n",
      "F1-Score: nan\n",
      "\n",
      "=========================================================================================\n"
     ]
    },
    {
     "name": "stderr",
     "output_type": "stream",
     "text": [
      "C:\\Users\\meena\\AppData\\Local\\Temp\\ipykernel_7124\\1959198720.py:27: RuntimeWarning: invalid value encountered in scalar divide\n",
      "  f1_score = 2 * (precision * recall) / (precision + recall)\n"
     ]
    },
    {
     "name": "stdout",
     "output_type": "stream",
     "text": [
      "Train Epoch: 109\t Learning rate: 0.0000\tLoss: 12.847894\t Accuracy: 91/108 (84%)\n",
      " \n",
      "Confusion Matrix:\n",
      "[[ 0  0]\n",
      " [11 43]]\n",
      "Accuracy: 0.7962962962962963\n",
      "Precision: 0\n",
      "Recall: 0.0\n",
      "F1-Score: nan\n",
      "\n",
      "=========================================================================================\n"
     ]
    },
    {
     "name": "stderr",
     "output_type": "stream",
     "text": [
      "C:\\Users\\meena\\AppData\\Local\\Temp\\ipykernel_7124\\1959198720.py:27: RuntimeWarning: invalid value encountered in scalar divide\n",
      "  f1_score = 2 * (precision * recall) / (precision + recall)\n"
     ]
    },
    {
     "name": "stdout",
     "output_type": "stream",
     "text": [
      "Train Epoch: 110\t Learning rate: 0.0000\tLoss: 12.899588\t Accuracy: 91/108 (84%)\n",
      " \n",
      "Confusion Matrix:\n",
      "[[ 0  0]\n",
      " [11 43]]\n",
      "Accuracy: 0.7962962962962963\n",
      "Precision: 0\n",
      "Recall: 0.0\n",
      "F1-Score: nan\n",
      "\n",
      "=========================================================================================\n"
     ]
    },
    {
     "name": "stderr",
     "output_type": "stream",
     "text": [
      "C:\\Users\\meena\\AppData\\Local\\Temp\\ipykernel_7124\\1959198720.py:27: RuntimeWarning: invalid value encountered in scalar divide\n",
      "  f1_score = 2 * (precision * recall) / (precision + recall)\n"
     ]
    },
    {
     "name": "stdout",
     "output_type": "stream",
     "text": [
      "Train Epoch: 111\t Learning rate: 0.0000\tLoss: 12.836647\t Accuracy: 91/108 (84%)\n",
      " \n",
      "Confusion Matrix:\n",
      "[[ 0  0]\n",
      " [11 43]]\n",
      "Accuracy: 0.7962962962962963\n",
      "Precision: 0\n",
      "Recall: 0.0\n",
      "F1-Score: nan\n",
      "\n",
      "=========================================================================================\n"
     ]
    },
    {
     "name": "stderr",
     "output_type": "stream",
     "text": [
      "C:\\Users\\meena\\AppData\\Local\\Temp\\ipykernel_7124\\1959198720.py:27: RuntimeWarning: invalid value encountered in scalar divide\n",
      "  f1_score = 2 * (precision * recall) / (precision + recall)\n"
     ]
    },
    {
     "name": "stdout",
     "output_type": "stream",
     "text": [
      "Train Epoch: 112\t Learning rate: 0.0000\tLoss: 12.842697\t Accuracy: 91/108 (84%)\n",
      " \n",
      "Confusion Matrix:\n",
      "[[ 0  0]\n",
      " [11 43]]\n",
      "Accuracy: 0.7962962962962963\n",
      "Precision: 0\n",
      "Recall: 0.0\n",
      "F1-Score: nan\n",
      "\n",
      "=========================================================================================\n"
     ]
    },
    {
     "name": "stderr",
     "output_type": "stream",
     "text": [
      "C:\\Users\\meena\\AppData\\Local\\Temp\\ipykernel_7124\\1959198720.py:27: RuntimeWarning: invalid value encountered in scalar divide\n",
      "  f1_score = 2 * (precision * recall) / (precision + recall)\n"
     ]
    },
    {
     "name": "stdout",
     "output_type": "stream",
     "text": [
      "Train Epoch: 113\t Learning rate: 0.0000\tLoss: 12.793710\t Accuracy: 91/108 (84%)\n",
      " \n",
      "Confusion Matrix:\n",
      "[[ 0  0]\n",
      " [11 43]]\n",
      "Accuracy: 0.7962962962962963\n",
      "Precision: 0\n",
      "Recall: 0.0\n",
      "F1-Score: nan\n",
      "\n",
      "=========================================================================================\n"
     ]
    },
    {
     "name": "stderr",
     "output_type": "stream",
     "text": [
      "C:\\Users\\meena\\AppData\\Local\\Temp\\ipykernel_7124\\1959198720.py:27: RuntimeWarning: invalid value encountered in scalar divide\n",
      "  f1_score = 2 * (precision * recall) / (precision + recall)\n"
     ]
    },
    {
     "name": "stdout",
     "output_type": "stream",
     "text": [
      "Train Epoch: 114\t Learning rate: 0.0000\tLoss: 12.804715\t Accuracy: 91/108 (84%)\n",
      " \n",
      "Confusion Matrix:\n",
      "[[ 0  0]\n",
      " [11 43]]\n",
      "Accuracy: 0.7962962962962963\n",
      "Precision: 0\n",
      "Recall: 0.0\n",
      "F1-Score: nan\n",
      "\n",
      "=========================================================================================\n"
     ]
    },
    {
     "name": "stderr",
     "output_type": "stream",
     "text": [
      "C:\\Users\\meena\\AppData\\Local\\Temp\\ipykernel_7124\\1959198720.py:27: RuntimeWarning: invalid value encountered in scalar divide\n",
      "  f1_score = 2 * (precision * recall) / (precision + recall)\n"
     ]
    },
    {
     "name": "stdout",
     "output_type": "stream",
     "text": [
      "Train Epoch: 115\t Learning rate: 0.0000\tLoss: 12.762704\t Accuracy: 91/108 (84%)\n",
      " \n",
      "Confusion Matrix:\n",
      "[[ 0  0]\n",
      " [11 43]]\n",
      "Accuracy: 0.7962962962962963\n",
      "Precision: 0\n",
      "Recall: 0.0\n",
      "F1-Score: nan\n",
      "\n",
      "=========================================================================================\n"
     ]
    },
    {
     "name": "stderr",
     "output_type": "stream",
     "text": [
      "C:\\Users\\meena\\AppData\\Local\\Temp\\ipykernel_7124\\1959198720.py:27: RuntimeWarning: invalid value encountered in scalar divide\n",
      "  f1_score = 2 * (precision * recall) / (precision + recall)\n"
     ]
    },
    {
     "name": "stdout",
     "output_type": "stream",
     "text": [
      "Train Epoch: 116\t Learning rate: 0.0000\tLoss: 12.825637\t Accuracy: 91/108 (84%)\n",
      " \n",
      "Confusion Matrix:\n",
      "[[ 0  0]\n",
      " [11 43]]\n",
      "Accuracy: 0.7962962962962963\n",
      "Precision: 0\n",
      "Recall: 0.0\n",
      "F1-Score: nan\n",
      "\n",
      "=========================================================================================\n"
     ]
    },
    {
     "name": "stderr",
     "output_type": "stream",
     "text": [
      "C:\\Users\\meena\\AppData\\Local\\Temp\\ipykernel_7124\\1959198720.py:27: RuntimeWarning: invalid value encountered in scalar divide\n",
      "  f1_score = 2 * (precision * recall) / (precision + recall)\n"
     ]
    },
    {
     "name": "stdout",
     "output_type": "stream",
     "text": [
      "Train Epoch: 117\t Learning rate: 0.0000\tLoss: 12.783948\t Accuracy: 91/108 (84%)\n",
      " \n",
      "Confusion Matrix:\n",
      "[[ 0  0]\n",
      " [11 43]]\n",
      "Accuracy: 0.7962962962962963\n",
      "Precision: 0\n",
      "Recall: 0.0\n",
      "F1-Score: nan\n",
      "\n",
      "=========================================================================================\n"
     ]
    },
    {
     "name": "stderr",
     "output_type": "stream",
     "text": [
      "C:\\Users\\meena\\AppData\\Local\\Temp\\ipykernel_7124\\1959198720.py:27: RuntimeWarning: invalid value encountered in scalar divide\n",
      "  f1_score = 2 * (precision * recall) / (precision + recall)\n"
     ]
    },
    {
     "name": "stdout",
     "output_type": "stream",
     "text": [
      "Train Epoch: 118\t Learning rate: 0.0000\tLoss: 12.802207\t Accuracy: 91/108 (84%)\n",
      " \n",
      "Confusion Matrix:\n",
      "[[ 0  0]\n",
      " [11 43]]\n",
      "Accuracy: 0.7962962962962963\n",
      "Precision: 0\n",
      "Recall: 0.0\n",
      "F1-Score: nan\n",
      "\n",
      "=========================================================================================\n"
     ]
    },
    {
     "name": "stderr",
     "output_type": "stream",
     "text": [
      "C:\\Users\\meena\\AppData\\Local\\Temp\\ipykernel_7124\\1959198720.py:27: RuntimeWarning: invalid value encountered in scalar divide\n",
      "  f1_score = 2 * (precision * recall) / (precision + recall)\n"
     ]
    },
    {
     "name": "stdout",
     "output_type": "stream",
     "text": [
      "Train Epoch: 119\t Learning rate: 0.0000\tLoss: 12.816626\t Accuracy: 91/108 (84%)\n",
      " \n",
      "Confusion Matrix:\n",
      "[[ 0  0]\n",
      " [11 43]]\n",
      "Accuracy: 0.7962962962962963\n",
      "Precision: 0\n",
      "Recall: 0.0\n",
      "F1-Score: nan\n",
      "\n",
      "=========================================================================================\n"
     ]
    },
    {
     "name": "stderr",
     "output_type": "stream",
     "text": [
      "C:\\Users\\meena\\AppData\\Local\\Temp\\ipykernel_7124\\1959198720.py:27: RuntimeWarning: invalid value encountered in scalar divide\n",
      "  f1_score = 2 * (precision * recall) / (precision + recall)\n"
     ]
    },
    {
     "name": "stdout",
     "output_type": "stream",
     "text": [
      "Train Epoch: 120\t Learning rate: 0.0000\tLoss: 12.715005\t Accuracy: 91/108 (84%)\n",
      " \n",
      "Confusion Matrix:\n",
      "[[ 0  0]\n",
      " [11 43]]\n",
      "Accuracy: 0.7962962962962963\n",
      "Precision: 0\n",
      "Recall: 0.0\n",
      "F1-Score: nan\n",
      "\n",
      "=========================================================================================\n"
     ]
    },
    {
     "name": "stderr",
     "output_type": "stream",
     "text": [
      "C:\\Users\\meena\\AppData\\Local\\Temp\\ipykernel_7124\\1959198720.py:27: RuntimeWarning: invalid value encountered in scalar divide\n",
      "  f1_score = 2 * (precision * recall) / (precision + recall)\n"
     ]
    },
    {
     "name": "stdout",
     "output_type": "stream",
     "text": [
      "Train Epoch: 121\t Learning rate: 0.0000\tLoss: 12.733957\t Accuracy: 91/108 (84%)\n",
      " \n",
      "Confusion Matrix:\n",
      "[[ 0  0]\n",
      " [11 43]]\n",
      "Accuracy: 0.7962962962962963\n",
      "Precision: 0\n",
      "Recall: 0.0\n",
      "F1-Score: nan\n",
      "\n",
      "=========================================================================================\n"
     ]
    },
    {
     "name": "stderr",
     "output_type": "stream",
     "text": [
      "C:\\Users\\meena\\AppData\\Local\\Temp\\ipykernel_7124\\1959198720.py:27: RuntimeWarning: invalid value encountered in scalar divide\n",
      "  f1_score = 2 * (precision * recall) / (precision + recall)\n"
     ]
    },
    {
     "name": "stdout",
     "output_type": "stream",
     "text": [
      "Train Epoch: 122\t Learning rate: 0.0000\tLoss: 12.653445\t Accuracy: 91/108 (84%)\n",
      " \n",
      "Confusion Matrix:\n",
      "[[ 0  0]\n",
      " [11 43]]\n",
      "Accuracy: 0.7962962962962963\n",
      "Precision: 0\n",
      "Recall: 0.0\n",
      "F1-Score: nan\n",
      "\n",
      "=========================================================================================\n"
     ]
    },
    {
     "name": "stderr",
     "output_type": "stream",
     "text": [
      "C:\\Users\\meena\\AppData\\Local\\Temp\\ipykernel_7124\\1959198720.py:27: RuntimeWarning: invalid value encountered in scalar divide\n",
      "  f1_score = 2 * (precision * recall) / (precision + recall)\n"
     ]
    },
    {
     "name": "stdout",
     "output_type": "stream",
     "text": [
      "Train Epoch: 123\t Learning rate: 0.0000\tLoss: 12.711489\t Accuracy: 91/108 (84%)\n",
      " \n",
      "Confusion Matrix:\n",
      "[[ 0  0]\n",
      " [11 43]]\n",
      "Accuracy: 0.7962962962962963\n",
      "Precision: 0\n",
      "Recall: 0.0\n",
      "F1-Score: nan\n",
      "\n",
      "=========================================================================================\n"
     ]
    },
    {
     "name": "stderr",
     "output_type": "stream",
     "text": [
      "C:\\Users\\meena\\AppData\\Local\\Temp\\ipykernel_7124\\1959198720.py:27: RuntimeWarning: invalid value encountered in scalar divide\n",
      "  f1_score = 2 * (precision * recall) / (precision + recall)\n"
     ]
    },
    {
     "name": "stdout",
     "output_type": "stream",
     "text": [
      "Train Epoch: 124\t Learning rate: 0.0000\tLoss: 12.660664\t Accuracy: 91/108 (84%)\n",
      " \n",
      "Confusion Matrix:\n",
      "[[ 0  0]\n",
      " [11 43]]\n",
      "Accuracy: 0.7962962962962963\n",
      "Precision: 0\n",
      "Recall: 0.0\n",
      "F1-Score: nan\n",
      "\n",
      "=========================================================================================\n"
     ]
    },
    {
     "name": "stderr",
     "output_type": "stream",
     "text": [
      "C:\\Users\\meena\\AppData\\Local\\Temp\\ipykernel_7124\\1959198720.py:27: RuntimeWarning: invalid value encountered in scalar divide\n",
      "  f1_score = 2 * (precision * recall) / (precision + recall)\n"
     ]
    },
    {
     "name": "stdout",
     "output_type": "stream",
     "text": [
      "Train Epoch: 125\t Learning rate: 0.0000\tLoss: 12.545993\t Accuracy: 91/108 (84%)\n",
      " \n",
      "Confusion Matrix:\n",
      "[[ 0  0]\n",
      " [11 43]]\n",
      "Accuracy: 0.7962962962962963\n",
      "Precision: 0\n",
      "Recall: 0.0\n",
      "F1-Score: nan\n",
      "\n",
      "=========================================================================================\n"
     ]
    },
    {
     "name": "stderr",
     "output_type": "stream",
     "text": [
      "C:\\Users\\meena\\AppData\\Local\\Temp\\ipykernel_7124\\1959198720.py:27: RuntimeWarning: invalid value encountered in scalar divide\n",
      "  f1_score = 2 * (precision * recall) / (precision + recall)\n"
     ]
    },
    {
     "name": "stdout",
     "output_type": "stream",
     "text": [
      "Train Epoch: 126\t Learning rate: 0.0000\tLoss: 12.746583\t Accuracy: 91/108 (84%)\n",
      " \n",
      "Confusion Matrix:\n",
      "[[ 0  0]\n",
      " [11 43]]\n",
      "Accuracy: 0.7962962962962963\n",
      "Precision: 0\n",
      "Recall: 0.0\n",
      "F1-Score: nan\n",
      "\n",
      "=========================================================================================\n"
     ]
    },
    {
     "name": "stderr",
     "output_type": "stream",
     "text": [
      "C:\\Users\\meena\\AppData\\Local\\Temp\\ipykernel_7124\\1959198720.py:27: RuntimeWarning: invalid value encountered in scalar divide\n",
      "  f1_score = 2 * (precision * recall) / (precision + recall)\n"
     ]
    },
    {
     "name": "stdout",
     "output_type": "stream",
     "text": [
      "Train Epoch: 127\t Learning rate: 0.0000\tLoss: 12.726270\t Accuracy: 91/108 (84%)\n",
      " \n",
      "Confusion Matrix:\n",
      "[[ 0  0]\n",
      " [11 43]]\n",
      "Accuracy: 0.7962962962962963\n",
      "Precision: 0\n",
      "Recall: 0.0\n",
      "F1-Score: nan\n",
      "\n",
      "=========================================================================================\n"
     ]
    },
    {
     "name": "stderr",
     "output_type": "stream",
     "text": [
      "C:\\Users\\meena\\AppData\\Local\\Temp\\ipykernel_7124\\1959198720.py:27: RuntimeWarning: invalid value encountered in scalar divide\n",
      "  f1_score = 2 * (precision * recall) / (precision + recall)\n"
     ]
    },
    {
     "name": "stdout",
     "output_type": "stream",
     "text": [
      "Train Epoch: 128\t Learning rate: 0.0000\tLoss: 12.578044\t Accuracy: 91/108 (84%)\n",
      " \n",
      "Confusion Matrix:\n",
      "[[ 0  0]\n",
      " [11 43]]\n",
      "Accuracy: 0.7962962962962963\n",
      "Precision: 0\n",
      "Recall: 0.0\n",
      "F1-Score: nan\n",
      "\n",
      "=========================================================================================\n"
     ]
    },
    {
     "name": "stderr",
     "output_type": "stream",
     "text": [
      "C:\\Users\\meena\\AppData\\Local\\Temp\\ipykernel_7124\\1959198720.py:27: RuntimeWarning: invalid value encountered in scalar divide\n",
      "  f1_score = 2 * (precision * recall) / (precision + recall)\n"
     ]
    },
    {
     "name": "stdout",
     "output_type": "stream",
     "text": [
      "Train Epoch: 129\t Learning rate: 0.0000\tLoss: 12.674235\t Accuracy: 91/108 (84%)\n",
      " \n",
      "Confusion Matrix:\n",
      "[[ 0  0]\n",
      " [11 43]]\n",
      "Accuracy: 0.7962962962962963\n",
      "Precision: 0\n",
      "Recall: 0.0\n",
      "F1-Score: nan\n",
      "\n",
      "=========================================================================================\n"
     ]
    },
    {
     "name": "stderr",
     "output_type": "stream",
     "text": [
      "C:\\Users\\meena\\AppData\\Local\\Temp\\ipykernel_7124\\1959198720.py:27: RuntimeWarning: invalid value encountered in scalar divide\n",
      "  f1_score = 2 * (precision * recall) / (precision + recall)\n"
     ]
    },
    {
     "name": "stdout",
     "output_type": "stream",
     "text": [
      "Train Epoch: 130\t Learning rate: 0.0000\tLoss: 12.565161\t Accuracy: 91/108 (84%)\n",
      " \n",
      "Confusion Matrix:\n",
      "[[ 0  0]\n",
      " [11 43]]\n",
      "Accuracy: 0.7962962962962963\n",
      "Precision: 0\n",
      "Recall: 0.0\n",
      "F1-Score: nan\n",
      "\n",
      "=========================================================================================\n"
     ]
    },
    {
     "name": "stderr",
     "output_type": "stream",
     "text": [
      "C:\\Users\\meena\\AppData\\Local\\Temp\\ipykernel_7124\\1959198720.py:27: RuntimeWarning: invalid value encountered in scalar divide\n",
      "  f1_score = 2 * (precision * recall) / (precision + recall)\n"
     ]
    },
    {
     "name": "stdout",
     "output_type": "stream",
     "text": [
      "Train Epoch: 131\t Learning rate: 0.0000\tLoss: 12.614944\t Accuracy: 92/108 (85%)\n",
      " \n",
      "Confusion Matrix:\n",
      "[[ 0  0]\n",
      " [11 43]]\n",
      "Accuracy: 0.7962962962962963\n",
      "Precision: 0\n",
      "Recall: 0.0\n",
      "F1-Score: nan\n",
      "\n",
      "=========================================================================================\n"
     ]
    },
    {
     "name": "stderr",
     "output_type": "stream",
     "text": [
      "C:\\Users\\meena\\AppData\\Local\\Temp\\ipykernel_7124\\1959198720.py:27: RuntimeWarning: invalid value encountered in scalar divide\n",
      "  f1_score = 2 * (precision * recall) / (precision + recall)\n"
     ]
    },
    {
     "name": "stdout",
     "output_type": "stream",
     "text": [
      "Train Epoch: 132\t Learning rate: 0.0000\tLoss: 12.710259\t Accuracy: 91/108 (84%)\n",
      " \n",
      "Confusion Matrix:\n",
      "[[ 0  0]\n",
      " [11 43]]\n",
      "Accuracy: 0.7962962962962963\n",
      "Precision: 0\n",
      "Recall: 0.0\n",
      "F1-Score: nan\n",
      "\n",
      "=========================================================================================\n"
     ]
    },
    {
     "name": "stderr",
     "output_type": "stream",
     "text": [
      "C:\\Users\\meena\\AppData\\Local\\Temp\\ipykernel_7124\\1959198720.py:27: RuntimeWarning: invalid value encountered in scalar divide\n",
      "  f1_score = 2 * (precision * recall) / (precision + recall)\n"
     ]
    },
    {
     "name": "stdout",
     "output_type": "stream",
     "text": [
      "Train Epoch: 133\t Learning rate: 0.0000\tLoss: 12.688835\t Accuracy: 91/108 (84%)\n",
      " \n",
      "Confusion Matrix:\n",
      "[[ 0  0]\n",
      " [11 43]]\n",
      "Accuracy: 0.7962962962962963\n",
      "Precision: 0\n",
      "Recall: 0.0\n",
      "F1-Score: nan\n",
      "\n",
      "=========================================================================================\n"
     ]
    },
    {
     "name": "stderr",
     "output_type": "stream",
     "text": [
      "C:\\Users\\meena\\AppData\\Local\\Temp\\ipykernel_7124\\1959198720.py:27: RuntimeWarning: invalid value encountered in scalar divide\n",
      "  f1_score = 2 * (precision * recall) / (precision + recall)\n"
     ]
    },
    {
     "name": "stdout",
     "output_type": "stream",
     "text": [
      "Train Epoch: 134\t Learning rate: 0.0000\tLoss: 12.485910\t Accuracy: 93/108 (86%)\n",
      " \n",
      "Confusion Matrix:\n",
      "[[ 0  0]\n",
      " [11 43]]\n",
      "Accuracy: 0.7962962962962963\n",
      "Precision: 0\n",
      "Recall: 0.0\n",
      "F1-Score: nan\n",
      "\n",
      "=========================================================================================\n"
     ]
    },
    {
     "name": "stderr",
     "output_type": "stream",
     "text": [
      "C:\\Users\\meena\\AppData\\Local\\Temp\\ipykernel_7124\\1959198720.py:27: RuntimeWarning: invalid value encountered in scalar divide\n",
      "  f1_score = 2 * (precision * recall) / (precision + recall)\n"
     ]
    },
    {
     "name": "stdout",
     "output_type": "stream",
     "text": [
      "Train Epoch: 135\t Learning rate: 0.0000\tLoss: 12.495263\t Accuracy: 92/108 (85%)\n",
      " \n",
      "Confusion Matrix:\n",
      "[[ 0  0]\n",
      " [11 43]]\n",
      "Accuracy: 0.7962962962962963\n",
      "Precision: 0\n",
      "Recall: 0.0\n",
      "F1-Score: nan\n",
      "\n",
      "=========================================================================================\n"
     ]
    },
    {
     "name": "stderr",
     "output_type": "stream",
     "text": [
      "C:\\Users\\meena\\AppData\\Local\\Temp\\ipykernel_7124\\1959198720.py:27: RuntimeWarning: invalid value encountered in scalar divide\n",
      "  f1_score = 2 * (precision * recall) / (precision + recall)\n"
     ]
    },
    {
     "name": "stdout",
     "output_type": "stream",
     "text": [
      "Train Epoch: 136\t Learning rate: 0.0000\tLoss: 12.613410\t Accuracy: 93/108 (86%)\n",
      " \n",
      "Confusion Matrix:\n",
      "[[ 0  0]\n",
      " [11 43]]\n",
      "Accuracy: 0.7962962962962963\n",
      "Precision: 0\n",
      "Recall: 0.0\n",
      "F1-Score: nan\n",
      "\n",
      "=========================================================================================\n"
     ]
    },
    {
     "name": "stderr",
     "output_type": "stream",
     "text": [
      "C:\\Users\\meena\\AppData\\Local\\Temp\\ipykernel_7124\\1959198720.py:27: RuntimeWarning: invalid value encountered in scalar divide\n",
      "  f1_score = 2 * (precision * recall) / (precision + recall)\n"
     ]
    },
    {
     "name": "stdout",
     "output_type": "stream",
     "text": [
      "Train Epoch: 137\t Learning rate: 0.0000\tLoss: 12.490666\t Accuracy: 92/108 (85%)\n",
      " \n",
      "Confusion Matrix:\n",
      "[[ 0  0]\n",
      " [11 43]]\n",
      "Accuracy: 0.7962962962962963\n",
      "Precision: 0\n",
      "Recall: 0.0\n",
      "F1-Score: nan\n",
      "\n",
      "=========================================================================================\n"
     ]
    },
    {
     "name": "stderr",
     "output_type": "stream",
     "text": [
      "C:\\Users\\meena\\AppData\\Local\\Temp\\ipykernel_7124\\1959198720.py:27: RuntimeWarning: invalid value encountered in scalar divide\n",
      "  f1_score = 2 * (precision * recall) / (precision + recall)\n"
     ]
    },
    {
     "name": "stdout",
     "output_type": "stream",
     "text": [
      "Train Epoch: 138\t Learning rate: 0.0000\tLoss: 12.480710\t Accuracy: 93/108 (86%)\n",
      " \n",
      "Confusion Matrix:\n",
      "[[ 0  0]\n",
      " [11 43]]\n",
      "Accuracy: 0.7962962962962963\n",
      "Precision: 0\n",
      "Recall: 0.0\n",
      "F1-Score: nan\n",
      "\n",
      "=========================================================================================\n"
     ]
    },
    {
     "name": "stderr",
     "output_type": "stream",
     "text": [
      "C:\\Users\\meena\\AppData\\Local\\Temp\\ipykernel_7124\\1959198720.py:27: RuntimeWarning: invalid value encountered in scalar divide\n",
      "  f1_score = 2 * (precision * recall) / (precision + recall)\n"
     ]
    },
    {
     "name": "stdout",
     "output_type": "stream",
     "text": [
      "Train Epoch: 139\t Learning rate: 0.0000\tLoss: 12.447436\t Accuracy: 93/108 (86%)\n",
      " \n",
      "Confusion Matrix:\n",
      "[[ 0  0]\n",
      " [11 43]]\n",
      "Accuracy: 0.7962962962962963\n",
      "Precision: 0\n",
      "Recall: 0.0\n",
      "F1-Score: nan\n",
      "\n",
      "=========================================================================================\n"
     ]
    },
    {
     "name": "stderr",
     "output_type": "stream",
     "text": [
      "C:\\Users\\meena\\AppData\\Local\\Temp\\ipykernel_7124\\1959198720.py:27: RuntimeWarning: invalid value encountered in scalar divide\n",
      "  f1_score = 2 * (precision * recall) / (precision + recall)\n"
     ]
    },
    {
     "name": "stdout",
     "output_type": "stream",
     "text": [
      "Train Epoch: 140\t Learning rate: 0.0000\tLoss: 12.423726\t Accuracy: 93/108 (86%)\n",
      " \n",
      "Confusion Matrix:\n",
      "[[ 0  0]\n",
      " [11 43]]\n",
      "Accuracy: 0.7962962962962963\n",
      "Precision: 0\n",
      "Recall: 0.0\n",
      "F1-Score: nan\n",
      "\n",
      "=========================================================================================\n"
     ]
    },
    {
     "name": "stderr",
     "output_type": "stream",
     "text": [
      "C:\\Users\\meena\\AppData\\Local\\Temp\\ipykernel_7124\\1959198720.py:27: RuntimeWarning: invalid value encountered in scalar divide\n",
      "  f1_score = 2 * (precision * recall) / (precision + recall)\n"
     ]
    },
    {
     "name": "stdout",
     "output_type": "stream",
     "text": [
      "Train Epoch: 141\t Learning rate: 0.0000\tLoss: 12.392931\t Accuracy: 93/108 (86%)\n",
      " \n",
      "Confusion Matrix:\n",
      "[[ 0  0]\n",
      " [11 43]]\n",
      "Accuracy: 0.7962962962962963\n",
      "Precision: 0\n",
      "Recall: 0.0\n",
      "F1-Score: nan\n",
      "\n",
      "=========================================================================================\n"
     ]
    },
    {
     "name": "stderr",
     "output_type": "stream",
     "text": [
      "C:\\Users\\meena\\AppData\\Local\\Temp\\ipykernel_7124\\1959198720.py:27: RuntimeWarning: invalid value encountered in scalar divide\n",
      "  f1_score = 2 * (precision * recall) / (precision + recall)\n"
     ]
    },
    {
     "name": "stdout",
     "output_type": "stream",
     "text": [
      "Train Epoch: 142\t Learning rate: 0.0000\tLoss: 12.536191\t Accuracy: 93/108 (86%)\n",
      " \n",
      "Confusion Matrix:\n",
      "[[ 0  0]\n",
      " [11 43]]\n",
      "Accuracy: 0.7962962962962963\n",
      "Precision: 0\n",
      "Recall: 0.0\n",
      "F1-Score: nan\n",
      "\n",
      "=========================================================================================\n"
     ]
    },
    {
     "name": "stderr",
     "output_type": "stream",
     "text": [
      "C:\\Users\\meena\\AppData\\Local\\Temp\\ipykernel_7124\\1959198720.py:27: RuntimeWarning: invalid value encountered in scalar divide\n",
      "  f1_score = 2 * (precision * recall) / (precision + recall)\n"
     ]
    },
    {
     "name": "stdout",
     "output_type": "stream",
     "text": [
      "Train Epoch: 143\t Learning rate: 0.0000\tLoss: 12.399057\t Accuracy: 93/108 (86%)\n",
      " \n",
      "Confusion Matrix:\n",
      "[[ 0  0]\n",
      " [11 43]]\n",
      "Accuracy: 0.7962962962962963\n",
      "Precision: 0\n",
      "Recall: 0.0\n",
      "F1-Score: nan\n",
      "\n",
      "=========================================================================================\n"
     ]
    },
    {
     "name": "stderr",
     "output_type": "stream",
     "text": [
      "C:\\Users\\meena\\AppData\\Local\\Temp\\ipykernel_7124\\1959198720.py:27: RuntimeWarning: invalid value encountered in scalar divide\n",
      "  f1_score = 2 * (precision * recall) / (precision + recall)\n"
     ]
    },
    {
     "name": "stdout",
     "output_type": "stream",
     "text": [
      "Train Epoch: 144\t Learning rate: 0.0000\tLoss: 12.402302\t Accuracy: 93/108 (86%)\n",
      " \n",
      "Confusion Matrix:\n",
      "[[ 0  0]\n",
      " [11 43]]\n",
      "Accuracy: 0.7962962962962963\n",
      "Precision: 0\n",
      "Recall: 0.0\n",
      "F1-Score: nan\n",
      "\n",
      "=========================================================================================\n"
     ]
    },
    {
     "name": "stderr",
     "output_type": "stream",
     "text": [
      "C:\\Users\\meena\\AppData\\Local\\Temp\\ipykernel_7124\\1959198720.py:27: RuntimeWarning: invalid value encountered in scalar divide\n",
      "  f1_score = 2 * (precision * recall) / (precision + recall)\n"
     ]
    },
    {
     "name": "stdout",
     "output_type": "stream",
     "text": [
      "Train Epoch: 145\t Learning rate: 0.0000\tLoss: 12.415783\t Accuracy: 93/108 (86%)\n",
      " \n",
      "Confusion Matrix:\n",
      "[[ 0  0]\n",
      " [11 43]]\n",
      "Accuracy: 0.7962962962962963\n",
      "Precision: 0\n",
      "Recall: 0.0\n",
      "F1-Score: nan\n",
      "\n",
      "=========================================================================================\n"
     ]
    },
    {
     "name": "stderr",
     "output_type": "stream",
     "text": [
      "C:\\Users\\meena\\AppData\\Local\\Temp\\ipykernel_7124\\1959198720.py:27: RuntimeWarning: invalid value encountered in scalar divide\n",
      "  f1_score = 2 * (precision * recall) / (precision + recall)\n"
     ]
    },
    {
     "name": "stdout",
     "output_type": "stream",
     "text": [
      "Train Epoch: 146\t Learning rate: 0.0000\tLoss: 12.484918\t Accuracy: 93/108 (86%)\n",
      " \n",
      "Confusion Matrix:\n",
      "[[ 0  0]\n",
      " [11 43]]\n",
      "Accuracy: 0.7962962962962963\n",
      "Precision: 0\n",
      "Recall: 0.0\n",
      "F1-Score: nan\n",
      "\n",
      "=========================================================================================\n"
     ]
    },
    {
     "name": "stderr",
     "output_type": "stream",
     "text": [
      "C:\\Users\\meena\\AppData\\Local\\Temp\\ipykernel_7124\\1959198720.py:27: RuntimeWarning: invalid value encountered in scalar divide\n",
      "  f1_score = 2 * (precision * recall) / (precision + recall)\n"
     ]
    },
    {
     "name": "stdout",
     "output_type": "stream",
     "text": [
      "Train Epoch: 147\t Learning rate: 0.0000\tLoss: 12.418695\t Accuracy: 93/108 (86%)\n",
      " \n",
      "Confusion Matrix:\n",
      "[[ 0  0]\n",
      " [11 43]]\n",
      "Accuracy: 0.7962962962962963\n",
      "Precision: 0\n",
      "Recall: 0.0\n",
      "F1-Score: nan\n",
      "\n",
      "=========================================================================================\n"
     ]
    },
    {
     "name": "stderr",
     "output_type": "stream",
     "text": [
      "C:\\Users\\meena\\AppData\\Local\\Temp\\ipykernel_7124\\1959198720.py:27: RuntimeWarning: invalid value encountered in scalar divide\n",
      "  f1_score = 2 * (precision * recall) / (precision + recall)\n"
     ]
    },
    {
     "name": "stdout",
     "output_type": "stream",
     "text": [
      "Train Epoch: 148\t Learning rate: 0.0000\tLoss: 12.299045\t Accuracy: 93/108 (86%)\n",
      " \n",
      "Confusion Matrix:\n",
      "[[ 0  0]\n",
      " [11 43]]\n",
      "Accuracy: 0.7962962962962963\n",
      "Precision: 0\n",
      "Recall: 0.0\n",
      "F1-Score: nan\n",
      "\n",
      "=========================================================================================\n"
     ]
    },
    {
     "name": "stderr",
     "output_type": "stream",
     "text": [
      "C:\\Users\\meena\\AppData\\Local\\Temp\\ipykernel_7124\\1959198720.py:27: RuntimeWarning: invalid value encountered in scalar divide\n",
      "  f1_score = 2 * (precision * recall) / (precision + recall)\n"
     ]
    },
    {
     "name": "stdout",
     "output_type": "stream",
     "text": [
      "Train Epoch: 149\t Learning rate: 0.0000\tLoss: 12.433830\t Accuracy: 93/108 (86%)\n",
      " \n",
      "Confusion Matrix:\n",
      "[[ 0  0]\n",
      " [11 43]]\n",
      "Accuracy: 0.7962962962962963\n",
      "Precision: 0\n",
      "Recall: 0.0\n",
      "F1-Score: nan\n",
      "\n",
      "=========================================================================================\n"
     ]
    },
    {
     "name": "stderr",
     "output_type": "stream",
     "text": [
      "C:\\Users\\meena\\AppData\\Local\\Temp\\ipykernel_7124\\1959198720.py:27: RuntimeWarning: invalid value encountered in scalar divide\n",
      "  f1_score = 2 * (precision * recall) / (precision + recall)\n"
     ]
    },
    {
     "name": "stdout",
     "output_type": "stream",
     "text": [
      "Train Epoch: 150\t Learning rate: 0.0000\tLoss: 12.369764\t Accuracy: 93/108 (86%)\n",
      " \n",
      "Confusion Matrix:\n",
      "[[ 0  0]\n",
      " [11 43]]\n",
      "Accuracy: 0.7962962962962963\n",
      "Precision: 0\n",
      "Recall: 0.0\n",
      "F1-Score: nan\n",
      "\n",
      "=========================================================================================\n"
     ]
    },
    {
     "name": "stderr",
     "output_type": "stream",
     "text": [
      "C:\\Users\\meena\\AppData\\Local\\Temp\\ipykernel_7124\\1959198720.py:27: RuntimeWarning: invalid value encountered in scalar divide\n",
      "  f1_score = 2 * (precision * recall) / (precision + recall)\n"
     ]
    },
    {
     "name": "stdout",
     "output_type": "stream",
     "text": [
      "Train Epoch:  1\t Learning rate: 0.0000\tLoss: 18.744527\t Accuracy: 51/108 (47%)\n",
      " \n",
      "Confusion Matrix:\n",
      "[[ 2  5]\n",
      " [10 37]]\n",
      "Accuracy: 0.7222222222222222\n",
      "Precision: 0.2857142857142857\n",
      "Recall: 0.16666666666666666\n",
      "F1-Score: 0.2105263157894737\n",
      "\n",
      "=========================================================================================\n",
      "Train Epoch:  2\t Learning rate: 0.0000\tLoss: 18.580247\t Accuracy: 61/108 (56%)\n",
      " \n",
      "Confusion Matrix:\n",
      "[[ 0  0]\n",
      " [12 42]]\n",
      "Accuracy: 0.7777777777777778\n",
      "Precision: 0\n",
      "Recall: 0.0\n",
      "F1-Score: nan\n",
      "\n",
      "=========================================================================================\n"
     ]
    },
    {
     "name": "stderr",
     "output_type": "stream",
     "text": [
      "C:\\Users\\meena\\AppData\\Local\\Temp\\ipykernel_7124\\1959198720.py:27: RuntimeWarning: invalid value encountered in scalar divide\n",
      "  f1_score = 2 * (precision * recall) / (precision + recall)\n"
     ]
    },
    {
     "name": "stdout",
     "output_type": "stream",
     "text": [
      "Train Epoch:  3\t Learning rate: 0.0000\tLoss: 18.447963\t Accuracy: 78/108 (72%)\n",
      " \n",
      "Confusion Matrix:\n",
      "[[ 0  0]\n",
      " [12 42]]\n",
      "Accuracy: 0.7777777777777778\n",
      "Precision: 0\n",
      "Recall: 0.0\n",
      "F1-Score: nan\n",
      "\n",
      "=========================================================================================\n"
     ]
    },
    {
     "name": "stderr",
     "output_type": "stream",
     "text": [
      "C:\\Users\\meena\\AppData\\Local\\Temp\\ipykernel_7124\\1959198720.py:27: RuntimeWarning: invalid value encountered in scalar divide\n",
      "  f1_score = 2 * (precision * recall) / (precision + recall)\n"
     ]
    },
    {
     "name": "stdout",
     "output_type": "stream",
     "text": [
      "Train Epoch:  4\t Learning rate: 0.0000\tLoss: 18.275907\t Accuracy: 83/108 (77%)\n",
      " \n",
      "Confusion Matrix:\n",
      "[[ 0  0]\n",
      " [12 42]]\n",
      "Accuracy: 0.7777777777777778\n",
      "Precision: 0\n",
      "Recall: 0.0\n",
      "F1-Score: nan\n",
      "\n",
      "=========================================================================================\n"
     ]
    },
    {
     "name": "stderr",
     "output_type": "stream",
     "text": [
      "C:\\Users\\meena\\AppData\\Local\\Temp\\ipykernel_7124\\1959198720.py:27: RuntimeWarning: invalid value encountered in scalar divide\n",
      "  f1_score = 2 * (precision * recall) / (precision + recall)\n"
     ]
    },
    {
     "name": "stdout",
     "output_type": "stream",
     "text": [
      "Train Epoch:  5\t Learning rate: 0.0000\tLoss: 18.239149\t Accuracy: 84/108 (78%)\n",
      " \n",
      "Confusion Matrix:\n",
      "[[ 0  0]\n",
      " [12 42]]\n",
      "Accuracy: 0.7777777777777778\n",
      "Precision: 0\n",
      "Recall: 0.0\n",
      "F1-Score: nan\n",
      "\n",
      "=========================================================================================\n"
     ]
    },
    {
     "name": "stderr",
     "output_type": "stream",
     "text": [
      "C:\\Users\\meena\\AppData\\Local\\Temp\\ipykernel_7124\\1959198720.py:27: RuntimeWarning: invalid value encountered in scalar divide\n",
      "  f1_score = 2 * (precision * recall) / (precision + recall)\n"
     ]
    },
    {
     "name": "stdout",
     "output_type": "stream",
     "text": [
      "Train Epoch:  6\t Learning rate: 0.0000\tLoss: 17.913740\t Accuracy: 90/108 (83%)\n",
      " \n",
      "Confusion Matrix:\n",
      "[[ 0  0]\n",
      " [12 42]]\n",
      "Accuracy: 0.7777777777777778\n",
      "Precision: 0\n",
      "Recall: 0.0\n",
      "F1-Score: nan\n",
      "\n",
      "=========================================================================================\n"
     ]
    },
    {
     "name": "stderr",
     "output_type": "stream",
     "text": [
      "C:\\Users\\meena\\AppData\\Local\\Temp\\ipykernel_7124\\1959198720.py:27: RuntimeWarning: invalid value encountered in scalar divide\n",
      "  f1_score = 2 * (precision * recall) / (precision + recall)\n"
     ]
    },
    {
     "name": "stdout",
     "output_type": "stream",
     "text": [
      "Train Epoch:  7\t Learning rate: 0.0000\tLoss: 17.729007\t Accuracy: 89/108 (82%)\n",
      " \n",
      "Confusion Matrix:\n",
      "[[ 0  0]\n",
      " [12 42]]\n",
      "Accuracy: 0.7777777777777778\n",
      "Precision: 0\n",
      "Recall: 0.0\n",
      "F1-Score: nan\n",
      "\n",
      "=========================================================================================\n"
     ]
    },
    {
     "name": "stderr",
     "output_type": "stream",
     "text": [
      "C:\\Users\\meena\\AppData\\Local\\Temp\\ipykernel_7124\\1959198720.py:27: RuntimeWarning: invalid value encountered in scalar divide\n",
      "  f1_score = 2 * (precision * recall) / (precision + recall)\n"
     ]
    },
    {
     "name": "stdout",
     "output_type": "stream",
     "text": [
      "Train Epoch:  8\t Learning rate: 0.0000\tLoss: 17.605695\t Accuracy: 90/108 (83%)\n",
      " \n",
      "Confusion Matrix:\n",
      "[[ 0  0]\n",
      " [12 42]]\n",
      "Accuracy: 0.7777777777777778\n",
      "Precision: 0\n",
      "Recall: 0.0\n",
      "F1-Score: nan\n",
      "\n",
      "=========================================================================================\n"
     ]
    },
    {
     "name": "stderr",
     "output_type": "stream",
     "text": [
      "C:\\Users\\meena\\AppData\\Local\\Temp\\ipykernel_7124\\1959198720.py:27: RuntimeWarning: invalid value encountered in scalar divide\n",
      "  f1_score = 2 * (precision * recall) / (precision + recall)\n"
     ]
    },
    {
     "name": "stdout",
     "output_type": "stream",
     "text": [
      "Train Epoch:  9\t Learning rate: 0.0000\tLoss: 17.356676\t Accuracy: 90/108 (83%)\n",
      " \n",
      "Confusion Matrix:\n",
      "[[ 0  0]\n",
      " [12 42]]\n",
      "Accuracy: 0.7777777777777778\n",
      "Precision: 0\n",
      "Recall: 0.0\n",
      "F1-Score: nan\n",
      "\n",
      "=========================================================================================\n"
     ]
    },
    {
     "name": "stderr",
     "output_type": "stream",
     "text": [
      "C:\\Users\\meena\\AppData\\Local\\Temp\\ipykernel_7124\\1959198720.py:27: RuntimeWarning: invalid value encountered in scalar divide\n",
      "  f1_score = 2 * (precision * recall) / (precision + recall)\n"
     ]
    },
    {
     "name": "stdout",
     "output_type": "stream",
     "text": [
      "Train Epoch: 10\t Learning rate: 0.0000\tLoss: 17.160455\t Accuracy: 90/108 (83%)\n",
      " \n",
      "Confusion Matrix:\n",
      "[[ 0  0]\n",
      " [12 42]]\n",
      "Accuracy: 0.7777777777777778\n",
      "Precision: 0\n",
      "Recall: 0.0\n",
      "F1-Score: nan\n",
      "\n",
      "=========================================================================================\n"
     ]
    },
    {
     "name": "stderr",
     "output_type": "stream",
     "text": [
      "C:\\Users\\meena\\AppData\\Local\\Temp\\ipykernel_7124\\1959198720.py:27: RuntimeWarning: invalid value encountered in scalar divide\n",
      "  f1_score = 2 * (precision * recall) / (precision + recall)\n"
     ]
    },
    {
     "name": "stdout",
     "output_type": "stream",
     "text": [
      "Train Epoch: 11\t Learning rate: 0.0000\tLoss: 16.992249\t Accuracy: 89/108 (82%)\n",
      " \n",
      "Confusion Matrix:\n",
      "[[ 0  0]\n",
      " [12 42]]\n",
      "Accuracy: 0.7777777777777778\n",
      "Precision: 0\n",
      "Recall: 0.0\n",
      "F1-Score: nan\n",
      "\n",
      "=========================================================================================\n"
     ]
    },
    {
     "name": "stderr",
     "output_type": "stream",
     "text": [
      "C:\\Users\\meena\\AppData\\Local\\Temp\\ipykernel_7124\\1959198720.py:27: RuntimeWarning: invalid value encountered in scalar divide\n",
      "  f1_score = 2 * (precision * recall) / (precision + recall)\n"
     ]
    },
    {
     "name": "stdout",
     "output_type": "stream",
     "text": [
      "Train Epoch: 12\t Learning rate: 0.0000\tLoss: 16.834808\t Accuracy: 90/108 (83%)\n",
      " \n",
      "Confusion Matrix:\n",
      "[[ 0  0]\n",
      " [12 42]]\n",
      "Accuracy: 0.7777777777777778\n",
      "Precision: 0\n",
      "Recall: 0.0\n",
      "F1-Score: nan\n",
      "\n",
      "=========================================================================================\n"
     ]
    },
    {
     "name": "stderr",
     "output_type": "stream",
     "text": [
      "C:\\Users\\meena\\AppData\\Local\\Temp\\ipykernel_7124\\1959198720.py:27: RuntimeWarning: invalid value encountered in scalar divide\n",
      "  f1_score = 2 * (precision * recall) / (precision + recall)\n"
     ]
    },
    {
     "name": "stdout",
     "output_type": "stream",
     "text": [
      "Train Epoch: 13\t Learning rate: 0.0000\tLoss: 16.720972\t Accuracy: 90/108 (83%)\n",
      " \n",
      "Confusion Matrix:\n",
      "[[ 0  0]\n",
      " [12 42]]\n",
      "Accuracy: 0.7777777777777778\n",
      "Precision: 0\n",
      "Recall: 0.0\n",
      "F1-Score: nan\n",
      "\n",
      "=========================================================================================\n"
     ]
    },
    {
     "name": "stderr",
     "output_type": "stream",
     "text": [
      "C:\\Users\\meena\\AppData\\Local\\Temp\\ipykernel_7124\\1959198720.py:27: RuntimeWarning: invalid value encountered in scalar divide\n",
      "  f1_score = 2 * (precision * recall) / (precision + recall)\n"
     ]
    },
    {
     "name": "stdout",
     "output_type": "stream",
     "text": [
      "Train Epoch: 14\t Learning rate: 0.0000\tLoss: 16.275199\t Accuracy: 90/108 (83%)\n",
      " \n",
      "Confusion Matrix:\n",
      "[[ 0  0]\n",
      " [12 42]]\n",
      "Accuracy: 0.7777777777777778\n",
      "Precision: 0\n",
      "Recall: 0.0\n",
      "F1-Score: nan\n",
      "\n",
      "=========================================================================================\n"
     ]
    },
    {
     "name": "stderr",
     "output_type": "stream",
     "text": [
      "C:\\Users\\meena\\AppData\\Local\\Temp\\ipykernel_7124\\1959198720.py:27: RuntimeWarning: invalid value encountered in scalar divide\n",
      "  f1_score = 2 * (precision * recall) / (precision + recall)\n"
     ]
    },
    {
     "name": "stdout",
     "output_type": "stream",
     "text": [
      "Train Epoch: 15\t Learning rate: 0.0000\tLoss: 16.097198\t Accuracy: 90/108 (83%)\n",
      " \n",
      "Confusion Matrix:\n",
      "[[ 0  0]\n",
      " [12 42]]\n",
      "Accuracy: 0.7777777777777778\n",
      "Precision: 0\n",
      "Recall: 0.0\n",
      "F1-Score: nan\n",
      "\n",
      "=========================================================================================\n"
     ]
    },
    {
     "name": "stderr",
     "output_type": "stream",
     "text": [
      "C:\\Users\\meena\\AppData\\Local\\Temp\\ipykernel_7124\\1959198720.py:27: RuntimeWarning: invalid value encountered in scalar divide\n",
      "  f1_score = 2 * (precision * recall) / (precision + recall)\n"
     ]
    },
    {
     "name": "stdout",
     "output_type": "stream",
     "text": [
      "Train Epoch: 16\t Learning rate: 0.0000\tLoss: 16.163054\t Accuracy: 90/108 (83%)\n",
      " \n",
      "Confusion Matrix:\n",
      "[[ 0  0]\n",
      " [12 42]]\n",
      "Accuracy: 0.7777777777777778\n",
      "Precision: 0\n",
      "Recall: 0.0\n",
      "F1-Score: nan\n",
      "\n",
      "=========================================================================================\n"
     ]
    },
    {
     "name": "stderr",
     "output_type": "stream",
     "text": [
      "C:\\Users\\meena\\AppData\\Local\\Temp\\ipykernel_7124\\1959198720.py:27: RuntimeWarning: invalid value encountered in scalar divide\n",
      "  f1_score = 2 * (precision * recall) / (precision + recall)\n"
     ]
    },
    {
     "name": "stdout",
     "output_type": "stream",
     "text": [
      "Train Epoch: 17\t Learning rate: 0.0000\tLoss: 15.570647\t Accuracy: 90/108 (83%)\n",
      " \n",
      "Confusion Matrix:\n",
      "[[ 0  0]\n",
      " [12 42]]\n",
      "Accuracy: 0.7777777777777778\n",
      "Precision: 0\n",
      "Recall: 0.0\n",
      "F1-Score: nan\n",
      "\n",
      "=========================================================================================\n"
     ]
    },
    {
     "name": "stderr",
     "output_type": "stream",
     "text": [
      "C:\\Users\\meena\\AppData\\Local\\Temp\\ipykernel_7124\\1959198720.py:27: RuntimeWarning: invalid value encountered in scalar divide\n",
      "  f1_score = 2 * (precision * recall) / (precision + recall)\n"
     ]
    },
    {
     "name": "stdout",
     "output_type": "stream",
     "text": [
      "Train Epoch: 18\t Learning rate: 0.0000\tLoss: 15.545519\t Accuracy: 90/108 (83%)\n",
      " \n",
      "Confusion Matrix:\n",
      "[[ 0  0]\n",
      " [12 42]]\n",
      "Accuracy: 0.7777777777777778\n",
      "Precision: 0\n",
      "Recall: 0.0\n",
      "F1-Score: nan\n",
      "\n",
      "=========================================================================================\n"
     ]
    },
    {
     "name": "stderr",
     "output_type": "stream",
     "text": [
      "C:\\Users\\meena\\AppData\\Local\\Temp\\ipykernel_7124\\1959198720.py:27: RuntimeWarning: invalid value encountered in scalar divide\n",
      "  f1_score = 2 * (precision * recall) / (precision + recall)\n"
     ]
    },
    {
     "name": "stdout",
     "output_type": "stream",
     "text": [
      "Train Epoch: 19\t Learning rate: 0.0000\tLoss: 15.208618\t Accuracy: 90/108 (83%)\n",
      " \n",
      "Confusion Matrix:\n",
      "[[ 0  0]\n",
      " [12 42]]\n",
      "Accuracy: 0.7777777777777778\n",
      "Precision: 0\n",
      "Recall: 0.0\n",
      "F1-Score: nan\n",
      "\n",
      "=========================================================================================\n"
     ]
    },
    {
     "name": "stderr",
     "output_type": "stream",
     "text": [
      "C:\\Users\\meena\\AppData\\Local\\Temp\\ipykernel_7124\\1959198720.py:27: RuntimeWarning: invalid value encountered in scalar divide\n",
      "  f1_score = 2 * (precision * recall) / (precision + recall)\n"
     ]
    },
    {
     "name": "stdout",
     "output_type": "stream",
     "text": [
      "Train Epoch: 20\t Learning rate: 0.0000\tLoss: 15.286519\t Accuracy: 90/108 (83%)\n",
      " \n",
      "Confusion Matrix:\n",
      "[[ 0  0]\n",
      " [12 42]]\n",
      "Accuracy: 0.7777777777777778\n",
      "Precision: 0\n",
      "Recall: 0.0\n",
      "F1-Score: nan\n",
      "\n",
      "=========================================================================================\n"
     ]
    },
    {
     "name": "stderr",
     "output_type": "stream",
     "text": [
      "C:\\Users\\meena\\AppData\\Local\\Temp\\ipykernel_7124\\1959198720.py:27: RuntimeWarning: invalid value encountered in scalar divide\n",
      "  f1_score = 2 * (precision * recall) / (precision + recall)\n"
     ]
    },
    {
     "name": "stdout",
     "output_type": "stream",
     "text": [
      "Train Epoch: 21\t Learning rate: 0.0000\tLoss: 14.881710\t Accuracy: 90/108 (83%)\n",
      " \n",
      "Confusion Matrix:\n",
      "[[ 0  0]\n",
      " [12 42]]\n",
      "Accuracy: 0.7777777777777778\n",
      "Precision: 0\n",
      "Recall: 0.0\n",
      "F1-Score: nan\n",
      "\n",
      "=========================================================================================\n"
     ]
    },
    {
     "name": "stderr",
     "output_type": "stream",
     "text": [
      "C:\\Users\\meena\\AppData\\Local\\Temp\\ipykernel_7124\\1959198720.py:27: RuntimeWarning: invalid value encountered in scalar divide\n",
      "  f1_score = 2 * (precision * recall) / (precision + recall)\n"
     ]
    },
    {
     "name": "stdout",
     "output_type": "stream",
     "text": [
      "Train Epoch: 22\t Learning rate: 0.0000\tLoss: 14.952446\t Accuracy: 90/108 (83%)\n",
      " \n",
      "Confusion Matrix:\n",
      "[[ 0  0]\n",
      " [12 42]]\n",
      "Accuracy: 0.7777777777777778\n",
      "Precision: 0\n",
      "Recall: 0.0\n",
      "F1-Score: nan\n",
      "\n",
      "=========================================================================================\n"
     ]
    },
    {
     "name": "stderr",
     "output_type": "stream",
     "text": [
      "C:\\Users\\meena\\AppData\\Local\\Temp\\ipykernel_7124\\1959198720.py:27: RuntimeWarning: invalid value encountered in scalar divide\n",
      "  f1_score = 2 * (precision * recall) / (precision + recall)\n"
     ]
    },
    {
     "name": "stdout",
     "output_type": "stream",
     "text": [
      "Train Epoch: 23\t Learning rate: 0.0000\tLoss: 14.968814\t Accuracy: 90/108 (83%)\n",
      " \n",
      "Confusion Matrix:\n",
      "[[ 0  0]\n",
      " [12 42]]\n",
      "Accuracy: 0.7777777777777778\n",
      "Precision: 0\n",
      "Recall: 0.0\n",
      "F1-Score: nan\n",
      "\n",
      "=========================================================================================\n"
     ]
    },
    {
     "name": "stderr",
     "output_type": "stream",
     "text": [
      "C:\\Users\\meena\\AppData\\Local\\Temp\\ipykernel_7124\\1959198720.py:27: RuntimeWarning: invalid value encountered in scalar divide\n",
      "  f1_score = 2 * (precision * recall) / (precision + recall)\n"
     ]
    },
    {
     "name": "stdout",
     "output_type": "stream",
     "text": [
      "Train Epoch: 24\t Learning rate: 0.0000\tLoss: 14.666899\t Accuracy: 90/108 (83%)\n",
      " \n",
      "Confusion Matrix:\n",
      "[[ 0  0]\n",
      " [12 42]]\n",
      "Accuracy: 0.7777777777777778\n",
      "Precision: 0\n",
      "Recall: 0.0\n",
      "F1-Score: nan\n",
      "\n",
      "=========================================================================================\n"
     ]
    },
    {
     "name": "stderr",
     "output_type": "stream",
     "text": [
      "C:\\Users\\meena\\AppData\\Local\\Temp\\ipykernel_7124\\1959198720.py:27: RuntimeWarning: invalid value encountered in scalar divide\n",
      "  f1_score = 2 * (precision * recall) / (precision + recall)\n"
     ]
    },
    {
     "name": "stdout",
     "output_type": "stream",
     "text": [
      "Train Epoch: 25\t Learning rate: 0.0000\tLoss: 14.375095\t Accuracy: 90/108 (83%)\n",
      " \n",
      "Confusion Matrix:\n",
      "[[ 0  0]\n",
      " [12 42]]\n",
      "Accuracy: 0.7777777777777778\n",
      "Precision: 0\n",
      "Recall: 0.0\n",
      "F1-Score: nan\n",
      "\n",
      "=========================================================================================\n"
     ]
    },
    {
     "name": "stderr",
     "output_type": "stream",
     "text": [
      "C:\\Users\\meena\\AppData\\Local\\Temp\\ipykernel_7124\\1959198720.py:27: RuntimeWarning: invalid value encountered in scalar divide\n",
      "  f1_score = 2 * (precision * recall) / (precision + recall)\n"
     ]
    },
    {
     "name": "stdout",
     "output_type": "stream",
     "text": [
      "Train Epoch: 26\t Learning rate: 0.0000\tLoss: 14.406196\t Accuracy: 90/108 (83%)\n",
      " \n",
      "Confusion Matrix:\n",
      "[[ 0  0]\n",
      " [12 42]]\n",
      "Accuracy: 0.7777777777777778\n",
      "Precision: 0\n",
      "Recall: 0.0\n",
      "F1-Score: nan\n",
      "\n",
      "=========================================================================================\n"
     ]
    },
    {
     "name": "stderr",
     "output_type": "stream",
     "text": [
      "C:\\Users\\meena\\AppData\\Local\\Temp\\ipykernel_7124\\1959198720.py:27: RuntimeWarning: invalid value encountered in scalar divide\n",
      "  f1_score = 2 * (precision * recall) / (precision + recall)\n"
     ]
    },
    {
     "name": "stdout",
     "output_type": "stream",
     "text": [
      "Train Epoch: 27\t Learning rate: 0.0000\tLoss: 14.090976\t Accuracy: 90/108 (83%)\n",
      " \n",
      "Confusion Matrix:\n",
      "[[ 0  0]\n",
      " [12 42]]\n",
      "Accuracy: 0.7777777777777778\n",
      "Precision: 0\n",
      "Recall: 0.0\n",
      "F1-Score: nan\n",
      "\n",
      "=========================================================================================\n"
     ]
    },
    {
     "name": "stderr",
     "output_type": "stream",
     "text": [
      "C:\\Users\\meena\\AppData\\Local\\Temp\\ipykernel_7124\\1959198720.py:27: RuntimeWarning: invalid value encountered in scalar divide\n",
      "  f1_score = 2 * (precision * recall) / (precision + recall)\n"
     ]
    },
    {
     "name": "stdout",
     "output_type": "stream",
     "text": [
      "Train Epoch: 28\t Learning rate: 0.0000\tLoss: 14.083333\t Accuracy: 90/108 (83%)\n",
      " \n",
      "Confusion Matrix:\n",
      "[[ 0  0]\n",
      " [12 42]]\n",
      "Accuracy: 0.7777777777777778\n",
      "Precision: 0\n",
      "Recall: 0.0\n",
      "F1-Score: nan\n",
      "\n",
      "=========================================================================================\n"
     ]
    },
    {
     "name": "stderr",
     "output_type": "stream",
     "text": [
      "C:\\Users\\meena\\AppData\\Local\\Temp\\ipykernel_7124\\1959198720.py:27: RuntimeWarning: invalid value encountered in scalar divide\n",
      "  f1_score = 2 * (precision * recall) / (precision + recall)\n"
     ]
    },
    {
     "name": "stdout",
     "output_type": "stream",
     "text": [
      "Train Epoch: 29\t Learning rate: 0.0000\tLoss: 13.926974\t Accuracy: 90/108 (83%)\n",
      " \n",
      "Confusion Matrix:\n",
      "[[ 0  0]\n",
      " [12 42]]\n",
      "Accuracy: 0.7777777777777778\n",
      "Precision: 0\n",
      "Recall: 0.0\n",
      "F1-Score: nan\n",
      "\n",
      "=========================================================================================\n"
     ]
    },
    {
     "name": "stderr",
     "output_type": "stream",
     "text": [
      "C:\\Users\\meena\\AppData\\Local\\Temp\\ipykernel_7124\\1959198720.py:27: RuntimeWarning: invalid value encountered in scalar divide\n",
      "  f1_score = 2 * (precision * recall) / (precision + recall)\n"
     ]
    },
    {
     "name": "stdout",
     "output_type": "stream",
     "text": [
      "Train Epoch: 30\t Learning rate: 0.0000\tLoss: 14.002697\t Accuracy: 90/108 (83%)\n",
      " \n",
      "Confusion Matrix:\n",
      "[[ 0  0]\n",
      " [12 42]]\n",
      "Accuracy: 0.7777777777777778\n",
      "Precision: 0\n",
      "Recall: 0.0\n",
      "F1-Score: nan\n",
      "\n",
      "=========================================================================================\n"
     ]
    },
    {
     "name": "stderr",
     "output_type": "stream",
     "text": [
      "C:\\Users\\meena\\AppData\\Local\\Temp\\ipykernel_7124\\1959198720.py:27: RuntimeWarning: invalid value encountered in scalar divide\n",
      "  f1_score = 2 * (precision * recall) / (precision + recall)\n"
     ]
    },
    {
     "name": "stdout",
     "output_type": "stream",
     "text": [
      "Train Epoch: 31\t Learning rate: 0.0000\tLoss: 13.758827\t Accuracy: 90/108 (83%)\n",
      " \n",
      "Confusion Matrix:\n",
      "[[ 0  0]\n",
      " [12 42]]\n",
      "Accuracy: 0.7777777777777778\n",
      "Precision: 0\n",
      "Recall: 0.0\n",
      "F1-Score: nan\n",
      "\n",
      "=========================================================================================\n"
     ]
    },
    {
     "name": "stderr",
     "output_type": "stream",
     "text": [
      "C:\\Users\\meena\\AppData\\Local\\Temp\\ipykernel_7124\\1959198720.py:27: RuntimeWarning: invalid value encountered in scalar divide\n",
      "  f1_score = 2 * (precision * recall) / (precision + recall)\n"
     ]
    },
    {
     "name": "stdout",
     "output_type": "stream",
     "text": [
      "Train Epoch: 32\t Learning rate: 0.0000\tLoss: 13.724419\t Accuracy: 90/108 (83%)\n",
      " \n",
      "Confusion Matrix:\n",
      "[[ 0  0]\n",
      " [12 42]]\n",
      "Accuracy: 0.7777777777777778\n",
      "Precision: 0\n",
      "Recall: 0.0\n",
      "F1-Score: nan\n",
      "\n",
      "=========================================================================================\n"
     ]
    },
    {
     "name": "stderr",
     "output_type": "stream",
     "text": [
      "C:\\Users\\meena\\AppData\\Local\\Temp\\ipykernel_7124\\1959198720.py:27: RuntimeWarning: invalid value encountered in scalar divide\n",
      "  f1_score = 2 * (precision * recall) / (precision + recall)\n"
     ]
    },
    {
     "name": "stdout",
     "output_type": "stream",
     "text": [
      "Train Epoch: 33\t Learning rate: 0.0000\tLoss: 13.769519\t Accuracy: 90/108 (83%)\n",
      " \n",
      "Confusion Matrix:\n",
      "[[ 0  0]\n",
      " [12 42]]\n",
      "Accuracy: 0.7777777777777778\n",
      "Precision: 0\n",
      "Recall: 0.0\n",
      "F1-Score: nan\n",
      "\n",
      "=========================================================================================\n"
     ]
    },
    {
     "name": "stderr",
     "output_type": "stream",
     "text": [
      "C:\\Users\\meena\\AppData\\Local\\Temp\\ipykernel_7124\\1959198720.py:27: RuntimeWarning: invalid value encountered in scalar divide\n",
      "  f1_score = 2 * (precision * recall) / (precision + recall)\n"
     ]
    },
    {
     "name": "stdout",
     "output_type": "stream",
     "text": [
      "Train Epoch: 34\t Learning rate: 0.0000\tLoss: 13.495008\t Accuracy: 90/108 (83%)\n",
      " \n",
      "Confusion Matrix:\n",
      "[[ 0  0]\n",
      " [12 42]]\n",
      "Accuracy: 0.7777777777777778\n",
      "Precision: 0\n",
      "Recall: 0.0\n",
      "F1-Score: nan\n",
      "\n",
      "=========================================================================================\n"
     ]
    },
    {
     "name": "stderr",
     "output_type": "stream",
     "text": [
      "C:\\Users\\meena\\AppData\\Local\\Temp\\ipykernel_7124\\1959198720.py:27: RuntimeWarning: invalid value encountered in scalar divide\n",
      "  f1_score = 2 * (precision * recall) / (precision + recall)\n"
     ]
    },
    {
     "name": "stdout",
     "output_type": "stream",
     "text": [
      "Train Epoch: 35\t Learning rate: 0.0000\tLoss: 13.667395\t Accuracy: 90/108 (83%)\n",
      " \n",
      "Confusion Matrix:\n",
      "[[ 0  0]\n",
      " [12 42]]\n",
      "Accuracy: 0.7777777777777778\n",
      "Precision: 0\n",
      "Recall: 0.0\n",
      "F1-Score: nan\n",
      "\n",
      "=========================================================================================\n"
     ]
    },
    {
     "name": "stderr",
     "output_type": "stream",
     "text": [
      "C:\\Users\\meena\\AppData\\Local\\Temp\\ipykernel_7124\\1959198720.py:27: RuntimeWarning: invalid value encountered in scalar divide\n",
      "  f1_score = 2 * (precision * recall) / (precision + recall)\n"
     ]
    },
    {
     "name": "stdout",
     "output_type": "stream",
     "text": [
      "Train Epoch: 36\t Learning rate: 0.0000\tLoss: 13.558517\t Accuracy: 90/108 (83%)\n",
      " \n",
      "Confusion Matrix:\n",
      "[[ 0  0]\n",
      " [12 42]]\n",
      "Accuracy: 0.7777777777777778\n",
      "Precision: 0\n",
      "Recall: 0.0\n",
      "F1-Score: nan\n",
      "\n",
      "=========================================================================================\n"
     ]
    },
    {
     "name": "stderr",
     "output_type": "stream",
     "text": [
      "C:\\Users\\meena\\AppData\\Local\\Temp\\ipykernel_7124\\1959198720.py:27: RuntimeWarning: invalid value encountered in scalar divide\n",
      "  f1_score = 2 * (precision * recall) / (precision + recall)\n"
     ]
    },
    {
     "name": "stdout",
     "output_type": "stream",
     "text": [
      "Train Epoch: 37\t Learning rate: 0.0000\tLoss: 13.428280\t Accuracy: 90/108 (83%)\n",
      " \n",
      "Confusion Matrix:\n",
      "[[ 0  0]\n",
      " [12 42]]\n",
      "Accuracy: 0.7777777777777778\n",
      "Precision: 0\n",
      "Recall: 0.0\n",
      "F1-Score: nan\n",
      "\n",
      "=========================================================================================\n"
     ]
    },
    {
     "name": "stderr",
     "output_type": "stream",
     "text": [
      "C:\\Users\\meena\\AppData\\Local\\Temp\\ipykernel_7124\\1959198720.py:27: RuntimeWarning: invalid value encountered in scalar divide\n",
      "  f1_score = 2 * (precision * recall) / (precision + recall)\n"
     ]
    },
    {
     "name": "stdout",
     "output_type": "stream",
     "text": [
      "Train Epoch: 38\t Learning rate: 0.0000\tLoss: 13.599545\t Accuracy: 90/108 (83%)\n",
      " \n",
      "Confusion Matrix:\n",
      "[[ 0  0]\n",
      " [12 42]]\n",
      "Accuracy: 0.7777777777777778\n",
      "Precision: 0\n",
      "Recall: 0.0\n",
      "F1-Score: nan\n",
      "\n",
      "=========================================================================================\n"
     ]
    },
    {
     "name": "stderr",
     "output_type": "stream",
     "text": [
      "C:\\Users\\meena\\AppData\\Local\\Temp\\ipykernel_7124\\1959198720.py:27: RuntimeWarning: invalid value encountered in scalar divide\n",
      "  f1_score = 2 * (precision * recall) / (precision + recall)\n"
     ]
    },
    {
     "name": "stdout",
     "output_type": "stream",
     "text": [
      "Train Epoch: 39\t Learning rate: 0.0000\tLoss: 13.554549\t Accuracy: 90/108 (83%)\n",
      " \n",
      "Confusion Matrix:\n",
      "[[ 0  0]\n",
      " [12 42]]\n",
      "Accuracy: 0.7777777777777778\n",
      "Precision: 0\n",
      "Recall: 0.0\n",
      "F1-Score: nan\n",
      "\n",
      "=========================================================================================\n"
     ]
    },
    {
     "name": "stderr",
     "output_type": "stream",
     "text": [
      "C:\\Users\\meena\\AppData\\Local\\Temp\\ipykernel_7124\\1959198720.py:27: RuntimeWarning: invalid value encountered in scalar divide\n",
      "  f1_score = 2 * (precision * recall) / (precision + recall)\n"
     ]
    },
    {
     "name": "stdout",
     "output_type": "stream",
     "text": [
      "Train Epoch: 40\t Learning rate: 0.0000\tLoss: 13.345784\t Accuracy: 90/108 (83%)\n",
      " \n",
      "Confusion Matrix:\n",
      "[[ 0  0]\n",
      " [12 42]]\n",
      "Accuracy: 0.7777777777777778\n",
      "Precision: 0\n",
      "Recall: 0.0\n",
      "F1-Score: nan\n",
      "\n",
      "=========================================================================================\n"
     ]
    },
    {
     "name": "stderr",
     "output_type": "stream",
     "text": [
      "C:\\Users\\meena\\AppData\\Local\\Temp\\ipykernel_7124\\1959198720.py:27: RuntimeWarning: invalid value encountered in scalar divide\n",
      "  f1_score = 2 * (precision * recall) / (precision + recall)\n"
     ]
    },
    {
     "name": "stdout",
     "output_type": "stream",
     "text": [
      "Train Epoch: 41\t Learning rate: 0.0000\tLoss: 13.238387\t Accuracy: 90/108 (83%)\n",
      " \n",
      "Confusion Matrix:\n",
      "[[ 0  0]\n",
      " [12 42]]\n",
      "Accuracy: 0.7777777777777778\n",
      "Precision: 0\n",
      "Recall: 0.0\n",
      "F1-Score: nan\n",
      "\n",
      "=========================================================================================\n"
     ]
    },
    {
     "name": "stderr",
     "output_type": "stream",
     "text": [
      "C:\\Users\\meena\\AppData\\Local\\Temp\\ipykernel_7124\\1959198720.py:27: RuntimeWarning: invalid value encountered in scalar divide\n",
      "  f1_score = 2 * (precision * recall) / (precision + recall)\n"
     ]
    },
    {
     "name": "stdout",
     "output_type": "stream",
     "text": [
      "Train Epoch: 42\t Learning rate: 0.0000\tLoss: 13.342127\t Accuracy: 90/108 (83%)\n",
      " \n",
      "Confusion Matrix:\n",
      "[[ 0  0]\n",
      " [12 42]]\n",
      "Accuracy: 0.7777777777777778\n",
      "Precision: 0\n",
      "Recall: 0.0\n",
      "F1-Score: nan\n",
      "\n",
      "=========================================================================================\n"
     ]
    },
    {
     "name": "stderr",
     "output_type": "stream",
     "text": [
      "C:\\Users\\meena\\AppData\\Local\\Temp\\ipykernel_7124\\1959198720.py:27: RuntimeWarning: invalid value encountered in scalar divide\n",
      "  f1_score = 2 * (precision * recall) / (precision + recall)\n"
     ]
    },
    {
     "name": "stdout",
     "output_type": "stream",
     "text": [
      "Train Epoch: 43\t Learning rate: 0.0000\tLoss: 13.391534\t Accuracy: 90/108 (83%)\n",
      " \n",
      "Confusion Matrix:\n",
      "[[ 0  0]\n",
      " [12 42]]\n",
      "Accuracy: 0.7777777777777778\n",
      "Precision: 0\n",
      "Recall: 0.0\n",
      "F1-Score: nan\n",
      "\n",
      "=========================================================================================\n"
     ]
    },
    {
     "name": "stderr",
     "output_type": "stream",
     "text": [
      "C:\\Users\\meena\\AppData\\Local\\Temp\\ipykernel_7124\\1959198720.py:27: RuntimeWarning: invalid value encountered in scalar divide\n",
      "  f1_score = 2 * (precision * recall) / (precision + recall)\n"
     ]
    },
    {
     "name": "stdout",
     "output_type": "stream",
     "text": [
      "Train Epoch: 44\t Learning rate: 0.0000\tLoss: 13.259081\t Accuracy: 90/108 (83%)\n",
      " \n",
      "Confusion Matrix:\n",
      "[[ 0  0]\n",
      " [12 42]]\n",
      "Accuracy: 0.7777777777777778\n",
      "Precision: 0\n",
      "Recall: 0.0\n",
      "F1-Score: nan\n",
      "\n",
      "=========================================================================================\n"
     ]
    },
    {
     "name": "stderr",
     "output_type": "stream",
     "text": [
      "C:\\Users\\meena\\AppData\\Local\\Temp\\ipykernel_7124\\1959198720.py:27: RuntimeWarning: invalid value encountered in scalar divide\n",
      "  f1_score = 2 * (precision * recall) / (precision + recall)\n"
     ]
    },
    {
     "name": "stdout",
     "output_type": "stream",
     "text": [
      "Train Epoch: 45\t Learning rate: 0.0000\tLoss: 13.226026\t Accuracy: 90/108 (83%)\n",
      " \n",
      "Confusion Matrix:\n",
      "[[ 0  0]\n",
      " [12 42]]\n",
      "Accuracy: 0.7777777777777778\n",
      "Precision: 0\n",
      "Recall: 0.0\n",
      "F1-Score: nan\n",
      "\n",
      "=========================================================================================\n"
     ]
    },
    {
     "name": "stderr",
     "output_type": "stream",
     "text": [
      "C:\\Users\\meena\\AppData\\Local\\Temp\\ipykernel_7124\\1959198720.py:27: RuntimeWarning: invalid value encountered in scalar divide\n",
      "  f1_score = 2 * (precision * recall) / (precision + recall)\n"
     ]
    },
    {
     "name": "stdout",
     "output_type": "stream",
     "text": [
      "Train Epoch: 46\t Learning rate: 0.0000\tLoss: 13.250539\t Accuracy: 90/108 (83%)\n",
      " \n",
      "Confusion Matrix:\n",
      "[[ 0  0]\n",
      " [12 42]]\n",
      "Accuracy: 0.7777777777777778\n",
      "Precision: 0\n",
      "Recall: 0.0\n",
      "F1-Score: nan\n",
      "\n",
      "=========================================================================================\n"
     ]
    },
    {
     "name": "stderr",
     "output_type": "stream",
     "text": [
      "C:\\Users\\meena\\AppData\\Local\\Temp\\ipykernel_7124\\1959198720.py:27: RuntimeWarning: invalid value encountered in scalar divide\n",
      "  f1_score = 2 * (precision * recall) / (precision + recall)\n"
     ]
    },
    {
     "name": "stdout",
     "output_type": "stream",
     "text": [
      "Train Epoch: 47\t Learning rate: 0.0000\tLoss: 13.351324\t Accuracy: 90/108 (83%)\n",
      " \n",
      "Confusion Matrix:\n",
      "[[ 0  0]\n",
      " [12 42]]\n",
      "Accuracy: 0.7777777777777778\n",
      "Precision: 0\n",
      "Recall: 0.0\n",
      "F1-Score: nan\n",
      "\n",
      "=========================================================================================\n"
     ]
    },
    {
     "name": "stderr",
     "output_type": "stream",
     "text": [
      "C:\\Users\\meena\\AppData\\Local\\Temp\\ipykernel_7124\\1959198720.py:27: RuntimeWarning: invalid value encountered in scalar divide\n",
      "  f1_score = 2 * (precision * recall) / (precision + recall)\n"
     ]
    },
    {
     "name": "stdout",
     "output_type": "stream",
     "text": [
      "Train Epoch: 48\t Learning rate: 0.0000\tLoss: 13.094779\t Accuracy: 90/108 (83%)\n",
      " \n",
      "Confusion Matrix:\n",
      "[[ 0  0]\n",
      " [12 42]]\n",
      "Accuracy: 0.7777777777777778\n",
      "Precision: 0\n",
      "Recall: 0.0\n",
      "F1-Score: nan\n",
      "\n",
      "=========================================================================================\n"
     ]
    },
    {
     "name": "stderr",
     "output_type": "stream",
     "text": [
      "C:\\Users\\meena\\AppData\\Local\\Temp\\ipykernel_7124\\1959198720.py:27: RuntimeWarning: invalid value encountered in scalar divide\n",
      "  f1_score = 2 * (precision * recall) / (precision + recall)\n"
     ]
    },
    {
     "name": "stdout",
     "output_type": "stream",
     "text": [
      "Train Epoch: 49\t Learning rate: 0.0000\tLoss: 13.275502\t Accuracy: 90/108 (83%)\n",
      " \n",
      "Confusion Matrix:\n",
      "[[ 0  0]\n",
      " [12 42]]\n",
      "Accuracy: 0.7777777777777778\n",
      "Precision: 0\n",
      "Recall: 0.0\n",
      "F1-Score: nan\n",
      "\n",
      "=========================================================================================\n"
     ]
    },
    {
     "name": "stderr",
     "output_type": "stream",
     "text": [
      "C:\\Users\\meena\\AppData\\Local\\Temp\\ipykernel_7124\\1959198720.py:27: RuntimeWarning: invalid value encountered in scalar divide\n",
      "  f1_score = 2 * (precision * recall) / (precision + recall)\n"
     ]
    },
    {
     "name": "stdout",
     "output_type": "stream",
     "text": [
      "Train Epoch: 50\t Learning rate: 0.0000\tLoss: 13.180658\t Accuracy: 90/108 (83%)\n",
      " \n",
      "Confusion Matrix:\n",
      "[[ 0  0]\n",
      " [12 42]]\n",
      "Accuracy: 0.7777777777777778\n",
      "Precision: 0\n",
      "Recall: 0.0\n",
      "F1-Score: nan\n",
      "\n",
      "=========================================================================================\n"
     ]
    },
    {
     "name": "stderr",
     "output_type": "stream",
     "text": [
      "C:\\Users\\meena\\AppData\\Local\\Temp\\ipykernel_7124\\1959198720.py:27: RuntimeWarning: invalid value encountered in scalar divide\n",
      "  f1_score = 2 * (precision * recall) / (precision + recall)\n"
     ]
    },
    {
     "name": "stdout",
     "output_type": "stream",
     "text": [
      "Train Epoch: 51\t Learning rate: 0.0000\tLoss: 13.220284\t Accuracy: 90/108 (83%)\n",
      " \n",
      "Confusion Matrix:\n",
      "[[ 0  0]\n",
      " [12 42]]\n",
      "Accuracy: 0.7777777777777778\n",
      "Precision: 0\n",
      "Recall: 0.0\n",
      "F1-Score: nan\n",
      "\n",
      "=========================================================================================\n"
     ]
    },
    {
     "name": "stderr",
     "output_type": "stream",
     "text": [
      "C:\\Users\\meena\\AppData\\Local\\Temp\\ipykernel_7124\\1959198720.py:27: RuntimeWarning: invalid value encountered in scalar divide\n",
      "  f1_score = 2 * (precision * recall) / (precision + recall)\n"
     ]
    },
    {
     "name": "stdout",
     "output_type": "stream",
     "text": [
      "Train Epoch: 52\t Learning rate: 0.0000\tLoss: 13.345685\t Accuracy: 90/108 (83%)\n",
      " \n",
      "Confusion Matrix:\n",
      "[[ 0  0]\n",
      " [12 42]]\n",
      "Accuracy: 0.7777777777777778\n",
      "Precision: 0\n",
      "Recall: 0.0\n",
      "F1-Score: nan\n",
      "\n",
      "=========================================================================================\n"
     ]
    },
    {
     "name": "stderr",
     "output_type": "stream",
     "text": [
      "C:\\Users\\meena\\AppData\\Local\\Temp\\ipykernel_7124\\1959198720.py:27: RuntimeWarning: invalid value encountered in scalar divide\n",
      "  f1_score = 2 * (precision * recall) / (precision + recall)\n"
     ]
    },
    {
     "name": "stdout",
     "output_type": "stream",
     "text": [
      "Train Epoch: 53\t Learning rate: 0.0000\tLoss: 13.183109\t Accuracy: 90/108 (83%)\n",
      " \n",
      "Confusion Matrix:\n",
      "[[ 0  0]\n",
      " [12 42]]\n",
      "Accuracy: 0.7777777777777778\n",
      "Precision: 0\n",
      "Recall: 0.0\n",
      "F1-Score: nan\n",
      "\n",
      "=========================================================================================\n"
     ]
    },
    {
     "name": "stderr",
     "output_type": "stream",
     "text": [
      "C:\\Users\\meena\\AppData\\Local\\Temp\\ipykernel_7124\\1959198720.py:27: RuntimeWarning: invalid value encountered in scalar divide\n",
      "  f1_score = 2 * (precision * recall) / (precision + recall)\n"
     ]
    },
    {
     "name": "stdout",
     "output_type": "stream",
     "text": [
      "Train Epoch: 54\t Learning rate: 0.0000\tLoss: 13.057487\t Accuracy: 90/108 (83%)\n",
      " \n",
      "Confusion Matrix:\n",
      "[[ 0  0]\n",
      " [12 42]]\n",
      "Accuracy: 0.7777777777777778\n",
      "Precision: 0\n",
      "Recall: 0.0\n",
      "F1-Score: nan\n",
      "\n",
      "=========================================================================================\n"
     ]
    },
    {
     "name": "stderr",
     "output_type": "stream",
     "text": [
      "C:\\Users\\meena\\AppData\\Local\\Temp\\ipykernel_7124\\1959198720.py:27: RuntimeWarning: invalid value encountered in scalar divide\n",
      "  f1_score = 2 * (precision * recall) / (precision + recall)\n"
     ]
    },
    {
     "name": "stdout",
     "output_type": "stream",
     "text": [
      "Train Epoch: 55\t Learning rate: 0.0000\tLoss: 13.122889\t Accuracy: 90/108 (83%)\n",
      " \n",
      "Confusion Matrix:\n",
      "[[ 0  0]\n",
      " [12 42]]\n",
      "Accuracy: 0.7777777777777778\n",
      "Precision: 0\n",
      "Recall: 0.0\n",
      "F1-Score: nan\n",
      "\n",
      "=========================================================================================\n"
     ]
    },
    {
     "name": "stderr",
     "output_type": "stream",
     "text": [
      "C:\\Users\\meena\\AppData\\Local\\Temp\\ipykernel_7124\\1959198720.py:27: RuntimeWarning: invalid value encountered in scalar divide\n",
      "  f1_score = 2 * (precision * recall) / (precision + recall)\n"
     ]
    },
    {
     "name": "stdout",
     "output_type": "stream",
     "text": [
      "Train Epoch: 56\t Learning rate: 0.0000\tLoss: 13.206894\t Accuracy: 90/108 (83%)\n",
      " \n",
      "Confusion Matrix:\n",
      "[[ 0  0]\n",
      " [12 42]]\n",
      "Accuracy: 0.7777777777777778\n",
      "Precision: 0\n",
      "Recall: 0.0\n",
      "F1-Score: nan\n",
      "\n",
      "=========================================================================================\n"
     ]
    },
    {
     "name": "stderr",
     "output_type": "stream",
     "text": [
      "C:\\Users\\meena\\AppData\\Local\\Temp\\ipykernel_7124\\1959198720.py:27: RuntimeWarning: invalid value encountered in scalar divide\n",
      "  f1_score = 2 * (precision * recall) / (precision + recall)\n"
     ]
    },
    {
     "name": "stdout",
     "output_type": "stream",
     "text": [
      "Train Epoch: 57\t Learning rate: 0.0000\tLoss: 13.127792\t Accuracy: 90/108 (83%)\n",
      " \n",
      "Confusion Matrix:\n",
      "[[ 0  0]\n",
      " [12 42]]\n",
      "Accuracy: 0.7777777777777778\n",
      "Precision: 0\n",
      "Recall: 0.0\n",
      "F1-Score: nan\n",
      "\n",
      "=========================================================================================\n"
     ]
    },
    {
     "name": "stderr",
     "output_type": "stream",
     "text": [
      "C:\\Users\\meena\\AppData\\Local\\Temp\\ipykernel_7124\\1959198720.py:27: RuntimeWarning: invalid value encountered in scalar divide\n",
      "  f1_score = 2 * (precision * recall) / (precision + recall)\n"
     ]
    },
    {
     "name": "stdout",
     "output_type": "stream",
     "text": [
      "Train Epoch: 58\t Learning rate: 0.0000\tLoss: 13.064838\t Accuracy: 90/108 (83%)\n",
      " \n",
      "Confusion Matrix:\n",
      "[[ 0  0]\n",
      " [12 42]]\n",
      "Accuracy: 0.7777777777777778\n",
      "Precision: 0\n",
      "Recall: 0.0\n",
      "F1-Score: nan\n",
      "\n",
      "=========================================================================================\n"
     ]
    },
    {
     "name": "stderr",
     "output_type": "stream",
     "text": [
      "C:\\Users\\meena\\AppData\\Local\\Temp\\ipykernel_7124\\1959198720.py:27: RuntimeWarning: invalid value encountered in scalar divide\n",
      "  f1_score = 2 * (precision * recall) / (precision + recall)\n"
     ]
    },
    {
     "name": "stdout",
     "output_type": "stream",
     "text": [
      "Train Epoch: 59\t Learning rate: 0.0000\tLoss: 13.052143\t Accuracy: 90/108 (83%)\n",
      " \n",
      "Confusion Matrix:\n",
      "[[ 0  0]\n",
      " [12 42]]\n",
      "Accuracy: 0.7777777777777778\n",
      "Precision: 0\n",
      "Recall: 0.0\n",
      "F1-Score: nan\n",
      "\n",
      "=========================================================================================\n"
     ]
    },
    {
     "name": "stderr",
     "output_type": "stream",
     "text": [
      "C:\\Users\\meena\\AppData\\Local\\Temp\\ipykernel_7124\\1959198720.py:27: RuntimeWarning: invalid value encountered in scalar divide\n",
      "  f1_score = 2 * (precision * recall) / (precision + recall)\n"
     ]
    },
    {
     "name": "stdout",
     "output_type": "stream",
     "text": [
      "Train Epoch: 60\t Learning rate: 0.0000\tLoss: 13.040257\t Accuracy: 90/108 (83%)\n",
      " \n",
      "Confusion Matrix:\n",
      "[[ 0  0]\n",
      " [12 42]]\n",
      "Accuracy: 0.7777777777777778\n",
      "Precision: 0\n",
      "Recall: 0.0\n",
      "F1-Score: nan\n",
      "\n",
      "=========================================================================================\n"
     ]
    },
    {
     "name": "stderr",
     "output_type": "stream",
     "text": [
      "C:\\Users\\meena\\AppData\\Local\\Temp\\ipykernel_7124\\1959198720.py:27: RuntimeWarning: invalid value encountered in scalar divide\n",
      "  f1_score = 2 * (precision * recall) / (precision + recall)\n"
     ]
    },
    {
     "name": "stdout",
     "output_type": "stream",
     "text": [
      "Train Epoch: 61\t Learning rate: 0.0000\tLoss: 13.048127\t Accuracy: 90/108 (83%)\n",
      " \n",
      "Confusion Matrix:\n",
      "[[ 0  0]\n",
      " [12 42]]\n",
      "Accuracy: 0.7777777777777778\n",
      "Precision: 0\n",
      "Recall: 0.0\n",
      "F1-Score: nan\n",
      "\n",
      "=========================================================================================\n"
     ]
    },
    {
     "name": "stderr",
     "output_type": "stream",
     "text": [
      "C:\\Users\\meena\\AppData\\Local\\Temp\\ipykernel_7124\\1959198720.py:27: RuntimeWarning: invalid value encountered in scalar divide\n",
      "  f1_score = 2 * (precision * recall) / (precision + recall)\n"
     ]
    },
    {
     "name": "stdout",
     "output_type": "stream",
     "text": [
      "Train Epoch: 62\t Learning rate: 0.0000\tLoss: 13.118522\t Accuracy: 90/108 (83%)\n",
      " \n",
      "Confusion Matrix:\n",
      "[[ 0  0]\n",
      " [12 42]]\n",
      "Accuracy: 0.7777777777777778\n",
      "Precision: 0\n",
      "Recall: 0.0\n",
      "F1-Score: nan\n",
      "\n",
      "=========================================================================================\n"
     ]
    },
    {
     "name": "stderr",
     "output_type": "stream",
     "text": [
      "C:\\Users\\meena\\AppData\\Local\\Temp\\ipykernel_7124\\1959198720.py:27: RuntimeWarning: invalid value encountered in scalar divide\n",
      "  f1_score = 2 * (precision * recall) / (precision + recall)\n"
     ]
    },
    {
     "name": "stdout",
     "output_type": "stream",
     "text": [
      "Train Epoch: 63\t Learning rate: 0.0000\tLoss: 13.031045\t Accuracy: 90/108 (83%)\n",
      " \n",
      "Confusion Matrix:\n",
      "[[ 0  0]\n",
      " [12 42]]\n",
      "Accuracy: 0.7777777777777778\n",
      "Precision: 0\n",
      "Recall: 0.0\n",
      "F1-Score: nan\n",
      "\n",
      "=========================================================================================\n"
     ]
    },
    {
     "name": "stderr",
     "output_type": "stream",
     "text": [
      "C:\\Users\\meena\\AppData\\Local\\Temp\\ipykernel_7124\\1959198720.py:27: RuntimeWarning: invalid value encountered in scalar divide\n",
      "  f1_score = 2 * (precision * recall) / (precision + recall)\n"
     ]
    },
    {
     "name": "stdout",
     "output_type": "stream",
     "text": [
      "Train Epoch: 64\t Learning rate: 0.0000\tLoss: 13.135080\t Accuracy: 90/108 (83%)\n",
      " \n",
      "Confusion Matrix:\n",
      "[[ 0  0]\n",
      " [12 42]]\n",
      "Accuracy: 0.7777777777777778\n",
      "Precision: 0\n",
      "Recall: 0.0\n",
      "F1-Score: nan\n",
      "\n",
      "=========================================================================================\n"
     ]
    },
    {
     "name": "stderr",
     "output_type": "stream",
     "text": [
      "C:\\Users\\meena\\AppData\\Local\\Temp\\ipykernel_7124\\1959198720.py:27: RuntimeWarning: invalid value encountered in scalar divide\n",
      "  f1_score = 2 * (precision * recall) / (precision + recall)\n"
     ]
    },
    {
     "name": "stdout",
     "output_type": "stream",
     "text": [
      "Train Epoch: 65\t Learning rate: 0.0000\tLoss: 13.039784\t Accuracy: 90/108 (83%)\n",
      " \n",
      "Confusion Matrix:\n",
      "[[ 0  0]\n",
      " [12 42]]\n",
      "Accuracy: 0.7777777777777778\n",
      "Precision: 0\n",
      "Recall: 0.0\n",
      "F1-Score: nan\n",
      "\n",
      "=========================================================================================\n"
     ]
    },
    {
     "name": "stderr",
     "output_type": "stream",
     "text": [
      "C:\\Users\\meena\\AppData\\Local\\Temp\\ipykernel_7124\\1959198720.py:27: RuntimeWarning: invalid value encountered in scalar divide\n",
      "  f1_score = 2 * (precision * recall) / (precision + recall)\n"
     ]
    },
    {
     "name": "stdout",
     "output_type": "stream",
     "text": [
      "Train Epoch: 66\t Learning rate: 0.0000\tLoss: 13.105540\t Accuracy: 90/108 (83%)\n",
      " \n",
      "Confusion Matrix:\n",
      "[[ 0  0]\n",
      " [12 42]]\n",
      "Accuracy: 0.7777777777777778\n",
      "Precision: 0\n",
      "Recall: 0.0\n",
      "F1-Score: nan\n",
      "\n",
      "=========================================================================================\n"
     ]
    },
    {
     "name": "stderr",
     "output_type": "stream",
     "text": [
      "C:\\Users\\meena\\AppData\\Local\\Temp\\ipykernel_7124\\1959198720.py:27: RuntimeWarning: invalid value encountered in scalar divide\n",
      "  f1_score = 2 * (precision * recall) / (precision + recall)\n"
     ]
    },
    {
     "name": "stdout",
     "output_type": "stream",
     "text": [
      "Train Epoch: 67\t Learning rate: 0.0000\tLoss: 13.123334\t Accuracy: 90/108 (83%)\n",
      " \n",
      "Confusion Matrix:\n",
      "[[ 0  0]\n",
      " [12 42]]\n",
      "Accuracy: 0.7777777777777778\n",
      "Precision: 0\n",
      "Recall: 0.0\n",
      "F1-Score: nan\n",
      "\n",
      "=========================================================================================\n"
     ]
    },
    {
     "name": "stderr",
     "output_type": "stream",
     "text": [
      "C:\\Users\\meena\\AppData\\Local\\Temp\\ipykernel_7124\\1959198720.py:27: RuntimeWarning: invalid value encountered in scalar divide\n",
      "  f1_score = 2 * (precision * recall) / (precision + recall)\n"
     ]
    },
    {
     "name": "stdout",
     "output_type": "stream",
     "text": [
      "Train Epoch: 68\t Learning rate: 0.0000\tLoss: 13.121544\t Accuracy: 90/108 (83%)\n",
      " \n",
      "Confusion Matrix:\n",
      "[[ 0  0]\n",
      " [12 42]]\n",
      "Accuracy: 0.7777777777777778\n",
      "Precision: 0\n",
      "Recall: 0.0\n",
      "F1-Score: nan\n",
      "\n",
      "=========================================================================================\n"
     ]
    },
    {
     "name": "stderr",
     "output_type": "stream",
     "text": [
      "C:\\Users\\meena\\AppData\\Local\\Temp\\ipykernel_7124\\1959198720.py:27: RuntimeWarning: invalid value encountered in scalar divide\n",
      "  f1_score = 2 * (precision * recall) / (precision + recall)\n"
     ]
    },
    {
     "name": "stdout",
     "output_type": "stream",
     "text": [
      "Train Epoch: 69\t Learning rate: 0.0000\tLoss: 13.071953\t Accuracy: 90/108 (83%)\n",
      " \n",
      "Confusion Matrix:\n",
      "[[ 0  0]\n",
      " [12 42]]\n",
      "Accuracy: 0.7777777777777778\n",
      "Precision: 0\n",
      "Recall: 0.0\n",
      "F1-Score: nan\n",
      "\n",
      "=========================================================================================\n"
     ]
    },
    {
     "name": "stderr",
     "output_type": "stream",
     "text": [
      "C:\\Users\\meena\\AppData\\Local\\Temp\\ipykernel_7124\\1959198720.py:27: RuntimeWarning: invalid value encountered in scalar divide\n",
      "  f1_score = 2 * (precision * recall) / (precision + recall)\n"
     ]
    },
    {
     "name": "stdout",
     "output_type": "stream",
     "text": [
      "Train Epoch: 70\t Learning rate: 0.0000\tLoss: 13.084678\t Accuracy: 90/108 (83%)\n",
      " \n",
      "Confusion Matrix:\n",
      "[[ 0  0]\n",
      " [12 42]]\n",
      "Accuracy: 0.7777777777777778\n",
      "Precision: 0\n",
      "Recall: 0.0\n",
      "F1-Score: nan\n",
      "\n",
      "=========================================================================================\n"
     ]
    },
    {
     "name": "stderr",
     "output_type": "stream",
     "text": [
      "C:\\Users\\meena\\AppData\\Local\\Temp\\ipykernel_7124\\1959198720.py:27: RuntimeWarning: invalid value encountered in scalar divide\n",
      "  f1_score = 2 * (precision * recall) / (precision + recall)\n"
     ]
    },
    {
     "name": "stdout",
     "output_type": "stream",
     "text": [
      "Train Epoch: 71\t Learning rate: 0.0000\tLoss: 13.037087\t Accuracy: 90/108 (83%)\n",
      " \n",
      "Confusion Matrix:\n",
      "[[ 0  0]\n",
      " [12 42]]\n",
      "Accuracy: 0.7777777777777778\n",
      "Precision: 0\n",
      "Recall: 0.0\n",
      "F1-Score: nan\n",
      "\n",
      "=========================================================================================\n"
     ]
    },
    {
     "name": "stderr",
     "output_type": "stream",
     "text": [
      "C:\\Users\\meena\\AppData\\Local\\Temp\\ipykernel_7124\\1959198720.py:27: RuntimeWarning: invalid value encountered in scalar divide\n",
      "  f1_score = 2 * (precision * recall) / (precision + recall)\n"
     ]
    },
    {
     "name": "stdout",
     "output_type": "stream",
     "text": [
      "Train Epoch: 72\t Learning rate: 0.0000\tLoss: 13.078171\t Accuracy: 90/108 (83%)\n",
      " \n",
      "Confusion Matrix:\n",
      "[[ 0  0]\n",
      " [12 42]]\n",
      "Accuracy: 0.7777777777777778\n",
      "Precision: 0\n",
      "Recall: 0.0\n",
      "F1-Score: nan\n",
      "\n",
      "=========================================================================================\n"
     ]
    },
    {
     "name": "stderr",
     "output_type": "stream",
     "text": [
      "C:\\Users\\meena\\AppData\\Local\\Temp\\ipykernel_7124\\1959198720.py:27: RuntimeWarning: invalid value encountered in scalar divide\n",
      "  f1_score = 2 * (precision * recall) / (precision + recall)\n"
     ]
    },
    {
     "name": "stdout",
     "output_type": "stream",
     "text": [
      "Train Epoch: 73\t Learning rate: 0.0000\tLoss: 13.104116\t Accuracy: 90/108 (83%)\n",
      " \n",
      "Confusion Matrix:\n",
      "[[ 0  0]\n",
      " [12 42]]\n",
      "Accuracy: 0.7777777777777778\n",
      "Precision: 0\n",
      "Recall: 0.0\n",
      "F1-Score: nan\n",
      "\n",
      "=========================================================================================\n"
     ]
    },
    {
     "name": "stderr",
     "output_type": "stream",
     "text": [
      "C:\\Users\\meena\\AppData\\Local\\Temp\\ipykernel_7124\\1959198720.py:27: RuntimeWarning: invalid value encountered in scalar divide\n",
      "  f1_score = 2 * (precision * recall) / (precision + recall)\n"
     ]
    },
    {
     "name": "stdout",
     "output_type": "stream",
     "text": [
      "Train Epoch: 74\t Learning rate: 0.0000\tLoss: 13.096762\t Accuracy: 90/108 (83%)\n",
      " \n",
      "Confusion Matrix:\n",
      "[[ 0  0]\n",
      " [12 42]]\n",
      "Accuracy: 0.7777777777777778\n",
      "Precision: 0\n",
      "Recall: 0.0\n",
      "F1-Score: nan\n",
      "\n",
      "=========================================================================================\n"
     ]
    },
    {
     "name": "stderr",
     "output_type": "stream",
     "text": [
      "C:\\Users\\meena\\AppData\\Local\\Temp\\ipykernel_7124\\1959198720.py:27: RuntimeWarning: invalid value encountered in scalar divide\n",
      "  f1_score = 2 * (precision * recall) / (precision + recall)\n"
     ]
    },
    {
     "name": "stdout",
     "output_type": "stream",
     "text": [
      "Train Epoch: 75\t Learning rate: 0.0000\tLoss: 13.049535\t Accuracy: 90/108 (83%)\n",
      " \n",
      "Confusion Matrix:\n",
      "[[ 0  0]\n",
      " [12 42]]\n",
      "Accuracy: 0.7777777777777778\n",
      "Precision: 0\n",
      "Recall: 0.0\n",
      "F1-Score: nan\n",
      "\n",
      "=========================================================================================\n"
     ]
    },
    {
     "name": "stderr",
     "output_type": "stream",
     "text": [
      "C:\\Users\\meena\\AppData\\Local\\Temp\\ipykernel_7124\\1959198720.py:27: RuntimeWarning: invalid value encountered in scalar divide\n",
      "  f1_score = 2 * (precision * recall) / (precision + recall)\n"
     ]
    },
    {
     "name": "stdout",
     "output_type": "stream",
     "text": [
      "Train Epoch: 76\t Learning rate: 0.0000\tLoss: 12.953467\t Accuracy: 90/108 (83%)\n",
      " \n",
      "Confusion Matrix:\n",
      "[[ 0  0]\n",
      " [12 42]]\n",
      "Accuracy: 0.7777777777777778\n",
      "Precision: 0\n",
      "Recall: 0.0\n",
      "F1-Score: nan\n",
      "\n",
      "=========================================================================================\n"
     ]
    },
    {
     "name": "stderr",
     "output_type": "stream",
     "text": [
      "C:\\Users\\meena\\AppData\\Local\\Temp\\ipykernel_7124\\1959198720.py:27: RuntimeWarning: invalid value encountered in scalar divide\n",
      "  f1_score = 2 * (precision * recall) / (precision + recall)\n"
     ]
    },
    {
     "name": "stdout",
     "output_type": "stream",
     "text": [
      "Train Epoch: 77\t Learning rate: 0.0000\tLoss: 13.073400\t Accuracy: 90/108 (83%)\n",
      " \n",
      "Confusion Matrix:\n",
      "[[ 0  0]\n",
      " [12 42]]\n",
      "Accuracy: 0.7777777777777778\n",
      "Precision: 0\n",
      "Recall: 0.0\n",
      "F1-Score: nan\n",
      "\n",
      "=========================================================================================\n"
     ]
    },
    {
     "name": "stderr",
     "output_type": "stream",
     "text": [
      "C:\\Users\\meena\\AppData\\Local\\Temp\\ipykernel_7124\\1959198720.py:27: RuntimeWarning: invalid value encountered in scalar divide\n",
      "  f1_score = 2 * (precision * recall) / (precision + recall)\n"
     ]
    },
    {
     "name": "stdout",
     "output_type": "stream",
     "text": [
      "Train Epoch: 78\t Learning rate: 0.0000\tLoss: 12.973384\t Accuracy: 90/108 (83%)\n",
      " \n",
      "Confusion Matrix:\n",
      "[[ 0  0]\n",
      " [12 42]]\n",
      "Accuracy: 0.7777777777777778\n",
      "Precision: 0\n",
      "Recall: 0.0\n",
      "F1-Score: nan\n",
      "\n",
      "=========================================================================================\n"
     ]
    },
    {
     "name": "stderr",
     "output_type": "stream",
     "text": [
      "C:\\Users\\meena\\AppData\\Local\\Temp\\ipykernel_7124\\1959198720.py:27: RuntimeWarning: invalid value encountered in scalar divide\n",
      "  f1_score = 2 * (precision * recall) / (precision + recall)\n"
     ]
    },
    {
     "name": "stdout",
     "output_type": "stream",
     "text": [
      "Train Epoch: 79\t Learning rate: 0.0000\tLoss: 12.943289\t Accuracy: 90/108 (83%)\n",
      " \n",
      "Confusion Matrix:\n",
      "[[ 0  0]\n",
      " [12 42]]\n",
      "Accuracy: 0.7777777777777778\n",
      "Precision: 0\n",
      "Recall: 0.0\n",
      "F1-Score: nan\n",
      "\n",
      "=========================================================================================\n"
     ]
    },
    {
     "name": "stderr",
     "output_type": "stream",
     "text": [
      "C:\\Users\\meena\\AppData\\Local\\Temp\\ipykernel_7124\\1959198720.py:27: RuntimeWarning: invalid value encountered in scalar divide\n",
      "  f1_score = 2 * (precision * recall) / (precision + recall)\n"
     ]
    },
    {
     "name": "stdout",
     "output_type": "stream",
     "text": [
      "Train Epoch: 80\t Learning rate: 0.0000\tLoss: 12.936079\t Accuracy: 90/108 (83%)\n",
      " \n",
      "Confusion Matrix:\n",
      "[[ 0  0]\n",
      " [12 42]]\n",
      "Accuracy: 0.7777777777777778\n",
      "Precision: 0\n",
      "Recall: 0.0\n",
      "F1-Score: nan\n",
      "\n",
      "=========================================================================================\n"
     ]
    },
    {
     "name": "stderr",
     "output_type": "stream",
     "text": [
      "C:\\Users\\meena\\AppData\\Local\\Temp\\ipykernel_7124\\1959198720.py:27: RuntimeWarning: invalid value encountered in scalar divide\n",
      "  f1_score = 2 * (precision * recall) / (precision + recall)\n"
     ]
    },
    {
     "name": "stdout",
     "output_type": "stream",
     "text": [
      "Train Epoch: 81\t Learning rate: 0.0000\tLoss: 12.988426\t Accuracy: 90/108 (83%)\n",
      " \n",
      "Confusion Matrix:\n",
      "[[ 0  0]\n",
      " [12 42]]\n",
      "Accuracy: 0.7777777777777778\n",
      "Precision: 0\n",
      "Recall: 0.0\n",
      "F1-Score: nan\n",
      "\n",
      "=========================================================================================\n"
     ]
    },
    {
     "name": "stderr",
     "output_type": "stream",
     "text": [
      "C:\\Users\\meena\\AppData\\Local\\Temp\\ipykernel_7124\\1959198720.py:27: RuntimeWarning: invalid value encountered in scalar divide\n",
      "  f1_score = 2 * (precision * recall) / (precision + recall)\n"
     ]
    },
    {
     "name": "stdout",
     "output_type": "stream",
     "text": [
      "Train Epoch: 82\t Learning rate: 0.0000\tLoss: 13.018637\t Accuracy: 90/108 (83%)\n",
      " \n",
      "Confusion Matrix:\n",
      "[[ 0  0]\n",
      " [12 42]]\n",
      "Accuracy: 0.7777777777777778\n",
      "Precision: 0\n",
      "Recall: 0.0\n",
      "F1-Score: nan\n",
      "\n",
      "=========================================================================================\n"
     ]
    },
    {
     "name": "stderr",
     "output_type": "stream",
     "text": [
      "C:\\Users\\meena\\AppData\\Local\\Temp\\ipykernel_7124\\1959198720.py:27: RuntimeWarning: invalid value encountered in scalar divide\n",
      "  f1_score = 2 * (precision * recall) / (precision + recall)\n"
     ]
    },
    {
     "name": "stdout",
     "output_type": "stream",
     "text": [
      "Train Epoch: 83\t Learning rate: 0.0000\tLoss: 12.984798\t Accuracy: 90/108 (83%)\n",
      " \n",
      "Confusion Matrix:\n",
      "[[ 0  0]\n",
      " [12 42]]\n",
      "Accuracy: 0.7777777777777778\n",
      "Precision: 0\n",
      "Recall: 0.0\n",
      "F1-Score: nan\n",
      "\n",
      "=========================================================================================\n"
     ]
    },
    {
     "name": "stderr",
     "output_type": "stream",
     "text": [
      "C:\\Users\\meena\\AppData\\Local\\Temp\\ipykernel_7124\\1959198720.py:27: RuntimeWarning: invalid value encountered in scalar divide\n",
      "  f1_score = 2 * (precision * recall) / (precision + recall)\n"
     ]
    },
    {
     "name": "stdout",
     "output_type": "stream",
     "text": [
      "Train Epoch: 84\t Learning rate: 0.0000\tLoss: 13.002762\t Accuracy: 90/108 (83%)\n",
      " \n",
      "Confusion Matrix:\n",
      "[[ 0  0]\n",
      " [12 42]]\n",
      "Accuracy: 0.7777777777777778\n",
      "Precision: 0\n",
      "Recall: 0.0\n",
      "F1-Score: nan\n",
      "\n",
      "=========================================================================================\n"
     ]
    },
    {
     "name": "stderr",
     "output_type": "stream",
     "text": [
      "C:\\Users\\meena\\AppData\\Local\\Temp\\ipykernel_7124\\1959198720.py:27: RuntimeWarning: invalid value encountered in scalar divide\n",
      "  f1_score = 2 * (precision * recall) / (precision + recall)\n"
     ]
    },
    {
     "name": "stdout",
     "output_type": "stream",
     "text": [
      "Train Epoch: 85\t Learning rate: 0.0000\tLoss: 12.956833\t Accuracy: 90/108 (83%)\n",
      " \n",
      "Confusion Matrix:\n",
      "[[ 0  0]\n",
      " [12 42]]\n",
      "Accuracy: 0.7777777777777778\n",
      "Precision: 0\n",
      "Recall: 0.0\n",
      "F1-Score: nan\n",
      "\n",
      "=========================================================================================\n"
     ]
    },
    {
     "name": "stderr",
     "output_type": "stream",
     "text": [
      "C:\\Users\\meena\\AppData\\Local\\Temp\\ipykernel_7124\\1959198720.py:27: RuntimeWarning: invalid value encountered in scalar divide\n",
      "  f1_score = 2 * (precision * recall) / (precision + recall)\n"
     ]
    },
    {
     "name": "stdout",
     "output_type": "stream",
     "text": [
      "Train Epoch: 86\t Learning rate: 0.0000\tLoss: 13.024762\t Accuracy: 90/108 (83%)\n",
      " \n",
      "Confusion Matrix:\n",
      "[[ 0  0]\n",
      " [12 42]]\n",
      "Accuracy: 0.7777777777777778\n",
      "Precision: 0\n",
      "Recall: 0.0\n",
      "F1-Score: nan\n",
      "\n",
      "=========================================================================================\n"
     ]
    },
    {
     "name": "stderr",
     "output_type": "stream",
     "text": [
      "C:\\Users\\meena\\AppData\\Local\\Temp\\ipykernel_7124\\1959198720.py:27: RuntimeWarning: invalid value encountered in scalar divide\n",
      "  f1_score = 2 * (precision * recall) / (precision + recall)\n"
     ]
    },
    {
     "name": "stdout",
     "output_type": "stream",
     "text": [
      "Train Epoch: 87\t Learning rate: 0.0000\tLoss: 13.023938\t Accuracy: 90/108 (83%)\n",
      " \n",
      "Confusion Matrix:\n",
      "[[ 0  0]\n",
      " [12 42]]\n",
      "Accuracy: 0.7777777777777778\n",
      "Precision: 0\n",
      "Recall: 0.0\n",
      "F1-Score: nan\n",
      "\n",
      "=========================================================================================\n"
     ]
    },
    {
     "name": "stderr",
     "output_type": "stream",
     "text": [
      "C:\\Users\\meena\\AppData\\Local\\Temp\\ipykernel_7124\\1959198720.py:27: RuntimeWarning: invalid value encountered in scalar divide\n",
      "  f1_score = 2 * (precision * recall) / (precision + recall)\n"
     ]
    },
    {
     "name": "stdout",
     "output_type": "stream",
     "text": [
      "Train Epoch: 88\t Learning rate: 0.0000\tLoss: 13.042578\t Accuracy: 90/108 (83%)\n",
      " \n",
      "Confusion Matrix:\n",
      "[[ 0  0]\n",
      " [12 42]]\n",
      "Accuracy: 0.7777777777777778\n",
      "Precision: 0\n",
      "Recall: 0.0\n",
      "F1-Score: nan\n",
      "\n",
      "=========================================================================================\n"
     ]
    },
    {
     "name": "stderr",
     "output_type": "stream",
     "text": [
      "C:\\Users\\meena\\AppData\\Local\\Temp\\ipykernel_7124\\1959198720.py:27: RuntimeWarning: invalid value encountered in scalar divide\n",
      "  f1_score = 2 * (precision * recall) / (precision + recall)\n"
     ]
    },
    {
     "name": "stdout",
     "output_type": "stream",
     "text": [
      "Train Epoch: 89\t Learning rate: 0.0000\tLoss: 12.944600\t Accuracy: 90/108 (83%)\n",
      " \n",
      "Confusion Matrix:\n",
      "[[ 0  0]\n",
      " [12 42]]\n",
      "Accuracy: 0.7777777777777778\n",
      "Precision: 0\n",
      "Recall: 0.0\n",
      "F1-Score: nan\n",
      "\n",
      "=========================================================================================\n"
     ]
    },
    {
     "name": "stderr",
     "output_type": "stream",
     "text": [
      "C:\\Users\\meena\\AppData\\Local\\Temp\\ipykernel_7124\\1959198720.py:27: RuntimeWarning: invalid value encountered in scalar divide\n",
      "  f1_score = 2 * (precision * recall) / (precision + recall)\n"
     ]
    },
    {
     "name": "stdout",
     "output_type": "stream",
     "text": [
      "Train Epoch: 90\t Learning rate: 0.0000\tLoss: 12.967988\t Accuracy: 90/108 (83%)\n",
      " \n",
      "Confusion Matrix:\n",
      "[[ 0  0]\n",
      " [12 42]]\n",
      "Accuracy: 0.7777777777777778\n",
      "Precision: 0\n",
      "Recall: 0.0\n",
      "F1-Score: nan\n",
      "\n",
      "=========================================================================================\n"
     ]
    },
    {
     "name": "stderr",
     "output_type": "stream",
     "text": [
      "C:\\Users\\meena\\AppData\\Local\\Temp\\ipykernel_7124\\1959198720.py:27: RuntimeWarning: invalid value encountered in scalar divide\n",
      "  f1_score = 2 * (precision * recall) / (precision + recall)\n"
     ]
    },
    {
     "name": "stdout",
     "output_type": "stream",
     "text": [
      "Train Epoch: 91\t Learning rate: 0.0000\tLoss: 12.992902\t Accuracy: 90/108 (83%)\n",
      " \n",
      "Confusion Matrix:\n",
      "[[ 0  0]\n",
      " [12 42]]\n",
      "Accuracy: 0.7777777777777778\n",
      "Precision: 0\n",
      "Recall: 0.0\n",
      "F1-Score: nan\n",
      "\n",
      "=========================================================================================\n"
     ]
    },
    {
     "name": "stderr",
     "output_type": "stream",
     "text": [
      "C:\\Users\\meena\\AppData\\Local\\Temp\\ipykernel_7124\\1959198720.py:27: RuntimeWarning: invalid value encountered in scalar divide\n",
      "  f1_score = 2 * (precision * recall) / (precision + recall)\n"
     ]
    },
    {
     "name": "stdout",
     "output_type": "stream",
     "text": [
      "Train Epoch: 92\t Learning rate: 0.0000\tLoss: 12.975986\t Accuracy: 90/108 (83%)\n",
      " \n",
      "Confusion Matrix:\n",
      "[[ 0  0]\n",
      " [12 42]]\n",
      "Accuracy: 0.7777777777777778\n",
      "Precision: 0\n",
      "Recall: 0.0\n",
      "F1-Score: nan\n",
      "\n",
      "=========================================================================================\n"
     ]
    },
    {
     "name": "stderr",
     "output_type": "stream",
     "text": [
      "C:\\Users\\meena\\AppData\\Local\\Temp\\ipykernel_7124\\1959198720.py:27: RuntimeWarning: invalid value encountered in scalar divide\n",
      "  f1_score = 2 * (precision * recall) / (precision + recall)\n"
     ]
    },
    {
     "name": "stdout",
     "output_type": "stream",
     "text": [
      "Train Epoch: 93\t Learning rate: 0.0000\tLoss: 13.026930\t Accuracy: 90/108 (83%)\n",
      " \n",
      "Confusion Matrix:\n",
      "[[ 0  0]\n",
      " [12 42]]\n",
      "Accuracy: 0.7777777777777778\n",
      "Precision: 0\n",
      "Recall: 0.0\n",
      "F1-Score: nan\n",
      "\n",
      "=========================================================================================\n"
     ]
    },
    {
     "name": "stderr",
     "output_type": "stream",
     "text": [
      "C:\\Users\\meena\\AppData\\Local\\Temp\\ipykernel_7124\\1959198720.py:27: RuntimeWarning: invalid value encountered in scalar divide\n",
      "  f1_score = 2 * (precision * recall) / (precision + recall)\n"
     ]
    },
    {
     "name": "stdout",
     "output_type": "stream",
     "text": [
      "Train Epoch: 94\t Learning rate: 0.0000\tLoss: 13.017739\t Accuracy: 90/108 (83%)\n",
      " \n",
      "Confusion Matrix:\n",
      "[[ 0  0]\n",
      " [12 42]]\n",
      "Accuracy: 0.7777777777777778\n",
      "Precision: 0\n",
      "Recall: 0.0\n",
      "F1-Score: nan\n",
      "\n",
      "=========================================================================================\n"
     ]
    },
    {
     "name": "stderr",
     "output_type": "stream",
     "text": [
      "C:\\Users\\meena\\AppData\\Local\\Temp\\ipykernel_7124\\1959198720.py:27: RuntimeWarning: invalid value encountered in scalar divide\n",
      "  f1_score = 2 * (precision * recall) / (precision + recall)\n"
     ]
    },
    {
     "name": "stdout",
     "output_type": "stream",
     "text": [
      "Train Epoch: 95\t Learning rate: 0.0000\tLoss: 12.945118\t Accuracy: 90/108 (83%)\n",
      " \n",
      "Confusion Matrix:\n",
      "[[ 0  0]\n",
      " [12 42]]\n",
      "Accuracy: 0.7777777777777778\n",
      "Precision: 0\n",
      "Recall: 0.0\n",
      "F1-Score: nan\n",
      "\n",
      "=========================================================================================\n"
     ]
    },
    {
     "name": "stderr",
     "output_type": "stream",
     "text": [
      "C:\\Users\\meena\\AppData\\Local\\Temp\\ipykernel_7124\\1959198720.py:27: RuntimeWarning: invalid value encountered in scalar divide\n",
      "  f1_score = 2 * (precision * recall) / (precision + recall)\n"
     ]
    },
    {
     "name": "stdout",
     "output_type": "stream",
     "text": [
      "Train Epoch: 96\t Learning rate: 0.0000\tLoss: 12.979316\t Accuracy: 90/108 (83%)\n",
      " \n",
      "Confusion Matrix:\n",
      "[[ 0  0]\n",
      " [12 42]]\n",
      "Accuracy: 0.7777777777777778\n",
      "Precision: 0\n",
      "Recall: 0.0\n",
      "F1-Score: nan\n",
      "\n",
      "=========================================================================================\n"
     ]
    },
    {
     "name": "stderr",
     "output_type": "stream",
     "text": [
      "C:\\Users\\meena\\AppData\\Local\\Temp\\ipykernel_7124\\1959198720.py:27: RuntimeWarning: invalid value encountered in scalar divide\n",
      "  f1_score = 2 * (precision * recall) / (precision + recall)\n"
     ]
    },
    {
     "name": "stdout",
     "output_type": "stream",
     "text": [
      "Train Epoch: 97\t Learning rate: 0.0000\tLoss: 12.910457\t Accuracy: 90/108 (83%)\n",
      " \n",
      "Confusion Matrix:\n",
      "[[ 0  0]\n",
      " [12 42]]\n",
      "Accuracy: 0.7777777777777778\n",
      "Precision: 0\n",
      "Recall: 0.0\n",
      "F1-Score: nan\n",
      "\n",
      "=========================================================================================\n"
     ]
    },
    {
     "name": "stderr",
     "output_type": "stream",
     "text": [
      "C:\\Users\\meena\\AppData\\Local\\Temp\\ipykernel_7124\\1959198720.py:27: RuntimeWarning: invalid value encountered in scalar divide\n",
      "  f1_score = 2 * (precision * recall) / (precision + recall)\n"
     ]
    },
    {
     "name": "stdout",
     "output_type": "stream",
     "text": [
      "Train Epoch: 98\t Learning rate: 0.0000\tLoss: 12.975747\t Accuracy: 90/108 (83%)\n",
      " \n",
      "Confusion Matrix:\n",
      "[[ 0  0]\n",
      " [12 42]]\n",
      "Accuracy: 0.7777777777777778\n",
      "Precision: 0\n",
      "Recall: 0.0\n",
      "F1-Score: nan\n",
      "\n",
      "=========================================================================================\n"
     ]
    },
    {
     "name": "stderr",
     "output_type": "stream",
     "text": [
      "C:\\Users\\meena\\AppData\\Local\\Temp\\ipykernel_7124\\1959198720.py:27: RuntimeWarning: invalid value encountered in scalar divide\n",
      "  f1_score = 2 * (precision * recall) / (precision + recall)\n"
     ]
    },
    {
     "name": "stdout",
     "output_type": "stream",
     "text": [
      "Train Epoch: 99\t Learning rate: 0.0000\tLoss: 13.006172\t Accuracy: 90/108 (83%)\n",
      " \n",
      "Confusion Matrix:\n",
      "[[ 0  0]\n",
      " [12 42]]\n",
      "Accuracy: 0.7777777777777778\n",
      "Precision: 0\n",
      "Recall: 0.0\n",
      "F1-Score: nan\n",
      "\n",
      "=========================================================================================\n"
     ]
    },
    {
     "name": "stderr",
     "output_type": "stream",
     "text": [
      "C:\\Users\\meena\\AppData\\Local\\Temp\\ipykernel_7124\\1959198720.py:27: RuntimeWarning: invalid value encountered in scalar divide\n",
      "  f1_score = 2 * (precision * recall) / (precision + recall)\n"
     ]
    },
    {
     "name": "stdout",
     "output_type": "stream",
     "text": [
      "Train Epoch: 100\t Learning rate: 0.0000\tLoss: 12.996501\t Accuracy: 90/108 (83%)\n",
      " \n",
      "Confusion Matrix:\n",
      "[[ 0  0]\n",
      " [12 42]]\n",
      "Accuracy: 0.7777777777777778\n",
      "Precision: 0\n",
      "Recall: 0.0\n",
      "F1-Score: nan\n",
      "\n",
      "=========================================================================================\n"
     ]
    },
    {
     "name": "stderr",
     "output_type": "stream",
     "text": [
      "C:\\Users\\meena\\AppData\\Local\\Temp\\ipykernel_7124\\1959198720.py:27: RuntimeWarning: invalid value encountered in scalar divide\n",
      "  f1_score = 2 * (precision * recall) / (precision + recall)\n"
     ]
    },
    {
     "name": "stdout",
     "output_type": "stream",
     "text": [
      "Train Epoch: 101\t Learning rate: 0.0000\tLoss: 13.013739\t Accuracy: 90/108 (83%)\n",
      " \n",
      "Confusion Matrix:\n",
      "[[ 0  0]\n",
      " [12 42]]\n",
      "Accuracy: 0.7777777777777778\n",
      "Precision: 0\n",
      "Recall: 0.0\n",
      "F1-Score: nan\n",
      "\n",
      "=========================================================================================\n"
     ]
    },
    {
     "name": "stderr",
     "output_type": "stream",
     "text": [
      "C:\\Users\\meena\\AppData\\Local\\Temp\\ipykernel_7124\\1959198720.py:27: RuntimeWarning: invalid value encountered in scalar divide\n",
      "  f1_score = 2 * (precision * recall) / (precision + recall)\n"
     ]
    },
    {
     "name": "stdout",
     "output_type": "stream",
     "text": [
      "Train Epoch: 102\t Learning rate: 0.0000\tLoss: 12.959101\t Accuracy: 90/108 (83%)\n",
      " \n",
      "Confusion Matrix:\n",
      "[[ 0  0]\n",
      " [12 42]]\n",
      "Accuracy: 0.7777777777777778\n",
      "Precision: 0\n",
      "Recall: 0.0\n",
      "F1-Score: nan\n",
      "\n",
      "=========================================================================================\n"
     ]
    },
    {
     "name": "stderr",
     "output_type": "stream",
     "text": [
      "C:\\Users\\meena\\AppData\\Local\\Temp\\ipykernel_7124\\1959198720.py:27: RuntimeWarning: invalid value encountered in scalar divide\n",
      "  f1_score = 2 * (precision * recall) / (precision + recall)\n"
     ]
    },
    {
     "name": "stdout",
     "output_type": "stream",
     "text": [
      "Train Epoch: 103\t Learning rate: 0.0000\tLoss: 12.969365\t Accuracy: 90/108 (83%)\n",
      " \n",
      "Confusion Matrix:\n",
      "[[ 0  0]\n",
      " [12 42]]\n",
      "Accuracy: 0.7777777777777778\n",
      "Precision: 0\n",
      "Recall: 0.0\n",
      "F1-Score: nan\n",
      "\n",
      "=========================================================================================\n"
     ]
    },
    {
     "name": "stderr",
     "output_type": "stream",
     "text": [
      "C:\\Users\\meena\\AppData\\Local\\Temp\\ipykernel_7124\\1959198720.py:27: RuntimeWarning: invalid value encountered in scalar divide\n",
      "  f1_score = 2 * (precision * recall) / (precision + recall)\n"
     ]
    },
    {
     "name": "stdout",
     "output_type": "stream",
     "text": [
      "Train Epoch: 104\t Learning rate: 0.0000\tLoss: 12.956001\t Accuracy: 90/108 (83%)\n",
      " \n",
      "Confusion Matrix:\n",
      "[[ 0  0]\n",
      " [12 42]]\n",
      "Accuracy: 0.7777777777777778\n",
      "Precision: 0\n",
      "Recall: 0.0\n",
      "F1-Score: nan\n",
      "\n",
      "=========================================================================================\n"
     ]
    },
    {
     "name": "stderr",
     "output_type": "stream",
     "text": [
      "C:\\Users\\meena\\AppData\\Local\\Temp\\ipykernel_7124\\1959198720.py:27: RuntimeWarning: invalid value encountered in scalar divide\n",
      "  f1_score = 2 * (precision * recall) / (precision + recall)\n"
     ]
    },
    {
     "name": "stdout",
     "output_type": "stream",
     "text": [
      "Train Epoch: 105\t Learning rate: 0.0000\tLoss: 12.920033\t Accuracy: 90/108 (83%)\n",
      " \n",
      "Confusion Matrix:\n",
      "[[ 0  0]\n",
      " [12 42]]\n",
      "Accuracy: 0.7777777777777778\n",
      "Precision: 0\n",
      "Recall: 0.0\n",
      "F1-Score: nan\n",
      "\n",
      "=========================================================================================\n"
     ]
    },
    {
     "name": "stderr",
     "output_type": "stream",
     "text": [
      "C:\\Users\\meena\\AppData\\Local\\Temp\\ipykernel_7124\\1959198720.py:27: RuntimeWarning: invalid value encountered in scalar divide\n",
      "  f1_score = 2 * (precision * recall) / (precision + recall)\n"
     ]
    },
    {
     "name": "stdout",
     "output_type": "stream",
     "text": [
      "Train Epoch: 106\t Learning rate: 0.0000\tLoss: 12.980681\t Accuracy: 90/108 (83%)\n",
      " \n",
      "Confusion Matrix:\n",
      "[[ 0  0]\n",
      " [12 42]]\n",
      "Accuracy: 0.7777777777777778\n",
      "Precision: 0\n",
      "Recall: 0.0\n",
      "F1-Score: nan\n",
      "\n",
      "=========================================================================================\n"
     ]
    },
    {
     "name": "stderr",
     "output_type": "stream",
     "text": [
      "C:\\Users\\meena\\AppData\\Local\\Temp\\ipykernel_7124\\1959198720.py:27: RuntimeWarning: invalid value encountered in scalar divide\n",
      "  f1_score = 2 * (precision * recall) / (precision + recall)\n"
     ]
    },
    {
     "name": "stdout",
     "output_type": "stream",
     "text": [
      "Train Epoch: 107\t Learning rate: 0.0000\tLoss: 13.007726\t Accuracy: 90/108 (83%)\n",
      " \n",
      "Confusion Matrix:\n",
      "[[ 0  0]\n",
      " [12 42]]\n",
      "Accuracy: 0.7777777777777778\n",
      "Precision: 0\n",
      "Recall: 0.0\n",
      "F1-Score: nan\n",
      "\n",
      "=========================================================================================\n"
     ]
    },
    {
     "name": "stderr",
     "output_type": "stream",
     "text": [
      "C:\\Users\\meena\\AppData\\Local\\Temp\\ipykernel_7124\\1959198720.py:27: RuntimeWarning: invalid value encountered in scalar divide\n",
      "  f1_score = 2 * (precision * recall) / (precision + recall)\n"
     ]
    },
    {
     "name": "stdout",
     "output_type": "stream",
     "text": [
      "Train Epoch: 108\t Learning rate: 0.0000\tLoss: 12.985637\t Accuracy: 90/108 (83%)\n",
      " \n",
      "Confusion Matrix:\n",
      "[[ 0  0]\n",
      " [12 42]]\n",
      "Accuracy: 0.7777777777777778\n",
      "Precision: 0\n",
      "Recall: 0.0\n",
      "F1-Score: nan\n",
      "\n",
      "=========================================================================================\n"
     ]
    },
    {
     "name": "stderr",
     "output_type": "stream",
     "text": [
      "C:\\Users\\meena\\AppData\\Local\\Temp\\ipykernel_7124\\1959198720.py:27: RuntimeWarning: invalid value encountered in scalar divide\n",
      "  f1_score = 2 * (precision * recall) / (precision + recall)\n"
     ]
    },
    {
     "name": "stdout",
     "output_type": "stream",
     "text": [
      "Train Epoch: 109\t Learning rate: 0.0000\tLoss: 12.992522\t Accuracy: 90/108 (83%)\n",
      " \n",
      "Confusion Matrix:\n",
      "[[ 0  0]\n",
      " [12 42]]\n",
      "Accuracy: 0.7777777777777778\n",
      "Precision: 0\n",
      "Recall: 0.0\n",
      "F1-Score: nan\n",
      "\n",
      "=========================================================================================\n"
     ]
    },
    {
     "name": "stderr",
     "output_type": "stream",
     "text": [
      "C:\\Users\\meena\\AppData\\Local\\Temp\\ipykernel_7124\\1959198720.py:27: RuntimeWarning: invalid value encountered in scalar divide\n",
      "  f1_score = 2 * (precision * recall) / (precision + recall)\n"
     ]
    },
    {
     "name": "stdout",
     "output_type": "stream",
     "text": [
      "Train Epoch: 110\t Learning rate: 0.0000\tLoss: 12.923606\t Accuracy: 90/108 (83%)\n",
      " \n",
      "Confusion Matrix:\n",
      "[[ 0  0]\n",
      " [12 42]]\n",
      "Accuracy: 0.7777777777777778\n",
      "Precision: 0\n",
      "Recall: 0.0\n",
      "F1-Score: nan\n",
      "\n",
      "=========================================================================================\n"
     ]
    },
    {
     "name": "stderr",
     "output_type": "stream",
     "text": [
      "C:\\Users\\meena\\AppData\\Local\\Temp\\ipykernel_7124\\1959198720.py:27: RuntimeWarning: invalid value encountered in scalar divide\n",
      "  f1_score = 2 * (precision * recall) / (precision + recall)\n"
     ]
    },
    {
     "name": "stdout",
     "output_type": "stream",
     "text": [
      "Train Epoch: 111\t Learning rate: 0.0000\tLoss: 12.984038\t Accuracy: 90/108 (83%)\n",
      " \n",
      "Confusion Matrix:\n",
      "[[ 0  0]\n",
      " [12 42]]\n",
      "Accuracy: 0.7777777777777778\n",
      "Precision: 0\n",
      "Recall: 0.0\n",
      "F1-Score: nan\n",
      "\n",
      "=========================================================================================\n"
     ]
    },
    {
     "name": "stderr",
     "output_type": "stream",
     "text": [
      "C:\\Users\\meena\\AppData\\Local\\Temp\\ipykernel_7124\\1959198720.py:27: RuntimeWarning: invalid value encountered in scalar divide\n",
      "  f1_score = 2 * (precision * recall) / (precision + recall)\n"
     ]
    },
    {
     "name": "stdout",
     "output_type": "stream",
     "text": [
      "Train Epoch: 112\t Learning rate: 0.0000\tLoss: 12.971150\t Accuracy: 90/108 (83%)\n",
      " \n",
      "Confusion Matrix:\n",
      "[[ 0  0]\n",
      " [12 42]]\n",
      "Accuracy: 0.7777777777777778\n",
      "Precision: 0\n",
      "Recall: 0.0\n",
      "F1-Score: nan\n",
      "\n",
      "=========================================================================================\n"
     ]
    },
    {
     "name": "stderr",
     "output_type": "stream",
     "text": [
      "C:\\Users\\meena\\AppData\\Local\\Temp\\ipykernel_7124\\1959198720.py:27: RuntimeWarning: invalid value encountered in scalar divide\n",
      "  f1_score = 2 * (precision * recall) / (precision + recall)\n"
     ]
    },
    {
     "name": "stdout",
     "output_type": "stream",
     "text": [
      "Train Epoch: 113\t Learning rate: 0.0000\tLoss: 13.064772\t Accuracy: 90/108 (83%)\n",
      " \n",
      "Confusion Matrix:\n",
      "[[ 0  0]\n",
      " [12 42]]\n",
      "Accuracy: 0.7777777777777778\n",
      "Precision: 0\n",
      "Recall: 0.0\n",
      "F1-Score: nan\n",
      "\n",
      "=========================================================================================\n"
     ]
    },
    {
     "name": "stderr",
     "output_type": "stream",
     "text": [
      "C:\\Users\\meena\\AppData\\Local\\Temp\\ipykernel_7124\\1959198720.py:27: RuntimeWarning: invalid value encountered in scalar divide\n",
      "  f1_score = 2 * (precision * recall) / (precision + recall)\n"
     ]
    },
    {
     "name": "stdout",
     "output_type": "stream",
     "text": [
      "Train Epoch: 114\t Learning rate: 0.0000\tLoss: 13.013481\t Accuracy: 90/108 (83%)\n",
      " \n",
      "Confusion Matrix:\n",
      "[[ 0  0]\n",
      " [12 42]]\n",
      "Accuracy: 0.7777777777777778\n",
      "Precision: 0\n",
      "Recall: 0.0\n",
      "F1-Score: nan\n",
      "\n",
      "=========================================================================================\n"
     ]
    },
    {
     "name": "stderr",
     "output_type": "stream",
     "text": [
      "C:\\Users\\meena\\AppData\\Local\\Temp\\ipykernel_7124\\1959198720.py:27: RuntimeWarning: invalid value encountered in scalar divide\n",
      "  f1_score = 2 * (precision * recall) / (precision + recall)\n"
     ]
    },
    {
     "name": "stdout",
     "output_type": "stream",
     "text": [
      "Train Epoch: 115\t Learning rate: 0.0000\tLoss: 12.961238\t Accuracy: 90/108 (83%)\n",
      " \n",
      "Confusion Matrix:\n",
      "[[ 0  0]\n",
      " [12 42]]\n",
      "Accuracy: 0.7777777777777778\n",
      "Precision: 0\n",
      "Recall: 0.0\n",
      "F1-Score: nan\n",
      "\n",
      "=========================================================================================\n"
     ]
    },
    {
     "name": "stderr",
     "output_type": "stream",
     "text": [
      "C:\\Users\\meena\\AppData\\Local\\Temp\\ipykernel_7124\\1959198720.py:27: RuntimeWarning: invalid value encountered in scalar divide\n",
      "  f1_score = 2 * (precision * recall) / (precision + recall)\n"
     ]
    },
    {
     "name": "stdout",
     "output_type": "stream",
     "text": [
      "Train Epoch: 116\t Learning rate: 0.0000\tLoss: 12.948959\t Accuracy: 90/108 (83%)\n",
      " \n",
      "Confusion Matrix:\n",
      "[[ 0  0]\n",
      " [12 42]]\n",
      "Accuracy: 0.7777777777777778\n",
      "Precision: 0\n",
      "Recall: 0.0\n",
      "F1-Score: nan\n",
      "\n",
      "=========================================================================================\n"
     ]
    },
    {
     "name": "stderr",
     "output_type": "stream",
     "text": [
      "C:\\Users\\meena\\AppData\\Local\\Temp\\ipykernel_7124\\1959198720.py:27: RuntimeWarning: invalid value encountered in scalar divide\n",
      "  f1_score = 2 * (precision * recall) / (precision + recall)\n"
     ]
    },
    {
     "name": "stdout",
     "output_type": "stream",
     "text": [
      "Train Epoch: 117\t Learning rate: 0.0000\tLoss: 12.895708\t Accuracy: 90/108 (83%)\n",
      " \n",
      "Confusion Matrix:\n",
      "[[ 0  0]\n",
      " [12 42]]\n",
      "Accuracy: 0.7777777777777778\n",
      "Precision: 0\n",
      "Recall: 0.0\n",
      "F1-Score: nan\n",
      "\n",
      "=========================================================================================\n"
     ]
    },
    {
     "name": "stderr",
     "output_type": "stream",
     "text": [
      "C:\\Users\\meena\\AppData\\Local\\Temp\\ipykernel_7124\\1959198720.py:27: RuntimeWarning: invalid value encountered in scalar divide\n",
      "  f1_score = 2 * (precision * recall) / (precision + recall)\n"
     ]
    },
    {
     "name": "stdout",
     "output_type": "stream",
     "text": [
      "Train Epoch: 118\t Learning rate: 0.0000\tLoss: 12.938969\t Accuracy: 90/108 (83%)\n",
      " \n",
      "Confusion Matrix:\n",
      "[[ 0  0]\n",
      " [12 42]]\n",
      "Accuracy: 0.7777777777777778\n",
      "Precision: 0\n",
      "Recall: 0.0\n",
      "F1-Score: nan\n",
      "\n",
      "=========================================================================================\n"
     ]
    },
    {
     "name": "stderr",
     "output_type": "stream",
     "text": [
      "C:\\Users\\meena\\AppData\\Local\\Temp\\ipykernel_7124\\1959198720.py:27: RuntimeWarning: invalid value encountered in scalar divide\n",
      "  f1_score = 2 * (precision * recall) / (precision + recall)\n"
     ]
    },
    {
     "name": "stdout",
     "output_type": "stream",
     "text": [
      "Train Epoch: 119\t Learning rate: 0.0000\tLoss: 12.988875\t Accuracy: 90/108 (83%)\n",
      " \n",
      "Confusion Matrix:\n",
      "[[ 0  0]\n",
      " [12 42]]\n",
      "Accuracy: 0.7777777777777778\n",
      "Precision: 0\n",
      "Recall: 0.0\n",
      "F1-Score: nan\n",
      "\n",
      "=========================================================================================\n"
     ]
    },
    {
     "name": "stderr",
     "output_type": "stream",
     "text": [
      "C:\\Users\\meena\\AppData\\Local\\Temp\\ipykernel_7124\\1959198720.py:27: RuntimeWarning: invalid value encountered in scalar divide\n",
      "  f1_score = 2 * (precision * recall) / (precision + recall)\n"
     ]
    },
    {
     "name": "stdout",
     "output_type": "stream",
     "text": [
      "Train Epoch: 120\t Learning rate: 0.0000\tLoss: 12.952209\t Accuracy: 90/108 (83%)\n",
      " \n",
      "Confusion Matrix:\n",
      "[[ 0  0]\n",
      " [12 42]]\n",
      "Accuracy: 0.7777777777777778\n",
      "Precision: 0\n",
      "Recall: 0.0\n",
      "F1-Score: nan\n",
      "\n",
      "=========================================================================================\n"
     ]
    },
    {
     "name": "stderr",
     "output_type": "stream",
     "text": [
      "C:\\Users\\meena\\AppData\\Local\\Temp\\ipykernel_7124\\1959198720.py:27: RuntimeWarning: invalid value encountered in scalar divide\n",
      "  f1_score = 2 * (precision * recall) / (precision + recall)\n"
     ]
    },
    {
     "name": "stdout",
     "output_type": "stream",
     "text": [
      "Train Epoch: 121\t Learning rate: 0.0000\tLoss: 12.921870\t Accuracy: 90/108 (83%)\n",
      " \n",
      "Confusion Matrix:\n",
      "[[ 0  0]\n",
      " [12 42]]\n",
      "Accuracy: 0.7777777777777778\n",
      "Precision: 0\n",
      "Recall: 0.0\n",
      "F1-Score: nan\n",
      "\n",
      "=========================================================================================\n"
     ]
    },
    {
     "name": "stderr",
     "output_type": "stream",
     "text": [
      "C:\\Users\\meena\\AppData\\Local\\Temp\\ipykernel_7124\\1959198720.py:27: RuntimeWarning: invalid value encountered in scalar divide\n",
      "  f1_score = 2 * (precision * recall) / (precision + recall)\n"
     ]
    },
    {
     "name": "stdout",
     "output_type": "stream",
     "text": [
      "Train Epoch: 122\t Learning rate: 0.0000\tLoss: 13.005990\t Accuracy: 90/108 (83%)\n",
      " \n",
      "Confusion Matrix:\n",
      "[[ 0  0]\n",
      " [12 42]]\n",
      "Accuracy: 0.7777777777777778\n",
      "Precision: 0\n",
      "Recall: 0.0\n",
      "F1-Score: nan\n",
      "\n",
      "=========================================================================================\n"
     ]
    },
    {
     "name": "stderr",
     "output_type": "stream",
     "text": [
      "C:\\Users\\meena\\AppData\\Local\\Temp\\ipykernel_7124\\1959198720.py:27: RuntimeWarning: invalid value encountered in scalar divide\n",
      "  f1_score = 2 * (precision * recall) / (precision + recall)\n"
     ]
    },
    {
     "name": "stdout",
     "output_type": "stream",
     "text": [
      "Train Epoch: 123\t Learning rate: 0.0000\tLoss: 12.947567\t Accuracy: 90/108 (83%)\n",
      " \n",
      "Confusion Matrix:\n",
      "[[ 0  0]\n",
      " [12 42]]\n",
      "Accuracy: 0.7777777777777778\n",
      "Precision: 0\n",
      "Recall: 0.0\n",
      "F1-Score: nan\n",
      "\n",
      "=========================================================================================\n"
     ]
    },
    {
     "name": "stderr",
     "output_type": "stream",
     "text": [
      "C:\\Users\\meena\\AppData\\Local\\Temp\\ipykernel_7124\\1959198720.py:27: RuntimeWarning: invalid value encountered in scalar divide\n",
      "  f1_score = 2 * (precision * recall) / (precision + recall)\n"
     ]
    },
    {
     "name": "stdout",
     "output_type": "stream",
     "text": [
      "Train Epoch: 124\t Learning rate: 0.0000\tLoss: 13.005508\t Accuracy: 90/108 (83%)\n",
      " \n",
      "Confusion Matrix:\n",
      "[[ 0  0]\n",
      " [12 42]]\n",
      "Accuracy: 0.7777777777777778\n",
      "Precision: 0\n",
      "Recall: 0.0\n",
      "F1-Score: nan\n",
      "\n",
      "=========================================================================================\n"
     ]
    },
    {
     "name": "stderr",
     "output_type": "stream",
     "text": [
      "C:\\Users\\meena\\AppData\\Local\\Temp\\ipykernel_7124\\1959198720.py:27: RuntimeWarning: invalid value encountered in scalar divide\n",
      "  f1_score = 2 * (precision * recall) / (precision + recall)\n"
     ]
    },
    {
     "name": "stdout",
     "output_type": "stream",
     "text": [
      "Train Epoch: 125\t Learning rate: 0.0000\tLoss: 12.917271\t Accuracy: 90/108 (83%)\n",
      " \n",
      "Confusion Matrix:\n",
      "[[ 0  0]\n",
      " [12 42]]\n",
      "Accuracy: 0.7777777777777778\n",
      "Precision: 0\n",
      "Recall: 0.0\n",
      "F1-Score: nan\n",
      "\n",
      "=========================================================================================\n"
     ]
    },
    {
     "name": "stderr",
     "output_type": "stream",
     "text": [
      "C:\\Users\\meena\\AppData\\Local\\Temp\\ipykernel_7124\\1959198720.py:27: RuntimeWarning: invalid value encountered in scalar divide\n",
      "  f1_score = 2 * (precision * recall) / (precision + recall)\n"
     ]
    },
    {
     "name": "stdout",
     "output_type": "stream",
     "text": [
      "Train Epoch: 126\t Learning rate: 0.0000\tLoss: 12.921610\t Accuracy: 90/108 (83%)\n",
      " \n",
      "Confusion Matrix:\n",
      "[[ 0  0]\n",
      " [12 42]]\n",
      "Accuracy: 0.7777777777777778\n",
      "Precision: 0\n",
      "Recall: 0.0\n",
      "F1-Score: nan\n",
      "\n",
      "=========================================================================================\n"
     ]
    },
    {
     "name": "stderr",
     "output_type": "stream",
     "text": [
      "C:\\Users\\meena\\AppData\\Local\\Temp\\ipykernel_7124\\1959198720.py:27: RuntimeWarning: invalid value encountered in scalar divide\n",
      "  f1_score = 2 * (precision * recall) / (precision + recall)\n"
     ]
    },
    {
     "name": "stdout",
     "output_type": "stream",
     "text": [
      "Train Epoch: 127\t Learning rate: 0.0000\tLoss: 12.985503\t Accuracy: 90/108 (83%)\n",
      " \n",
      "Confusion Matrix:\n",
      "[[ 0  0]\n",
      " [12 42]]\n",
      "Accuracy: 0.7777777777777778\n",
      "Precision: 0\n",
      "Recall: 0.0\n",
      "F1-Score: nan\n",
      "\n",
      "=========================================================================================\n"
     ]
    },
    {
     "name": "stderr",
     "output_type": "stream",
     "text": [
      "C:\\Users\\meena\\AppData\\Local\\Temp\\ipykernel_7124\\1959198720.py:27: RuntimeWarning: invalid value encountered in scalar divide\n",
      "  f1_score = 2 * (precision * recall) / (precision + recall)\n"
     ]
    },
    {
     "name": "stdout",
     "output_type": "stream",
     "text": [
      "Train Epoch: 128\t Learning rate: 0.0000\tLoss: 12.914013\t Accuracy: 90/108 (83%)\n",
      " \n",
      "Confusion Matrix:\n",
      "[[ 0  0]\n",
      " [12 42]]\n",
      "Accuracy: 0.7777777777777778\n",
      "Precision: 0\n",
      "Recall: 0.0\n",
      "F1-Score: nan\n",
      "\n",
      "=========================================================================================\n"
     ]
    },
    {
     "name": "stderr",
     "output_type": "stream",
     "text": [
      "C:\\Users\\meena\\AppData\\Local\\Temp\\ipykernel_7124\\1959198720.py:27: RuntimeWarning: invalid value encountered in scalar divide\n",
      "  f1_score = 2 * (precision * recall) / (precision + recall)\n"
     ]
    },
    {
     "name": "stdout",
     "output_type": "stream",
     "text": [
      "Train Epoch: 129\t Learning rate: 0.0000\tLoss: 12.903604\t Accuracy: 90/108 (83%)\n",
      " \n",
      "Confusion Matrix:\n",
      "[[ 0  0]\n",
      " [12 42]]\n",
      "Accuracy: 0.7777777777777778\n",
      "Precision: 0\n",
      "Recall: 0.0\n",
      "F1-Score: nan\n",
      "\n",
      "=========================================================================================\n"
     ]
    },
    {
     "name": "stderr",
     "output_type": "stream",
     "text": [
      "C:\\Users\\meena\\AppData\\Local\\Temp\\ipykernel_7124\\1959198720.py:27: RuntimeWarning: invalid value encountered in scalar divide\n",
      "  f1_score = 2 * (precision * recall) / (precision + recall)\n"
     ]
    },
    {
     "name": "stdout",
     "output_type": "stream",
     "text": [
      "Train Epoch: 130\t Learning rate: 0.0000\tLoss: 12.962009\t Accuracy: 90/108 (83%)\n",
      " \n",
      "Confusion Matrix:\n",
      "[[ 0  0]\n",
      " [12 42]]\n",
      "Accuracy: 0.7777777777777778\n",
      "Precision: 0\n",
      "Recall: 0.0\n",
      "F1-Score: nan\n",
      "\n",
      "=========================================================================================\n"
     ]
    },
    {
     "name": "stderr",
     "output_type": "stream",
     "text": [
      "C:\\Users\\meena\\AppData\\Local\\Temp\\ipykernel_7124\\1959198720.py:27: RuntimeWarning: invalid value encountered in scalar divide\n",
      "  f1_score = 2 * (precision * recall) / (precision + recall)\n"
     ]
    },
    {
     "name": "stdout",
     "output_type": "stream",
     "text": [
      "Train Epoch: 131\t Learning rate: 0.0000\tLoss: 13.006304\t Accuracy: 90/108 (83%)\n",
      " \n",
      "Confusion Matrix:\n",
      "[[ 0  0]\n",
      " [12 42]]\n",
      "Accuracy: 0.7777777777777778\n",
      "Precision: 0\n",
      "Recall: 0.0\n",
      "F1-Score: nan\n",
      "\n",
      "=========================================================================================\n"
     ]
    },
    {
     "name": "stderr",
     "output_type": "stream",
     "text": [
      "C:\\Users\\meena\\AppData\\Local\\Temp\\ipykernel_7124\\1959198720.py:27: RuntimeWarning: invalid value encountered in scalar divide\n",
      "  f1_score = 2 * (precision * recall) / (precision + recall)\n"
     ]
    },
    {
     "name": "stdout",
     "output_type": "stream",
     "text": [
      "Train Epoch: 132\t Learning rate: 0.0000\tLoss: 12.897949\t Accuracy: 90/108 (83%)\n",
      " \n",
      "Confusion Matrix:\n",
      "[[ 0  0]\n",
      " [12 42]]\n",
      "Accuracy: 0.7777777777777778\n",
      "Precision: 0\n",
      "Recall: 0.0\n",
      "F1-Score: nan\n",
      "\n",
      "=========================================================================================\n"
     ]
    },
    {
     "name": "stderr",
     "output_type": "stream",
     "text": [
      "C:\\Users\\meena\\AppData\\Local\\Temp\\ipykernel_7124\\1959198720.py:27: RuntimeWarning: invalid value encountered in scalar divide\n",
      "  f1_score = 2 * (precision * recall) / (precision + recall)\n"
     ]
    },
    {
     "name": "stdout",
     "output_type": "stream",
     "text": [
      "Train Epoch: 133\t Learning rate: 0.0000\tLoss: 12.917049\t Accuracy: 90/108 (83%)\n",
      " \n",
      "Confusion Matrix:\n",
      "[[ 0  0]\n",
      " [12 42]]\n",
      "Accuracy: 0.7777777777777778\n",
      "Precision: 0\n",
      "Recall: 0.0\n",
      "F1-Score: nan\n",
      "\n",
      "=========================================================================================\n"
     ]
    },
    {
     "name": "stderr",
     "output_type": "stream",
     "text": [
      "C:\\Users\\meena\\AppData\\Local\\Temp\\ipykernel_7124\\1959198720.py:27: RuntimeWarning: invalid value encountered in scalar divide\n",
      "  f1_score = 2 * (precision * recall) / (precision + recall)\n"
     ]
    },
    {
     "name": "stdout",
     "output_type": "stream",
     "text": [
      "Train Epoch: 134\t Learning rate: 0.0000\tLoss: 12.941581\t Accuracy: 90/108 (83%)\n",
      " \n",
      "Confusion Matrix:\n",
      "[[ 0  0]\n",
      " [12 42]]\n",
      "Accuracy: 0.7777777777777778\n",
      "Precision: 0\n",
      "Recall: 0.0\n",
      "F1-Score: nan\n",
      "\n",
      "=========================================================================================\n"
     ]
    },
    {
     "name": "stderr",
     "output_type": "stream",
     "text": [
      "C:\\Users\\meena\\AppData\\Local\\Temp\\ipykernel_7124\\1959198720.py:27: RuntimeWarning: invalid value encountered in scalar divide\n",
      "  f1_score = 2 * (precision * recall) / (precision + recall)\n"
     ]
    },
    {
     "name": "stdout",
     "output_type": "stream",
     "text": [
      "Train Epoch: 135\t Learning rate: 0.0000\tLoss: 12.867463\t Accuracy: 90/108 (83%)\n",
      " \n",
      "Confusion Matrix:\n",
      "[[ 0  0]\n",
      " [12 42]]\n",
      "Accuracy: 0.7777777777777778\n",
      "Precision: 0\n",
      "Recall: 0.0\n",
      "F1-Score: nan\n",
      "\n",
      "=========================================================================================\n"
     ]
    },
    {
     "name": "stderr",
     "output_type": "stream",
     "text": [
      "C:\\Users\\meena\\AppData\\Local\\Temp\\ipykernel_7124\\1959198720.py:27: RuntimeWarning: invalid value encountered in scalar divide\n",
      "  f1_score = 2 * (precision * recall) / (precision + recall)\n"
     ]
    },
    {
     "name": "stdout",
     "output_type": "stream",
     "text": [
      "Train Epoch: 136\t Learning rate: 0.0000\tLoss: 12.891621\t Accuracy: 90/108 (83%)\n",
      " \n",
      "Confusion Matrix:\n",
      "[[ 0  0]\n",
      " [12 42]]\n",
      "Accuracy: 0.7777777777777778\n",
      "Precision: 0\n",
      "Recall: 0.0\n",
      "F1-Score: nan\n",
      "\n",
      "=========================================================================================\n"
     ]
    },
    {
     "name": "stderr",
     "output_type": "stream",
     "text": [
      "C:\\Users\\meena\\AppData\\Local\\Temp\\ipykernel_7124\\1959198720.py:27: RuntimeWarning: invalid value encountered in scalar divide\n",
      "  f1_score = 2 * (precision * recall) / (precision + recall)\n"
     ]
    },
    {
     "name": "stdout",
     "output_type": "stream",
     "text": [
      "Train Epoch: 137\t Learning rate: 0.0000\tLoss: 12.907122\t Accuracy: 90/108 (83%)\n",
      " \n",
      "Confusion Matrix:\n",
      "[[ 0  0]\n",
      " [12 42]]\n",
      "Accuracy: 0.7777777777777778\n",
      "Precision: 0\n",
      "Recall: 0.0\n",
      "F1-Score: nan\n",
      "\n",
      "=========================================================================================\n"
     ]
    },
    {
     "name": "stderr",
     "output_type": "stream",
     "text": [
      "C:\\Users\\meena\\AppData\\Local\\Temp\\ipykernel_7124\\1959198720.py:27: RuntimeWarning: invalid value encountered in scalar divide\n",
      "  f1_score = 2 * (precision * recall) / (precision + recall)\n"
     ]
    },
    {
     "name": "stdout",
     "output_type": "stream",
     "text": [
      "Train Epoch: 138\t Learning rate: 0.0000\tLoss: 12.857913\t Accuracy: 90/108 (83%)\n",
      " \n",
      "Confusion Matrix:\n",
      "[[ 0  0]\n",
      " [12 42]]\n",
      "Accuracy: 0.7777777777777778\n",
      "Precision: 0\n",
      "Recall: 0.0\n",
      "F1-Score: nan\n",
      "\n",
      "=========================================================================================\n"
     ]
    },
    {
     "name": "stderr",
     "output_type": "stream",
     "text": [
      "C:\\Users\\meena\\AppData\\Local\\Temp\\ipykernel_7124\\1959198720.py:27: RuntimeWarning: invalid value encountered in scalar divide\n",
      "  f1_score = 2 * (precision * recall) / (precision + recall)\n"
     ]
    },
    {
     "name": "stdout",
     "output_type": "stream",
     "text": [
      "Train Epoch: 139\t Learning rate: 0.0000\tLoss: 12.880808\t Accuracy: 90/108 (83%)\n",
      " \n",
      "Confusion Matrix:\n",
      "[[ 0  0]\n",
      " [12 42]]\n",
      "Accuracy: 0.7777777777777778\n",
      "Precision: 0\n",
      "Recall: 0.0\n",
      "F1-Score: nan\n",
      "\n",
      "=========================================================================================\n"
     ]
    },
    {
     "name": "stderr",
     "output_type": "stream",
     "text": [
      "C:\\Users\\meena\\AppData\\Local\\Temp\\ipykernel_7124\\1959198720.py:27: RuntimeWarning: invalid value encountered in scalar divide\n",
      "  f1_score = 2 * (precision * recall) / (precision + recall)\n"
     ]
    },
    {
     "name": "stdout",
     "output_type": "stream",
     "text": [
      "Train Epoch: 140\t Learning rate: 0.0000\tLoss: 12.912365\t Accuracy: 90/108 (83%)\n",
      " \n",
      "Confusion Matrix:\n",
      "[[ 0  0]\n",
      " [12 42]]\n",
      "Accuracy: 0.7777777777777778\n",
      "Precision: 0\n",
      "Recall: 0.0\n",
      "F1-Score: nan\n",
      "\n",
      "=========================================================================================\n"
     ]
    },
    {
     "name": "stderr",
     "output_type": "stream",
     "text": [
      "C:\\Users\\meena\\AppData\\Local\\Temp\\ipykernel_7124\\1959198720.py:27: RuntimeWarning: invalid value encountered in scalar divide\n",
      "  f1_score = 2 * (precision * recall) / (precision + recall)\n"
     ]
    },
    {
     "name": "stdout",
     "output_type": "stream",
     "text": [
      "Train Epoch: 141\t Learning rate: 0.0000\tLoss: 12.903233\t Accuracy: 90/108 (83%)\n",
      " \n",
      "Confusion Matrix:\n",
      "[[ 0  0]\n",
      " [12 42]]\n",
      "Accuracy: 0.7777777777777778\n",
      "Precision: 0\n",
      "Recall: 0.0\n",
      "F1-Score: nan\n",
      "\n",
      "=========================================================================================\n"
     ]
    },
    {
     "name": "stderr",
     "output_type": "stream",
     "text": [
      "C:\\Users\\meena\\AppData\\Local\\Temp\\ipykernel_7124\\1959198720.py:27: RuntimeWarning: invalid value encountered in scalar divide\n",
      "  f1_score = 2 * (precision * recall) / (precision + recall)\n"
     ]
    },
    {
     "name": "stdout",
     "output_type": "stream",
     "text": [
      "Train Epoch: 142\t Learning rate: 0.0000\tLoss: 12.862141\t Accuracy: 90/108 (83%)\n",
      " \n",
      "Confusion Matrix:\n",
      "[[ 0  0]\n",
      " [12 42]]\n",
      "Accuracy: 0.7777777777777778\n",
      "Precision: 0\n",
      "Recall: 0.0\n",
      "F1-Score: nan\n",
      "\n",
      "=========================================================================================\n"
     ]
    },
    {
     "name": "stderr",
     "output_type": "stream",
     "text": [
      "C:\\Users\\meena\\AppData\\Local\\Temp\\ipykernel_7124\\1959198720.py:27: RuntimeWarning: invalid value encountered in scalar divide\n",
      "  f1_score = 2 * (precision * recall) / (precision + recall)\n"
     ]
    },
    {
     "name": "stdout",
     "output_type": "stream",
     "text": [
      "Train Epoch: 143\t Learning rate: 0.0000\tLoss: 12.828393\t Accuracy: 90/108 (83%)\n",
      " \n",
      "Confusion Matrix:\n",
      "[[ 0  0]\n",
      " [12 42]]\n",
      "Accuracy: 0.7777777777777778\n",
      "Precision: 0\n",
      "Recall: 0.0\n",
      "F1-Score: nan\n",
      "\n",
      "=========================================================================================\n"
     ]
    },
    {
     "name": "stderr",
     "output_type": "stream",
     "text": [
      "C:\\Users\\meena\\AppData\\Local\\Temp\\ipykernel_7124\\1959198720.py:27: RuntimeWarning: invalid value encountered in scalar divide\n",
      "  f1_score = 2 * (precision * recall) / (precision + recall)\n"
     ]
    },
    {
     "name": "stdout",
     "output_type": "stream",
     "text": [
      "Train Epoch: 144\t Learning rate: 0.0000\tLoss: 12.871565\t Accuracy: 90/108 (83%)\n",
      " \n",
      "Confusion Matrix:\n",
      "[[ 0  0]\n",
      " [12 42]]\n",
      "Accuracy: 0.7777777777777778\n",
      "Precision: 0\n",
      "Recall: 0.0\n",
      "F1-Score: nan\n",
      "\n",
      "=========================================================================================\n"
     ]
    },
    {
     "name": "stderr",
     "output_type": "stream",
     "text": [
      "C:\\Users\\meena\\AppData\\Local\\Temp\\ipykernel_7124\\1959198720.py:27: RuntimeWarning: invalid value encountered in scalar divide\n",
      "  f1_score = 2 * (precision * recall) / (precision + recall)\n"
     ]
    },
    {
     "name": "stdout",
     "output_type": "stream",
     "text": [
      "Train Epoch: 145\t Learning rate: 0.0000\tLoss: 12.850813\t Accuracy: 90/108 (83%)\n",
      " \n",
      "Confusion Matrix:\n",
      "[[ 0  0]\n",
      " [12 42]]\n",
      "Accuracy: 0.7777777777777778\n",
      "Precision: 0\n",
      "Recall: 0.0\n",
      "F1-Score: nan\n",
      "\n",
      "=========================================================================================\n"
     ]
    },
    {
     "name": "stderr",
     "output_type": "stream",
     "text": [
      "C:\\Users\\meena\\AppData\\Local\\Temp\\ipykernel_7124\\1959198720.py:27: RuntimeWarning: invalid value encountered in scalar divide\n",
      "  f1_score = 2 * (precision * recall) / (precision + recall)\n"
     ]
    },
    {
     "name": "stdout",
     "output_type": "stream",
     "text": [
      "Train Epoch: 146\t Learning rate: 0.0000\tLoss: 12.763594\t Accuracy: 90/108 (83%)\n",
      " \n",
      "Confusion Matrix:\n",
      "[[ 0  0]\n",
      " [12 42]]\n",
      "Accuracy: 0.7777777777777778\n",
      "Precision: 0\n",
      "Recall: 0.0\n",
      "F1-Score: nan\n",
      "\n",
      "=========================================================================================\n"
     ]
    },
    {
     "name": "stderr",
     "output_type": "stream",
     "text": [
      "C:\\Users\\meena\\AppData\\Local\\Temp\\ipykernel_7124\\1959198720.py:27: RuntimeWarning: invalid value encountered in scalar divide\n",
      "  f1_score = 2 * (precision * recall) / (precision + recall)\n"
     ]
    },
    {
     "name": "stdout",
     "output_type": "stream",
     "text": [
      "Train Epoch: 147\t Learning rate: 0.0000\tLoss: 12.886054\t Accuracy: 90/108 (83%)\n",
      " \n",
      "Confusion Matrix:\n",
      "[[ 0  0]\n",
      " [12 42]]\n",
      "Accuracy: 0.7777777777777778\n",
      "Precision: 0\n",
      "Recall: 0.0\n",
      "F1-Score: nan\n",
      "\n",
      "=========================================================================================\n"
     ]
    },
    {
     "name": "stderr",
     "output_type": "stream",
     "text": [
      "C:\\Users\\meena\\AppData\\Local\\Temp\\ipykernel_7124\\1959198720.py:27: RuntimeWarning: invalid value encountered in scalar divide\n",
      "  f1_score = 2 * (precision * recall) / (precision + recall)\n"
     ]
    },
    {
     "name": "stdout",
     "output_type": "stream",
     "text": [
      "Train Epoch: 148\t Learning rate: 0.0000\tLoss: 12.901077\t Accuracy: 90/108 (83%)\n",
      " \n",
      "Confusion Matrix:\n",
      "[[ 0  0]\n",
      " [12 42]]\n",
      "Accuracy: 0.7777777777777778\n",
      "Precision: 0\n",
      "Recall: 0.0\n",
      "F1-Score: nan\n",
      "\n",
      "=========================================================================================\n"
     ]
    },
    {
     "name": "stderr",
     "output_type": "stream",
     "text": [
      "C:\\Users\\meena\\AppData\\Local\\Temp\\ipykernel_7124\\1959198720.py:27: RuntimeWarning: invalid value encountered in scalar divide\n",
      "  f1_score = 2 * (precision * recall) / (precision + recall)\n"
     ]
    },
    {
     "name": "stdout",
     "output_type": "stream",
     "text": [
      "Train Epoch: 149\t Learning rate: 0.0000\tLoss: 12.778247\t Accuracy: 90/108 (83%)\n",
      " \n",
      "Confusion Matrix:\n",
      "[[ 0  0]\n",
      " [12 42]]\n",
      "Accuracy: 0.7777777777777778\n",
      "Precision: 0\n",
      "Recall: 0.0\n",
      "F1-Score: nan\n",
      "\n",
      "=========================================================================================\n"
     ]
    },
    {
     "name": "stderr",
     "output_type": "stream",
     "text": [
      "C:\\Users\\meena\\AppData\\Local\\Temp\\ipykernel_7124\\1959198720.py:27: RuntimeWarning: invalid value encountered in scalar divide\n",
      "  f1_score = 2 * (precision * recall) / (precision + recall)\n"
     ]
    },
    {
     "name": "stdout",
     "output_type": "stream",
     "text": [
      "Train Epoch: 150\t Learning rate: 0.0000\tLoss: 12.750779\t Accuracy: 90/108 (83%)\n",
      " \n",
      "Confusion Matrix:\n",
      "[[ 0  0]\n",
      " [12 42]]\n",
      "Accuracy: 0.7777777777777778\n",
      "Precision: 0\n",
      "Recall: 0.0\n",
      "F1-Score: nan\n",
      "\n",
      "=========================================================================================\n"
     ]
    },
    {
     "name": "stderr",
     "output_type": "stream",
     "text": [
      "C:\\Users\\meena\\AppData\\Local\\Temp\\ipykernel_7124\\1959198720.py:27: RuntimeWarning: invalid value encountered in scalar divide\n",
      "  f1_score = 2 * (precision * recall) / (precision + recall)\n"
     ]
    },
    {
     "name": "stdout",
     "output_type": "stream",
     "text": [
      "Train Epoch:  1\t Learning rate: 0.0000\tLoss: 18.932277\t Accuracy: 45/108 (42%)\n",
      " \n",
      "Confusion Matrix:\n",
      "[[ 7 36]\n",
      " [ 0 11]]\n",
      "Accuracy: 0.3333333333333333\n",
      "Precision: 0.16279069767441862\n",
      "Recall: 1.0\n",
      "F1-Score: 0.28\n",
      "\n",
      "=========================================================================================\n",
      "Train Epoch:  2\t Learning rate: 0.0000\tLoss: 18.658979\t Accuracy: 57/108 (53%)\n",
      " \n",
      "Confusion Matrix:\n",
      "[[ 0  0]\n",
      " [ 7 47]]\n",
      "Accuracy: 0.8703703703703703\n",
      "Precision: 0\n",
      "Recall: 0.0\n",
      "F1-Score: nan\n",
      "\n",
      "=========================================================================================\n"
     ]
    },
    {
     "name": "stderr",
     "output_type": "stream",
     "text": [
      "C:\\Users\\meena\\AppData\\Local\\Temp\\ipykernel_7124\\1959198720.py:27: RuntimeWarning: invalid value encountered in scalar divide\n",
      "  f1_score = 2 * (precision * recall) / (precision + recall)\n"
     ]
    },
    {
     "name": "stdout",
     "output_type": "stream",
     "text": [
      "Train Epoch:  3\t Learning rate: 0.0000\tLoss: 18.589523\t Accuracy: 61/108 (56%)\n",
      " \n",
      "Confusion Matrix:\n",
      "[[ 0  0]\n",
      " [ 7 47]]\n",
      "Accuracy: 0.8703703703703703\n",
      "Precision: 0\n",
      "Recall: 0.0\n",
      "F1-Score: nan\n",
      "\n",
      "=========================================================================================\n"
     ]
    },
    {
     "name": "stderr",
     "output_type": "stream",
     "text": [
      "C:\\Users\\meena\\AppData\\Local\\Temp\\ipykernel_7124\\1959198720.py:27: RuntimeWarning: invalid value encountered in scalar divide\n",
      "  f1_score = 2 * (precision * recall) / (precision + recall)\n"
     ]
    },
    {
     "name": "stdout",
     "output_type": "stream",
     "text": [
      "Train Epoch:  4\t Learning rate: 0.0000\tLoss: 18.454899\t Accuracy: 80/108 (74%)\n",
      " \n",
      "Confusion Matrix:\n",
      "[[ 0  0]\n",
      " [ 7 47]]\n",
      "Accuracy: 0.8703703703703703\n",
      "Precision: 0\n",
      "Recall: 0.0\n",
      "F1-Score: nan\n",
      "\n",
      "=========================================================================================\n"
     ]
    },
    {
     "name": "stderr",
     "output_type": "stream",
     "text": [
      "C:\\Users\\meena\\AppData\\Local\\Temp\\ipykernel_7124\\1959198720.py:27: RuntimeWarning: invalid value encountered in scalar divide\n",
      "  f1_score = 2 * (precision * recall) / (precision + recall)\n"
     ]
    },
    {
     "name": "stdout",
     "output_type": "stream",
     "text": [
      "Train Epoch:  5\t Learning rate: 0.0000\tLoss: 18.200039\t Accuracy: 81/108 (75%)\n",
      " \n",
      "Confusion Matrix:\n",
      "[[ 0  0]\n",
      " [ 7 47]]\n",
      "Accuracy: 0.8703703703703703\n",
      "Precision: 0\n",
      "Recall: 0.0\n",
      "F1-Score: nan\n",
      "\n",
      "=========================================================================================\n"
     ]
    },
    {
     "name": "stderr",
     "output_type": "stream",
     "text": [
      "C:\\Users\\meena\\AppData\\Local\\Temp\\ipykernel_7124\\1959198720.py:27: RuntimeWarning: invalid value encountered in scalar divide\n",
      "  f1_score = 2 * (precision * recall) / (precision + recall)\n"
     ]
    },
    {
     "name": "stdout",
     "output_type": "stream",
     "text": [
      "Train Epoch:  6\t Learning rate: 0.0000\tLoss: 18.102940\t Accuracy: 83/108 (77%)\n",
      " \n",
      "Confusion Matrix:\n",
      "[[ 0  0]\n",
      " [ 7 47]]\n",
      "Accuracy: 0.8703703703703703\n",
      "Precision: 0\n",
      "Recall: 0.0\n",
      "F1-Score: nan\n",
      "\n",
      "=========================================================================================\n"
     ]
    },
    {
     "name": "stderr",
     "output_type": "stream",
     "text": [
      "C:\\Users\\meena\\AppData\\Local\\Temp\\ipykernel_7124\\1959198720.py:27: RuntimeWarning: invalid value encountered in scalar divide\n",
      "  f1_score = 2 * (precision * recall) / (precision + recall)\n"
     ]
    },
    {
     "name": "stdout",
     "output_type": "stream",
     "text": [
      "Train Epoch:  7\t Learning rate: 0.0000\tLoss: 18.126260\t Accuracy: 83/108 (77%)\n",
      " \n",
      "Confusion Matrix:\n",
      "[[ 0  0]\n",
      " [ 7 47]]\n",
      "Accuracy: 0.8703703703703703\n",
      "Precision: 0\n",
      "Recall: 0.0\n",
      "F1-Score: nan\n",
      "\n",
      "=========================================================================================\n"
     ]
    },
    {
     "name": "stderr",
     "output_type": "stream",
     "text": [
      "C:\\Users\\meena\\AppData\\Local\\Temp\\ipykernel_7124\\1959198720.py:27: RuntimeWarning: invalid value encountered in scalar divide\n",
      "  f1_score = 2 * (precision * recall) / (precision + recall)\n"
     ]
    },
    {
     "name": "stdout",
     "output_type": "stream",
     "text": [
      "Train Epoch:  8\t Learning rate: 0.0000\tLoss: 17.792940\t Accuracy: 84/108 (78%)\n",
      " \n",
      "Confusion Matrix:\n",
      "[[ 0  0]\n",
      " [ 7 47]]\n",
      "Accuracy: 0.8703703703703703\n",
      "Precision: 0\n",
      "Recall: 0.0\n",
      "F1-Score: nan\n",
      "\n",
      "=========================================================================================\n"
     ]
    },
    {
     "name": "stderr",
     "output_type": "stream",
     "text": [
      "C:\\Users\\meena\\AppData\\Local\\Temp\\ipykernel_7124\\1959198720.py:27: RuntimeWarning: invalid value encountered in scalar divide\n",
      "  f1_score = 2 * (precision * recall) / (precision + recall)\n"
     ]
    },
    {
     "name": "stdout",
     "output_type": "stream",
     "text": [
      "Train Epoch:  9\t Learning rate: 0.0000\tLoss: 17.730693\t Accuracy: 84/108 (78%)\n",
      " \n",
      "Confusion Matrix:\n",
      "[[ 0  0]\n",
      " [ 7 47]]\n",
      "Accuracy: 0.8703703703703703\n",
      "Precision: 0\n",
      "Recall: 0.0\n",
      "F1-Score: nan\n",
      "\n",
      "=========================================================================================\n"
     ]
    },
    {
     "name": "stderr",
     "output_type": "stream",
     "text": [
      "C:\\Users\\meena\\AppData\\Local\\Temp\\ipykernel_7124\\1959198720.py:27: RuntimeWarning: invalid value encountered in scalar divide\n",
      "  f1_score = 2 * (precision * recall) / (precision + recall)\n"
     ]
    },
    {
     "name": "stdout",
     "output_type": "stream",
     "text": [
      "Train Epoch: 10\t Learning rate: 0.0000\tLoss: 17.548133\t Accuracy: 85/108 (79%)\n",
      " \n",
      "Confusion Matrix:\n",
      "[[ 0  0]\n",
      " [ 7 47]]\n",
      "Accuracy: 0.8703703703703703\n",
      "Precision: 0\n",
      "Recall: 0.0\n",
      "F1-Score: nan\n",
      "\n",
      "=========================================================================================\n"
     ]
    },
    {
     "name": "stderr",
     "output_type": "stream",
     "text": [
      "C:\\Users\\meena\\AppData\\Local\\Temp\\ipykernel_7124\\1959198720.py:27: RuntimeWarning: invalid value encountered in scalar divide\n",
      "  f1_score = 2 * (precision * recall) / (precision + recall)\n"
     ]
    },
    {
     "name": "stdout",
     "output_type": "stream",
     "text": [
      "Train Epoch: 11\t Learning rate: 0.0000\tLoss: 17.387675\t Accuracy: 85/108 (79%)\n",
      " \n",
      "Confusion Matrix:\n",
      "[[ 0  0]\n",
      " [ 7 47]]\n",
      "Accuracy: 0.8703703703703703\n",
      "Precision: 0\n",
      "Recall: 0.0\n",
      "F1-Score: nan\n",
      "\n",
      "=========================================================================================\n"
     ]
    },
    {
     "name": "stderr",
     "output_type": "stream",
     "text": [
      "C:\\Users\\meena\\AppData\\Local\\Temp\\ipykernel_7124\\1959198720.py:27: RuntimeWarning: invalid value encountered in scalar divide\n",
      "  f1_score = 2 * (precision * recall) / (precision + recall)\n"
     ]
    },
    {
     "name": "stdout",
     "output_type": "stream",
     "text": [
      "Train Epoch: 12\t Learning rate: 0.0000\tLoss: 17.272079\t Accuracy: 85/108 (79%)\n",
      " \n",
      "Confusion Matrix:\n",
      "[[ 0  0]\n",
      " [ 7 47]]\n",
      "Accuracy: 0.8703703703703703\n",
      "Precision: 0\n",
      "Recall: 0.0\n",
      "F1-Score: nan\n",
      "\n",
      "=========================================================================================\n"
     ]
    },
    {
     "name": "stderr",
     "output_type": "stream",
     "text": [
      "C:\\Users\\meena\\AppData\\Local\\Temp\\ipykernel_7124\\1959198720.py:27: RuntimeWarning: invalid value encountered in scalar divide\n",
      "  f1_score = 2 * (precision * recall) / (precision + recall)\n"
     ]
    },
    {
     "name": "stdout",
     "output_type": "stream",
     "text": [
      "Train Epoch: 13\t Learning rate: 0.0000\tLoss: 17.208389\t Accuracy: 85/108 (79%)\n",
      " \n",
      "Confusion Matrix:\n",
      "[[ 0  0]\n",
      " [ 7 47]]\n",
      "Accuracy: 0.8703703703703703\n",
      "Precision: 0\n",
      "Recall: 0.0\n",
      "F1-Score: nan\n",
      "\n",
      "=========================================================================================\n"
     ]
    },
    {
     "name": "stderr",
     "output_type": "stream",
     "text": [
      "C:\\Users\\meena\\AppData\\Local\\Temp\\ipykernel_7124\\1959198720.py:27: RuntimeWarning: invalid value encountered in scalar divide\n",
      "  f1_score = 2 * (precision * recall) / (precision + recall)\n"
     ]
    },
    {
     "name": "stdout",
     "output_type": "stream",
     "text": [
      "Train Epoch: 14\t Learning rate: 0.0000\tLoss: 17.165870\t Accuracy: 85/108 (79%)\n",
      " \n",
      "Confusion Matrix:\n",
      "[[ 0  0]\n",
      " [ 7 47]]\n",
      "Accuracy: 0.8703703703703703\n",
      "Precision: 0\n",
      "Recall: 0.0\n",
      "F1-Score: nan\n",
      "\n",
      "=========================================================================================\n"
     ]
    },
    {
     "name": "stderr",
     "output_type": "stream",
     "text": [
      "C:\\Users\\meena\\AppData\\Local\\Temp\\ipykernel_7124\\1959198720.py:27: RuntimeWarning: invalid value encountered in scalar divide\n",
      "  f1_score = 2 * (precision * recall) / (precision + recall)\n"
     ]
    },
    {
     "name": "stdout",
     "output_type": "stream",
     "text": [
      "Train Epoch: 15\t Learning rate: 0.0000\tLoss: 16.961196\t Accuracy: 85/108 (79%)\n",
      " \n",
      "Confusion Matrix:\n",
      "[[ 0  0]\n",
      " [ 7 47]]\n",
      "Accuracy: 0.8703703703703703\n",
      "Precision: 0\n",
      "Recall: 0.0\n",
      "F1-Score: nan\n",
      "\n",
      "=========================================================================================\n"
     ]
    },
    {
     "name": "stderr",
     "output_type": "stream",
     "text": [
      "C:\\Users\\meena\\AppData\\Local\\Temp\\ipykernel_7124\\1959198720.py:27: RuntimeWarning: invalid value encountered in scalar divide\n",
      "  f1_score = 2 * (precision * recall) / (precision + recall)\n"
     ]
    },
    {
     "name": "stdout",
     "output_type": "stream",
     "text": [
      "Train Epoch: 16\t Learning rate: 0.0000\tLoss: 16.590319\t Accuracy: 85/108 (79%)\n",
      " \n",
      "Confusion Matrix:\n",
      "[[ 0  0]\n",
      " [ 7 47]]\n",
      "Accuracy: 0.8703703703703703\n",
      "Precision: 0\n",
      "Recall: 0.0\n",
      "F1-Score: nan\n",
      "\n",
      "=========================================================================================\n"
     ]
    },
    {
     "name": "stderr",
     "output_type": "stream",
     "text": [
      "C:\\Users\\meena\\AppData\\Local\\Temp\\ipykernel_7124\\1959198720.py:27: RuntimeWarning: invalid value encountered in scalar divide\n",
      "  f1_score = 2 * (precision * recall) / (precision + recall)\n"
     ]
    },
    {
     "name": "stdout",
     "output_type": "stream",
     "text": [
      "Train Epoch: 17\t Learning rate: 0.0000\tLoss: 16.443572\t Accuracy: 85/108 (79%)\n",
      " \n",
      "Confusion Matrix:\n",
      "[[ 0  0]\n",
      " [ 7 47]]\n",
      "Accuracy: 0.8703703703703703\n",
      "Precision: 0\n",
      "Recall: 0.0\n",
      "F1-Score: nan\n",
      "\n",
      "=========================================================================================\n"
     ]
    },
    {
     "name": "stderr",
     "output_type": "stream",
     "text": [
      "C:\\Users\\meena\\AppData\\Local\\Temp\\ipykernel_7124\\1959198720.py:27: RuntimeWarning: invalid value encountered in scalar divide\n",
      "  f1_score = 2 * (precision * recall) / (precision + recall)\n"
     ]
    },
    {
     "name": "stdout",
     "output_type": "stream",
     "text": [
      "Train Epoch: 18\t Learning rate: 0.0000\tLoss: 16.489711\t Accuracy: 85/108 (79%)\n",
      " \n",
      "Confusion Matrix:\n",
      "[[ 0  0]\n",
      " [ 7 47]]\n",
      "Accuracy: 0.8703703703703703\n",
      "Precision: 0\n",
      "Recall: 0.0\n",
      "F1-Score: nan\n",
      "\n",
      "=========================================================================================\n"
     ]
    },
    {
     "name": "stderr",
     "output_type": "stream",
     "text": [
      "C:\\Users\\meena\\AppData\\Local\\Temp\\ipykernel_7124\\1959198720.py:27: RuntimeWarning: invalid value encountered in scalar divide\n",
      "  f1_score = 2 * (precision * recall) / (precision + recall)\n"
     ]
    },
    {
     "name": "stdout",
     "output_type": "stream",
     "text": [
      "Train Epoch: 19\t Learning rate: 0.0000\tLoss: 16.111804\t Accuracy: 85/108 (79%)\n",
      " \n",
      "Confusion Matrix:\n",
      "[[ 0  0]\n",
      " [ 7 47]]\n",
      "Accuracy: 0.8703703703703703\n",
      "Precision: 0\n",
      "Recall: 0.0\n",
      "F1-Score: nan\n",
      "\n",
      "=========================================================================================\n"
     ]
    },
    {
     "name": "stderr",
     "output_type": "stream",
     "text": [
      "C:\\Users\\meena\\AppData\\Local\\Temp\\ipykernel_7124\\1959198720.py:27: RuntimeWarning: invalid value encountered in scalar divide\n",
      "  f1_score = 2 * (precision * recall) / (precision + recall)\n"
     ]
    },
    {
     "name": "stdout",
     "output_type": "stream",
     "text": [
      "Train Epoch: 20\t Learning rate: 0.0000\tLoss: 15.946894\t Accuracy: 85/108 (79%)\n",
      " \n",
      "Confusion Matrix:\n",
      "[[ 0  0]\n",
      " [ 7 47]]\n",
      "Accuracy: 0.8703703703703703\n",
      "Precision: 0\n",
      "Recall: 0.0\n",
      "F1-Score: nan\n",
      "\n",
      "=========================================================================================\n"
     ]
    },
    {
     "name": "stderr",
     "output_type": "stream",
     "text": [
      "C:\\Users\\meena\\AppData\\Local\\Temp\\ipykernel_7124\\1959198720.py:27: RuntimeWarning: invalid value encountered in scalar divide\n",
      "  f1_score = 2 * (precision * recall) / (precision + recall)\n"
     ]
    },
    {
     "name": "stdout",
     "output_type": "stream",
     "text": [
      "Train Epoch: 21\t Learning rate: 0.0000\tLoss: 16.100217\t Accuracy: 85/108 (79%)\n",
      " \n",
      "Confusion Matrix:\n",
      "[[ 0  0]\n",
      " [ 7 47]]\n",
      "Accuracy: 0.8703703703703703\n",
      "Precision: 0\n",
      "Recall: 0.0\n",
      "F1-Score: nan\n",
      "\n",
      "=========================================================================================\n"
     ]
    },
    {
     "name": "stderr",
     "output_type": "stream",
     "text": [
      "C:\\Users\\meena\\AppData\\Local\\Temp\\ipykernel_7124\\1959198720.py:27: RuntimeWarning: invalid value encountered in scalar divide\n",
      "  f1_score = 2 * (precision * recall) / (precision + recall)\n"
     ]
    },
    {
     "name": "stdout",
     "output_type": "stream",
     "text": [
      "Train Epoch: 22\t Learning rate: 0.0000\tLoss: 15.741201\t Accuracy: 85/108 (79%)\n",
      " \n",
      "Confusion Matrix:\n",
      "[[ 0  0]\n",
      " [ 7 47]]\n",
      "Accuracy: 0.8703703703703703\n",
      "Precision: 0\n",
      "Recall: 0.0\n",
      "F1-Score: nan\n",
      "\n",
      "=========================================================================================\n"
     ]
    },
    {
     "name": "stderr",
     "output_type": "stream",
     "text": [
      "C:\\Users\\meena\\AppData\\Local\\Temp\\ipykernel_7124\\1959198720.py:27: RuntimeWarning: invalid value encountered in scalar divide\n",
      "  f1_score = 2 * (precision * recall) / (precision + recall)\n"
     ]
    },
    {
     "name": "stdout",
     "output_type": "stream",
     "text": [
      "Train Epoch: 23\t Learning rate: 0.0000\tLoss: 15.694371\t Accuracy: 85/108 (79%)\n",
      " \n",
      "Confusion Matrix:\n",
      "[[ 0  0]\n",
      " [ 7 47]]\n",
      "Accuracy: 0.8703703703703703\n",
      "Precision: 0\n",
      "Recall: 0.0\n",
      "F1-Score: nan\n",
      "\n",
      "=========================================================================================\n"
     ]
    },
    {
     "name": "stderr",
     "output_type": "stream",
     "text": [
      "C:\\Users\\meena\\AppData\\Local\\Temp\\ipykernel_7124\\1959198720.py:27: RuntimeWarning: invalid value encountered in scalar divide\n",
      "  f1_score = 2 * (precision * recall) / (precision + recall)\n"
     ]
    },
    {
     "name": "stdout",
     "output_type": "stream",
     "text": [
      "Train Epoch: 24\t Learning rate: 0.0000\tLoss: 15.714382\t Accuracy: 85/108 (79%)\n",
      " \n",
      "Confusion Matrix:\n",
      "[[ 0  0]\n",
      " [ 7 47]]\n",
      "Accuracy: 0.8703703703703703\n",
      "Precision: 0\n",
      "Recall: 0.0\n",
      "F1-Score: nan\n",
      "\n",
      "=========================================================================================\n"
     ]
    },
    {
     "name": "stderr",
     "output_type": "stream",
     "text": [
      "C:\\Users\\meena\\AppData\\Local\\Temp\\ipykernel_7124\\1959198720.py:27: RuntimeWarning: invalid value encountered in scalar divide\n",
      "  f1_score = 2 * (precision * recall) / (precision + recall)\n"
     ]
    },
    {
     "name": "stdout",
     "output_type": "stream",
     "text": [
      "Train Epoch: 25\t Learning rate: 0.0000\tLoss: 15.465427\t Accuracy: 85/108 (79%)\n",
      " \n",
      "Confusion Matrix:\n",
      "[[ 0  0]\n",
      " [ 7 47]]\n",
      "Accuracy: 0.8703703703703703\n",
      "Precision: 0\n",
      "Recall: 0.0\n",
      "F1-Score: nan\n",
      "\n",
      "=========================================================================================\n"
     ]
    },
    {
     "name": "stderr",
     "output_type": "stream",
     "text": [
      "C:\\Users\\meena\\AppData\\Local\\Temp\\ipykernel_7124\\1959198720.py:27: RuntimeWarning: invalid value encountered in scalar divide\n",
      "  f1_score = 2 * (precision * recall) / (precision + recall)\n"
     ]
    },
    {
     "name": "stdout",
     "output_type": "stream",
     "text": [
      "Train Epoch: 26\t Learning rate: 0.0000\tLoss: 15.428598\t Accuracy: 85/108 (79%)\n",
      " \n",
      "Confusion Matrix:\n",
      "[[ 0  0]\n",
      " [ 7 47]]\n",
      "Accuracy: 0.8703703703703703\n",
      "Precision: 0\n",
      "Recall: 0.0\n",
      "F1-Score: nan\n",
      "\n",
      "=========================================================================================\n"
     ]
    },
    {
     "name": "stderr",
     "output_type": "stream",
     "text": [
      "C:\\Users\\meena\\AppData\\Local\\Temp\\ipykernel_7124\\1959198720.py:27: RuntimeWarning: invalid value encountered in scalar divide\n",
      "  f1_score = 2 * (precision * recall) / (precision + recall)\n"
     ]
    },
    {
     "name": "stdout",
     "output_type": "stream",
     "text": [
      "Train Epoch: 27\t Learning rate: 0.0000\tLoss: 15.319753\t Accuracy: 85/108 (79%)\n",
      " \n",
      "Confusion Matrix:\n",
      "[[ 0  0]\n",
      " [ 7 47]]\n",
      "Accuracy: 0.8703703703703703\n",
      "Precision: 0\n",
      "Recall: 0.0\n",
      "F1-Score: nan\n",
      "\n",
      "=========================================================================================\n"
     ]
    },
    {
     "name": "stderr",
     "output_type": "stream",
     "text": [
      "C:\\Users\\meena\\AppData\\Local\\Temp\\ipykernel_7124\\1959198720.py:27: RuntimeWarning: invalid value encountered in scalar divide\n",
      "  f1_score = 2 * (precision * recall) / (precision + recall)\n"
     ]
    },
    {
     "name": "stdout",
     "output_type": "stream",
     "text": [
      "Train Epoch: 28\t Learning rate: 0.0000\tLoss: 15.269456\t Accuracy: 85/108 (79%)\n",
      " \n",
      "Confusion Matrix:\n",
      "[[ 0  0]\n",
      " [ 7 47]]\n",
      "Accuracy: 0.8703703703703703\n",
      "Precision: 0\n",
      "Recall: 0.0\n",
      "F1-Score: nan\n",
      "\n",
      "=========================================================================================\n"
     ]
    },
    {
     "name": "stderr",
     "output_type": "stream",
     "text": [
      "C:\\Users\\meena\\AppData\\Local\\Temp\\ipykernel_7124\\1959198720.py:27: RuntimeWarning: invalid value encountered in scalar divide\n",
      "  f1_score = 2 * (precision * recall) / (precision + recall)\n"
     ]
    },
    {
     "name": "stdout",
     "output_type": "stream",
     "text": [
      "Train Epoch: 29\t Learning rate: 0.0000\tLoss: 15.030816\t Accuracy: 85/108 (79%)\n",
      " \n",
      "Confusion Matrix:\n",
      "[[ 0  0]\n",
      " [ 7 47]]\n",
      "Accuracy: 0.8703703703703703\n",
      "Precision: 0\n",
      "Recall: 0.0\n",
      "F1-Score: nan\n",
      "\n",
      "=========================================================================================\n"
     ]
    },
    {
     "name": "stderr",
     "output_type": "stream",
     "text": [
      "C:\\Users\\meena\\AppData\\Local\\Temp\\ipykernel_7124\\1959198720.py:27: RuntimeWarning: invalid value encountered in scalar divide\n",
      "  f1_score = 2 * (precision * recall) / (precision + recall)\n"
     ]
    },
    {
     "name": "stdout",
     "output_type": "stream",
     "text": [
      "Train Epoch: 30\t Learning rate: 0.0000\tLoss: 15.143516\t Accuracy: 85/108 (79%)\n",
      " \n",
      "Confusion Matrix:\n",
      "[[ 0  0]\n",
      " [ 7 47]]\n",
      "Accuracy: 0.8703703703703703\n",
      "Precision: 0\n",
      "Recall: 0.0\n",
      "F1-Score: nan\n",
      "\n",
      "=========================================================================================\n"
     ]
    },
    {
     "name": "stderr",
     "output_type": "stream",
     "text": [
      "C:\\Users\\meena\\AppData\\Local\\Temp\\ipykernel_7124\\1959198720.py:27: RuntimeWarning: invalid value encountered in scalar divide\n",
      "  f1_score = 2 * (precision * recall) / (precision + recall)\n"
     ]
    },
    {
     "name": "stdout",
     "output_type": "stream",
     "text": [
      "Train Epoch: 31\t Learning rate: 0.0000\tLoss: 15.134265\t Accuracy: 85/108 (79%)\n",
      " \n",
      "Confusion Matrix:\n",
      "[[ 0  0]\n",
      " [ 7 47]]\n",
      "Accuracy: 0.8703703703703703\n",
      "Precision: 0\n",
      "Recall: 0.0\n",
      "F1-Score: nan\n",
      "\n",
      "=========================================================================================\n"
     ]
    },
    {
     "name": "stderr",
     "output_type": "stream",
     "text": [
      "C:\\Users\\meena\\AppData\\Local\\Temp\\ipykernel_7124\\1959198720.py:27: RuntimeWarning: invalid value encountered in scalar divide\n",
      "  f1_score = 2 * (precision * recall) / (precision + recall)\n"
     ]
    },
    {
     "name": "stdout",
     "output_type": "stream",
     "text": [
      "Train Epoch: 32\t Learning rate: 0.0000\tLoss: 14.987619\t Accuracy: 85/108 (79%)\n",
      " \n",
      "Confusion Matrix:\n",
      "[[ 0  0]\n",
      " [ 7 47]]\n",
      "Accuracy: 0.8703703703703703\n",
      "Precision: 0\n",
      "Recall: 0.0\n",
      "F1-Score: nan\n",
      "\n",
      "=========================================================================================\n"
     ]
    },
    {
     "name": "stderr",
     "output_type": "stream",
     "text": [
      "C:\\Users\\meena\\AppData\\Local\\Temp\\ipykernel_7124\\1959198720.py:27: RuntimeWarning: invalid value encountered in scalar divide\n",
      "  f1_score = 2 * (precision * recall) / (precision + recall)\n"
     ]
    },
    {
     "name": "stdout",
     "output_type": "stream",
     "text": [
      "Train Epoch: 33\t Learning rate: 0.0000\tLoss: 14.827726\t Accuracy: 85/108 (79%)\n",
      " \n",
      "Confusion Matrix:\n",
      "[[ 0  0]\n",
      " [ 7 47]]\n",
      "Accuracy: 0.8703703703703703\n",
      "Precision: 0\n",
      "Recall: 0.0\n",
      "F1-Score: nan\n",
      "\n",
      "=========================================================================================\n"
     ]
    },
    {
     "name": "stderr",
     "output_type": "stream",
     "text": [
      "C:\\Users\\meena\\AppData\\Local\\Temp\\ipykernel_7124\\1959198720.py:27: RuntimeWarning: invalid value encountered in scalar divide\n",
      "  f1_score = 2 * (precision * recall) / (precision + recall)\n"
     ]
    },
    {
     "name": "stdout",
     "output_type": "stream",
     "text": [
      "Train Epoch: 34\t Learning rate: 0.0000\tLoss: 14.875207\t Accuracy: 85/108 (79%)\n",
      " \n",
      "Confusion Matrix:\n",
      "[[ 0  0]\n",
      " [ 7 47]]\n",
      "Accuracy: 0.8703703703703703\n",
      "Precision: 0\n",
      "Recall: 0.0\n",
      "F1-Score: nan\n",
      "\n",
      "=========================================================================================\n"
     ]
    },
    {
     "name": "stderr",
     "output_type": "stream",
     "text": [
      "C:\\Users\\meena\\AppData\\Local\\Temp\\ipykernel_7124\\1959198720.py:27: RuntimeWarning: invalid value encountered in scalar divide\n",
      "  f1_score = 2 * (precision * recall) / (precision + recall)\n"
     ]
    },
    {
     "name": "stdout",
     "output_type": "stream",
     "text": [
      "Train Epoch: 35\t Learning rate: 0.0000\tLoss: 14.648432\t Accuracy: 85/108 (79%)\n",
      " \n",
      "Confusion Matrix:\n",
      "[[ 0  0]\n",
      " [ 7 47]]\n",
      "Accuracy: 0.8703703703703703\n",
      "Precision: 0\n",
      "Recall: 0.0\n",
      "F1-Score: nan\n",
      "\n",
      "=========================================================================================\n"
     ]
    },
    {
     "name": "stderr",
     "output_type": "stream",
     "text": [
      "C:\\Users\\meena\\AppData\\Local\\Temp\\ipykernel_7124\\1959198720.py:27: RuntimeWarning: invalid value encountered in scalar divide\n",
      "  f1_score = 2 * (precision * recall) / (precision + recall)\n"
     ]
    },
    {
     "name": "stdout",
     "output_type": "stream",
     "text": [
      "Train Epoch: 36\t Learning rate: 0.0000\tLoss: 14.754791\t Accuracy: 85/108 (79%)\n",
      " \n",
      "Confusion Matrix:\n",
      "[[ 0  0]\n",
      " [ 7 47]]\n",
      "Accuracy: 0.8703703703703703\n",
      "Precision: 0\n",
      "Recall: 0.0\n",
      "F1-Score: nan\n",
      "\n",
      "=========================================================================================\n"
     ]
    },
    {
     "name": "stderr",
     "output_type": "stream",
     "text": [
      "C:\\Users\\meena\\AppData\\Local\\Temp\\ipykernel_7124\\1959198720.py:27: RuntimeWarning: invalid value encountered in scalar divide\n",
      "  f1_score = 2 * (precision * recall) / (precision + recall)\n"
     ]
    },
    {
     "name": "stdout",
     "output_type": "stream",
     "text": [
      "Train Epoch: 37\t Learning rate: 0.0000\tLoss: 14.817144\t Accuracy: 85/108 (79%)\n",
      " \n",
      "Confusion Matrix:\n",
      "[[ 0  0]\n",
      " [ 7 47]]\n",
      "Accuracy: 0.8703703703703703\n",
      "Precision: 0\n",
      "Recall: 0.0\n",
      "F1-Score: nan\n",
      "\n",
      "=========================================================================================\n"
     ]
    },
    {
     "name": "stderr",
     "output_type": "stream",
     "text": [
      "C:\\Users\\meena\\AppData\\Local\\Temp\\ipykernel_7124\\1959198720.py:27: RuntimeWarning: invalid value encountered in scalar divide\n",
      "  f1_score = 2 * (precision * recall) / (precision + recall)\n"
     ]
    },
    {
     "name": "stdout",
     "output_type": "stream",
     "text": [
      "Train Epoch: 38\t Learning rate: 0.0000\tLoss: 14.671426\t Accuracy: 85/108 (79%)\n",
      " \n",
      "Confusion Matrix:\n",
      "[[ 0  0]\n",
      " [ 7 47]]\n",
      "Accuracy: 0.8703703703703703\n",
      "Precision: 0\n",
      "Recall: 0.0\n",
      "F1-Score: nan\n",
      "\n",
      "=========================================================================================\n"
     ]
    },
    {
     "name": "stderr",
     "output_type": "stream",
     "text": [
      "C:\\Users\\meena\\AppData\\Local\\Temp\\ipykernel_7124\\1959198720.py:27: RuntimeWarning: invalid value encountered in scalar divide\n",
      "  f1_score = 2 * (precision * recall) / (precision + recall)\n"
     ]
    },
    {
     "name": "stdout",
     "output_type": "stream",
     "text": [
      "Train Epoch: 39\t Learning rate: 0.0000\tLoss: 14.643608\t Accuracy: 85/108 (79%)\n",
      " \n",
      "Confusion Matrix:\n",
      "[[ 0  0]\n",
      " [ 7 47]]\n",
      "Accuracy: 0.8703703703703703\n",
      "Precision: 0\n",
      "Recall: 0.0\n",
      "F1-Score: nan\n",
      "\n",
      "=========================================================================================\n"
     ]
    },
    {
     "name": "stderr",
     "output_type": "stream",
     "text": [
      "C:\\Users\\meena\\AppData\\Local\\Temp\\ipykernel_7124\\1959198720.py:27: RuntimeWarning: invalid value encountered in scalar divide\n",
      "  f1_score = 2 * (precision * recall) / (precision + recall)\n"
     ]
    },
    {
     "name": "stdout",
     "output_type": "stream",
     "text": [
      "Train Epoch: 40\t Learning rate: 0.0000\tLoss: 14.707100\t Accuracy: 85/108 (79%)\n",
      " \n",
      "Confusion Matrix:\n",
      "[[ 0  0]\n",
      " [ 7 47]]\n",
      "Accuracy: 0.8703703703703703\n",
      "Precision: 0\n",
      "Recall: 0.0\n",
      "F1-Score: nan\n",
      "\n",
      "=========================================================================================\n"
     ]
    },
    {
     "name": "stderr",
     "output_type": "stream",
     "text": [
      "C:\\Users\\meena\\AppData\\Local\\Temp\\ipykernel_7124\\1959198720.py:27: RuntimeWarning: invalid value encountered in scalar divide\n",
      "  f1_score = 2 * (precision * recall) / (precision + recall)\n"
     ]
    },
    {
     "name": "stdout",
     "output_type": "stream",
     "text": [
      "Train Epoch: 41\t Learning rate: 0.0000\tLoss: 14.599269\t Accuracy: 85/108 (79%)\n",
      " \n",
      "Confusion Matrix:\n",
      "[[ 0  0]\n",
      " [ 7 47]]\n",
      "Accuracy: 0.8703703703703703\n",
      "Precision: 0\n",
      "Recall: 0.0\n",
      "F1-Score: nan\n",
      "\n",
      "=========================================================================================\n"
     ]
    },
    {
     "name": "stderr",
     "output_type": "stream",
     "text": [
      "C:\\Users\\meena\\AppData\\Local\\Temp\\ipykernel_7124\\1959198720.py:27: RuntimeWarning: invalid value encountered in scalar divide\n",
      "  f1_score = 2 * (precision * recall) / (precision + recall)\n"
     ]
    },
    {
     "name": "stdout",
     "output_type": "stream",
     "text": [
      "Train Epoch: 42\t Learning rate: 0.0000\tLoss: 14.500331\t Accuracy: 85/108 (79%)\n",
      " \n",
      "Confusion Matrix:\n",
      "[[ 0  0]\n",
      " [ 7 47]]\n",
      "Accuracy: 0.8703703703703703\n",
      "Precision: 0\n",
      "Recall: 0.0\n",
      "F1-Score: nan\n",
      "\n",
      "=========================================================================================\n"
     ]
    },
    {
     "name": "stderr",
     "output_type": "stream",
     "text": [
      "C:\\Users\\meena\\AppData\\Local\\Temp\\ipykernel_7124\\1959198720.py:27: RuntimeWarning: invalid value encountered in scalar divide\n",
      "  f1_score = 2 * (precision * recall) / (precision + recall)\n"
     ]
    },
    {
     "name": "stdout",
     "output_type": "stream",
     "text": [
      "Train Epoch: 43\t Learning rate: 0.0000\tLoss: 14.370543\t Accuracy: 85/108 (79%)\n",
      " \n",
      "Confusion Matrix:\n",
      "[[ 0  0]\n",
      " [ 7 47]]\n",
      "Accuracy: 0.8703703703703703\n",
      "Precision: 0\n",
      "Recall: 0.0\n",
      "F1-Score: nan\n",
      "\n",
      "=========================================================================================\n"
     ]
    },
    {
     "name": "stderr",
     "output_type": "stream",
     "text": [
      "C:\\Users\\meena\\AppData\\Local\\Temp\\ipykernel_7124\\1959198720.py:27: RuntimeWarning: invalid value encountered in scalar divide\n",
      "  f1_score = 2 * (precision * recall) / (precision + recall)\n"
     ]
    },
    {
     "name": "stdout",
     "output_type": "stream",
     "text": [
      "Train Epoch: 44\t Learning rate: 0.0000\tLoss: 14.358262\t Accuracy: 85/108 (79%)\n",
      " \n",
      "Confusion Matrix:\n",
      "[[ 0  0]\n",
      " [ 7 47]]\n",
      "Accuracy: 0.8703703703703703\n",
      "Precision: 0\n",
      "Recall: 0.0\n",
      "F1-Score: nan\n",
      "\n",
      "=========================================================================================\n"
     ]
    },
    {
     "name": "stderr",
     "output_type": "stream",
     "text": [
      "C:\\Users\\meena\\AppData\\Local\\Temp\\ipykernel_7124\\1959198720.py:27: RuntimeWarning: invalid value encountered in scalar divide\n",
      "  f1_score = 2 * (precision * recall) / (precision + recall)\n"
     ]
    },
    {
     "name": "stdout",
     "output_type": "stream",
     "text": [
      "Train Epoch: 45\t Learning rate: 0.0000\tLoss: 14.248165\t Accuracy: 85/108 (79%)\n",
      " \n",
      "Confusion Matrix:\n",
      "[[ 0  0]\n",
      " [ 7 47]]\n",
      "Accuracy: 0.8703703703703703\n",
      "Precision: 0\n",
      "Recall: 0.0\n",
      "F1-Score: nan\n",
      "\n",
      "=========================================================================================\n"
     ]
    },
    {
     "name": "stderr",
     "output_type": "stream",
     "text": [
      "C:\\Users\\meena\\AppData\\Local\\Temp\\ipykernel_7124\\1959198720.py:27: RuntimeWarning: invalid value encountered in scalar divide\n",
      "  f1_score = 2 * (precision * recall) / (precision + recall)\n"
     ]
    },
    {
     "name": "stdout",
     "output_type": "stream",
     "text": [
      "Train Epoch: 46\t Learning rate: 0.0000\tLoss: 14.764293\t Accuracy: 85/108 (79%)\n",
      " \n",
      "Confusion Matrix:\n",
      "[[ 0  0]\n",
      " [ 7 47]]\n",
      "Accuracy: 0.8703703703703703\n",
      "Precision: 0\n",
      "Recall: 0.0\n",
      "F1-Score: nan\n",
      "\n",
      "=========================================================================================\n"
     ]
    },
    {
     "name": "stderr",
     "output_type": "stream",
     "text": [
      "C:\\Users\\meena\\AppData\\Local\\Temp\\ipykernel_7124\\1959198720.py:27: RuntimeWarning: invalid value encountered in scalar divide\n",
      "  f1_score = 2 * (precision * recall) / (precision + recall)\n"
     ]
    },
    {
     "name": "stdout",
     "output_type": "stream",
     "text": [
      "Train Epoch: 47\t Learning rate: 0.0000\tLoss: 14.485908\t Accuracy: 85/108 (79%)\n",
      " \n",
      "Confusion Matrix:\n",
      "[[ 0  0]\n",
      " [ 7 47]]\n",
      "Accuracy: 0.8703703703703703\n",
      "Precision: 0\n",
      "Recall: 0.0\n",
      "F1-Score: nan\n",
      "\n",
      "=========================================================================================\n"
     ]
    },
    {
     "name": "stderr",
     "output_type": "stream",
     "text": [
      "C:\\Users\\meena\\AppData\\Local\\Temp\\ipykernel_7124\\1959198720.py:27: RuntimeWarning: invalid value encountered in scalar divide\n",
      "  f1_score = 2 * (precision * recall) / (precision + recall)\n"
     ]
    },
    {
     "name": "stdout",
     "output_type": "stream",
     "text": [
      "Train Epoch: 48\t Learning rate: 0.0000\tLoss: 14.319244\t Accuracy: 85/108 (79%)\n",
      " \n",
      "Confusion Matrix:\n",
      "[[ 0  0]\n",
      " [ 7 47]]\n",
      "Accuracy: 0.8703703703703703\n",
      "Precision: 0\n",
      "Recall: 0.0\n",
      "F1-Score: nan\n",
      "\n",
      "=========================================================================================\n"
     ]
    },
    {
     "name": "stderr",
     "output_type": "stream",
     "text": [
      "C:\\Users\\meena\\AppData\\Local\\Temp\\ipykernel_7124\\1959198720.py:27: RuntimeWarning: invalid value encountered in scalar divide\n",
      "  f1_score = 2 * (precision * recall) / (precision + recall)\n"
     ]
    },
    {
     "name": "stdout",
     "output_type": "stream",
     "text": [
      "Train Epoch: 49\t Learning rate: 0.0000\tLoss: 14.467947\t Accuracy: 85/108 (79%)\n",
      " \n",
      "Confusion Matrix:\n",
      "[[ 0  0]\n",
      " [ 7 47]]\n",
      "Accuracy: 0.8703703703703703\n",
      "Precision: 0\n",
      "Recall: 0.0\n",
      "F1-Score: nan\n",
      "\n",
      "=========================================================================================\n"
     ]
    },
    {
     "name": "stderr",
     "output_type": "stream",
     "text": [
      "C:\\Users\\meena\\AppData\\Local\\Temp\\ipykernel_7124\\1959198720.py:27: RuntimeWarning: invalid value encountered in scalar divide\n",
      "  f1_score = 2 * (precision * recall) / (precision + recall)\n"
     ]
    },
    {
     "name": "stdout",
     "output_type": "stream",
     "text": [
      "Train Epoch: 50\t Learning rate: 0.0000\tLoss: 14.577429\t Accuracy: 85/108 (79%)\n",
      " \n",
      "Confusion Matrix:\n",
      "[[ 0  0]\n",
      " [ 7 47]]\n",
      "Accuracy: 0.8703703703703703\n",
      "Precision: 0\n",
      "Recall: 0.0\n",
      "F1-Score: nan\n",
      "\n",
      "=========================================================================================\n"
     ]
    },
    {
     "name": "stderr",
     "output_type": "stream",
     "text": [
      "C:\\Users\\meena\\AppData\\Local\\Temp\\ipykernel_7124\\1959198720.py:27: RuntimeWarning: invalid value encountered in scalar divide\n",
      "  f1_score = 2 * (precision * recall) / (precision + recall)\n"
     ]
    },
    {
     "name": "stdout",
     "output_type": "stream",
     "text": [
      "Train Epoch: 51\t Learning rate: 0.0000\tLoss: 14.360505\t Accuracy: 85/108 (79%)\n",
      " \n",
      "Confusion Matrix:\n",
      "[[ 0  0]\n",
      " [ 7 47]]\n",
      "Accuracy: 0.8703703703703703\n",
      "Precision: 0\n",
      "Recall: 0.0\n",
      "F1-Score: nan\n",
      "\n",
      "=========================================================================================\n"
     ]
    },
    {
     "name": "stderr",
     "output_type": "stream",
     "text": [
      "C:\\Users\\meena\\AppData\\Local\\Temp\\ipykernel_7124\\1959198720.py:27: RuntimeWarning: invalid value encountered in scalar divide\n",
      "  f1_score = 2 * (precision * recall) / (precision + recall)\n"
     ]
    },
    {
     "name": "stdout",
     "output_type": "stream",
     "text": [
      "Train Epoch: 52\t Learning rate: 0.0000\tLoss: 14.501722\t Accuracy: 85/108 (79%)\n",
      " \n",
      "Confusion Matrix:\n",
      "[[ 0  0]\n",
      " [ 7 47]]\n",
      "Accuracy: 0.8703703703703703\n",
      "Precision: 0\n",
      "Recall: 0.0\n",
      "F1-Score: nan\n",
      "\n",
      "=========================================================================================\n"
     ]
    },
    {
     "name": "stderr",
     "output_type": "stream",
     "text": [
      "C:\\Users\\meena\\AppData\\Local\\Temp\\ipykernel_7124\\1959198720.py:27: RuntimeWarning: invalid value encountered in scalar divide\n",
      "  f1_score = 2 * (precision * recall) / (precision + recall)\n"
     ]
    },
    {
     "name": "stdout",
     "output_type": "stream",
     "text": [
      "Train Epoch: 53\t Learning rate: 0.0000\tLoss: 14.315856\t Accuracy: 85/108 (79%)\n",
      " \n",
      "Confusion Matrix:\n",
      "[[ 0  0]\n",
      " [ 7 47]]\n",
      "Accuracy: 0.8703703703703703\n",
      "Precision: 0\n",
      "Recall: 0.0\n",
      "F1-Score: nan\n",
      "\n",
      "=========================================================================================\n"
     ]
    },
    {
     "name": "stderr",
     "output_type": "stream",
     "text": [
      "C:\\Users\\meena\\AppData\\Local\\Temp\\ipykernel_7124\\1959198720.py:27: RuntimeWarning: invalid value encountered in scalar divide\n",
      "  f1_score = 2 * (precision * recall) / (precision + recall)\n"
     ]
    },
    {
     "name": "stdout",
     "output_type": "stream",
     "text": [
      "Train Epoch: 54\t Learning rate: 0.0000\tLoss: 14.305658\t Accuracy: 85/108 (79%)\n",
      " \n",
      "Confusion Matrix:\n",
      "[[ 0  0]\n",
      " [ 7 47]]\n",
      "Accuracy: 0.8703703703703703\n",
      "Precision: 0\n",
      "Recall: 0.0\n",
      "F1-Score: nan\n",
      "\n",
      "=========================================================================================\n"
     ]
    },
    {
     "name": "stderr",
     "output_type": "stream",
     "text": [
      "C:\\Users\\meena\\AppData\\Local\\Temp\\ipykernel_7124\\1959198720.py:27: RuntimeWarning: invalid value encountered in scalar divide\n",
      "  f1_score = 2 * (precision * recall) / (precision + recall)\n"
     ]
    },
    {
     "name": "stdout",
     "output_type": "stream",
     "text": [
      "Train Epoch: 55\t Learning rate: 0.0000\tLoss: 14.266519\t Accuracy: 85/108 (79%)\n",
      " \n",
      "Confusion Matrix:\n",
      "[[ 0  0]\n",
      " [ 7 47]]\n",
      "Accuracy: 0.8703703703703703\n",
      "Precision: 0\n",
      "Recall: 0.0\n",
      "F1-Score: nan\n",
      "\n",
      "=========================================================================================\n"
     ]
    },
    {
     "name": "stderr",
     "output_type": "stream",
     "text": [
      "C:\\Users\\meena\\AppData\\Local\\Temp\\ipykernel_7124\\1959198720.py:27: RuntimeWarning: invalid value encountered in scalar divide\n",
      "  f1_score = 2 * (precision * recall) / (precision + recall)\n"
     ]
    },
    {
     "name": "stdout",
     "output_type": "stream",
     "text": [
      "Train Epoch: 56\t Learning rate: 0.0000\tLoss: 14.412870\t Accuracy: 85/108 (79%)\n",
      " \n",
      "Confusion Matrix:\n",
      "[[ 0  0]\n",
      " [ 7 47]]\n",
      "Accuracy: 0.8703703703703703\n",
      "Precision: 0\n",
      "Recall: 0.0\n",
      "F1-Score: nan\n",
      "\n",
      "=========================================================================================\n"
     ]
    },
    {
     "name": "stderr",
     "output_type": "stream",
     "text": [
      "C:\\Users\\meena\\AppData\\Local\\Temp\\ipykernel_7124\\1959198720.py:27: RuntimeWarning: invalid value encountered in scalar divide\n",
      "  f1_score = 2 * (precision * recall) / (precision + recall)\n"
     ]
    },
    {
     "name": "stdout",
     "output_type": "stream",
     "text": [
      "Train Epoch: 57\t Learning rate: 0.0000\tLoss: 14.349993\t Accuracy: 85/108 (79%)\n",
      " \n",
      "Confusion Matrix:\n",
      "[[ 0  0]\n",
      " [ 7 47]]\n",
      "Accuracy: 0.8703703703703703\n",
      "Precision: 0\n",
      "Recall: 0.0\n",
      "F1-Score: nan\n",
      "\n",
      "=========================================================================================\n"
     ]
    },
    {
     "name": "stderr",
     "output_type": "stream",
     "text": [
      "C:\\Users\\meena\\AppData\\Local\\Temp\\ipykernel_7124\\1959198720.py:27: RuntimeWarning: invalid value encountered in scalar divide\n",
      "  f1_score = 2 * (precision * recall) / (precision + recall)\n"
     ]
    },
    {
     "name": "stdout",
     "output_type": "stream",
     "text": [
      "Train Epoch: 58\t Learning rate: 0.0000\tLoss: 14.225164\t Accuracy: 85/108 (79%)\n",
      " \n",
      "Confusion Matrix:\n",
      "[[ 0  0]\n",
      " [ 7 47]]\n",
      "Accuracy: 0.8703703703703703\n",
      "Precision: 0\n",
      "Recall: 0.0\n",
      "F1-Score: nan\n",
      "\n",
      "=========================================================================================\n"
     ]
    },
    {
     "name": "stderr",
     "output_type": "stream",
     "text": [
      "C:\\Users\\meena\\AppData\\Local\\Temp\\ipykernel_7124\\1959198720.py:27: RuntimeWarning: invalid value encountered in scalar divide\n",
      "  f1_score = 2 * (precision * recall) / (precision + recall)\n"
     ]
    },
    {
     "name": "stdout",
     "output_type": "stream",
     "text": [
      "Train Epoch: 59\t Learning rate: 0.0000\tLoss: 14.399716\t Accuracy: 85/108 (79%)\n",
      " \n",
      "Confusion Matrix:\n",
      "[[ 0  0]\n",
      " [ 7 47]]\n",
      "Accuracy: 0.8703703703703703\n",
      "Precision: 0\n",
      "Recall: 0.0\n",
      "F1-Score: nan\n",
      "\n",
      "=========================================================================================\n"
     ]
    },
    {
     "name": "stderr",
     "output_type": "stream",
     "text": [
      "C:\\Users\\meena\\AppData\\Local\\Temp\\ipykernel_7124\\1959198720.py:27: RuntimeWarning: invalid value encountered in scalar divide\n",
      "  f1_score = 2 * (precision * recall) / (precision + recall)\n"
     ]
    },
    {
     "name": "stdout",
     "output_type": "stream",
     "text": [
      "Train Epoch: 60\t Learning rate: 0.0000\tLoss: 14.282206\t Accuracy: 85/108 (79%)\n",
      " \n",
      "Confusion Matrix:\n",
      "[[ 0  0]\n",
      " [ 7 47]]\n",
      "Accuracy: 0.8703703703703703\n",
      "Precision: 0\n",
      "Recall: 0.0\n",
      "F1-Score: nan\n",
      "\n",
      "=========================================================================================\n"
     ]
    },
    {
     "name": "stderr",
     "output_type": "stream",
     "text": [
      "C:\\Users\\meena\\AppData\\Local\\Temp\\ipykernel_7124\\1959198720.py:27: RuntimeWarning: invalid value encountered in scalar divide\n",
      "  f1_score = 2 * (precision * recall) / (precision + recall)\n"
     ]
    },
    {
     "name": "stdout",
     "output_type": "stream",
     "text": [
      "Train Epoch: 61\t Learning rate: 0.0000\tLoss: 14.304306\t Accuracy: 85/108 (79%)\n",
      " \n",
      "Confusion Matrix:\n",
      "[[ 0  0]\n",
      " [ 7 47]]\n",
      "Accuracy: 0.8703703703703703\n",
      "Precision: 0\n",
      "Recall: 0.0\n",
      "F1-Score: nan\n",
      "\n",
      "=========================================================================================\n"
     ]
    },
    {
     "name": "stderr",
     "output_type": "stream",
     "text": [
      "C:\\Users\\meena\\AppData\\Local\\Temp\\ipykernel_7124\\1959198720.py:27: RuntimeWarning: invalid value encountered in scalar divide\n",
      "  f1_score = 2 * (precision * recall) / (precision + recall)\n"
     ]
    },
    {
     "name": "stdout",
     "output_type": "stream",
     "text": [
      "Train Epoch: 62\t Learning rate: 0.0000\tLoss: 14.514615\t Accuracy: 85/108 (79%)\n",
      " \n",
      "Confusion Matrix:\n",
      "[[ 0  0]\n",
      " [ 7 47]]\n",
      "Accuracy: 0.8703703703703703\n",
      "Precision: 0\n",
      "Recall: 0.0\n",
      "F1-Score: nan\n",
      "\n",
      "=========================================================================================\n"
     ]
    },
    {
     "name": "stderr",
     "output_type": "stream",
     "text": [
      "C:\\Users\\meena\\AppData\\Local\\Temp\\ipykernel_7124\\1959198720.py:27: RuntimeWarning: invalid value encountered in scalar divide\n",
      "  f1_score = 2 * (precision * recall) / (precision + recall)\n"
     ]
    },
    {
     "name": "stdout",
     "output_type": "stream",
     "text": [
      "Train Epoch: 63\t Learning rate: 0.0000\tLoss: 14.317330\t Accuracy: 85/108 (79%)\n",
      " \n",
      "Confusion Matrix:\n",
      "[[ 0  0]\n",
      " [ 7 47]]\n",
      "Accuracy: 0.8703703703703703\n",
      "Precision: 0\n",
      "Recall: 0.0\n",
      "F1-Score: nan\n",
      "\n",
      "=========================================================================================\n"
     ]
    },
    {
     "name": "stderr",
     "output_type": "stream",
     "text": [
      "C:\\Users\\meena\\AppData\\Local\\Temp\\ipykernel_7124\\1959198720.py:27: RuntimeWarning: invalid value encountered in scalar divide\n",
      "  f1_score = 2 * (precision * recall) / (precision + recall)\n"
     ]
    },
    {
     "name": "stdout",
     "output_type": "stream",
     "text": [
      "Train Epoch: 64\t Learning rate: 0.0000\tLoss: 14.252414\t Accuracy: 85/108 (79%)\n",
      " \n",
      "Confusion Matrix:\n",
      "[[ 0  0]\n",
      " [ 7 47]]\n",
      "Accuracy: 0.8703703703703703\n",
      "Precision: 0\n",
      "Recall: 0.0\n",
      "F1-Score: nan\n",
      "\n",
      "=========================================================================================\n"
     ]
    },
    {
     "name": "stderr",
     "output_type": "stream",
     "text": [
      "C:\\Users\\meena\\AppData\\Local\\Temp\\ipykernel_7124\\1959198720.py:27: RuntimeWarning: invalid value encountered in scalar divide\n",
      "  f1_score = 2 * (precision * recall) / (precision + recall)\n"
     ]
    },
    {
     "name": "stdout",
     "output_type": "stream",
     "text": [
      "Train Epoch: 65\t Learning rate: 0.0000\tLoss: 14.224757\t Accuracy: 85/108 (79%)\n",
      " \n",
      "Confusion Matrix:\n",
      "[[ 0  0]\n",
      " [ 7 47]]\n",
      "Accuracy: 0.8703703703703703\n",
      "Precision: 0\n",
      "Recall: 0.0\n",
      "F1-Score: nan\n",
      "\n",
      "=========================================================================================\n"
     ]
    },
    {
     "name": "stderr",
     "output_type": "stream",
     "text": [
      "C:\\Users\\meena\\AppData\\Local\\Temp\\ipykernel_7124\\1959198720.py:27: RuntimeWarning: invalid value encountered in scalar divide\n",
      "  f1_score = 2 * (precision * recall) / (precision + recall)\n"
     ]
    },
    {
     "name": "stdout",
     "output_type": "stream",
     "text": [
      "Train Epoch: 66\t Learning rate: 0.0000\tLoss: 14.173466\t Accuracy: 85/108 (79%)\n",
      " \n",
      "Confusion Matrix:\n",
      "[[ 0  0]\n",
      " [ 7 47]]\n",
      "Accuracy: 0.8703703703703703\n",
      "Precision: 0\n",
      "Recall: 0.0\n",
      "F1-Score: nan\n",
      "\n",
      "=========================================================================================\n"
     ]
    },
    {
     "name": "stderr",
     "output_type": "stream",
     "text": [
      "C:\\Users\\meena\\AppData\\Local\\Temp\\ipykernel_7124\\1959198720.py:27: RuntimeWarning: invalid value encountered in scalar divide\n",
      "  f1_score = 2 * (precision * recall) / (precision + recall)\n"
     ]
    },
    {
     "name": "stdout",
     "output_type": "stream",
     "text": [
      "Train Epoch: 67\t Learning rate: 0.0000\tLoss: 14.308559\t Accuracy: 85/108 (79%)\n",
      " \n",
      "Confusion Matrix:\n",
      "[[ 0  0]\n",
      " [ 7 47]]\n",
      "Accuracy: 0.8703703703703703\n",
      "Precision: 0\n",
      "Recall: 0.0\n",
      "F1-Score: nan\n",
      "\n",
      "=========================================================================================\n"
     ]
    },
    {
     "name": "stderr",
     "output_type": "stream",
     "text": [
      "C:\\Users\\meena\\AppData\\Local\\Temp\\ipykernel_7124\\1959198720.py:27: RuntimeWarning: invalid value encountered in scalar divide\n",
      "  f1_score = 2 * (precision * recall) / (precision + recall)\n"
     ]
    },
    {
     "name": "stdout",
     "output_type": "stream",
     "text": [
      "Train Epoch: 68\t Learning rate: 0.0000\tLoss: 14.192982\t Accuracy: 85/108 (79%)\n",
      " \n",
      "Confusion Matrix:\n",
      "[[ 0  0]\n",
      " [ 7 47]]\n",
      "Accuracy: 0.8703703703703703\n",
      "Precision: 0\n",
      "Recall: 0.0\n",
      "F1-Score: nan\n",
      "\n",
      "=========================================================================================\n"
     ]
    },
    {
     "name": "stderr",
     "output_type": "stream",
     "text": [
      "C:\\Users\\meena\\AppData\\Local\\Temp\\ipykernel_7124\\1959198720.py:27: RuntimeWarning: invalid value encountered in scalar divide\n",
      "  f1_score = 2 * (precision * recall) / (precision + recall)\n"
     ]
    },
    {
     "name": "stdout",
     "output_type": "stream",
     "text": [
      "Train Epoch: 69\t Learning rate: 0.0000\tLoss: 14.162641\t Accuracy: 85/108 (79%)\n",
      " \n",
      "Confusion Matrix:\n",
      "[[ 0  0]\n",
      " [ 7 47]]\n",
      "Accuracy: 0.8703703703703703\n",
      "Precision: 0\n",
      "Recall: 0.0\n",
      "F1-Score: nan\n",
      "\n",
      "=========================================================================================\n"
     ]
    },
    {
     "name": "stderr",
     "output_type": "stream",
     "text": [
      "C:\\Users\\meena\\AppData\\Local\\Temp\\ipykernel_7124\\1959198720.py:27: RuntimeWarning: invalid value encountered in scalar divide\n",
      "  f1_score = 2 * (precision * recall) / (precision + recall)\n"
     ]
    },
    {
     "name": "stdout",
     "output_type": "stream",
     "text": [
      "Train Epoch: 70\t Learning rate: 0.0000\tLoss: 14.336265\t Accuracy: 85/108 (79%)\n",
      " \n",
      "Confusion Matrix:\n",
      "[[ 0  0]\n",
      " [ 7 47]]\n",
      "Accuracy: 0.8703703703703703\n",
      "Precision: 0\n",
      "Recall: 0.0\n",
      "F1-Score: nan\n",
      "\n",
      "=========================================================================================\n"
     ]
    },
    {
     "name": "stderr",
     "output_type": "stream",
     "text": [
      "C:\\Users\\meena\\AppData\\Local\\Temp\\ipykernel_7124\\1959198720.py:27: RuntimeWarning: invalid value encountered in scalar divide\n",
      "  f1_score = 2 * (precision * recall) / (precision + recall)\n"
     ]
    },
    {
     "name": "stdout",
     "output_type": "stream",
     "text": [
      "Train Epoch: 71\t Learning rate: 0.0000\tLoss: 14.292141\t Accuracy: 85/108 (79%)\n",
      " \n",
      "Confusion Matrix:\n",
      "[[ 0  0]\n",
      " [ 7 47]]\n",
      "Accuracy: 0.8703703703703703\n",
      "Precision: 0\n",
      "Recall: 0.0\n",
      "F1-Score: nan\n",
      "\n",
      "=========================================================================================\n"
     ]
    },
    {
     "name": "stderr",
     "output_type": "stream",
     "text": [
      "C:\\Users\\meena\\AppData\\Local\\Temp\\ipykernel_7124\\1959198720.py:27: RuntimeWarning: invalid value encountered in scalar divide\n",
      "  f1_score = 2 * (precision * recall) / (precision + recall)\n"
     ]
    },
    {
     "name": "stdout",
     "output_type": "stream",
     "text": [
      "Train Epoch: 72\t Learning rate: 0.0000\tLoss: 14.192737\t Accuracy: 85/108 (79%)\n",
      " \n",
      "Confusion Matrix:\n",
      "[[ 0  0]\n",
      " [ 7 47]]\n",
      "Accuracy: 0.8703703703703703\n",
      "Precision: 0\n",
      "Recall: 0.0\n",
      "F1-Score: nan\n",
      "\n",
      "=========================================================================================\n"
     ]
    },
    {
     "name": "stderr",
     "output_type": "stream",
     "text": [
      "C:\\Users\\meena\\AppData\\Local\\Temp\\ipykernel_7124\\1959198720.py:27: RuntimeWarning: invalid value encountered in scalar divide\n",
      "  f1_score = 2 * (precision * recall) / (precision + recall)\n"
     ]
    },
    {
     "name": "stdout",
     "output_type": "stream",
     "text": [
      "Train Epoch: 73\t Learning rate: 0.0000\tLoss: 14.253905\t Accuracy: 85/108 (79%)\n",
      " \n",
      "Confusion Matrix:\n",
      "[[ 0  0]\n",
      " [ 7 47]]\n",
      "Accuracy: 0.8703703703703703\n",
      "Precision: 0\n",
      "Recall: 0.0\n",
      "F1-Score: nan\n",
      "\n",
      "=========================================================================================\n"
     ]
    },
    {
     "name": "stderr",
     "output_type": "stream",
     "text": [
      "C:\\Users\\meena\\AppData\\Local\\Temp\\ipykernel_7124\\1959198720.py:27: RuntimeWarning: invalid value encountered in scalar divide\n",
      "  f1_score = 2 * (precision * recall) / (precision + recall)\n"
     ]
    },
    {
     "name": "stdout",
     "output_type": "stream",
     "text": [
      "Train Epoch: 74\t Learning rate: 0.0000\tLoss: 14.222230\t Accuracy: 85/108 (79%)\n",
      " \n",
      "Confusion Matrix:\n",
      "[[ 0  0]\n",
      " [ 7 47]]\n",
      "Accuracy: 0.8703703703703703\n",
      "Precision: 0\n",
      "Recall: 0.0\n",
      "F1-Score: nan\n",
      "\n",
      "=========================================================================================\n"
     ]
    },
    {
     "name": "stderr",
     "output_type": "stream",
     "text": [
      "C:\\Users\\meena\\AppData\\Local\\Temp\\ipykernel_7124\\1959198720.py:27: RuntimeWarning: invalid value encountered in scalar divide\n",
      "  f1_score = 2 * (precision * recall) / (precision + recall)\n"
     ]
    },
    {
     "name": "stdout",
     "output_type": "stream",
     "text": [
      "Train Epoch: 75\t Learning rate: 0.0000\tLoss: 14.224834\t Accuracy: 85/108 (79%)\n",
      " \n",
      "Confusion Matrix:\n",
      "[[ 0  0]\n",
      " [ 7 47]]\n",
      "Accuracy: 0.8703703703703703\n",
      "Precision: 0\n",
      "Recall: 0.0\n",
      "F1-Score: nan\n",
      "\n",
      "=========================================================================================\n"
     ]
    },
    {
     "name": "stderr",
     "output_type": "stream",
     "text": [
      "C:\\Users\\meena\\AppData\\Local\\Temp\\ipykernel_7124\\1959198720.py:27: RuntimeWarning: invalid value encountered in scalar divide\n",
      "  f1_score = 2 * (precision * recall) / (precision + recall)\n"
     ]
    },
    {
     "name": "stdout",
     "output_type": "stream",
     "text": [
      "Train Epoch: 76\t Learning rate: 0.0000\tLoss: 14.190110\t Accuracy: 85/108 (79%)\n",
      " \n",
      "Confusion Matrix:\n",
      "[[ 0  0]\n",
      " [ 7 47]]\n",
      "Accuracy: 0.8703703703703703\n",
      "Precision: 0\n",
      "Recall: 0.0\n",
      "F1-Score: nan\n",
      "\n",
      "=========================================================================================\n"
     ]
    },
    {
     "name": "stderr",
     "output_type": "stream",
     "text": [
      "C:\\Users\\meena\\AppData\\Local\\Temp\\ipykernel_7124\\1959198720.py:27: RuntimeWarning: invalid value encountered in scalar divide\n",
      "  f1_score = 2 * (precision * recall) / (precision + recall)\n"
     ]
    },
    {
     "name": "stdout",
     "output_type": "stream",
     "text": [
      "Train Epoch: 77\t Learning rate: 0.0000\tLoss: 14.185442\t Accuracy: 85/108 (79%)\n",
      " \n",
      "Confusion Matrix:\n",
      "[[ 0  0]\n",
      " [ 7 47]]\n",
      "Accuracy: 0.8703703703703703\n",
      "Precision: 0\n",
      "Recall: 0.0\n",
      "F1-Score: nan\n",
      "\n",
      "=========================================================================================\n"
     ]
    },
    {
     "name": "stderr",
     "output_type": "stream",
     "text": [
      "C:\\Users\\meena\\AppData\\Local\\Temp\\ipykernel_7124\\1959198720.py:27: RuntimeWarning: invalid value encountered in scalar divide\n",
      "  f1_score = 2 * (precision * recall) / (precision + recall)\n"
     ]
    },
    {
     "name": "stdout",
     "output_type": "stream",
     "text": [
      "Train Epoch: 78\t Learning rate: 0.0000\tLoss: 14.235113\t Accuracy: 85/108 (79%)\n",
      " \n",
      "Confusion Matrix:\n",
      "[[ 0  0]\n",
      " [ 7 47]]\n",
      "Accuracy: 0.8703703703703703\n",
      "Precision: 0\n",
      "Recall: 0.0\n",
      "F1-Score: nan\n",
      "\n",
      "=========================================================================================\n"
     ]
    },
    {
     "name": "stderr",
     "output_type": "stream",
     "text": [
      "C:\\Users\\meena\\AppData\\Local\\Temp\\ipykernel_7124\\1959198720.py:27: RuntimeWarning: invalid value encountered in scalar divide\n",
      "  f1_score = 2 * (precision * recall) / (precision + recall)\n"
     ]
    },
    {
     "name": "stdout",
     "output_type": "stream",
     "text": [
      "Train Epoch: 79\t Learning rate: 0.0000\tLoss: 14.276063\t Accuracy: 85/108 (79%)\n",
      " \n",
      "Confusion Matrix:\n",
      "[[ 0  0]\n",
      " [ 7 47]]\n",
      "Accuracy: 0.8703703703703703\n",
      "Precision: 0\n",
      "Recall: 0.0\n",
      "F1-Score: nan\n",
      "\n",
      "=========================================================================================\n"
     ]
    },
    {
     "name": "stderr",
     "output_type": "stream",
     "text": [
      "C:\\Users\\meena\\AppData\\Local\\Temp\\ipykernel_7124\\1959198720.py:27: RuntimeWarning: invalid value encountered in scalar divide\n",
      "  f1_score = 2 * (precision * recall) / (precision + recall)\n"
     ]
    },
    {
     "name": "stdout",
     "output_type": "stream",
     "text": [
      "Train Epoch: 80\t Learning rate: 0.0000\tLoss: 14.133111\t Accuracy: 85/108 (79%)\n",
      " \n",
      "Confusion Matrix:\n",
      "[[ 0  0]\n",
      " [ 7 47]]\n",
      "Accuracy: 0.8703703703703703\n",
      "Precision: 0\n",
      "Recall: 0.0\n",
      "F1-Score: nan\n",
      "\n",
      "=========================================================================================\n"
     ]
    },
    {
     "name": "stderr",
     "output_type": "stream",
     "text": [
      "C:\\Users\\meena\\AppData\\Local\\Temp\\ipykernel_7124\\1959198720.py:27: RuntimeWarning: invalid value encountered in scalar divide\n",
      "  f1_score = 2 * (precision * recall) / (precision + recall)\n"
     ]
    },
    {
     "name": "stdout",
     "output_type": "stream",
     "text": [
      "Train Epoch: 81\t Learning rate: 0.0000\tLoss: 14.155554\t Accuracy: 85/108 (79%)\n",
      " \n",
      "Confusion Matrix:\n",
      "[[ 0  0]\n",
      " [ 7 47]]\n",
      "Accuracy: 0.8703703703703703\n",
      "Precision: 0\n",
      "Recall: 0.0\n",
      "F1-Score: nan\n",
      "\n",
      "=========================================================================================\n"
     ]
    },
    {
     "name": "stderr",
     "output_type": "stream",
     "text": [
      "C:\\Users\\meena\\AppData\\Local\\Temp\\ipykernel_7124\\1959198720.py:27: RuntimeWarning: invalid value encountered in scalar divide\n",
      "  f1_score = 2 * (precision * recall) / (precision + recall)\n"
     ]
    },
    {
     "name": "stdout",
     "output_type": "stream",
     "text": [
      "Train Epoch: 82\t Learning rate: 0.0000\tLoss: 14.198931\t Accuracy: 85/108 (79%)\n",
      " \n",
      "Confusion Matrix:\n",
      "[[ 0  0]\n",
      " [ 7 47]]\n",
      "Accuracy: 0.8703703703703703\n",
      "Precision: 0\n",
      "Recall: 0.0\n",
      "F1-Score: nan\n",
      "\n",
      "=========================================================================================\n"
     ]
    },
    {
     "name": "stderr",
     "output_type": "stream",
     "text": [
      "C:\\Users\\meena\\AppData\\Local\\Temp\\ipykernel_7124\\1959198720.py:27: RuntimeWarning: invalid value encountered in scalar divide\n",
      "  f1_score = 2 * (precision * recall) / (precision + recall)\n"
     ]
    },
    {
     "name": "stdout",
     "output_type": "stream",
     "text": [
      "Train Epoch: 83\t Learning rate: 0.0000\tLoss: 14.202579\t Accuracy: 85/108 (79%)\n",
      " \n",
      "Confusion Matrix:\n",
      "[[ 0  0]\n",
      " [ 7 47]]\n",
      "Accuracy: 0.8703703703703703\n",
      "Precision: 0\n",
      "Recall: 0.0\n",
      "F1-Score: nan\n",
      "\n",
      "=========================================================================================\n"
     ]
    },
    {
     "name": "stderr",
     "output_type": "stream",
     "text": [
      "C:\\Users\\meena\\AppData\\Local\\Temp\\ipykernel_7124\\1959198720.py:27: RuntimeWarning: invalid value encountered in scalar divide\n",
      "  f1_score = 2 * (precision * recall) / (precision + recall)\n"
     ]
    },
    {
     "name": "stdout",
     "output_type": "stream",
     "text": [
      "Train Epoch: 84\t Learning rate: 0.0000\tLoss: 14.267936\t Accuracy: 85/108 (79%)\n",
      " \n",
      "Confusion Matrix:\n",
      "[[ 0  0]\n",
      " [ 7 47]]\n",
      "Accuracy: 0.8703703703703703\n",
      "Precision: 0\n",
      "Recall: 0.0\n",
      "F1-Score: nan\n",
      "\n",
      "=========================================================================================\n"
     ]
    },
    {
     "name": "stderr",
     "output_type": "stream",
     "text": [
      "C:\\Users\\meena\\AppData\\Local\\Temp\\ipykernel_7124\\1959198720.py:27: RuntimeWarning: invalid value encountered in scalar divide\n",
      "  f1_score = 2 * (precision * recall) / (precision + recall)\n"
     ]
    },
    {
     "name": "stdout",
     "output_type": "stream",
     "text": [
      "Train Epoch: 85\t Learning rate: 0.0000\tLoss: 14.204763\t Accuracy: 85/108 (79%)\n",
      " \n",
      "Confusion Matrix:\n",
      "[[ 0  0]\n",
      " [ 7 47]]\n",
      "Accuracy: 0.8703703703703703\n",
      "Precision: 0\n",
      "Recall: 0.0\n",
      "F1-Score: nan\n",
      "\n",
      "=========================================================================================\n"
     ]
    },
    {
     "name": "stderr",
     "output_type": "stream",
     "text": [
      "C:\\Users\\meena\\AppData\\Local\\Temp\\ipykernel_7124\\1959198720.py:27: RuntimeWarning: invalid value encountered in scalar divide\n",
      "  f1_score = 2 * (precision * recall) / (precision + recall)\n"
     ]
    },
    {
     "name": "stdout",
     "output_type": "stream",
     "text": [
      "Train Epoch: 86\t Learning rate: 0.0000\tLoss: 14.080308\t Accuracy: 85/108 (79%)\n",
      " \n",
      "Confusion Matrix:\n",
      "[[ 0  0]\n",
      " [ 7 47]]\n",
      "Accuracy: 0.8703703703703703\n",
      "Precision: 0\n",
      "Recall: 0.0\n",
      "F1-Score: nan\n",
      "\n",
      "=========================================================================================\n"
     ]
    },
    {
     "name": "stderr",
     "output_type": "stream",
     "text": [
      "C:\\Users\\meena\\AppData\\Local\\Temp\\ipykernel_7124\\1959198720.py:27: RuntimeWarning: invalid value encountered in scalar divide\n",
      "  f1_score = 2 * (precision * recall) / (precision + recall)\n"
     ]
    },
    {
     "name": "stdout",
     "output_type": "stream",
     "text": [
      "Train Epoch: 87\t Learning rate: 0.0000\tLoss: 14.149183\t Accuracy: 85/108 (79%)\n",
      " \n",
      "Confusion Matrix:\n",
      "[[ 0  0]\n",
      " [ 7 47]]\n",
      "Accuracy: 0.8703703703703703\n",
      "Precision: 0\n",
      "Recall: 0.0\n",
      "F1-Score: nan\n",
      "\n",
      "=========================================================================================\n"
     ]
    },
    {
     "name": "stderr",
     "output_type": "stream",
     "text": [
      "C:\\Users\\meena\\AppData\\Local\\Temp\\ipykernel_7124\\1959198720.py:27: RuntimeWarning: invalid value encountered in scalar divide\n",
      "  f1_score = 2 * (precision * recall) / (precision + recall)\n"
     ]
    },
    {
     "name": "stdout",
     "output_type": "stream",
     "text": [
      "Train Epoch: 88\t Learning rate: 0.0000\tLoss: 14.120748\t Accuracy: 85/108 (79%)\n",
      " \n",
      "Confusion Matrix:\n",
      "[[ 0  0]\n",
      " [ 7 47]]\n",
      "Accuracy: 0.8703703703703703\n",
      "Precision: 0\n",
      "Recall: 0.0\n",
      "F1-Score: nan\n",
      "\n",
      "=========================================================================================\n"
     ]
    },
    {
     "name": "stderr",
     "output_type": "stream",
     "text": [
      "C:\\Users\\meena\\AppData\\Local\\Temp\\ipykernel_7124\\1959198720.py:27: RuntimeWarning: invalid value encountered in scalar divide\n",
      "  f1_score = 2 * (precision * recall) / (precision + recall)\n"
     ]
    },
    {
     "name": "stdout",
     "output_type": "stream",
     "text": [
      "Train Epoch: 89\t Learning rate: 0.0000\tLoss: 14.138037\t Accuracy: 85/108 (79%)\n",
      " \n",
      "Confusion Matrix:\n",
      "[[ 0  0]\n",
      " [ 7 47]]\n",
      "Accuracy: 0.8703703703703703\n",
      "Precision: 0\n",
      "Recall: 0.0\n",
      "F1-Score: nan\n",
      "\n",
      "=========================================================================================\n"
     ]
    },
    {
     "name": "stderr",
     "output_type": "stream",
     "text": [
      "C:\\Users\\meena\\AppData\\Local\\Temp\\ipykernel_7124\\1959198720.py:27: RuntimeWarning: invalid value encountered in scalar divide\n",
      "  f1_score = 2 * (precision * recall) / (precision + recall)\n"
     ]
    },
    {
     "name": "stdout",
     "output_type": "stream",
     "text": [
      "Train Epoch: 90\t Learning rate: 0.0000\tLoss: 14.183828\t Accuracy: 85/108 (79%)\n",
      " \n",
      "Confusion Matrix:\n",
      "[[ 0  0]\n",
      " [ 7 47]]\n",
      "Accuracy: 0.8703703703703703\n",
      "Precision: 0\n",
      "Recall: 0.0\n",
      "F1-Score: nan\n",
      "\n",
      "=========================================================================================\n"
     ]
    },
    {
     "name": "stderr",
     "output_type": "stream",
     "text": [
      "C:\\Users\\meena\\AppData\\Local\\Temp\\ipykernel_7124\\1959198720.py:27: RuntimeWarning: invalid value encountered in scalar divide\n",
      "  f1_score = 2 * (precision * recall) / (precision + recall)\n"
     ]
    },
    {
     "name": "stdout",
     "output_type": "stream",
     "text": [
      "Train Epoch: 91\t Learning rate: 0.0000\tLoss: 14.054110\t Accuracy: 85/108 (79%)\n",
      " \n",
      "Confusion Matrix:\n",
      "[[ 0  0]\n",
      " [ 7 47]]\n",
      "Accuracy: 0.8703703703703703\n",
      "Precision: 0\n",
      "Recall: 0.0\n",
      "F1-Score: nan\n",
      "\n",
      "=========================================================================================\n"
     ]
    },
    {
     "name": "stderr",
     "output_type": "stream",
     "text": [
      "C:\\Users\\meena\\AppData\\Local\\Temp\\ipykernel_7124\\1959198720.py:27: RuntimeWarning: invalid value encountered in scalar divide\n",
      "  f1_score = 2 * (precision * recall) / (precision + recall)\n"
     ]
    },
    {
     "name": "stdout",
     "output_type": "stream",
     "text": [
      "Train Epoch: 92\t Learning rate: 0.0000\tLoss: 14.124248\t Accuracy: 85/108 (79%)\n",
      " \n",
      "Confusion Matrix:\n",
      "[[ 0  0]\n",
      " [ 7 47]]\n",
      "Accuracy: 0.8703703703703703\n",
      "Precision: 0\n",
      "Recall: 0.0\n",
      "F1-Score: nan\n",
      "\n",
      "=========================================================================================\n"
     ]
    },
    {
     "name": "stderr",
     "output_type": "stream",
     "text": [
      "C:\\Users\\meena\\AppData\\Local\\Temp\\ipykernel_7124\\1959198720.py:27: RuntimeWarning: invalid value encountered in scalar divide\n",
      "  f1_score = 2 * (precision * recall) / (precision + recall)\n"
     ]
    },
    {
     "name": "stdout",
     "output_type": "stream",
     "text": [
      "Train Epoch: 93\t Learning rate: 0.0000\tLoss: 14.146580\t Accuracy: 85/108 (79%)\n",
      " \n",
      "Confusion Matrix:\n",
      "[[ 0  0]\n",
      " [ 7 47]]\n",
      "Accuracy: 0.8703703703703703\n",
      "Precision: 0\n",
      "Recall: 0.0\n",
      "F1-Score: nan\n",
      "\n",
      "=========================================================================================\n"
     ]
    },
    {
     "name": "stderr",
     "output_type": "stream",
     "text": [
      "C:\\Users\\meena\\AppData\\Local\\Temp\\ipykernel_7124\\1959198720.py:27: RuntimeWarning: invalid value encountered in scalar divide\n",
      "  f1_score = 2 * (precision * recall) / (precision + recall)\n"
     ]
    },
    {
     "name": "stdout",
     "output_type": "stream",
     "text": [
      "Train Epoch: 94\t Learning rate: 0.0000\tLoss: 14.051639\t Accuracy: 85/108 (79%)\n",
      " \n",
      "Confusion Matrix:\n",
      "[[ 0  0]\n",
      " [ 7 47]]\n",
      "Accuracy: 0.8703703703703703\n",
      "Precision: 0\n",
      "Recall: 0.0\n",
      "F1-Score: nan\n",
      "\n",
      "=========================================================================================\n"
     ]
    },
    {
     "name": "stderr",
     "output_type": "stream",
     "text": [
      "C:\\Users\\meena\\AppData\\Local\\Temp\\ipykernel_7124\\1959198720.py:27: RuntimeWarning: invalid value encountered in scalar divide\n",
      "  f1_score = 2 * (precision * recall) / (precision + recall)\n"
     ]
    },
    {
     "name": "stdout",
     "output_type": "stream",
     "text": [
      "Train Epoch: 95\t Learning rate: 0.0000\tLoss: 14.159242\t Accuracy: 85/108 (79%)\n",
      " \n",
      "Confusion Matrix:\n",
      "[[ 0  0]\n",
      " [ 7 47]]\n",
      "Accuracy: 0.8703703703703703\n",
      "Precision: 0\n",
      "Recall: 0.0\n",
      "F1-Score: nan\n",
      "\n",
      "=========================================================================================\n"
     ]
    },
    {
     "name": "stderr",
     "output_type": "stream",
     "text": [
      "C:\\Users\\meena\\AppData\\Local\\Temp\\ipykernel_7124\\1959198720.py:27: RuntimeWarning: invalid value encountered in scalar divide\n",
      "  f1_score = 2 * (precision * recall) / (precision + recall)\n"
     ]
    },
    {
     "name": "stdout",
     "output_type": "stream",
     "text": [
      "Train Epoch: 96\t Learning rate: 0.0000\tLoss: 14.015039\t Accuracy: 85/108 (79%)\n",
      " \n",
      "Confusion Matrix:\n",
      "[[ 0  0]\n",
      " [ 7 47]]\n",
      "Accuracy: 0.8703703703703703\n",
      "Precision: 0\n",
      "Recall: 0.0\n",
      "F1-Score: nan\n",
      "\n",
      "=========================================================================================\n"
     ]
    },
    {
     "name": "stderr",
     "output_type": "stream",
     "text": [
      "C:\\Users\\meena\\AppData\\Local\\Temp\\ipykernel_7124\\1959198720.py:27: RuntimeWarning: invalid value encountered in scalar divide\n",
      "  f1_score = 2 * (precision * recall) / (precision + recall)\n"
     ]
    },
    {
     "name": "stdout",
     "output_type": "stream",
     "text": [
      "Train Epoch: 97\t Learning rate: 0.0000\tLoss: 14.272656\t Accuracy: 85/108 (79%)\n",
      " \n",
      "Confusion Matrix:\n",
      "[[ 0  0]\n",
      " [ 7 47]]\n",
      "Accuracy: 0.8703703703703703\n",
      "Precision: 0\n",
      "Recall: 0.0\n",
      "F1-Score: nan\n",
      "\n",
      "=========================================================================================\n"
     ]
    },
    {
     "name": "stderr",
     "output_type": "stream",
     "text": [
      "C:\\Users\\meena\\AppData\\Local\\Temp\\ipykernel_7124\\1959198720.py:27: RuntimeWarning: invalid value encountered in scalar divide\n",
      "  f1_score = 2 * (precision * recall) / (precision + recall)\n"
     ]
    },
    {
     "name": "stdout",
     "output_type": "stream",
     "text": [
      "Train Epoch: 98\t Learning rate: 0.0000\tLoss: 14.018261\t Accuracy: 85/108 (79%)\n",
      " \n",
      "Confusion Matrix:\n",
      "[[ 0  0]\n",
      " [ 7 47]]\n",
      "Accuracy: 0.8703703703703703\n",
      "Precision: 0\n",
      "Recall: 0.0\n",
      "F1-Score: nan\n",
      "\n",
      "=========================================================================================\n"
     ]
    },
    {
     "name": "stderr",
     "output_type": "stream",
     "text": [
      "C:\\Users\\meena\\AppData\\Local\\Temp\\ipykernel_7124\\1959198720.py:27: RuntimeWarning: invalid value encountered in scalar divide\n",
      "  f1_score = 2 * (precision * recall) / (precision + recall)\n"
     ]
    },
    {
     "name": "stdout",
     "output_type": "stream",
     "text": [
      "Train Epoch: 99\t Learning rate: 0.0000\tLoss: 14.055602\t Accuracy: 85/108 (79%)\n",
      " \n",
      "Confusion Matrix:\n",
      "[[ 0  0]\n",
      " [ 7 47]]\n",
      "Accuracy: 0.8703703703703703\n",
      "Precision: 0\n",
      "Recall: 0.0\n",
      "F1-Score: nan\n",
      "\n",
      "=========================================================================================\n"
     ]
    },
    {
     "name": "stderr",
     "output_type": "stream",
     "text": [
      "C:\\Users\\meena\\AppData\\Local\\Temp\\ipykernel_7124\\1959198720.py:27: RuntimeWarning: invalid value encountered in scalar divide\n",
      "  f1_score = 2 * (precision * recall) / (precision + recall)\n"
     ]
    },
    {
     "name": "stdout",
     "output_type": "stream",
     "text": [
      "Train Epoch: 100\t Learning rate: 0.0000\tLoss: 14.055078\t Accuracy: 85/108 (79%)\n",
      " \n",
      "Confusion Matrix:\n",
      "[[ 0  0]\n",
      " [ 7 47]]\n",
      "Accuracy: 0.8703703703703703\n",
      "Precision: 0\n",
      "Recall: 0.0\n",
      "F1-Score: nan\n",
      "\n",
      "=========================================================================================\n"
     ]
    },
    {
     "name": "stderr",
     "output_type": "stream",
     "text": [
      "C:\\Users\\meena\\AppData\\Local\\Temp\\ipykernel_7124\\1959198720.py:27: RuntimeWarning: invalid value encountered in scalar divide\n",
      "  f1_score = 2 * (precision * recall) / (precision + recall)\n"
     ]
    },
    {
     "name": "stdout",
     "output_type": "stream",
     "text": [
      "Train Epoch: 101\t Learning rate: 0.0000\tLoss: 14.014253\t Accuracy: 85/108 (79%)\n",
      " \n",
      "Confusion Matrix:\n",
      "[[ 0  0]\n",
      " [ 7 47]]\n",
      "Accuracy: 0.8703703703703703\n",
      "Precision: 0\n",
      "Recall: 0.0\n",
      "F1-Score: nan\n",
      "\n",
      "=========================================================================================\n"
     ]
    },
    {
     "name": "stderr",
     "output_type": "stream",
     "text": [
      "C:\\Users\\meena\\AppData\\Local\\Temp\\ipykernel_7124\\1959198720.py:27: RuntimeWarning: invalid value encountered in scalar divide\n",
      "  f1_score = 2 * (precision * recall) / (precision + recall)\n"
     ]
    },
    {
     "name": "stdout",
     "output_type": "stream",
     "text": [
      "Train Epoch: 102\t Learning rate: 0.0000\tLoss: 14.050959\t Accuracy: 85/108 (79%)\n",
      " \n",
      "Confusion Matrix:\n",
      "[[ 0  0]\n",
      " [ 7 47]]\n",
      "Accuracy: 0.8703703703703703\n",
      "Precision: 0\n",
      "Recall: 0.0\n",
      "F1-Score: nan\n",
      "\n",
      "=========================================================================================\n"
     ]
    },
    {
     "name": "stderr",
     "output_type": "stream",
     "text": [
      "C:\\Users\\meena\\AppData\\Local\\Temp\\ipykernel_7124\\1959198720.py:27: RuntimeWarning: invalid value encountered in scalar divide\n",
      "  f1_score = 2 * (precision * recall) / (precision + recall)\n"
     ]
    },
    {
     "name": "stdout",
     "output_type": "stream",
     "text": [
      "Train Epoch: 103\t Learning rate: 0.0000\tLoss: 14.035161\t Accuracy: 85/108 (79%)\n",
      " \n",
      "Confusion Matrix:\n",
      "[[ 0  0]\n",
      " [ 7 47]]\n",
      "Accuracy: 0.8703703703703703\n",
      "Precision: 0\n",
      "Recall: 0.0\n",
      "F1-Score: nan\n",
      "\n",
      "=========================================================================================\n"
     ]
    },
    {
     "name": "stderr",
     "output_type": "stream",
     "text": [
      "C:\\Users\\meena\\AppData\\Local\\Temp\\ipykernel_7124\\1959198720.py:27: RuntimeWarning: invalid value encountered in scalar divide\n",
      "  f1_score = 2 * (precision * recall) / (precision + recall)\n"
     ]
    },
    {
     "name": "stdout",
     "output_type": "stream",
     "text": [
      "Train Epoch: 104\t Learning rate: 0.0000\tLoss: 14.035381\t Accuracy: 85/108 (79%)\n",
      " \n",
      "Confusion Matrix:\n",
      "[[ 0  0]\n",
      " [ 7 47]]\n",
      "Accuracy: 0.8703703703703703\n",
      "Precision: 0\n",
      "Recall: 0.0\n",
      "F1-Score: nan\n",
      "\n",
      "=========================================================================================\n"
     ]
    },
    {
     "name": "stderr",
     "output_type": "stream",
     "text": [
      "C:\\Users\\meena\\AppData\\Local\\Temp\\ipykernel_7124\\1959198720.py:27: RuntimeWarning: invalid value encountered in scalar divide\n",
      "  f1_score = 2 * (precision * recall) / (precision + recall)\n"
     ]
    },
    {
     "name": "stdout",
     "output_type": "stream",
     "text": [
      "Train Epoch: 105\t Learning rate: 0.0000\tLoss: 14.061476\t Accuracy: 85/108 (79%)\n",
      " \n",
      "Confusion Matrix:\n",
      "[[ 0  0]\n",
      " [ 7 47]]\n",
      "Accuracy: 0.8703703703703703\n",
      "Precision: 0\n",
      "Recall: 0.0\n",
      "F1-Score: nan\n",
      "\n",
      "=========================================================================================\n"
     ]
    },
    {
     "name": "stderr",
     "output_type": "stream",
     "text": [
      "C:\\Users\\meena\\AppData\\Local\\Temp\\ipykernel_7124\\1959198720.py:27: RuntimeWarning: invalid value encountered in scalar divide\n",
      "  f1_score = 2 * (precision * recall) / (precision + recall)\n"
     ]
    },
    {
     "name": "stdout",
     "output_type": "stream",
     "text": [
      "Train Epoch: 106\t Learning rate: 0.0000\tLoss: 14.000974\t Accuracy: 85/108 (79%)\n",
      " \n",
      "Confusion Matrix:\n",
      "[[ 0  0]\n",
      " [ 7 47]]\n",
      "Accuracy: 0.8703703703703703\n",
      "Precision: 0\n",
      "Recall: 0.0\n",
      "F1-Score: nan\n",
      "\n",
      "=========================================================================================\n"
     ]
    },
    {
     "name": "stderr",
     "output_type": "stream",
     "text": [
      "C:\\Users\\meena\\AppData\\Local\\Temp\\ipykernel_7124\\1959198720.py:27: RuntimeWarning: invalid value encountered in scalar divide\n",
      "  f1_score = 2 * (precision * recall) / (precision + recall)\n"
     ]
    },
    {
     "name": "stdout",
     "output_type": "stream",
     "text": [
      "Train Epoch: 107\t Learning rate: 0.0000\tLoss: 14.040031\t Accuracy: 86/108 (80%)\n",
      " \n",
      "Confusion Matrix:\n",
      "[[ 0  0]\n",
      " [ 7 47]]\n",
      "Accuracy: 0.8703703703703703\n",
      "Precision: 0\n",
      "Recall: 0.0\n",
      "F1-Score: nan\n",
      "\n",
      "=========================================================================================\n"
     ]
    },
    {
     "name": "stderr",
     "output_type": "stream",
     "text": [
      "C:\\Users\\meena\\AppData\\Local\\Temp\\ipykernel_7124\\1959198720.py:27: RuntimeWarning: invalid value encountered in scalar divide\n",
      "  f1_score = 2 * (precision * recall) / (precision + recall)\n"
     ]
    },
    {
     "name": "stdout",
     "output_type": "stream",
     "text": [
      "Train Epoch: 108\t Learning rate: 0.0000\tLoss: 14.049086\t Accuracy: 85/108 (79%)\n",
      " \n",
      "Confusion Matrix:\n",
      "[[ 0  0]\n",
      " [ 7 47]]\n",
      "Accuracy: 0.8703703703703703\n",
      "Precision: 0\n",
      "Recall: 0.0\n",
      "F1-Score: nan\n",
      "\n",
      "=========================================================================================\n"
     ]
    },
    {
     "name": "stderr",
     "output_type": "stream",
     "text": [
      "C:\\Users\\meena\\AppData\\Local\\Temp\\ipykernel_7124\\1959198720.py:27: RuntimeWarning: invalid value encountered in scalar divide\n",
      "  f1_score = 2 * (precision * recall) / (precision + recall)\n"
     ]
    },
    {
     "name": "stdout",
     "output_type": "stream",
     "text": [
      "Train Epoch: 109\t Learning rate: 0.0000\tLoss: 13.950082\t Accuracy: 87/108 (81%)\n",
      " \n",
      "Confusion Matrix:\n",
      "[[ 0  0]\n",
      " [ 7 47]]\n",
      "Accuracy: 0.8703703703703703\n",
      "Precision: 0\n",
      "Recall: 0.0\n",
      "F1-Score: nan\n",
      "\n",
      "=========================================================================================\n"
     ]
    },
    {
     "name": "stderr",
     "output_type": "stream",
     "text": [
      "C:\\Users\\meena\\AppData\\Local\\Temp\\ipykernel_7124\\1959198720.py:27: RuntimeWarning: invalid value encountered in scalar divide\n",
      "  f1_score = 2 * (precision * recall) / (precision + recall)\n"
     ]
    },
    {
     "name": "stdout",
     "output_type": "stream",
     "text": [
      "Train Epoch: 110\t Learning rate: 0.0000\tLoss: 13.945428\t Accuracy: 85/108 (79%)\n",
      " \n",
      "Confusion Matrix:\n",
      "[[ 0  0]\n",
      " [ 7 47]]\n",
      "Accuracy: 0.8703703703703703\n",
      "Precision: 0\n",
      "Recall: 0.0\n",
      "F1-Score: nan\n",
      "\n",
      "=========================================================================================\n"
     ]
    },
    {
     "name": "stderr",
     "output_type": "stream",
     "text": [
      "C:\\Users\\meena\\AppData\\Local\\Temp\\ipykernel_7124\\1959198720.py:27: RuntimeWarning: invalid value encountered in scalar divide\n",
      "  f1_score = 2 * (precision * recall) / (precision + recall)\n"
     ]
    },
    {
     "name": "stdout",
     "output_type": "stream",
     "text": [
      "Train Epoch: 111\t Learning rate: 0.0000\tLoss: 14.009766\t Accuracy: 87/108 (81%)\n",
      " \n",
      "Confusion Matrix:\n",
      "[[ 0  0]\n",
      " [ 7 47]]\n",
      "Accuracy: 0.8703703703703703\n",
      "Precision: 0\n",
      "Recall: 0.0\n",
      "F1-Score: nan\n",
      "\n",
      "=========================================================================================\n"
     ]
    },
    {
     "name": "stderr",
     "output_type": "stream",
     "text": [
      "C:\\Users\\meena\\AppData\\Local\\Temp\\ipykernel_7124\\1959198720.py:27: RuntimeWarning: invalid value encountered in scalar divide\n",
      "  f1_score = 2 * (precision * recall) / (precision + recall)\n"
     ]
    },
    {
     "name": "stdout",
     "output_type": "stream",
     "text": [
      "Train Epoch: 112\t Learning rate: 0.0000\tLoss: 14.039058\t Accuracy: 86/108 (80%)\n",
      " \n",
      "Confusion Matrix:\n",
      "[[ 0  0]\n",
      " [ 7 47]]\n",
      "Accuracy: 0.8703703703703703\n",
      "Precision: 0\n",
      "Recall: 0.0\n",
      "F1-Score: nan\n",
      "\n",
      "=========================================================================================\n"
     ]
    },
    {
     "name": "stderr",
     "output_type": "stream",
     "text": [
      "C:\\Users\\meena\\AppData\\Local\\Temp\\ipykernel_7124\\1959198720.py:27: RuntimeWarning: invalid value encountered in scalar divide\n",
      "  f1_score = 2 * (precision * recall) / (precision + recall)\n"
     ]
    },
    {
     "name": "stdout",
     "output_type": "stream",
     "text": [
      "Train Epoch: 113\t Learning rate: 0.0000\tLoss: 13.933361\t Accuracy: 86/108 (80%)\n",
      " \n",
      "Confusion Matrix:\n",
      "[[ 0  0]\n",
      " [ 7 47]]\n",
      "Accuracy: 0.8703703703703703\n",
      "Precision: 0\n",
      "Recall: 0.0\n",
      "F1-Score: nan\n",
      "\n",
      "=========================================================================================\n"
     ]
    },
    {
     "name": "stderr",
     "output_type": "stream",
     "text": [
      "C:\\Users\\meena\\AppData\\Local\\Temp\\ipykernel_7124\\1959198720.py:27: RuntimeWarning: invalid value encountered in scalar divide\n",
      "  f1_score = 2 * (precision * recall) / (precision + recall)\n"
     ]
    },
    {
     "name": "stdout",
     "output_type": "stream",
     "text": [
      "Train Epoch: 114\t Learning rate: 0.0000\tLoss: 13.893210\t Accuracy: 87/108 (81%)\n",
      " \n",
      "Confusion Matrix:\n",
      "[[ 0  0]\n",
      " [ 7 47]]\n",
      "Accuracy: 0.8703703703703703\n",
      "Precision: 0\n",
      "Recall: 0.0\n",
      "F1-Score: nan\n",
      "\n",
      "=========================================================================================\n"
     ]
    },
    {
     "name": "stderr",
     "output_type": "stream",
     "text": [
      "C:\\Users\\meena\\AppData\\Local\\Temp\\ipykernel_7124\\1959198720.py:27: RuntimeWarning: invalid value encountered in scalar divide\n",
      "  f1_score = 2 * (precision * recall) / (precision + recall)\n"
     ]
    },
    {
     "name": "stdout",
     "output_type": "stream",
     "text": [
      "Train Epoch: 115\t Learning rate: 0.0000\tLoss: 13.897398\t Accuracy: 87/108 (81%)\n",
      " \n",
      "Confusion Matrix:\n",
      "[[ 0  0]\n",
      " [ 7 47]]\n",
      "Accuracy: 0.8703703703703703\n",
      "Precision: 0\n",
      "Recall: 0.0\n",
      "F1-Score: nan\n",
      "\n",
      "=========================================================================================\n"
     ]
    },
    {
     "name": "stderr",
     "output_type": "stream",
     "text": [
      "C:\\Users\\meena\\AppData\\Local\\Temp\\ipykernel_7124\\1959198720.py:27: RuntimeWarning: invalid value encountered in scalar divide\n",
      "  f1_score = 2 * (precision * recall) / (precision + recall)\n"
     ]
    },
    {
     "name": "stdout",
     "output_type": "stream",
     "text": [
      "Train Epoch: 116\t Learning rate: 0.0000\tLoss: 13.834177\t Accuracy: 86/108 (80%)\n",
      " \n",
      "Confusion Matrix:\n",
      "[[ 0  0]\n",
      " [ 7 47]]\n",
      "Accuracy: 0.8703703703703703\n",
      "Precision: 0\n",
      "Recall: 0.0\n",
      "F1-Score: nan\n",
      "\n",
      "=========================================================================================\n"
     ]
    },
    {
     "name": "stderr",
     "output_type": "stream",
     "text": [
      "C:\\Users\\meena\\AppData\\Local\\Temp\\ipykernel_7124\\1959198720.py:27: RuntimeWarning: invalid value encountered in scalar divide\n",
      "  f1_score = 2 * (precision * recall) / (precision + recall)\n"
     ]
    },
    {
     "name": "stdout",
     "output_type": "stream",
     "text": [
      "Train Epoch: 117\t Learning rate: 0.0000\tLoss: 13.893199\t Accuracy: 87/108 (81%)\n",
      " \n",
      "Confusion Matrix:\n",
      "[[ 0  0]\n",
      " [ 7 47]]\n",
      "Accuracy: 0.8703703703703703\n",
      "Precision: 0\n",
      "Recall: 0.0\n",
      "F1-Score: nan\n",
      "\n",
      "=========================================================================================\n"
     ]
    },
    {
     "name": "stderr",
     "output_type": "stream",
     "text": [
      "C:\\Users\\meena\\AppData\\Local\\Temp\\ipykernel_7124\\1959198720.py:27: RuntimeWarning: invalid value encountered in scalar divide\n",
      "  f1_score = 2 * (precision * recall) / (precision + recall)\n"
     ]
    },
    {
     "name": "stdout",
     "output_type": "stream",
     "text": [
      "Train Epoch: 118\t Learning rate: 0.0000\tLoss: 13.852452\t Accuracy: 87/108 (81%)\n",
      " \n",
      "Confusion Matrix:\n",
      "[[ 0  0]\n",
      " [ 7 47]]\n",
      "Accuracy: 0.8703703703703703\n",
      "Precision: 0\n",
      "Recall: 0.0\n",
      "F1-Score: nan\n",
      "\n",
      "=========================================================================================\n"
     ]
    },
    {
     "name": "stderr",
     "output_type": "stream",
     "text": [
      "C:\\Users\\meena\\AppData\\Local\\Temp\\ipykernel_7124\\1959198720.py:27: RuntimeWarning: invalid value encountered in scalar divide\n",
      "  f1_score = 2 * (precision * recall) / (precision + recall)\n"
     ]
    },
    {
     "name": "stdout",
     "output_type": "stream",
     "text": [
      "Train Epoch: 119\t Learning rate: 0.0000\tLoss: 14.005648\t Accuracy: 87/108 (81%)\n",
      " \n",
      "Confusion Matrix:\n",
      "[[ 0  0]\n",
      " [ 7 47]]\n",
      "Accuracy: 0.8703703703703703\n",
      "Precision: 0\n",
      "Recall: 0.0\n",
      "F1-Score: nan\n",
      "\n",
      "=========================================================================================\n"
     ]
    },
    {
     "name": "stderr",
     "output_type": "stream",
     "text": [
      "C:\\Users\\meena\\AppData\\Local\\Temp\\ipykernel_7124\\1959198720.py:27: RuntimeWarning: invalid value encountered in scalar divide\n",
      "  f1_score = 2 * (precision * recall) / (precision + recall)\n"
     ]
    },
    {
     "name": "stdout",
     "output_type": "stream",
     "text": [
      "Train Epoch: 120\t Learning rate: 0.0000\tLoss: 13.934144\t Accuracy: 86/108 (80%)\n",
      " \n",
      "Confusion Matrix:\n",
      "[[ 0  0]\n",
      " [ 7 47]]\n",
      "Accuracy: 0.8703703703703703\n",
      "Precision: 0\n",
      "Recall: 0.0\n",
      "F1-Score: nan\n",
      "\n",
      "=========================================================================================\n"
     ]
    },
    {
     "name": "stderr",
     "output_type": "stream",
     "text": [
      "C:\\Users\\meena\\AppData\\Local\\Temp\\ipykernel_7124\\1959198720.py:27: RuntimeWarning: invalid value encountered in scalar divide\n",
      "  f1_score = 2 * (precision * recall) / (precision + recall)\n"
     ]
    },
    {
     "name": "stdout",
     "output_type": "stream",
     "text": [
      "Train Epoch: 121\t Learning rate: 0.0000\tLoss: 13.992422\t Accuracy: 86/108 (80%)\n",
      " \n",
      "Confusion Matrix:\n",
      "[[ 0  0]\n",
      " [ 7 47]]\n",
      "Accuracy: 0.8703703703703703\n",
      "Precision: 0\n",
      "Recall: 0.0\n",
      "F1-Score: nan\n",
      "\n",
      "=========================================================================================\n"
     ]
    },
    {
     "name": "stderr",
     "output_type": "stream",
     "text": [
      "C:\\Users\\meena\\AppData\\Local\\Temp\\ipykernel_7124\\1959198720.py:27: RuntimeWarning: invalid value encountered in scalar divide\n",
      "  f1_score = 2 * (precision * recall) / (precision + recall)\n"
     ]
    },
    {
     "name": "stdout",
     "output_type": "stream",
     "text": [
      "Train Epoch: 122\t Learning rate: 0.0000\tLoss: 14.035075\t Accuracy: 87/108 (81%)\n",
      " \n",
      "Confusion Matrix:\n",
      "[[ 0  0]\n",
      " [ 7 47]]\n",
      "Accuracy: 0.8703703703703703\n",
      "Precision: 0\n",
      "Recall: 0.0\n",
      "F1-Score: nan\n",
      "\n",
      "=========================================================================================\n"
     ]
    },
    {
     "name": "stderr",
     "output_type": "stream",
     "text": [
      "C:\\Users\\meena\\AppData\\Local\\Temp\\ipykernel_7124\\1959198720.py:27: RuntimeWarning: invalid value encountered in scalar divide\n",
      "  f1_score = 2 * (precision * recall) / (precision + recall)\n"
     ]
    },
    {
     "name": "stdout",
     "output_type": "stream",
     "text": [
      "Train Epoch: 123\t Learning rate: 0.0000\tLoss: 13.877437\t Accuracy: 87/108 (81%)\n",
      " \n",
      "Confusion Matrix:\n",
      "[[ 0  0]\n",
      " [ 7 47]]\n",
      "Accuracy: 0.8703703703703703\n",
      "Precision: 0\n",
      "Recall: 0.0\n",
      "F1-Score: nan\n",
      "\n",
      "=========================================================================================\n"
     ]
    },
    {
     "name": "stderr",
     "output_type": "stream",
     "text": [
      "C:\\Users\\meena\\AppData\\Local\\Temp\\ipykernel_7124\\1959198720.py:27: RuntimeWarning: invalid value encountered in scalar divide\n",
      "  f1_score = 2 * (precision * recall) / (precision + recall)\n"
     ]
    },
    {
     "name": "stdout",
     "output_type": "stream",
     "text": [
      "Train Epoch: 124\t Learning rate: 0.0000\tLoss: 13.945014\t Accuracy: 87/108 (81%)\n",
      " \n",
      "Confusion Matrix:\n",
      "[[ 0  0]\n",
      " [ 7 47]]\n",
      "Accuracy: 0.8703703703703703\n",
      "Precision: 0\n",
      "Recall: 0.0\n",
      "F1-Score: nan\n",
      "\n",
      "=========================================================================================\n"
     ]
    },
    {
     "name": "stderr",
     "output_type": "stream",
     "text": [
      "C:\\Users\\meena\\AppData\\Local\\Temp\\ipykernel_7124\\1959198720.py:27: RuntimeWarning: invalid value encountered in scalar divide\n",
      "  f1_score = 2 * (precision * recall) / (precision + recall)\n"
     ]
    },
    {
     "name": "stdout",
     "output_type": "stream",
     "text": [
      "Train Epoch: 125\t Learning rate: 0.0000\tLoss: 13.840045\t Accuracy: 87/108 (81%)\n",
      " \n",
      "Confusion Matrix:\n",
      "[[ 0  0]\n",
      " [ 7 47]]\n",
      "Accuracy: 0.8703703703703703\n",
      "Precision: 0\n",
      "Recall: 0.0\n",
      "F1-Score: nan\n",
      "\n",
      "=========================================================================================\n"
     ]
    },
    {
     "name": "stderr",
     "output_type": "stream",
     "text": [
      "C:\\Users\\meena\\AppData\\Local\\Temp\\ipykernel_7124\\1959198720.py:27: RuntimeWarning: invalid value encountered in scalar divide\n",
      "  f1_score = 2 * (precision * recall) / (precision + recall)\n"
     ]
    },
    {
     "name": "stdout",
     "output_type": "stream",
     "text": [
      "Train Epoch: 126\t Learning rate: 0.0000\tLoss: 13.840862\t Accuracy: 87/108 (81%)\n",
      " \n",
      "Confusion Matrix:\n",
      "[[ 0  0]\n",
      " [ 7 47]]\n",
      "Accuracy: 0.8703703703703703\n",
      "Precision: 0\n",
      "Recall: 0.0\n",
      "F1-Score: nan\n",
      "\n",
      "=========================================================================================\n"
     ]
    },
    {
     "name": "stderr",
     "output_type": "stream",
     "text": [
      "C:\\Users\\meena\\AppData\\Local\\Temp\\ipykernel_7124\\1959198720.py:27: RuntimeWarning: invalid value encountered in scalar divide\n",
      "  f1_score = 2 * (precision * recall) / (precision + recall)\n"
     ]
    },
    {
     "name": "stdout",
     "output_type": "stream",
     "text": [
      "Train Epoch: 127\t Learning rate: 0.0000\tLoss: 13.896225\t Accuracy: 87/108 (81%)\n",
      " \n",
      "Confusion Matrix:\n",
      "[[ 0  0]\n",
      " [ 7 47]]\n",
      "Accuracy: 0.8703703703703703\n",
      "Precision: 0\n",
      "Recall: 0.0\n",
      "F1-Score: nan\n",
      "\n",
      "=========================================================================================\n"
     ]
    },
    {
     "name": "stderr",
     "output_type": "stream",
     "text": [
      "C:\\Users\\meena\\AppData\\Local\\Temp\\ipykernel_7124\\1959198720.py:27: RuntimeWarning: invalid value encountered in scalar divide\n",
      "  f1_score = 2 * (precision * recall) / (precision + recall)\n"
     ]
    },
    {
     "name": "stdout",
     "output_type": "stream",
     "text": [
      "Train Epoch: 128\t Learning rate: 0.0000\tLoss: 13.912277\t Accuracy: 87/108 (81%)\n",
      " \n",
      "Confusion Matrix:\n",
      "[[ 0  0]\n",
      " [ 7 47]]\n",
      "Accuracy: 0.8703703703703703\n",
      "Precision: 0\n",
      "Recall: 0.0\n",
      "F1-Score: nan\n",
      "\n",
      "=========================================================================================\n"
     ]
    },
    {
     "name": "stderr",
     "output_type": "stream",
     "text": [
      "C:\\Users\\meena\\AppData\\Local\\Temp\\ipykernel_7124\\1959198720.py:27: RuntimeWarning: invalid value encountered in scalar divide\n",
      "  f1_score = 2 * (precision * recall) / (precision + recall)\n"
     ]
    },
    {
     "name": "stdout",
     "output_type": "stream",
     "text": [
      "Train Epoch: 129\t Learning rate: 0.0000\tLoss: 13.868657\t Accuracy: 87/108 (81%)\n",
      " \n",
      "Confusion Matrix:\n",
      "[[ 0  0]\n",
      " [ 7 47]]\n",
      "Accuracy: 0.8703703703703703\n",
      "Precision: 0\n",
      "Recall: 0.0\n",
      "F1-Score: nan\n",
      "\n",
      "=========================================================================================\n"
     ]
    },
    {
     "name": "stderr",
     "output_type": "stream",
     "text": [
      "C:\\Users\\meena\\AppData\\Local\\Temp\\ipykernel_7124\\1959198720.py:27: RuntimeWarning: invalid value encountered in scalar divide\n",
      "  f1_score = 2 * (precision * recall) / (precision + recall)\n"
     ]
    },
    {
     "name": "stdout",
     "output_type": "stream",
     "text": [
      "Train Epoch: 130\t Learning rate: 0.0000\tLoss: 13.896938\t Accuracy: 87/108 (81%)\n",
      " \n",
      "Confusion Matrix:\n",
      "[[ 0  0]\n",
      " [ 7 47]]\n",
      "Accuracy: 0.8703703703703703\n",
      "Precision: 0\n",
      "Recall: 0.0\n",
      "F1-Score: nan\n",
      "\n",
      "=========================================================================================\n"
     ]
    },
    {
     "name": "stderr",
     "output_type": "stream",
     "text": [
      "C:\\Users\\meena\\AppData\\Local\\Temp\\ipykernel_7124\\1959198720.py:27: RuntimeWarning: invalid value encountered in scalar divide\n",
      "  f1_score = 2 * (precision * recall) / (precision + recall)\n"
     ]
    },
    {
     "name": "stdout",
     "output_type": "stream",
     "text": [
      "Train Epoch: 131\t Learning rate: 0.0000\tLoss: 13.919697\t Accuracy: 87/108 (81%)\n",
      " \n",
      "Confusion Matrix:\n",
      "[[ 0  0]\n",
      " [ 7 47]]\n",
      "Accuracy: 0.8703703703703703\n",
      "Precision: 0\n",
      "Recall: 0.0\n",
      "F1-Score: nan\n",
      "\n",
      "=========================================================================================\n"
     ]
    },
    {
     "name": "stderr",
     "output_type": "stream",
     "text": [
      "C:\\Users\\meena\\AppData\\Local\\Temp\\ipykernel_7124\\1959198720.py:27: RuntimeWarning: invalid value encountered in scalar divide\n",
      "  f1_score = 2 * (precision * recall) / (precision + recall)\n"
     ]
    },
    {
     "name": "stdout",
     "output_type": "stream",
     "text": [
      "Train Epoch: 132\t Learning rate: 0.0000\tLoss: 13.901332\t Accuracy: 87/108 (81%)\n",
      " \n",
      "Confusion Matrix:\n",
      "[[ 0  0]\n",
      " [ 7 47]]\n",
      "Accuracy: 0.8703703703703703\n",
      "Precision: 0\n",
      "Recall: 0.0\n",
      "F1-Score: nan\n",
      "\n",
      "=========================================================================================\n"
     ]
    },
    {
     "name": "stderr",
     "output_type": "stream",
     "text": [
      "C:\\Users\\meena\\AppData\\Local\\Temp\\ipykernel_7124\\1959198720.py:27: RuntimeWarning: invalid value encountered in scalar divide\n",
      "  f1_score = 2 * (precision * recall) / (precision + recall)\n"
     ]
    },
    {
     "name": "stdout",
     "output_type": "stream",
     "text": [
      "Train Epoch: 133\t Learning rate: 0.0000\tLoss: 13.935921\t Accuracy: 87/108 (81%)\n",
      " \n",
      "Confusion Matrix:\n",
      "[[ 0  0]\n",
      " [ 7 47]]\n",
      "Accuracy: 0.8703703703703703\n",
      "Precision: 0\n",
      "Recall: 0.0\n",
      "F1-Score: nan\n",
      "\n",
      "=========================================================================================\n"
     ]
    },
    {
     "name": "stderr",
     "output_type": "stream",
     "text": [
      "C:\\Users\\meena\\AppData\\Local\\Temp\\ipykernel_7124\\1959198720.py:27: RuntimeWarning: invalid value encountered in scalar divide\n",
      "  f1_score = 2 * (precision * recall) / (precision + recall)\n"
     ]
    },
    {
     "name": "stdout",
     "output_type": "stream",
     "text": [
      "Train Epoch: 134\t Learning rate: 0.0000\tLoss: 13.851620\t Accuracy: 87/108 (81%)\n",
      " \n",
      "Confusion Matrix:\n",
      "[[ 0  0]\n",
      " [ 7 47]]\n",
      "Accuracy: 0.8703703703703703\n",
      "Precision: 0\n",
      "Recall: 0.0\n",
      "F1-Score: nan\n",
      "\n",
      "=========================================================================================\n"
     ]
    },
    {
     "name": "stderr",
     "output_type": "stream",
     "text": [
      "C:\\Users\\meena\\AppData\\Local\\Temp\\ipykernel_7124\\1959198720.py:27: RuntimeWarning: invalid value encountered in scalar divide\n",
      "  f1_score = 2 * (precision * recall) / (precision + recall)\n"
     ]
    },
    {
     "name": "stdout",
     "output_type": "stream",
     "text": [
      "Train Epoch: 135\t Learning rate: 0.0000\tLoss: 13.777487\t Accuracy: 87/108 (81%)\n",
      " \n",
      "Confusion Matrix:\n",
      "[[ 0  0]\n",
      " [ 7 47]]\n",
      "Accuracy: 0.8703703703703703\n",
      "Precision: 0\n",
      "Recall: 0.0\n",
      "F1-Score: nan\n",
      "\n",
      "=========================================================================================\n"
     ]
    },
    {
     "name": "stderr",
     "output_type": "stream",
     "text": [
      "C:\\Users\\meena\\AppData\\Local\\Temp\\ipykernel_7124\\1959198720.py:27: RuntimeWarning: invalid value encountered in scalar divide\n",
      "  f1_score = 2 * (precision * recall) / (precision + recall)\n"
     ]
    },
    {
     "name": "stdout",
     "output_type": "stream",
     "text": [
      "Train Epoch: 136\t Learning rate: 0.0000\tLoss: 13.852166\t Accuracy: 87/108 (81%)\n",
      " \n",
      "Confusion Matrix:\n",
      "[[ 0  0]\n",
      " [ 7 47]]\n",
      "Accuracy: 0.8703703703703703\n",
      "Precision: 0\n",
      "Recall: 0.0\n",
      "F1-Score: nan\n",
      "\n",
      "=========================================================================================\n"
     ]
    },
    {
     "name": "stderr",
     "output_type": "stream",
     "text": [
      "C:\\Users\\meena\\AppData\\Local\\Temp\\ipykernel_7124\\1959198720.py:27: RuntimeWarning: invalid value encountered in scalar divide\n",
      "  f1_score = 2 * (precision * recall) / (precision + recall)\n"
     ]
    },
    {
     "name": "stdout",
     "output_type": "stream",
     "text": [
      "Train Epoch: 137\t Learning rate: 0.0000\tLoss: 13.889469\t Accuracy: 87/108 (81%)\n",
      " \n",
      "Confusion Matrix:\n",
      "[[ 0  0]\n",
      " [ 7 47]]\n",
      "Accuracy: 0.8703703703703703\n",
      "Precision: 0\n",
      "Recall: 0.0\n",
      "F1-Score: nan\n",
      "\n",
      "=========================================================================================\n"
     ]
    },
    {
     "name": "stderr",
     "output_type": "stream",
     "text": [
      "C:\\Users\\meena\\AppData\\Local\\Temp\\ipykernel_7124\\1959198720.py:27: RuntimeWarning: invalid value encountered in scalar divide\n",
      "  f1_score = 2 * (precision * recall) / (precision + recall)\n"
     ]
    },
    {
     "name": "stdout",
     "output_type": "stream",
     "text": [
      "Train Epoch: 138\t Learning rate: 0.0000\tLoss: 13.798433\t Accuracy: 87/108 (81%)\n",
      " \n",
      "Confusion Matrix:\n",
      "[[ 0  0]\n",
      " [ 7 47]]\n",
      "Accuracy: 0.8703703703703703\n",
      "Precision: 0\n",
      "Recall: 0.0\n",
      "F1-Score: nan\n",
      "\n",
      "=========================================================================================\n"
     ]
    },
    {
     "name": "stderr",
     "output_type": "stream",
     "text": [
      "C:\\Users\\meena\\AppData\\Local\\Temp\\ipykernel_7124\\1959198720.py:27: RuntimeWarning: invalid value encountered in scalar divide\n",
      "  f1_score = 2 * (precision * recall) / (precision + recall)\n"
     ]
    },
    {
     "name": "stdout",
     "output_type": "stream",
     "text": [
      "Train Epoch: 139\t Learning rate: 0.0000\tLoss: 13.764663\t Accuracy: 87/108 (81%)\n",
      " \n",
      "Confusion Matrix:\n",
      "[[ 0  0]\n",
      " [ 7 47]]\n",
      "Accuracy: 0.8703703703703703\n",
      "Precision: 0\n",
      "Recall: 0.0\n",
      "F1-Score: nan\n",
      "\n",
      "=========================================================================================\n"
     ]
    },
    {
     "name": "stderr",
     "output_type": "stream",
     "text": [
      "C:\\Users\\meena\\AppData\\Local\\Temp\\ipykernel_7124\\1959198720.py:27: RuntimeWarning: invalid value encountered in scalar divide\n",
      "  f1_score = 2 * (precision * recall) / (precision + recall)\n"
     ]
    },
    {
     "name": "stdout",
     "output_type": "stream",
     "text": [
      "Train Epoch: 140\t Learning rate: 0.0000\tLoss: 13.798460\t Accuracy: 87/108 (81%)\n",
      " \n",
      "Confusion Matrix:\n",
      "[[ 0  0]\n",
      " [ 7 47]]\n",
      "Accuracy: 0.8703703703703703\n",
      "Precision: 0\n",
      "Recall: 0.0\n",
      "F1-Score: nan\n",
      "\n",
      "=========================================================================================\n"
     ]
    },
    {
     "name": "stderr",
     "output_type": "stream",
     "text": [
      "C:\\Users\\meena\\AppData\\Local\\Temp\\ipykernel_7124\\1959198720.py:27: RuntimeWarning: invalid value encountered in scalar divide\n",
      "  f1_score = 2 * (precision * recall) / (precision + recall)\n"
     ]
    },
    {
     "name": "stdout",
     "output_type": "stream",
     "text": [
      "Train Epoch: 141\t Learning rate: 0.0000\tLoss: 13.848737\t Accuracy: 87/108 (81%)\n",
      " \n",
      "Confusion Matrix:\n",
      "[[ 0  0]\n",
      " [ 7 47]]\n",
      "Accuracy: 0.8703703703703703\n",
      "Precision: 0\n",
      "Recall: 0.0\n",
      "F1-Score: nan\n",
      "\n",
      "=========================================================================================\n"
     ]
    },
    {
     "name": "stderr",
     "output_type": "stream",
     "text": [
      "C:\\Users\\meena\\AppData\\Local\\Temp\\ipykernel_7124\\1959198720.py:27: RuntimeWarning: invalid value encountered in scalar divide\n",
      "  f1_score = 2 * (precision * recall) / (precision + recall)\n"
     ]
    },
    {
     "name": "stdout",
     "output_type": "stream",
     "text": [
      "Train Epoch: 142\t Learning rate: 0.0000\tLoss: 13.923085\t Accuracy: 87/108 (81%)\n",
      " \n",
      "Confusion Matrix:\n",
      "[[ 0  0]\n",
      " [ 7 47]]\n",
      "Accuracy: 0.8703703703703703\n",
      "Precision: 0\n",
      "Recall: 0.0\n",
      "F1-Score: nan\n",
      "\n",
      "=========================================================================================\n"
     ]
    },
    {
     "name": "stderr",
     "output_type": "stream",
     "text": [
      "C:\\Users\\meena\\AppData\\Local\\Temp\\ipykernel_7124\\1959198720.py:27: RuntimeWarning: invalid value encountered in scalar divide\n",
      "  f1_score = 2 * (precision * recall) / (precision + recall)\n"
     ]
    },
    {
     "name": "stdout",
     "output_type": "stream",
     "text": [
      "Train Epoch: 143\t Learning rate: 0.0000\tLoss: 13.852473\t Accuracy: 87/108 (81%)\n",
      " \n",
      "Confusion Matrix:\n",
      "[[ 0  0]\n",
      " [ 7 47]]\n",
      "Accuracy: 0.8703703703703703\n",
      "Precision: 0\n",
      "Recall: 0.0\n",
      "F1-Score: nan\n",
      "\n",
      "=========================================================================================\n"
     ]
    },
    {
     "name": "stderr",
     "output_type": "stream",
     "text": [
      "C:\\Users\\meena\\AppData\\Local\\Temp\\ipykernel_7124\\1959198720.py:27: RuntimeWarning: invalid value encountered in scalar divide\n",
      "  f1_score = 2 * (precision * recall) / (precision + recall)\n"
     ]
    },
    {
     "name": "stdout",
     "output_type": "stream",
     "text": [
      "Train Epoch: 144\t Learning rate: 0.0000\tLoss: 13.819406\t Accuracy: 87/108 (81%)\n",
      " \n",
      "Confusion Matrix:\n",
      "[[ 0  0]\n",
      " [ 7 47]]\n",
      "Accuracy: 0.8703703703703703\n",
      "Precision: 0\n",
      "Recall: 0.0\n",
      "F1-Score: nan\n",
      "\n",
      "=========================================================================================\n"
     ]
    },
    {
     "name": "stderr",
     "output_type": "stream",
     "text": [
      "C:\\Users\\meena\\AppData\\Local\\Temp\\ipykernel_7124\\1959198720.py:27: RuntimeWarning: invalid value encountered in scalar divide\n",
      "  f1_score = 2 * (precision * recall) / (precision + recall)\n"
     ]
    },
    {
     "name": "stdout",
     "output_type": "stream",
     "text": [
      "Train Epoch: 145\t Learning rate: 0.0000\tLoss: 13.822372\t Accuracy: 87/108 (81%)\n",
      " \n",
      "Confusion Matrix:\n",
      "[[ 0  0]\n",
      " [ 7 47]]\n",
      "Accuracy: 0.8703703703703703\n",
      "Precision: 0\n",
      "Recall: 0.0\n",
      "F1-Score: nan\n",
      "\n",
      "=========================================================================================\n"
     ]
    },
    {
     "name": "stderr",
     "output_type": "stream",
     "text": [
      "C:\\Users\\meena\\AppData\\Local\\Temp\\ipykernel_7124\\1959198720.py:27: RuntimeWarning: invalid value encountered in scalar divide\n",
      "  f1_score = 2 * (precision * recall) / (precision + recall)\n"
     ]
    },
    {
     "name": "stdout",
     "output_type": "stream",
     "text": [
      "Train Epoch: 146\t Learning rate: 0.0000\tLoss: 13.844047\t Accuracy: 87/108 (81%)\n",
      " \n",
      "Confusion Matrix:\n",
      "[[ 0  0]\n",
      " [ 7 47]]\n",
      "Accuracy: 0.8703703703703703\n",
      "Precision: 0\n",
      "Recall: 0.0\n",
      "F1-Score: nan\n",
      "\n",
      "=========================================================================================\n"
     ]
    },
    {
     "name": "stderr",
     "output_type": "stream",
     "text": [
      "C:\\Users\\meena\\AppData\\Local\\Temp\\ipykernel_7124\\1959198720.py:27: RuntimeWarning: invalid value encountered in scalar divide\n",
      "  f1_score = 2 * (precision * recall) / (precision + recall)\n"
     ]
    },
    {
     "name": "stdout",
     "output_type": "stream",
     "text": [
      "Train Epoch: 147\t Learning rate: 0.0000\tLoss: 13.845575\t Accuracy: 87/108 (81%)\n",
      " \n",
      "Confusion Matrix:\n",
      "[[ 0  0]\n",
      " [ 7 47]]\n",
      "Accuracy: 0.8703703703703703\n",
      "Precision: 0\n",
      "Recall: 0.0\n",
      "F1-Score: nan\n",
      "\n",
      "=========================================================================================\n"
     ]
    },
    {
     "name": "stderr",
     "output_type": "stream",
     "text": [
      "C:\\Users\\meena\\AppData\\Local\\Temp\\ipykernel_7124\\1959198720.py:27: RuntimeWarning: invalid value encountered in scalar divide\n",
      "  f1_score = 2 * (precision * recall) / (precision + recall)\n"
     ]
    },
    {
     "name": "stdout",
     "output_type": "stream",
     "text": [
      "Train Epoch: 148\t Learning rate: 0.0000\tLoss: 13.864555\t Accuracy: 87/108 (81%)\n",
      " \n",
      "Confusion Matrix:\n",
      "[[ 0  0]\n",
      " [ 7 47]]\n",
      "Accuracy: 0.8703703703703703\n",
      "Precision: 0\n",
      "Recall: 0.0\n",
      "F1-Score: nan\n",
      "\n",
      "=========================================================================================\n"
     ]
    },
    {
     "name": "stderr",
     "output_type": "stream",
     "text": [
      "C:\\Users\\meena\\AppData\\Local\\Temp\\ipykernel_7124\\1959198720.py:27: RuntimeWarning: invalid value encountered in scalar divide\n",
      "  f1_score = 2 * (precision * recall) / (precision + recall)\n"
     ]
    },
    {
     "name": "stdout",
     "output_type": "stream",
     "text": [
      "Train Epoch: 149\t Learning rate: 0.0000\tLoss: 13.797548\t Accuracy: 87/108 (81%)\n",
      " \n",
      "Confusion Matrix:\n",
      "[[ 0  0]\n",
      " [ 7 47]]\n",
      "Accuracy: 0.8703703703703703\n",
      "Precision: 0\n",
      "Recall: 0.0\n",
      "F1-Score: nan\n",
      "\n",
      "=========================================================================================\n"
     ]
    },
    {
     "name": "stderr",
     "output_type": "stream",
     "text": [
      "C:\\Users\\meena\\AppData\\Local\\Temp\\ipykernel_7124\\1959198720.py:27: RuntimeWarning: invalid value encountered in scalar divide\n",
      "  f1_score = 2 * (precision * recall) / (precision + recall)\n"
     ]
    },
    {
     "name": "stdout",
     "output_type": "stream",
     "text": [
      "Train Epoch: 150\t Learning rate: 0.0000\tLoss: 13.890705\t Accuracy: 87/108 (81%)\n",
      " \n",
      "Confusion Matrix:\n",
      "[[ 0  0]\n",
      " [ 7 47]]\n",
      "Accuracy: 0.8703703703703703\n",
      "Precision: 0\n",
      "Recall: 0.0\n",
      "F1-Score: nan\n",
      "\n",
      "=========================================================================================\n"
     ]
    },
    {
     "name": "stderr",
     "output_type": "stream",
     "text": [
      "C:\\Users\\meena\\AppData\\Local\\Temp\\ipykernel_7124\\1959198720.py:27: RuntimeWarning: invalid value encountered in scalar divide\n",
      "  f1_score = 2 * (precision * recall) / (precision + recall)\n"
     ]
    }
   ],
   "source": [
    "for idx_idx, train_idxs_tmp in enumerate(train_idxs_tmps):\n",
    "    test_idxs_tmp = list(set(list(text_dep_idxs_tmp) + list(text_non_idxs)) - set(train_idxs_tmp))\n",
    "    train_idxs, test_idxs = [], []\n",
    "\n",
    "    for idx in train_idxs_tmp:\n",
    "        if idx in text_dep_idxs_tmp:\n",
    "            feat = text_features[idx]\n",
    "            count = 0\n",
    "            resample_idxs = [0, 1, 2, 3, 4, 5]\n",
    "            for i in itertools.permutations(feat, feat.shape[0]):\n",
    "                if count in resample_idxs:\n",
    "                    text_features = np.vstack((text_features, np.expand_dims(list(i), 0)))\n",
    "                    text_targets = np.hstack((text_targets, 1))\n",
    "                    train_idxs.append(len(text_features) - 1)\n",
    "                count += 1\n",
    "        else:\n",
    "            train_idxs.append(idx)\n",
    "\n",
    "    for idx in test_idxs_tmp:\n",
    "        if idx in text_dep_idxs_tmp:\n",
    "            feat = text_features[idx]\n",
    "            count = 0\n",
    "            resample_idxs = [0, 1, 4, 5]\n",
    "            for i in itertools.permutations(feat, feat.shape[0]):\n",
    "                if count in resample_idxs:\n",
    "                    text_features = np.vstack((text_features, np.expand_dims(list(i), 0)))\n",
    "                    text_targets = np.hstack((text_targets, 1))\n",
    "                    test_idxs.append(len(text_features) - 1)\n",
    "                count += 1\n",
    "        else:\n",
    "            test_idxs.append(idx)\n",
    "\n",
    "    model = TextBiLSTM(config)\n",
    "\n",
    "    param_group = get_param_group(model)\n",
    "    optimizer = optim.Adam(param_group , lr=config['learning_rate'])\n",
    "    criterion = nn.CrossEntropyLoss()\n",
    "    max_f1 = -1\n",
    "    max_acc = -1\n",
    "    max_rec = -1\n",
    "    max_prec = -1\n",
    "    train_acc = -1\n",
    "    \n",
    "    for epoch in range(config['epochs']):\n",
    "        train(epoch, train_idxs)\n",
    "        total_loss = evaluate(model, test_idxs, fold, train_idxs)\n",
    "    fold += 1\n"
   ]
  },
  {
   "cell_type": "code",
   "execution_count": null,
   "metadata": {},
   "outputs": [],
   "source": []
  },
  {
   "cell_type": "code",
   "execution_count": null,
   "metadata": {},
   "outputs": [],
   "source": []
  }
 ],
 "metadata": {
  "kernelspec": {
   "display_name": "base",
   "language": "python",
   "name": "python3"
  },
  "language_info": {
   "codemirror_mode": {
    "name": "ipython",
    "version": 3
   },
   "file_extension": ".py",
   "mimetype": "text/x-python",
   "name": "python",
   "nbconvert_exporter": "python",
   "pygments_lexer": "ipython3",
   "version": "3.12.4"
  }
 },
 "nbformat": 4,
 "nbformat_minor": 2
}
